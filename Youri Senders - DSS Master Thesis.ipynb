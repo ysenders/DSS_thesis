{
 "cells": [
  {
   "cell_type": "markdown",
   "metadata": {},
   "source": [
    "# Notebook for Master Thesis\n",
    "Author: Youri Senders <br/>\n",
    "Student Number: 2018966 <br/>\n",
    "ANR: 895590 <br/>\n",
    "\n",
    "Title: The Impact of Stemming and Lemmatization in Predicting Sentiment Polarity of Twitter data <br/>\n",
    "Dataset: Sentiment140 <br/>\n",
    "Date: Feb 2021 - June 2021"
   ]
  },
  {
   "cell_type": "markdown",
   "metadata": {},
   "source": [
    "# Part I: Exploratory Data Analysis\n",
    "The first part of the notebook is about exploring the data. The dataset is loaded, and some standard/basic EDA functions are used in order to get to know the data. Some examples:\n",
    "- Import necessary packages\n",
    "- Load data\n",
    "- Print dataframe\n",
    "- Print head/tail of data\n",
    "- Check for missing values\n",
    "- Check the labels of the tweets\n",
    "- Visualise by plotting"
   ]
  },
  {
   "cell_type": "code",
   "execution_count": 1,
   "metadata": {},
   "outputs": [],
   "source": [
    "%matplotlib inline\n",
    "import warnings\n",
    "import pandas as pd\n",
    "import matplotlib.pyplot as plt\n",
    "import numpy as np\n",
    "warnings.simplefilter(action='ignore')"
   ]
  },
  {
   "cell_type": "code",
   "execution_count": 2,
   "metadata": {},
   "outputs": [],
   "source": [
    "header_list = [\"label\", \"id\", \"date\", \"flag\", \"username\", \"content\"]"
   ]
  },
  {
   "cell_type": "code",
   "execution_count": 3,
   "metadata": {},
   "outputs": [
    {
     "data": {
      "text/html": [
       "<div>\n",
       "<style scoped>\n",
       "    .dataframe tbody tr th:only-of-type {\n",
       "        vertical-align: middle;\n",
       "    }\n",
       "\n",
       "    .dataframe tbody tr th {\n",
       "        vertical-align: top;\n",
       "    }\n",
       "\n",
       "    .dataframe thead th {\n",
       "        text-align: right;\n",
       "    }\n",
       "</style>\n",
       "<table border=\"1\" class=\"dataframe\">\n",
       "  <thead>\n",
       "    <tr style=\"text-align: right;\">\n",
       "      <th></th>\n",
       "      <th>label</th>\n",
       "      <th>id</th>\n",
       "      <th>date</th>\n",
       "      <th>flag</th>\n",
       "      <th>username</th>\n",
       "      <th>content</th>\n",
       "    </tr>\n",
       "  </thead>\n",
       "  <tbody>\n",
       "    <tr>\n",
       "      <th>0</th>\n",
       "      <td>0</td>\n",
       "      <td>1467810369</td>\n",
       "      <td>Mon Apr 06 22:19:45 PDT 2009</td>\n",
       "      <td>NO_QUERY</td>\n",
       "      <td>_TheSpecialOne_</td>\n",
       "      <td>@switchfoot http://twitpic.com/2y1zl - Awww, t...</td>\n",
       "    </tr>\n",
       "    <tr>\n",
       "      <th>1</th>\n",
       "      <td>0</td>\n",
       "      <td>1467810672</td>\n",
       "      <td>Mon Apr 06 22:19:49 PDT 2009</td>\n",
       "      <td>NO_QUERY</td>\n",
       "      <td>scotthamilton</td>\n",
       "      <td>is upset that he can't update his Facebook by ...</td>\n",
       "    </tr>\n",
       "    <tr>\n",
       "      <th>2</th>\n",
       "      <td>0</td>\n",
       "      <td>1467810917</td>\n",
       "      <td>Mon Apr 06 22:19:53 PDT 2009</td>\n",
       "      <td>NO_QUERY</td>\n",
       "      <td>mattycus</td>\n",
       "      <td>@Kenichan I dived many times for the ball. Man...</td>\n",
       "    </tr>\n",
       "    <tr>\n",
       "      <th>3</th>\n",
       "      <td>0</td>\n",
       "      <td>1467811184</td>\n",
       "      <td>Mon Apr 06 22:19:57 PDT 2009</td>\n",
       "      <td>NO_QUERY</td>\n",
       "      <td>ElleCTF</td>\n",
       "      <td>my whole body feels itchy and like its on fire</td>\n",
       "    </tr>\n",
       "    <tr>\n",
       "      <th>4</th>\n",
       "      <td>0</td>\n",
       "      <td>1467811193</td>\n",
       "      <td>Mon Apr 06 22:19:57 PDT 2009</td>\n",
       "      <td>NO_QUERY</td>\n",
       "      <td>Karoli</td>\n",
       "      <td>@nationwideclass no, it's not behaving at all....</td>\n",
       "    </tr>\n",
       "    <tr>\n",
       "      <th>...</th>\n",
       "      <td>...</td>\n",
       "      <td>...</td>\n",
       "      <td>...</td>\n",
       "      <td>...</td>\n",
       "      <td>...</td>\n",
       "      <td>...</td>\n",
       "    </tr>\n",
       "    <tr>\n",
       "      <th>1599995</th>\n",
       "      <td>4</td>\n",
       "      <td>2193601966</td>\n",
       "      <td>Tue Jun 16 08:40:49 PDT 2009</td>\n",
       "      <td>NO_QUERY</td>\n",
       "      <td>AmandaMarie1028</td>\n",
       "      <td>Just woke up. Having no school is the best fee...</td>\n",
       "    </tr>\n",
       "    <tr>\n",
       "      <th>1599996</th>\n",
       "      <td>4</td>\n",
       "      <td>2193601969</td>\n",
       "      <td>Tue Jun 16 08:40:49 PDT 2009</td>\n",
       "      <td>NO_QUERY</td>\n",
       "      <td>TheWDBoards</td>\n",
       "      <td>TheWDB.com - Very cool to hear old Walt interv...</td>\n",
       "    </tr>\n",
       "    <tr>\n",
       "      <th>1599997</th>\n",
       "      <td>4</td>\n",
       "      <td>2193601991</td>\n",
       "      <td>Tue Jun 16 08:40:49 PDT 2009</td>\n",
       "      <td>NO_QUERY</td>\n",
       "      <td>bpbabe</td>\n",
       "      <td>Are you ready for your MoJo Makeover? Ask me f...</td>\n",
       "    </tr>\n",
       "    <tr>\n",
       "      <th>1599998</th>\n",
       "      <td>4</td>\n",
       "      <td>2193602064</td>\n",
       "      <td>Tue Jun 16 08:40:49 PDT 2009</td>\n",
       "      <td>NO_QUERY</td>\n",
       "      <td>tinydiamondz</td>\n",
       "      <td>Happy 38th Birthday to my boo of alll time!!! ...</td>\n",
       "    </tr>\n",
       "    <tr>\n",
       "      <th>1599999</th>\n",
       "      <td>4</td>\n",
       "      <td>2193602129</td>\n",
       "      <td>Tue Jun 16 08:40:50 PDT 2009</td>\n",
       "      <td>NO_QUERY</td>\n",
       "      <td>RyanTrevMorris</td>\n",
       "      <td>happy #charitytuesday @theNSPCC @SparksCharity...</td>\n",
       "    </tr>\n",
       "  </tbody>\n",
       "</table>\n",
       "<p>1600000 rows × 6 columns</p>\n",
       "</div>"
      ],
      "text/plain": [
       "         label          id                          date      flag  \\\n",
       "0            0  1467810369  Mon Apr 06 22:19:45 PDT 2009  NO_QUERY   \n",
       "1            0  1467810672  Mon Apr 06 22:19:49 PDT 2009  NO_QUERY   \n",
       "2            0  1467810917  Mon Apr 06 22:19:53 PDT 2009  NO_QUERY   \n",
       "3            0  1467811184  Mon Apr 06 22:19:57 PDT 2009  NO_QUERY   \n",
       "4            0  1467811193  Mon Apr 06 22:19:57 PDT 2009  NO_QUERY   \n",
       "...        ...         ...                           ...       ...   \n",
       "1599995      4  2193601966  Tue Jun 16 08:40:49 PDT 2009  NO_QUERY   \n",
       "1599996      4  2193601969  Tue Jun 16 08:40:49 PDT 2009  NO_QUERY   \n",
       "1599997      4  2193601991  Tue Jun 16 08:40:49 PDT 2009  NO_QUERY   \n",
       "1599998      4  2193602064  Tue Jun 16 08:40:49 PDT 2009  NO_QUERY   \n",
       "1599999      4  2193602129  Tue Jun 16 08:40:50 PDT 2009  NO_QUERY   \n",
       "\n",
       "                username                                            content  \n",
       "0        _TheSpecialOne_  @switchfoot http://twitpic.com/2y1zl - Awww, t...  \n",
       "1          scotthamilton  is upset that he can't update his Facebook by ...  \n",
       "2               mattycus  @Kenichan I dived many times for the ball. Man...  \n",
       "3                ElleCTF    my whole body feels itchy and like its on fire   \n",
       "4                 Karoli  @nationwideclass no, it's not behaving at all....  \n",
       "...                  ...                                                ...  \n",
       "1599995  AmandaMarie1028  Just woke up. Having no school is the best fee...  \n",
       "1599996      TheWDBoards  TheWDB.com - Very cool to hear old Walt interv...  \n",
       "1599997           bpbabe  Are you ready for your MoJo Makeover? Ask me f...  \n",
       "1599998     tinydiamondz  Happy 38th Birthday to my boo of alll time!!! ...  \n",
       "1599999   RyanTrevMorris  happy #charitytuesday @theNSPCC @SparksCharity...  \n",
       "\n",
       "[1600000 rows x 6 columns]"
      ]
     },
     "execution_count": 3,
     "metadata": {},
     "output_type": "execute_result"
    }
   ],
   "source": [
    "df = pd.read_csv(\"training.1600000.processed.noemoticon.csv\", encoding='latin-1', names=header_list)\n",
    "df"
   ]
  },
  {
   "cell_type": "code",
   "execution_count": 4,
   "metadata": {},
   "outputs": [
    {
     "data": {
      "text/html": [
       "<style  type=\"text/css\" >\n",
       "    #T_8c465ebf_b61e_11eb_81bb_50e085ce0f6crow0_col0 {\n",
       "            background-color:  #fff7fb;\n",
       "            color:  #000000;\n",
       "        }    #T_8c465ebf_b61e_11eb_81bb_50e085ce0f6crow0_col1 {\n",
       "            background-color:  #fff7fb;\n",
       "            color:  #000000;\n",
       "        }    #T_8c465ebf_b61e_11eb_81bb_50e085ce0f6crow1_col0 {\n",
       "            background-color:  #fff7fb;\n",
       "            color:  #000000;\n",
       "        }    #T_8c465ebf_b61e_11eb_81bb_50e085ce0f6crow1_col1 {\n",
       "            background-color:  #fff7fb;\n",
       "            color:  #000000;\n",
       "        }    #T_8c465ebf_b61e_11eb_81bb_50e085ce0f6crow2_col0 {\n",
       "            background-color:  #fff7fb;\n",
       "            color:  #000000;\n",
       "        }    #T_8c465ebf_b61e_11eb_81bb_50e085ce0f6crow2_col1 {\n",
       "            background-color:  #fff7fb;\n",
       "            color:  #000000;\n",
       "        }    #T_8c465ebf_b61e_11eb_81bb_50e085ce0f6crow3_col0 {\n",
       "            background-color:  #fff7fb;\n",
       "            color:  #000000;\n",
       "        }    #T_8c465ebf_b61e_11eb_81bb_50e085ce0f6crow3_col1 {\n",
       "            background-color:  #fff7fb;\n",
       "            color:  #000000;\n",
       "        }    #T_8c465ebf_b61e_11eb_81bb_50e085ce0f6crow4_col0 {\n",
       "            background-color:  #fff7fb;\n",
       "            color:  #000000;\n",
       "        }    #T_8c465ebf_b61e_11eb_81bb_50e085ce0f6crow4_col1 {\n",
       "            background-color:  #fff7fb;\n",
       "            color:  #000000;\n",
       "        }    #T_8c465ebf_b61e_11eb_81bb_50e085ce0f6crow5_col0 {\n",
       "            background-color:  #fff7fb;\n",
       "            color:  #000000;\n",
       "        }    #T_8c465ebf_b61e_11eb_81bb_50e085ce0f6crow5_col1 {\n",
       "            background-color:  #fff7fb;\n",
       "            color:  #000000;\n",
       "        }</style><table id=\"T_8c465ebf_b61e_11eb_81bb_50e085ce0f6c\" ><thead>    <tr>        <th class=\"blank level0\" ></th>        <th class=\"col_heading level0 col0\" >Missing values</th>        <th class=\"col_heading level0 col1\" >Percentage</th>    </tr></thead><tbody>\n",
       "                <tr>\n",
       "                        <th id=\"T_8c465ebf_b61e_11eb_81bb_50e085ce0f6clevel0_row0\" class=\"row_heading level0 row0\" >content</th>\n",
       "                        <td id=\"T_8c465ebf_b61e_11eb_81bb_50e085ce0f6crow0_col0\" class=\"data row0 col0\" >0</td>\n",
       "                        <td id=\"T_8c465ebf_b61e_11eb_81bb_50e085ce0f6crow0_col1\" class=\"data row0 col1\" >0.000000</td>\n",
       "            </tr>\n",
       "            <tr>\n",
       "                        <th id=\"T_8c465ebf_b61e_11eb_81bb_50e085ce0f6clevel0_row1\" class=\"row_heading level0 row1\" >username</th>\n",
       "                        <td id=\"T_8c465ebf_b61e_11eb_81bb_50e085ce0f6crow1_col0\" class=\"data row1 col0\" >0</td>\n",
       "                        <td id=\"T_8c465ebf_b61e_11eb_81bb_50e085ce0f6crow1_col1\" class=\"data row1 col1\" >0.000000</td>\n",
       "            </tr>\n",
       "            <tr>\n",
       "                        <th id=\"T_8c465ebf_b61e_11eb_81bb_50e085ce0f6clevel0_row2\" class=\"row_heading level0 row2\" >flag</th>\n",
       "                        <td id=\"T_8c465ebf_b61e_11eb_81bb_50e085ce0f6crow2_col0\" class=\"data row2 col0\" >0</td>\n",
       "                        <td id=\"T_8c465ebf_b61e_11eb_81bb_50e085ce0f6crow2_col1\" class=\"data row2 col1\" >0.000000</td>\n",
       "            </tr>\n",
       "            <tr>\n",
       "                        <th id=\"T_8c465ebf_b61e_11eb_81bb_50e085ce0f6clevel0_row3\" class=\"row_heading level0 row3\" >date</th>\n",
       "                        <td id=\"T_8c465ebf_b61e_11eb_81bb_50e085ce0f6crow3_col0\" class=\"data row3 col0\" >0</td>\n",
       "                        <td id=\"T_8c465ebf_b61e_11eb_81bb_50e085ce0f6crow3_col1\" class=\"data row3 col1\" >0.000000</td>\n",
       "            </tr>\n",
       "            <tr>\n",
       "                        <th id=\"T_8c465ebf_b61e_11eb_81bb_50e085ce0f6clevel0_row4\" class=\"row_heading level0 row4\" >id</th>\n",
       "                        <td id=\"T_8c465ebf_b61e_11eb_81bb_50e085ce0f6crow4_col0\" class=\"data row4 col0\" >0</td>\n",
       "                        <td id=\"T_8c465ebf_b61e_11eb_81bb_50e085ce0f6crow4_col1\" class=\"data row4 col1\" >0.000000</td>\n",
       "            </tr>\n",
       "            <tr>\n",
       "                        <th id=\"T_8c465ebf_b61e_11eb_81bb_50e085ce0f6clevel0_row5\" class=\"row_heading level0 row5\" >label</th>\n",
       "                        <td id=\"T_8c465ebf_b61e_11eb_81bb_50e085ce0f6crow5_col0\" class=\"data row5 col0\" >0</td>\n",
       "                        <td id=\"T_8c465ebf_b61e_11eb_81bb_50e085ce0f6crow5_col1\" class=\"data row5 col1\" >0.000000</td>\n",
       "            </tr>\n",
       "    </tbody></table>"
      ],
      "text/plain": [
       "<pandas.io.formats.style.Styler at 0x2da92360910>"
      ]
     },
     "execution_count": 4,
     "metadata": {},
     "output_type": "execute_result"
    }
   ],
   "source": [
    "#check for missing data\n",
    "\n",
    "missing_data = df.isna().sum().sort_values(ascending=False)\n",
    "percentage_missing = round((df.isnull().sum()/df.isnull().count()).sort_values(ascending=False)*100,2)\n",
    "missing_info = pd.concat([missing_data,percentage_missing],keys=['Missing values','Percentage'],axis=1)\n",
    "missing_info.style.background_gradient()"
   ]
  },
  {
   "cell_type": "code",
   "execution_count": 5,
   "metadata": {},
   "outputs": [
    {
     "name": "stdout",
     "output_type": "stream",
     "text": [
      "0    @switchfoot http://twitpic.com/2y1zl - Awww, t...\n",
      "1    is upset that he can't update his Facebook by ...\n",
      "2    @Kenichan I dived many times for the ball. Man...\n",
      "Name: content, dtype: object\n"
     ]
    }
   ],
   "source": [
    "print(df['content'].head(3))"
   ]
  },
  {
   "cell_type": "code",
   "execution_count": 6,
   "metadata": {
    "scrolled": true
   },
   "outputs": [
    {
     "name": "stdout",
     "output_type": "stream",
     "text": [
      "1599997    Are you ready for your MoJo Makeover? Ask me f...\n",
      "1599998    Happy 38th Birthday to my boo of alll time!!! ...\n",
      "1599999    happy #charitytuesday @theNSPCC @SparksCharity...\n",
      "Name: content, dtype: object\n"
     ]
    }
   ],
   "source": [
    "print(df['content'].tail(3))"
   ]
  },
  {
   "cell_type": "code",
   "execution_count": 7,
   "metadata": {},
   "outputs": [
    {
     "data": {
      "image/png": "[encoded data removed]",
      "text/plain": [
       "<Figure size 576x576 with 1 Axes>"
      ]
     },
     "metadata": {},
     "output_type": "display_data"
    }
   ],
   "source": [
    "fig = plt.figure(figsize=(8,8))\n",
    "targets = df.groupby('label').size()\n",
    "targets.plot(kind='pie', subplots=True, figsize=(10, 8), autopct = \"%.2f%%\", colors=['red','green'])\n",
    "plt.title(\"Pie chart of different classes of tweets\",fontsize=16)\n",
    "plt.ylabel(\"\")\n",
    "plt.legend()\n",
    "plt.show()"
   ]
  },
  {
   "cell_type": "code",
   "execution_count": 8,
   "metadata": {},
   "outputs": [
    {
     "data": {
      "text/plain": [
       "4    800000\n",
       "0    800000\n",
       "Name: label, dtype: int64"
      ]
     },
     "execution_count": 8,
     "metadata": {},
     "output_type": "execute_result"
    }
   ],
   "source": [
    "df['label'].value_counts()"
   ]
  },
  {
   "cell_type": "markdown",
   "metadata": {},
   "source": [
    "# Part II: Data Cleaning process\n",
    "This part is about performing the basic cleaning steps of the paper of Magliani et al. (2016). The basic cleaning steps are:\n",
    "- Remove URLs\n",
    "- Remove hashtags\n",
    "- Remove Mentions (@username)\n",
    "- Tabs and line breaks are replaced with a blank, followed by a quotation mark with apexes\n",
    "- Words with a sequence of three or more vowels are shortened to two vowels\n",
    "- Emoticons are converted to tags\n",
    "- Removing extra blank spaces\n",
    "- Lowercase text"
   ]
  },
  {
   "cell_type": "code",
   "execution_count": 9,
   "metadata": {},
   "outputs": [],
   "source": [
    "# transform labels to 0 and 1\n",
    "# 0 = negative tweet\n",
    "# 1 = positive tweet\n",
    "df.label = df.label.replace({4: 1})"
   ]
  },
  {
   "cell_type": "code",
   "execution_count": 10,
   "metadata": {},
   "outputs": [
    {
     "data": {
      "text/html": [
       "<div>\n",
       "<style scoped>\n",
       "    .dataframe tbody tr th:only-of-type {\n",
       "        vertical-align: middle;\n",
       "    }\n",
       "\n",
       "    .dataframe tbody tr th {\n",
       "        vertical-align: top;\n",
       "    }\n",
       "\n",
       "    .dataframe thead th {\n",
       "        text-align: right;\n",
       "    }\n",
       "</style>\n",
       "<table border=\"1\" class=\"dataframe\">\n",
       "  <thead>\n",
       "    <tr style=\"text-align: right;\">\n",
       "      <th></th>\n",
       "      <th>label</th>\n",
       "      <th>content</th>\n",
       "    </tr>\n",
       "  </thead>\n",
       "  <tbody>\n",
       "    <tr>\n",
       "      <th>0</th>\n",
       "      <td>0</td>\n",
       "      <td>@switchfoot http://twitpic.com/2y1zl - Awww, t...</td>\n",
       "    </tr>\n",
       "    <tr>\n",
       "      <th>1</th>\n",
       "      <td>0</td>\n",
       "      <td>is upset that he can't update his Facebook by ...</td>\n",
       "    </tr>\n",
       "    <tr>\n",
       "      <th>2</th>\n",
       "      <td>0</td>\n",
       "      <td>@Kenichan I dived many times for the ball. Man...</td>\n",
       "    </tr>\n",
       "    <tr>\n",
       "      <th>3</th>\n",
       "      <td>0</td>\n",
       "      <td>my whole body feels itchy and like its on fire</td>\n",
       "    </tr>\n",
       "    <tr>\n",
       "      <th>4</th>\n",
       "      <td>0</td>\n",
       "      <td>@nationwideclass no, it's not behaving at all....</td>\n",
       "    </tr>\n",
       "    <tr>\n",
       "      <th>...</th>\n",
       "      <td>...</td>\n",
       "      <td>...</td>\n",
       "    </tr>\n",
       "    <tr>\n",
       "      <th>1599995</th>\n",
       "      <td>1</td>\n",
       "      <td>Just woke up. Having no school is the best fee...</td>\n",
       "    </tr>\n",
       "    <tr>\n",
       "      <th>1599996</th>\n",
       "      <td>1</td>\n",
       "      <td>TheWDB.com - Very cool to hear old Walt interv...</td>\n",
       "    </tr>\n",
       "    <tr>\n",
       "      <th>1599997</th>\n",
       "      <td>1</td>\n",
       "      <td>Are you ready for your MoJo Makeover? Ask me f...</td>\n",
       "    </tr>\n",
       "    <tr>\n",
       "      <th>1599998</th>\n",
       "      <td>1</td>\n",
       "      <td>Happy 38th Birthday to my boo of alll time!!! ...</td>\n",
       "    </tr>\n",
       "    <tr>\n",
       "      <th>1599999</th>\n",
       "      <td>1</td>\n",
       "      <td>happy #charitytuesday @theNSPCC @SparksCharity...</td>\n",
       "    </tr>\n",
       "  </tbody>\n",
       "</table>\n",
       "<p>1600000 rows × 2 columns</p>\n",
       "</div>"
      ],
      "text/plain": [
       "         label                                            content\n",
       "0            0  @switchfoot http://twitpic.com/2y1zl - Awww, t...\n",
       "1            0  is upset that he can't update his Facebook by ...\n",
       "2            0  @Kenichan I dived many times for the ball. Man...\n",
       "3            0    my whole body feels itchy and like its on fire \n",
       "4            0  @nationwideclass no, it's not behaving at all....\n",
       "...        ...                                                ...\n",
       "1599995      1  Just woke up. Having no school is the best fee...\n",
       "1599996      1  TheWDB.com - Very cool to hear old Walt interv...\n",
       "1599997      1  Are you ready for your MoJo Makeover? Ask me f...\n",
       "1599998      1  Happy 38th Birthday to my boo of alll time!!! ...\n",
       "1599999      1  happy #charitytuesday @theNSPCC @SparksCharity...\n",
       "\n",
       "[1600000 rows x 2 columns]"
      ]
     },
     "execution_count": 10,
     "metadata": {},
     "output_type": "execute_result"
    }
   ],
   "source": [
    "# drop unnecessary columns\n",
    "df.drop([\"id\", \"date\", \"flag\", \"username\"], axis=1, inplace=True)\n",
    "df"
   ]
  },
  {
   "cell_type": "code",
   "execution_count": 11,
   "metadata": {},
   "outputs": [],
   "source": [
    "random_neg = df[:799999].sample(frac = .125, replace = False, random_state=2)\n",
    "random_pos = df[800000:].sample(frac = .125, replace = False, random_state=2)"
   ]
  },
  {
   "cell_type": "code",
   "execution_count": 12,
   "metadata": {},
   "outputs": [
    {
     "name": "stdout",
     "output_type": "stream",
     "text": [
      "0    100000\n",
      "Name: label, dtype: int64\n",
      "1    100000\n",
      "Name: label, dtype: int64\n"
     ]
    }
   ],
   "source": [
    "print(random_neg['label'].value_counts())\n",
    "print(random_pos['label'].value_counts())"
   ]
  },
  {
   "cell_type": "code",
   "execution_count": 13,
   "metadata": {},
   "outputs": [
    {
     "data": {
      "text/html": [
       "<div>\n",
       "<style scoped>\n",
       "    .dataframe tbody tr th:only-of-type {\n",
       "        vertical-align: middle;\n",
       "    }\n",
       "\n",
       "    .dataframe tbody tr th {\n",
       "        vertical-align: top;\n",
       "    }\n",
       "\n",
       "    .dataframe thead th {\n",
       "        text-align: right;\n",
       "    }\n",
       "</style>\n",
       "<table border=\"1\" class=\"dataframe\">\n",
       "  <thead>\n",
       "    <tr style=\"text-align: right;\">\n",
       "      <th></th>\n",
       "      <th>label</th>\n",
       "      <th>content</th>\n",
       "    </tr>\n",
       "  </thead>\n",
       "  <tbody>\n",
       "    <tr>\n",
       "      <th>307080</th>\n",
       "      <td>0</td>\n",
       "      <td>I'm cold. I need my Joe posters</td>\n",
       "    </tr>\n",
       "    <tr>\n",
       "      <th>309312</th>\n",
       "      <td>0</td>\n",
       "      <td>@BigEish I tried to get a phone tonight but I ...</td>\n",
       "    </tr>\n",
       "    <tr>\n",
       "      <th>230771</th>\n",
       "      <td>0</td>\n",
       "      <td>my braces are killing me.</td>\n",
       "    </tr>\n",
       "    <tr>\n",
       "      <th>761832</th>\n",
       "      <td>0</td>\n",
       "      <td>@joeymcintyre I heard you guys were on for one...</td>\n",
       "    </tr>\n",
       "    <tr>\n",
       "      <th>195631</th>\n",
       "      <td>0</td>\n",
       "      <td>Just got caught checking a pair of boobs. I fe...</td>\n",
       "    </tr>\n",
       "    <tr>\n",
       "      <th>...</th>\n",
       "      <td>...</td>\n",
       "      <td>...</td>\n",
       "    </tr>\n",
       "    <tr>\n",
       "      <th>1135476</th>\n",
       "      <td>1</td>\n",
       "      <td>@shansgrl I was thinking that Stable was more ...</td>\n",
       "    </tr>\n",
       "    <tr>\n",
       "      <th>1210161</th>\n",
       "      <td>1</td>\n",
       "      <td>@theeRSN ralph go to sleep  see you tomorrow.</td>\n",
       "    </tr>\n",
       "    <tr>\n",
       "      <th>1518907</th>\n",
       "      <td>1</td>\n",
       "      <td>@aravindkumar yes i do have the blues today......</td>\n",
       "    </tr>\n",
       "    <tr>\n",
       "      <th>1521666</th>\n",
       "      <td>1</td>\n",
       "      <td>@lohhw3 i'll be on air tonight</td>\n",
       "    </tr>\n",
       "    <tr>\n",
       "      <th>1364733</th>\n",
       "      <td>1</td>\n",
       "      <td>with my desktop right now</td>\n",
       "    </tr>\n",
       "  </tbody>\n",
       "</table>\n",
       "<p>200000 rows × 2 columns</p>\n",
       "</div>"
      ],
      "text/plain": [
       "         label                                            content\n",
       "307080       0                   I'm cold. I need my Joe posters \n",
       "309312       0  @BigEish I tried to get a phone tonight but I ...\n",
       "230771       0                         my braces are killing me. \n",
       "761832       0  @joeymcintyre I heard you guys were on for one...\n",
       "195631       0  Just got caught checking a pair of boobs. I fe...\n",
       "...        ...                                                ...\n",
       "1135476      1  @shansgrl I was thinking that Stable was more ...\n",
       "1210161      1      @theeRSN ralph go to sleep  see you tomorrow.\n",
       "1518907      1  @aravindkumar yes i do have the blues today......\n",
       "1521666      1                    @lohhw3 i'll be on air tonight \n",
       "1364733      1                         with my desktop right now \n",
       "\n",
       "[200000 rows x 2 columns]"
      ]
     },
     "execution_count": 13,
     "metadata": {},
     "output_type": "execute_result"
    }
   ],
   "source": [
    "df = pd.concat([random_neg, random_pos])\n",
    "df"
   ]
  },
  {
   "cell_type": "code",
   "execution_count": 14,
   "metadata": {},
   "outputs": [
    {
     "data": {
      "text/plain": [
       "1    100000\n",
       "0    100000\n",
       "Name: label, dtype: int64"
      ]
     },
     "execution_count": 14,
     "metadata": {},
     "output_type": "execute_result"
    }
   ],
   "source": [
    "df['label'].value_counts()"
   ]
  },
  {
   "cell_type": "code",
   "execution_count": 15,
   "metadata": {},
   "outputs": [
    {
     "name": "stdout",
     "output_type": "stream",
     "text": [
      "(200000,)\n",
      "(200000,)\n"
     ]
    }
   ],
   "source": [
    "tweets_train = df['content'] #x_train\n",
    "y_train = df['label'].values #y_train\n",
    "print(tweets_train.shape)\n",
    "print(y_train.shape)"
   ]
  },
  {
   "cell_type": "code",
   "execution_count": 16,
   "metadata": {},
   "outputs": [],
   "source": [
    "from url_hashtag import cleaner_url\n",
    "from emoticon import cleaner_emoji\n",
    "from punctuation import cleaner_punc\n",
    "from final import cleaner_final\n",
    "\n",
    "def cleaned_tweets(tweets):\n",
    "    \"\"\"Applies basic cleaning operations and prepare to tokenize\"\"\"\n",
    "    \n",
    "    cleaned_tweet = []\n",
    "    for tweet in tweets:\n",
    "        tweet = cleaner_url(tweet) # remove URLs, hastags, mentions, replace tabs and line breaks.\n",
    "        tweet = cleaner_emoji(tweet) # convert emoticons into tags\n",
    "        tweet = cleaner_punc(tweet) # remove punctuation\n",
    "        tweet = cleaner_final(tweet) # lowercasing and remove extra blank spaces\n",
    "        cleaned_tweet.append(tweet)\n",
    "    return cleaned_tweet"
   ]
  },
  {
   "cell_type": "code",
   "execution_count": 17,
   "metadata": {},
   "outputs": [],
   "source": [
    "cleaned_train = cleaned_tweets(tweets_train)"
   ]
  },
  {
   "cell_type": "markdown",
   "metadata": {},
   "source": [
    "# Part III: Stemming & Lemmatization\n",
    "The third part is what this thesis is about: Stemming and Lemmatization. This part contains:\n",
    "- Tokenize tweets\n",
    "- Apply Porter Stemming filter\n",
    "- Apply Snowball Stemming filter\n",
    "- Apply Lancaster Stemming filter\n",
    "- Apply Lovins Stemming filter\n",
    "- Apply Lemmatization filter\n",
    "\n",
    "This means we have have five versions of the dataset. We need to keep the original tokenized data as well, because we need this as baseline!"
   ]
  },
  {
   "cell_type": "code",
   "execution_count": 18,
   "metadata": {},
   "outputs": [
    {
     "name": "stdout",
     "output_type": "stream",
     "text": [
      "Requirement already satisfied: stemming==1.0.1 in c:\\users\\youri\\anaconda3\\lib\\site-packages (1.0.1)\n",
      "Note: you may need to restart the kernel to use updated packages.\n"
     ]
    }
   ],
   "source": [
    "pip install stemming==1.0.1"
   ]
  },
  {
   "cell_type": "code",
   "execution_count": 19,
   "metadata": {},
   "outputs": [
    {
     "name": "stderr",
     "output_type": "stream",
     "text": [
      "[nltk_data] Downloading package punkt to\n",
      "[nltk_data]     C:\\Users\\Youri\\AppData\\Roaming\\nltk_data...\n",
      "[nltk_data]   Package punkt is already up-to-date!\n",
      "[nltk_data] Downloading package wordnet to\n",
      "[nltk_data]     C:\\Users\\Youri\\AppData\\Roaming\\nltk_data...\n",
      "[nltk_data]   Package wordnet is already up-to-date!\n"
     ]
    },
    {
     "data": {
      "text/plain": [
       "True"
      ]
     },
     "execution_count": 19,
     "metadata": {},
     "output_type": "execute_result"
    }
   ],
   "source": [
    "import nltk\n",
    "nltk.download('punkt')\n",
    "nltk.download('wordnet')"
   ]
  },
  {
   "cell_type": "code",
   "execution_count": 20,
   "metadata": {},
   "outputs": [],
   "source": [
    "from nltk import word_tokenize\n",
    "\n",
    "def tokenization(tweets):\n",
    "    \"\"\"Create tokens of each word in the corpus\"\"\"\n",
    "    \n",
    "    tokens = []\n",
    "    for tweet in tweets:\n",
    "        tweet = word_tokenize(tweet)\n",
    "        tokens.append(tweet)\n",
    "        \n",
    "    return tokens"
   ]
  },
  {
   "cell_type": "code",
   "execution_count": 21,
   "metadata": {},
   "outputs": [],
   "source": [
    "tokenized_train = tokenization(cleaned_train)"
   ]
  },
  {
   "cell_type": "code",
   "execution_count": 22,
   "metadata": {},
   "outputs": [],
   "source": [
    "def filter_docs(corpus, texts, labels, condition_on_doc):\n",
    "    \"\"\"Filter corpus, texts and labels given the function condition_on_doc \n",
    "    which takes a doc.\n",
    "    The document doc is kept if condition_on_doc(doc) is true.\"\"\"\n",
    "    number_of_docs = len(corpus)\n",
    "\n",
    "    if texts is not None:\n",
    "        texts = [text for (text, doc) in zip(texts, corpus)\n",
    "                 if condition_on_doc(doc)]\n",
    "\n",
    "    labels = [i for (i, doc) in zip(labels, corpus) if condition_on_doc(doc)]\n",
    "    corpus = [doc for doc in corpus if condition_on_doc(doc)]\n",
    "\n",
    "    print(\"{} tweets removed\".format(number_of_docs - len(corpus)))\n",
    "\n",
    "    return (corpus, texts, labels)"
   ]
  },
  {
   "cell_type": "code",
   "execution_count": 23,
   "metadata": {},
   "outputs": [
    {
     "name": "stdout",
     "output_type": "stream",
     "text": [
      "496 tweets removed\n"
     ]
    }
   ],
   "source": [
    "tokenized_train, tweets_train, y_train = filter_docs(tokenized_train, tweets_train, y_train, lambda doc: (len(doc) != 0))"
   ]
  },
  {
   "cell_type": "code",
   "execution_count": 24,
   "metadata": {},
   "outputs": [],
   "source": [
    "from nltk.stem import PorterStemmer\n",
    "porter = PorterStemmer()\n",
    "\n",
    "def porter_stemmer(tokenized_text):\n",
    "    stemmed_tokens = [[porter.stem(word) for word in tweet] for tweet in tokenized_text]\n",
    "    \n",
    "    return stemmed_tokens"
   ]
  },
  {
   "cell_type": "code",
   "execution_count": 25,
   "metadata": {},
   "outputs": [],
   "source": [
    "porter_stemmed_train = porter_stemmer(tokenized_train)"
   ]
  },
  {
   "cell_type": "code",
   "execution_count": 26,
   "metadata": {},
   "outputs": [
    {
     "name": "stdout",
     "output_type": "stream",
     "text": [
      "[['i', \"'m\", 'cold', 'i', 'need', 'my', 'joe', 'poster'], ['i', 'tri', 'to', 'get', 'a', 'phone', 'tonight', 'but', 'i', 'guess', 'i', \"'ll\", 'tri', 'again', 'tomorrow'], ['my', 'brace', 'are', 'kill', 'me']]\n"
     ]
    }
   ],
   "source": [
    "print(porter_stemmed_train[0:3])"
   ]
  },
  {
   "cell_type": "code",
   "execution_count": 27,
   "metadata": {},
   "outputs": [],
   "source": [
    "from nltk.stem.snowball import SnowballStemmer\n",
    "snowball = SnowballStemmer(language='english')\n",
    "\n",
    "def snowball_stemmer(tokenized_text):\n",
    "    stemmed_tokens = [[snowball.stem(word) for word in tweet] for tweet in tokenized_text]\n",
    "    \n",
    "    return stemmed_tokens"
   ]
  },
  {
   "cell_type": "code",
   "execution_count": 28,
   "metadata": {},
   "outputs": [],
   "source": [
    "snowball_stemmed_train = snowball_stemmer(tokenized_train)"
   ]
  },
  {
   "cell_type": "code",
   "execution_count": 29,
   "metadata": {},
   "outputs": [
    {
     "name": "stdout",
     "output_type": "stream",
     "text": [
      "[['i', \"'m\", 'cold', 'i', 'need', 'my', 'joe', 'poster'], ['i', 'tri', 'to', 'get', 'a', 'phone', 'tonight', 'but', 'i', 'guess', 'i', 'll', 'tri', 'again', 'tomorrow'], ['my', 'brace', 'are', 'kill', 'me']]\n"
     ]
    }
   ],
   "source": [
    "print(snowball_stemmed_train[0:3])"
   ]
  },
  {
   "cell_type": "code",
   "execution_count": 30,
   "metadata": {},
   "outputs": [],
   "source": [
    "from nltk.stem import LancasterStemmer\n",
    "lancaster = LancasterStemmer()\n",
    "\n",
    "def lancaster_stemmer(tokenized_text):\n",
    "    stemmed_tokens = [[lancaster.stem(word) for word in tweet] for tweet in tokenized_text]\n",
    "    \n",
    "    return stemmed_tokens"
   ]
  },
  {
   "cell_type": "code",
   "execution_count": 31,
   "metadata": {},
   "outputs": [],
   "source": [
    "lancaster_stemmed_train = lancaster_stemmer(tokenized_train)"
   ]
  },
  {
   "cell_type": "code",
   "execution_count": 32,
   "metadata": {},
   "outputs": [
    {
     "name": "stdout",
     "output_type": "stream",
     "text": [
      "[['i', \"'m\", 'cold', 'i', 'nee', 'my', 'joe', 'post'], ['i', 'tri', 'to', 'get', 'a', 'phon', 'tonight', 'but', 'i', 'guess', 'i', \"'ll\", 'try', 'again', 'tomorrow'], ['my', 'brac', 'ar', 'kil', 'me']]\n"
     ]
    }
   ],
   "source": [
    "print(lancaster_stemmed_train[0:3])"
   ]
  },
  {
   "cell_type": "code",
   "execution_count": 33,
   "metadata": {},
   "outputs": [],
   "source": [
    "from nltk.stem import WordNetLemmatizer\n",
    "WNlemmatizer = WordNetLemmatizer()\n",
    "\n",
    "def lemmatization(tokenized_text):\n",
    "    lemma_tokens = [[WNlemmatizer.lemmatize(word) for word in tweet] for tweet in tokenized_text]\n",
    "    \n",
    "    return lemma_tokens"
   ]
  },
  {
   "cell_type": "code",
   "execution_count": 34,
   "metadata": {},
   "outputs": [],
   "source": [
    "lemma_train = lemmatization(tokenized_train)"
   ]
  },
  {
   "cell_type": "code",
   "execution_count": 35,
   "metadata": {},
   "outputs": [
    {
     "name": "stdout",
     "output_type": "stream",
     "text": [
      "[['i', \"'m\", 'cold', 'i', 'need', 'my', 'joe', 'poster'], ['i', 'tried', 'to', 'get', 'a', 'phone', 'tonight', 'but', 'i', 'guess', 'i', \"'ll\", 'try', 'again', 'tomorrow'], ['my', 'brace', 'are', 'killing', 'me']]\n"
     ]
    }
   ],
   "source": [
    "print(lemma_train[0:3])"
   ]
  },
  {
   "cell_type": "code",
   "execution_count": 36,
   "metadata": {},
   "outputs": [],
   "source": [
    "from stemming.lovins import stem\n",
    "from text_sanitizer import sanitize_weka\n",
    "\n",
    "def lovins_error_words(tokenized_text):\n",
    "    \"\"\"\"This function finds words which the python lovins stemmer cannot stem.\n",
    "    Unfortunetaly, this stemmer sometimes gives an IndexError.\n",
    "    The list of words will be stemmed in WEKA GUI.\"\"\"\n",
    "    \n",
    "    # make empty list\n",
    "    not_stemmed = []\n",
    "    \n",
    "    # iterate over each tweet\n",
    "    for tweet in tokenized_text:\n",
    "        # iterate over each word in a tweet\n",
    "        for word in tweet:\n",
    "            # try to stem the word\n",
    "            try:\n",
    "                stem(word)\n",
    "            # find error words and store them in the empty list\n",
    "            except IndexError:\n",
    "                if word not in not_stemmed:\n",
    "                    word = sanitize_weka(word) # get ready for WEKA\n",
    "                    not_stemmed.append(word)\n",
    "            \n",
    "    # sort list alphabetically for WEKA        \n",
    "    sorted_list = sorted(not_stemmed) \n",
    "    \n",
    "    sanitize_weka(word)\n",
    "    return sorted_list\n",
    "\n",
    "def lovins_stemmer(tokenized_text):\n",
    "    \"\"\"The lovins stemmer needs more attention.\n",
    "    Error words are changed for stemmed words in WEKA.\"\"\"\n",
    "    \n",
    "    # first create an empty list\n",
    "    words = []\n",
    "    \n",
    "    # iterate over each tweet\n",
    "    for index, tweet in enumerate(tokenized_text):\n",
    "        # create a new list per tweet\n",
    "        words.append([])\n",
    "        # iterate over each word in a tweet\n",
    "        for word in tweet:\n",
    "            # change error word for WEKA stemmed word\n",
    "            if word in lovins_error:\n",
    "                ix = lovins_error.index(word)\n",
    "                error_word = lovins_error[ix]\n",
    "                stemmed_word = error_stemmed[ix]\n",
    "                words[index].append(stemmed_word)\n",
    "            # stem word via python Lovins stemmer\n",
    "            else:\n",
    "                d = stem(word)\n",
    "                words[index].append(d)\n",
    "        \n",
    "    return words"
   ]
  },
  {
   "cell_type": "code",
   "execution_count": 37,
   "metadata": {},
   "outputs": [],
   "source": [
    "error_words = lovins_error_words(tokenized_train)"
   ]
  },
  {
   "cell_type": "code",
   "execution_count": 38,
   "metadata": {},
   "outputs": [
    {
     "data": {
      "text/html": [
       "<div>\n",
       "<style scoped>\n",
       "    .dataframe tbody tr th:only-of-type {\n",
       "        vertical-align: middle;\n",
       "    }\n",
       "\n",
       "    .dataframe tbody tr th {\n",
       "        vertical-align: top;\n",
       "    }\n",
       "\n",
       "    .dataframe thead th {\n",
       "        text-align: right;\n",
       "    }\n",
       "</style>\n",
       "<table border=\"1\" class=\"dataframe\">\n",
       "  <thead>\n",
       "    <tr style=\"text-align: right;\">\n",
       "      <th></th>\n",
       "      <th>words</th>\n",
       "    </tr>\n",
       "  </thead>\n",
       "  <tbody>\n",
       "    <tr>\n",
       "      <th>0</th>\n",
       "      <td>2mar</td>\n",
       "    </tr>\n",
       "    <tr>\n",
       "      <th>1</th>\n",
       "      <td>\\'early</td>\n",
       "    </tr>\n",
       "    <tr>\n",
       "      <th>2</th>\n",
       "      <td>\\'early</td>\n",
       "    </tr>\n",
       "    <tr>\n",
       "      <th>3</th>\n",
       "      <td>afar</td>\n",
       "    </tr>\n",
       "    <tr>\n",
       "      <th>4</th>\n",
       "      <td>ahar</td>\n",
       "    </tr>\n",
       "    <tr>\n",
       "      <th>...</th>\n",
       "      <td>...</td>\n",
       "    </tr>\n",
       "    <tr>\n",
       "      <th>99</th>\n",
       "      <td>wear</td>\n",
       "    </tr>\n",
       "    <tr>\n",
       "      <th>100</th>\n",
       "      <td>whar</td>\n",
       "    </tr>\n",
       "    <tr>\n",
       "      <th>101</th>\n",
       "      <td>yaar</td>\n",
       "    </tr>\n",
       "    <tr>\n",
       "      <th>102</th>\n",
       "      <td>year</td>\n",
       "    </tr>\n",
       "    <tr>\n",
       "      <th>103</th>\n",
       "      <td>yearly</td>\n",
       "    </tr>\n",
       "  </tbody>\n",
       "</table>\n",
       "<p>104 rows × 1 columns</p>\n",
       "</div>"
      ],
      "text/plain": [
       "       words\n",
       "0       2mar\n",
       "1    \\'early\n",
       "2    \\'early\n",
       "3       afar\n",
       "4       ahar\n",
       "..       ...\n",
       "99      wear\n",
       "100     whar\n",
       "101     yaar\n",
       "102     year\n",
       "103   yearly\n",
       "\n",
       "[104 rows x 1 columns]"
      ]
     },
     "execution_count": 38,
     "metadata": {},
     "output_type": "execute_result"
    }
   ],
   "source": [
    "# save the error words to csv for WEKA\n",
    "dic_errorwords = {'words': error_words}\n",
    "df_errorwords = pd.DataFrame(dic_errorwords)\n",
    "df_errorwords.to_csv('df_errorwords.csv', index=False)\n",
    "df_errorwords"
   ]
  },
  {
   "cell_type": "code",
   "execution_count": 39,
   "metadata": {},
   "outputs": [
    {
     "data": {
      "text/html": [
       "<div>\n",
       "<style scoped>\n",
       "    .dataframe tbody tr th:only-of-type {\n",
       "        vertical-align: middle;\n",
       "    }\n",
       "\n",
       "    .dataframe tbody tr th {\n",
       "        vertical-align: top;\n",
       "    }\n",
       "\n",
       "    .dataframe thead th {\n",
       "        text-align: right;\n",
       "    }\n",
       "</style>\n",
       "<table border=\"1\" class=\"dataframe\">\n",
       "  <thead>\n",
       "    <tr style=\"text-align: right;\">\n",
       "      <th></th>\n",
       "      <th>error_words</th>\n",
       "      <th>stemmed_words</th>\n",
       "    </tr>\n",
       "  </thead>\n",
       "  <tbody>\n",
       "    <tr>\n",
       "      <th>0</th>\n",
       "      <td>2mar</td>\n",
       "      <td>2mar</td>\n",
       "    </tr>\n",
       "    <tr>\n",
       "      <th>1</th>\n",
       "      <td>'early</td>\n",
       "      <td>ear</td>\n",
       "    </tr>\n",
       "    <tr>\n",
       "      <th>2</th>\n",
       "      <td>'early</td>\n",
       "      <td>ear</td>\n",
       "    </tr>\n",
       "    <tr>\n",
       "      <th>3</th>\n",
       "      <td>afar</td>\n",
       "      <td>afar</td>\n",
       "    </tr>\n",
       "    <tr>\n",
       "      <th>4</th>\n",
       "      <td>ahar</td>\n",
       "      <td>ahar</td>\n",
       "    </tr>\n",
       "    <tr>\n",
       "      <th>...</th>\n",
       "      <td>...</td>\n",
       "      <td>...</td>\n",
       "    </tr>\n",
       "    <tr>\n",
       "      <th>99</th>\n",
       "      <td>wear</td>\n",
       "      <td>wear</td>\n",
       "    </tr>\n",
       "    <tr>\n",
       "      <th>100</th>\n",
       "      <td>whar</td>\n",
       "      <td>whar</td>\n",
       "    </tr>\n",
       "    <tr>\n",
       "      <th>101</th>\n",
       "      <td>yaar</td>\n",
       "      <td>yaar</td>\n",
       "    </tr>\n",
       "    <tr>\n",
       "      <th>102</th>\n",
       "      <td>year</td>\n",
       "      <td>year</td>\n",
       "    </tr>\n",
       "    <tr>\n",
       "      <th>103</th>\n",
       "      <td>yearly</td>\n",
       "      <td>year</td>\n",
       "    </tr>\n",
       "  </tbody>\n",
       "</table>\n",
       "<p>104 rows × 2 columns</p>\n",
       "</div>"
      ],
      "text/plain": [
       "    error_words stemmed_words\n",
       "0          2mar          2mar\n",
       "1        'early           ear\n",
       "2        'early           ear\n",
       "3          afar          afar\n",
       "4          ahar          ahar\n",
       "..          ...           ...\n",
       "99         wear          wear\n",
       "100        whar          whar\n",
       "101        yaar          yaar\n",
       "102        year          year\n",
       "103      yearly          year\n",
       "\n",
       "[104 rows x 2 columns]"
      ]
     },
     "execution_count": 39,
     "metadata": {},
     "output_type": "execute_result"
    }
   ],
   "source": [
    "# load new df with lists of error words and stemmed words from WEKA\n",
    "df_errorwords_stemmed = pd.read_csv(\"df_errorwords_stemmed.csv\")\n",
    "lovins_error = df_errorwords_stemmed['error_words'].values\n",
    "error_stemmed = df_errorwords_stemmed['stemmed_words'].values\n",
    "df_errorwords_stemmed"
   ]
  },
  {
   "cell_type": "code",
   "execution_count": 40,
   "metadata": {},
   "outputs": [],
   "source": [
    "# convert back to list\n",
    "lovins_error = lovins_error.tolist()\n",
    "error_stemmed = error_stemmed.tolist()"
   ]
  },
  {
   "cell_type": "code",
   "execution_count": 41,
   "metadata": {},
   "outputs": [],
   "source": [
    "# finally, ready to use the lovins stemmer\n",
    "lovins_stemmed_train = lovins_stemmer(tokenized_train)"
   ]
  },
  {
   "cell_type": "code",
   "execution_count": 42,
   "metadata": {},
   "outputs": [
    {
     "data": {
      "text/html": [
       "<div>\n",
       "<style scoped>\n",
       "    .dataframe tbody tr th:only-of-type {\n",
       "        vertical-align: middle;\n",
       "    }\n",
       "\n",
       "    .dataframe tbody tr th {\n",
       "        vertical-align: top;\n",
       "    }\n",
       "\n",
       "    .dataframe thead th {\n",
       "        text-align: right;\n",
       "    }\n",
       "</style>\n",
       "<table border=\"1\" class=\"dataframe\">\n",
       "  <thead>\n",
       "    <tr style=\"text-align: right;\">\n",
       "      <th></th>\n",
       "      <th>label</th>\n",
       "      <th>tokens</th>\n",
       "      <th>porter</th>\n",
       "      <th>snowball</th>\n",
       "      <th>lancaster</th>\n",
       "      <th>lovins</th>\n",
       "      <th>lemmatization</th>\n",
       "    </tr>\n",
       "  </thead>\n",
       "  <tbody>\n",
       "    <tr>\n",
       "      <th>0</th>\n",
       "      <td>0</td>\n",
       "      <td>[i, 'm, cold, i, need, my, joe, posters]</td>\n",
       "      <td>[i, 'm, cold, i, need, my, joe, poster]</td>\n",
       "      <td>[i, 'm, cold, i, need, my, joe, poster]</td>\n",
       "      <td>[i, 'm, cold, i, nee, my, joe, post]</td>\n",
       "      <td>[i, 'm, cold, i, need, my, jo, poster]</td>\n",
       "      <td>[i, 'm, cold, i, need, my, joe, poster]</td>\n",
       "    </tr>\n",
       "    <tr>\n",
       "      <th>1</th>\n",
       "      <td>0</td>\n",
       "      <td>[i, tried, to, get, a, phone, tonight, but, i,...</td>\n",
       "      <td>[i, tri, to, get, a, phone, tonight, but, i, g...</td>\n",
       "      <td>[i, tri, to, get, a, phone, tonight, but, i, g...</td>\n",
       "      <td>[i, tri, to, get, a, phon, tonight, but, i, gu...</td>\n",
       "      <td>[i, tr, to, ges, a, phon, tonight, but, i, gue...</td>\n",
       "      <td>[i, tried, to, get, a, phone, tonight, but, i,...</td>\n",
       "    </tr>\n",
       "    <tr>\n",
       "      <th>2</th>\n",
       "      <td>0</td>\n",
       "      <td>[my, braces, are, killing, me]</td>\n",
       "      <td>[my, brace, are, kill, me]</td>\n",
       "      <td>[my, brace, are, kill, me]</td>\n",
       "      <td>[my, brac, ar, kil, me]</td>\n",
       "      <td>[my, brac, ar, kil, me]</td>\n",
       "      <td>[my, brace, are, killing, me]</td>\n",
       "    </tr>\n",
       "    <tr>\n",
       "      <th>3</th>\n",
       "      <td>0</td>\n",
       "      <td>[i, heard, you, guys, were, on, for, one, more...</td>\n",
       "      <td>[i, heard, you, guy, were, on, for, one, more,...</td>\n",
       "      <td>[i, heard, you, guy, were, on, for, one, more,...</td>\n",
       "      <td>[i, heard, you, guy, wer, on, for, on, mor, ye...</td>\n",
       "      <td>[i, heard, you, guy, wer, on, for, on, mor, ye...</td>\n",
       "      <td>[i, heard, you, guy, were, on, for, one, more,...</td>\n",
       "    </tr>\n",
       "    <tr>\n",
       "      <th>4</th>\n",
       "      <td>0</td>\n",
       "      <td>[just, got, caught, checking, a, pair, of, boo...</td>\n",
       "      <td>[just, got, caught, check, a, pair, of, boob, ...</td>\n",
       "      <td>[just, got, caught, check, a, pair, of, boob, ...</td>\n",
       "      <td>[just, got, caught, check, a, pair, of, boob, ...</td>\n",
       "      <td>[just, got, caught, check, a, pair, of, boob, ...</td>\n",
       "      <td>[just, got, caught, checking, a, pair, of, boo...</td>\n",
       "    </tr>\n",
       "    <tr>\n",
       "      <th>...</th>\n",
       "      <td>...</td>\n",
       "      <td>...</td>\n",
       "      <td>...</td>\n",
       "      <td>...</td>\n",
       "      <td>...</td>\n",
       "      <td>...</td>\n",
       "      <td>...</td>\n",
       "    </tr>\n",
       "    <tr>\n",
       "      <th>199499</th>\n",
       "      <td>1</td>\n",
       "      <td>[i, was, thinking, that, stable, was, more, im...</td>\n",
       "      <td>[i, wa, think, that, stabl, wa, more, import, ...</td>\n",
       "      <td>[i, was, think, that, stabl, was, more, import...</td>\n",
       "      <td>[i, was, think, that, stabl, was, mor, import,...</td>\n",
       "      <td>[i, wa, think, that, st, wa, mor, import, to, ...</td>\n",
       "      <td>[i, wa, thinking, that, stable, wa, more, impo...</td>\n",
       "    </tr>\n",
       "    <tr>\n",
       "      <th>199500</th>\n",
       "      <td>1</td>\n",
       "      <td>[ralph, go, to, sleep, see, you, tomorrow]</td>\n",
       "      <td>[ralph, go, to, sleep, see, you, tomorrow]</td>\n",
       "      <td>[ralph, go, to, sleep, see, you, tomorrow]</td>\n",
       "      <td>[ralph, go, to, sleep, see, you, tomorrow]</td>\n",
       "      <td>[ralph, go, to, sleep, se, you, tomorrow]</td>\n",
       "      <td>[ralph, go, to, sleep, see, you, tomorrow]</td>\n",
       "    </tr>\n",
       "    <tr>\n",
       "      <th>199501</th>\n",
       "      <td>1</td>\n",
       "      <td>[yes, i, do, have, the, blues, today, thanks, ...</td>\n",
       "      <td>[ye, i, do, have, the, blue, today, thank, for...</td>\n",
       "      <td>[yes, i, do, have, the, blue, today, thank, fo...</td>\n",
       "      <td>[ye, i, do, hav, the, blu, today, thank, for, ...</td>\n",
       "      <td>[ye, i, do, hav, th, blu, toda, thank, for, dr...</td>\n",
       "      <td>[yes, i, do, have, the, blue, today, thanks, f...</td>\n",
       "    </tr>\n",
       "    <tr>\n",
       "      <th>199502</th>\n",
       "      <td>1</td>\n",
       "      <td>[i, 'll, be, on, air, tonight]</td>\n",
       "      <td>[i, 'll, be, on, air, tonight]</td>\n",
       "      <td>[i, ll, be, on, air, tonight]</td>\n",
       "      <td>[i, 'll, be, on, air, tonight]</td>\n",
       "      <td>[i, 'l, be, on, air, tonight]</td>\n",
       "      <td>[i, 'll, be, on, air, tonight]</td>\n",
       "    </tr>\n",
       "    <tr>\n",
       "      <th>199503</th>\n",
       "      <td>1</td>\n",
       "      <td>[with, my, desktop, right, now]</td>\n",
       "      <td>[with, my, desktop, right, now]</td>\n",
       "      <td>[with, my, desktop, right, now]</td>\n",
       "      <td>[with, my, desktop, right, now]</td>\n",
       "      <td>[with, my, desktop, right, now]</td>\n",
       "      <td>[with, my, desktop, right, now]</td>\n",
       "    </tr>\n",
       "  </tbody>\n",
       "</table>\n",
       "<p>199504 rows × 7 columns</p>\n",
       "</div>"
      ],
      "text/plain": [
       "        label                                             tokens  \\\n",
       "0           0           [i, 'm, cold, i, need, my, joe, posters]   \n",
       "1           0  [i, tried, to, get, a, phone, tonight, but, i,...   \n",
       "2           0                     [my, braces, are, killing, me]   \n",
       "3           0  [i, heard, you, guys, were, on, for, one, more...   \n",
       "4           0  [just, got, caught, checking, a, pair, of, boo...   \n",
       "...       ...                                                ...   \n",
       "199499      1  [i, was, thinking, that, stable, was, more, im...   \n",
       "199500      1         [ralph, go, to, sleep, see, you, tomorrow]   \n",
       "199501      1  [yes, i, do, have, the, blues, today, thanks, ...   \n",
       "199502      1                     [i, 'll, be, on, air, tonight]   \n",
       "199503      1                    [with, my, desktop, right, now]   \n",
       "\n",
       "                                                   porter  \\\n",
       "0                 [i, 'm, cold, i, need, my, joe, poster]   \n",
       "1       [i, tri, to, get, a, phone, tonight, but, i, g...   \n",
       "2                              [my, brace, are, kill, me]   \n",
       "3       [i, heard, you, guy, were, on, for, one, more,...   \n",
       "4       [just, got, caught, check, a, pair, of, boob, ...   \n",
       "...                                                   ...   \n",
       "199499  [i, wa, think, that, stabl, wa, more, import, ...   \n",
       "199500         [ralph, go, to, sleep, see, you, tomorrow]   \n",
       "199501  [ye, i, do, have, the, blue, today, thank, for...   \n",
       "199502                     [i, 'll, be, on, air, tonight]   \n",
       "199503                    [with, my, desktop, right, now]   \n",
       "\n",
       "                                                 snowball  \\\n",
       "0                 [i, 'm, cold, i, need, my, joe, poster]   \n",
       "1       [i, tri, to, get, a, phone, tonight, but, i, g...   \n",
       "2                              [my, brace, are, kill, me]   \n",
       "3       [i, heard, you, guy, were, on, for, one, more,...   \n",
       "4       [just, got, caught, check, a, pair, of, boob, ...   \n",
       "...                                                   ...   \n",
       "199499  [i, was, think, that, stabl, was, more, import...   \n",
       "199500         [ralph, go, to, sleep, see, you, tomorrow]   \n",
       "199501  [yes, i, do, have, the, blue, today, thank, fo...   \n",
       "199502                      [i, ll, be, on, air, tonight]   \n",
       "199503                    [with, my, desktop, right, now]   \n",
       "\n",
       "                                                lancaster  \\\n",
       "0                    [i, 'm, cold, i, nee, my, joe, post]   \n",
       "1       [i, tri, to, get, a, phon, tonight, but, i, gu...   \n",
       "2                                 [my, brac, ar, kil, me]   \n",
       "3       [i, heard, you, guy, wer, on, for, on, mor, ye...   \n",
       "4       [just, got, caught, check, a, pair, of, boob, ...   \n",
       "...                                                   ...   \n",
       "199499  [i, was, think, that, stabl, was, mor, import,...   \n",
       "199500         [ralph, go, to, sleep, see, you, tomorrow]   \n",
       "199501  [ye, i, do, hav, the, blu, today, thank, for, ...   \n",
       "199502                     [i, 'll, be, on, air, tonight]   \n",
       "199503                    [with, my, desktop, right, now]   \n",
       "\n",
       "                                                   lovins  \\\n",
       "0                  [i, 'm, cold, i, need, my, jo, poster]   \n",
       "1       [i, tr, to, ges, a, phon, tonight, but, i, gue...   \n",
       "2                                 [my, brac, ar, kil, me]   \n",
       "3       [i, heard, you, guy, wer, on, for, on, mor, ye...   \n",
       "4       [just, got, caught, check, a, pair, of, boob, ...   \n",
       "...                                                   ...   \n",
       "199499  [i, wa, think, that, st, wa, mor, import, to, ...   \n",
       "199500          [ralph, go, to, sleep, se, you, tomorrow]   \n",
       "199501  [ye, i, do, hav, th, blu, toda, thank, for, dr...   \n",
       "199502                      [i, 'l, be, on, air, tonight]   \n",
       "199503                    [with, my, desktop, right, now]   \n",
       "\n",
       "                                            lemmatization  \n",
       "0                 [i, 'm, cold, i, need, my, joe, poster]  \n",
       "1       [i, tried, to, get, a, phone, tonight, but, i,...  \n",
       "2                           [my, brace, are, killing, me]  \n",
       "3       [i, heard, you, guy, were, on, for, one, more,...  \n",
       "4       [just, got, caught, checking, a, pair, of, boo...  \n",
       "...                                                   ...  \n",
       "199499  [i, wa, thinking, that, stable, wa, more, impo...  \n",
       "199500         [ralph, go, to, sleep, see, you, tomorrow]  \n",
       "199501  [yes, i, do, have, the, blue, today, thanks, f...  \n",
       "199502                     [i, 'll, be, on, air, tonight]  \n",
       "199503                    [with, my, desktop, right, now]  \n",
       "\n",
       "[199504 rows x 7 columns]"
      ]
     },
     "execution_count": 42,
     "metadata": {},
     "output_type": "execute_result"
    }
   ],
   "source": [
    "# save stemmed data for later use\n",
    "data = {'label': y_train, 'tokens': tokenized_train, 'porter': porter_stemmed_train, \n",
    "        'snowball': snowball_stemmed_train, 'lancaster': lancaster_stemmed_train, \n",
    "        'lovins': lovins_stemmed_train, 'lemmatization': lemma_train}\n",
    "\n",
    "df_stemmed = pd.DataFrame(data)\n",
    "df_stemmed.to_csv('df_stemmed.csv', index=False)\n",
    "df_stemmed"
   ]
  },
  {
   "cell_type": "markdown",
   "metadata": {},
   "source": [
    "# Part IV: Word Embeddings\n",
    "Before we can train a machine learning classification algorithm, tweets need to be encoded into a (numerical) vector representation. The skip-gram method of Word2Vec will be used. Meaning we have six versions (baseline + five filters)"
   ]
  },
  {
   "cell_type": "code",
   "execution_count": 43,
   "metadata": {},
   "outputs": [],
   "source": [
    "from gensim.models import Word2Vec, KeyedVectors\n",
    "# Importing the built-in logging module\n",
    "import logging\n",
    "logging.basicConfig(format='%(asctime)s : %(levelname)s : %(message)s', level=logging.INFO)"
   ]
  },
  {
   "cell_type": "code",
   "execution_count": 44,
   "metadata": {},
   "outputs": [],
   "source": [
    "# Set values for various parameters\n",
    "num_features = 100   # Word vector dimensionality                      \n",
    "min_word_count = 5   # Minimum word count                        \n",
    "context = 10         # Window size                                                                                    \n",
    "hs = 1               # Hierarchical softmax evaluation method\n",
    "sg = 1               # Skip-gram method"
   ]
  },
  {
   "cell_type": "code",
   "execution_count": 45,
   "metadata": {},
   "outputs": [],
   "source": [
    "def train_word2vec(X_train, num_features, min_word_count, context, hs, sg):\n",
    "    print(\"Training model...\")\n",
    "    model_W2V = Word2Vec(X_train, \n",
    "                     vector_size = num_features,\n",
    "                     min_count = min_word_count,\n",
    "                     window = context,\n",
    "                     hs = hs,\n",
    "                     sg = sg)\n",
    "    \n",
    "    return model_W2V"
   ]
  },
  {
   "cell_type": "code",
   "execution_count": 46,
   "metadata": {},
   "outputs": [
    {
     "name": "stderr",
     "output_type": "stream",
     "text": [
      "2021-05-16 10:15:46,619 : INFO : collecting all words and their counts\n",
      "2021-05-16 10:15:46,620 : INFO : PROGRESS: at sentence #0, processed 0 words, keeping 0 word types\n",
      "2021-05-16 10:15:46,651 : INFO : PROGRESS: at sentence #10000, processed 138523 words, keeping 12968 word types\n",
      "2021-05-16 10:15:46,674 : INFO : PROGRESS: at sentence #20000, processed 276045 words, keeping 19678 word types\n",
      "2021-05-16 10:15:46,698 : INFO : PROGRESS: at sentence #30000, processed 413237 words, keeping 24996 word types\n",
      "2021-05-16 10:15:46,723 : INFO : PROGRESS: at sentence #40000, processed 549477 words, keeping 29509 word types\n",
      "2021-05-16 10:15:46,747 : INFO : PROGRESS: at sentence #50000, processed 687841 words, keeping 33431 word types\n",
      "2021-05-16 10:15:46,770 : INFO : PROGRESS: at sentence #60000, processed 825230 words, keeping 37127 word types\n",
      "2021-05-16 10:15:46,794 : INFO : PROGRESS: at sentence #70000, processed 962818 words, keeping 40536 word types\n"
     ]
    },
    {
     "name": "stdout",
     "output_type": "stream",
     "text": [
      "Training model...\n"
     ]
    },
    {
     "name": "stderr",
     "output_type": "stream",
     "text": [
      "2021-05-16 10:15:46,819 : INFO : PROGRESS: at sentence #80000, processed 1100112 words, keeping 43771 word types\n",
      "2021-05-16 10:15:46,842 : INFO : PROGRESS: at sentence #90000, processed 1237509 words, keeping 46866 word types\n",
      "2021-05-16 10:15:46,865 : INFO : PROGRESS: at sentence #100000, processed 1373846 words, keeping 49821 word types\n",
      "2021-05-16 10:15:46,887 : INFO : PROGRESS: at sentence #110000, processed 1500874 words, keeping 53210 word types\n",
      "2021-05-16 10:15:46,910 : INFO : PROGRESS: at sentence #120000, processed 1627667 words, keeping 56332 word types\n",
      "2021-05-16 10:15:46,932 : INFO : PROGRESS: at sentence #130000, processed 1754258 words, keeping 59466 word types\n",
      "2021-05-16 10:15:46,954 : INFO : PROGRESS: at sentence #140000, processed 1880656 words, keeping 62459 word types\n",
      "2021-05-16 10:15:46,976 : INFO : PROGRESS: at sentence #150000, processed 2006472 words, keeping 65364 word types\n",
      "2021-05-16 10:15:46,999 : INFO : PROGRESS: at sentence #160000, processed 2132057 words, keeping 68123 word types\n",
      "2021-05-16 10:15:47,022 : INFO : PROGRESS: at sentence #170000, processed 2258149 words, keeping 70742 word types\n",
      "2021-05-16 10:15:47,044 : INFO : PROGRESS: at sentence #180000, processed 2384222 words, keeping 73411 word types\n",
      "2021-05-16 10:15:47,066 : INFO : PROGRESS: at sentence #190000, processed 2509424 words, keeping 75918 word types\n",
      "2021-05-16 10:15:47,089 : INFO : collected 78313 word types from a corpus of 2629686 raw words and 199504 sentences\n",
      "2021-05-16 10:15:47,090 : INFO : Creating a fresh vocabulary\n",
      "2021-05-16 10:15:47,163 : INFO : Word2Vec lifecycle event {'msg': 'effective_min_count=5 retains 15961 unique words (20.381035077190248%% of original 78313, drops 62352)', 'datetime': '2021-05-16T10:15:47.162679', 'gensim': '4.0.1', 'python': '3.8.3 (default, Jul  2 2020, 17:30:36) [MSC v.1916 64 bit (AMD64)]', 'platform': 'Windows-10-10.0.19041-SP0', 'event': 'prepare_vocab'}\n",
      "2021-05-16 10:15:47,163 : INFO : Word2Vec lifecycle event {'msg': 'effective_min_count=5 leaves 2541090 word corpus (96.63092855953144%% of original 2629686, drops 88596)', 'datetime': '2021-05-16T10:15:47.163676', 'gensim': '4.0.1', 'python': '3.8.3 (default, Jul  2 2020, 17:30:36) [MSC v.1916 64 bit (AMD64)]', 'platform': 'Windows-10-10.0.19041-SP0', 'event': 'prepare_vocab'}\n",
      "2021-05-16 10:15:47,245 : INFO : deleting the raw counts dictionary of 78313 items\n",
      "2021-05-16 10:15:47,247 : INFO : sample=0.001 downsamples 57 most-common words\n",
      "2021-05-16 10:15:47,248 : INFO : Word2Vec lifecycle event {'msg': 'downsampling leaves estimated 1955172.4905128316 word corpus (76.9%% of prior 2541090)', 'datetime': '2021-05-16T10:15:47.248379', 'gensim': '4.0.1', 'python': '3.8.3 (default, Jul  2 2020, 17:30:36) [MSC v.1916 64 bit (AMD64)]', 'platform': 'Windows-10-10.0.19041-SP0', 'event': 'prepare_vocab'}\n",
      "2021-05-16 10:15:47,255 : INFO : constructing a huffman tree from 15961 words\n",
      "2021-05-16 10:15:47,731 : INFO : built huffman tree with maximum node depth 19\n",
      "2021-05-16 10:15:47,859 : INFO : estimated required memory for 15961 words and 100 dimensions: 30325900 bytes\n",
      "2021-05-16 10:15:47,860 : INFO : resetting layer weights\n",
      "2021-05-16 10:15:47,866 : INFO : Word2Vec lifecycle event {'update': False, 'trim_rule': 'None', 'datetime': '2021-05-16T10:15:47.866700', 'gensim': '4.0.1', 'python': '3.8.3 (default, Jul  2 2020, 17:30:36) [MSC v.1916 64 bit (AMD64)]', 'platform': 'Windows-10-10.0.19041-SP0', 'event': 'build_vocab'}\n",
      "2021-05-16 10:15:47,867 : INFO : Word2Vec lifecycle event {'msg': 'training model with 3 workers on 15961 vocabulary and 100 features, using sg=1 hs=1 sample=0.001 negative=5 window=10', 'datetime': '2021-05-16T10:15:47.867701', 'gensim': '4.0.1', 'python': '3.8.3 (default, Jul  2 2020, 17:30:36) [MSC v.1916 64 bit (AMD64)]', 'platform': 'Windows-10-10.0.19041-SP0', 'event': 'train'}\n",
      "2021-05-16 10:15:48,949 : INFO : EPOCH 1 - PROGRESS: at 9.05% examples, 172040 words/s, in_qsize 5, out_qsize 0\n",
      "2021-05-16 10:15:50,026 : INFO : EPOCH 1 - PROGRESS: at 18.95% examples, 178819 words/s, in_qsize 5, out_qsize 0\n",
      "2021-05-16 10:15:51,046 : INFO : EPOCH 1 - PROGRESS: at 27.31% examples, 175004 words/s, in_qsize 5, out_qsize 0\n",
      "2021-05-16 10:15:52,073 : INFO : EPOCH 1 - PROGRESS: at 35.33% examples, 171028 words/s, in_qsize 5, out_qsize 0\n",
      "2021-05-16 10:15:53,089 : INFO : EPOCH 1 - PROGRESS: at 44.06% examples, 171747 words/s, in_qsize 5, out_qsize 0\n",
      "2021-05-16 10:15:54,114 : INFO : EPOCH 1 - PROGRESS: at 53.86% examples, 174430 words/s, in_qsize 5, out_qsize 0\n",
      "2021-05-16 10:15:55,189 : INFO : EPOCH 1 - PROGRESS: at 63.77% examples, 174281 words/s, in_qsize 5, out_qsize 0\n",
      "2021-05-16 10:15:56,207 : INFO : EPOCH 1 - PROGRESS: at 73.26% examples, 174461 words/s, in_qsize 6, out_qsize 0\n",
      "2021-05-16 10:15:57,304 : INFO : EPOCH 1 - PROGRESS: at 84.01% examples, 175504 words/s, in_qsize 5, out_qsize 0\n",
      "2021-05-16 10:15:58,364 : INFO : EPOCH 1 - PROGRESS: at 94.80% examples, 176974 words/s, in_qsize 6, out_qsize 0\n",
      "2021-05-16 10:15:58,765 : INFO : worker thread finished; awaiting finish of 2 more threads\n",
      "2021-05-16 10:15:58,847 : INFO : worker thread finished; awaiting finish of 1 more threads\n",
      "2021-05-16 10:15:58,848 : INFO : worker thread finished; awaiting finish of 0 more threads\n",
      "2021-05-16 10:15:58,848 : INFO : EPOCH - 1 : training on 2629686 raw words (1955004 effective words) took 11.0s, 178127 effective words/s\n",
      "2021-05-16 10:15:59,856 : INFO : EPOCH 2 - PROGRESS: at 8.69% examples, 177326 words/s, in_qsize 5, out_qsize 0\n",
      "2021-05-16 10:16:00,908 : INFO : EPOCH 2 - PROGRESS: at 17.84% examples, 176742 words/s, in_qsize 5, out_qsize 0\n",
      "2021-05-16 10:16:01,933 : INFO : EPOCH 2 - PROGRESS: at 26.95% examples, 178070 words/s, in_qsize 5, out_qsize 0\n",
      "2021-05-16 10:16:03,022 : INFO : EPOCH 2 - PROGRESS: at 36.80% examples, 179547 words/s, in_qsize 5, out_qsize 0\n",
      "2021-05-16 10:16:04,089 : INFO : EPOCH 2 - PROGRESS: at 45.53% examples, 176942 words/s, in_qsize 5, out_qsize 0\n",
      "2021-05-16 10:16:05,179 : INFO : EPOCH 2 - PROGRESS: at 55.83% examples, 178182 words/s, in_qsize 5, out_qsize 0\n",
      "2021-05-16 10:16:06,233 : INFO : EPOCH 2 - PROGRESS: at 66.53% examples, 179979 words/s, in_qsize 5, out_qsize 0\n",
      "2021-05-16 10:16:07,258 : INFO : EPOCH 2 - PROGRESS: at 76.88% examples, 181104 words/s, in_qsize 5, out_qsize 0\n",
      "2021-05-16 10:16:08,283 : INFO : EPOCH 2 - PROGRESS: at 86.79% examples, 181199 words/s, in_qsize 5, out_qsize 0\n",
      "2021-05-16 10:16:09,314 : INFO : EPOCH 2 - PROGRESS: at 96.75% examples, 181145 words/s, in_qsize 5, out_qsize 0\n",
      "2021-05-16 10:16:09,601 : INFO : worker thread finished; awaiting finish of 2 more threads\n",
      "2021-05-16 10:16:09,635 : INFO : worker thread finished; awaiting finish of 1 more threads\n",
      "2021-05-16 10:16:09,652 : INFO : worker thread finished; awaiting finish of 0 more threads\n",
      "2021-05-16 10:16:09,652 : INFO : EPOCH - 2 : training on 2629686 raw words (1955820 effective words) took 10.8s, 181135 effective words/s\n",
      "2021-05-16 10:16:10,740 : INFO : EPOCH 3 - PROGRESS: at 7.98% examples, 150815 words/s, in_qsize 6, out_qsize 0\n",
      "2021-05-16 10:16:11,836 : INFO : EPOCH 3 - PROGRESS: at 16.74% examples, 156520 words/s, in_qsize 5, out_qsize 0\n",
      "2021-05-16 10:16:12,863 : INFO : EPOCH 3 - PROGRESS: at 25.49% examples, 161686 words/s, in_qsize 5, out_qsize 0\n",
      "2021-05-16 10:16:13,882 : INFO : EPOCH 3 - PROGRESS: at 34.22% examples, 164732 words/s, in_qsize 5, out_qsize 0\n",
      "2021-05-16 10:16:14,884 : INFO : EPOCH 3 - PROGRESS: at 42.61% examples, 165776 words/s, in_qsize 5, out_qsize 0\n",
      "2021-05-16 10:16:15,899 : INFO : EPOCH 3 - PROGRESS: at 51.10% examples, 166090 words/s, in_qsize 5, out_qsize 0\n",
      "2021-05-16 10:16:16,934 : INFO : EPOCH 3 - PROGRESS: at 60.59% examples, 167101 words/s, in_qsize 5, out_qsize 0\n",
      "2021-05-16 10:16:17,936 : INFO : EPOCH 3 - PROGRESS: at 70.48% examples, 169358 words/s, in_qsize 5, out_qsize 0\n",
      "2021-05-16 10:16:18,979 : INFO : EPOCH 3 - PROGRESS: at 79.63% examples, 168814 words/s, in_qsize 6, out_qsize 0\n",
      "2021-05-16 10:16:19,995 : INFO : EPOCH 3 - PROGRESS: at 89.19% examples, 169540 words/s, in_qsize 5, out_qsize 0\n",
      "2021-05-16 10:16:21,004 : INFO : EPOCH 3 - PROGRESS: at 99.21% examples, 171053 words/s, in_qsize 2, out_qsize 1\n",
      "2021-05-16 10:16:21,005 : INFO : worker thread finished; awaiting finish of 2 more threads\n"
     ]
    },
    {
     "name": "stderr",
     "output_type": "stream",
     "text": [
      "2021-05-16 10:16:21,024 : INFO : worker thread finished; awaiting finish of 1 more threads\n",
      "2021-05-16 10:16:21,087 : INFO : worker thread finished; awaiting finish of 0 more threads\n",
      "2021-05-16 10:16:21,088 : INFO : EPOCH - 3 : training on 2629686 raw words (1955445 effective words) took 11.4s, 171107 effective words/s\n",
      "2021-05-16 10:16:22,096 : INFO : EPOCH 4 - PROGRESS: at 7.98% examples, 162238 words/s, in_qsize 5, out_qsize 0\n",
      "2021-05-16 10:16:23,168 : INFO : EPOCH 4 - PROGRESS: at 16.74% examples, 163986 words/s, in_qsize 5, out_qsize 0\n",
      "2021-05-16 10:16:24,234 : INFO : EPOCH 4 - PROGRESS: at 25.49% examples, 164963 words/s, in_qsize 5, out_qsize 0\n",
      "2021-05-16 10:16:25,250 : INFO : EPOCH 4 - PROGRESS: at 34.22% examples, 167350 words/s, in_qsize 5, out_qsize 0\n",
      "2021-05-16 10:16:26,300 : INFO : EPOCH 4 - PROGRESS: at 43.35% examples, 169209 words/s, in_qsize 5, out_qsize 0\n",
      "2021-05-16 10:16:27,330 : INFO : EPOCH 4 - PROGRESS: at 52.29% examples, 169793 words/s, in_qsize 5, out_qsize 0\n",
      "2021-05-16 10:16:28,372 : INFO : EPOCH 4 - PROGRESS: at 61.78% examples, 170059 words/s, in_qsize 5, out_qsize 0\n",
      "2021-05-16 10:16:29,374 : INFO : EPOCH 4 - PROGRESS: at 71.68% examples, 172002 words/s, in_qsize 5, out_qsize 0\n",
      "2021-05-16 10:16:30,374 : INFO : EPOCH 4 - PROGRESS: at 81.61% examples, 173540 words/s, in_qsize 5, out_qsize 0\n",
      "2021-05-16 10:16:31,388 : INFO : EPOCH 4 - PROGRESS: at 91.61% examples, 174608 words/s, in_qsize 5, out_qsize 0\n",
      "2021-05-16 10:16:32,287 : INFO : worker thread finished; awaiting finish of 2 more threads\n",
      "2021-05-16 10:16:32,314 : INFO : worker thread finished; awaiting finish of 1 more threads\n",
      "2021-05-16 10:16:32,318 : INFO : worker thread finished; awaiting finish of 0 more threads\n",
      "2021-05-16 10:16:32,319 : INFO : EPOCH - 4 : training on 2629686 raw words (1955719 effective words) took 11.2s, 174207 effective words/s\n",
      "2021-05-16 10:16:33,331 : INFO : EPOCH 5 - PROGRESS: at 8.34% examples, 169329 words/s, in_qsize 5, out_qsize 0\n",
      "2021-05-16 10:16:34,403 : INFO : EPOCH 5 - PROGRESS: at 17.84% examples, 174537 words/s, in_qsize 5, out_qsize 0\n",
      "2021-05-16 10:16:35,417 : INFO : EPOCH 5 - PROGRESS: at 26.58% examples, 174764 words/s, in_qsize 5, out_qsize 0\n",
      "2021-05-16 10:16:36,438 : INFO : EPOCH 5 - PROGRESS: at 35.70% examples, 176352 words/s, in_qsize 5, out_qsize 0\n",
      "2021-05-16 10:16:37,502 : INFO : EPOCH 5 - PROGRESS: at 44.43% examples, 174449 words/s, in_qsize 5, out_qsize 0\n",
      "2021-05-16 10:16:38,507 : INFO : EPOCH 5 - PROGRESS: at 53.86% examples, 176027 words/s, in_qsize 5, out_qsize 0\n",
      "2021-05-16 10:16:39,544 : INFO : EPOCH 5 - PROGRESS: at 63.77% examples, 176611 words/s, in_qsize 5, out_qsize 0\n",
      "2021-05-16 10:16:40,601 : INFO : EPOCH 5 - PROGRESS: at 73.66% examples, 176590 words/s, in_qsize 5, out_qsize 0\n",
      "2021-05-16 10:16:41,618 : INFO : EPOCH 5 - PROGRESS: at 83.21% examples, 176500 words/s, in_qsize 6, out_qsize 0\n",
      "2021-05-16 10:16:42,620 : INFO : EPOCH 5 - PROGRESS: at 93.61% examples, 178181 words/s, in_qsize 6, out_qsize 0\n",
      "2021-05-16 10:16:43,215 : INFO : worker thread finished; awaiting finish of 2 more threads\n",
      "2021-05-16 10:16:43,220 : INFO : worker thread finished; awaiting finish of 1 more threads\n",
      "2021-05-16 10:16:43,289 : INFO : worker thread finished; awaiting finish of 0 more threads\n",
      "2021-05-16 10:16:43,290 : INFO : EPOCH - 5 : training on 2629686 raw words (1955044 effective words) took 11.0s, 178310 effective words/s\n",
      "2021-05-16 10:16:43,290 : INFO : Word2Vec lifecycle event {'msg': 'training on 13148430 raw words (9777032 effective words) took 55.4s, 176412 effective words/s', 'datetime': '2021-05-16T10:16:43.290060', 'gensim': '4.0.1', 'python': '3.8.3 (default, Jul  2 2020, 17:30:36) [MSC v.1916 64 bit (AMD64)]', 'platform': 'Windows-10-10.0.19041-SP0', 'event': 'train'}\n",
      "2021-05-16 10:16:43,290 : INFO : Word2Vec lifecycle event {'params': 'Word2Vec(vocab=15961, vector_size=100, alpha=0.025)', 'datetime': '2021-05-16T10:16:43.290060', 'gensim': '4.0.1', 'python': '3.8.3 (default, Jul  2 2020, 17:30:36) [MSC v.1916 64 bit (AMD64)]', 'platform': 'Windows-10-10.0.19041-SP0', 'event': 'created'}\n"
     ]
    }
   ],
   "source": [
    "w2v_baseline = train_word2vec(tokenized_train, num_features, min_word_count, context, hs, sg)"
   ]
  },
  {
   "cell_type": "code",
   "execution_count": 47,
   "metadata": {},
   "outputs": [
    {
     "name": "stderr",
     "output_type": "stream",
     "text": [
      "2021-05-16 10:16:43,308 : INFO : collecting all words and their counts\n",
      "2021-05-16 10:16:43,309 : INFO : PROGRESS: at sentence #0, processed 0 words, keeping 0 word types\n",
      "2021-05-16 10:16:43,340 : INFO : PROGRESS: at sentence #10000, processed 138523 words, keeping 10456 word types\n",
      "2021-05-16 10:16:43,364 : INFO : PROGRESS: at sentence #20000, processed 276045 words, keeping 15710 word types\n",
      "2021-05-16 10:16:43,389 : INFO : PROGRESS: at sentence #30000, processed 413237 words, keeping 19889 word types\n",
      "2021-05-16 10:16:43,414 : INFO : PROGRESS: at sentence #40000, processed 549477 words, keeping 23462 word types\n",
      "2021-05-16 10:16:43,445 : INFO : PROGRESS: at sentence #50000, processed 687841 words, keeping 26553 word types\n",
      "2021-05-16 10:16:43,475 : INFO : PROGRESS: at sentence #60000, processed 825230 words, keeping 29455 word types\n",
      "2021-05-16 10:16:43,501 : INFO : PROGRESS: at sentence #70000, processed 962818 words, keeping 32140 word types\n"
     ]
    },
    {
     "name": "stdout",
     "output_type": "stream",
     "text": [
      "Training model...\n"
     ]
    },
    {
     "name": "stderr",
     "output_type": "stream",
     "text": [
      "2021-05-16 10:16:43,528 : INFO : PROGRESS: at sentence #80000, processed 1100112 words, keeping 34695 word types\n",
      "2021-05-16 10:16:43,555 : INFO : PROGRESS: at sentence #90000, processed 1237509 words, keeping 37168 word types\n",
      "2021-05-16 10:16:43,583 : INFO : PROGRESS: at sentence #100000, processed 1373846 words, keeping 39542 word types\n",
      "2021-05-16 10:16:43,609 : INFO : PROGRESS: at sentence #110000, processed 1500874 words, keeping 42346 word types\n",
      "2021-05-16 10:16:43,633 : INFO : PROGRESS: at sentence #120000, processed 1627667 words, keeping 44854 word types\n",
      "2021-05-16 10:16:43,658 : INFO : PROGRESS: at sentence #130000, processed 1754258 words, keeping 47430 word types\n",
      "2021-05-16 10:16:43,683 : INFO : PROGRESS: at sentence #140000, processed 1880656 words, keeping 49838 word types\n",
      "2021-05-16 10:16:43,707 : INFO : PROGRESS: at sentence #150000, processed 2006472 words, keeping 52200 word types\n",
      "2021-05-16 10:16:43,733 : INFO : PROGRESS: at sentence #160000, processed 2132057 words, keeping 54437 word types\n",
      "2021-05-16 10:16:43,758 : INFO : PROGRESS: at sentence #170000, processed 2258149 words, keeping 56589 word types\n",
      "2021-05-16 10:16:43,783 : INFO : PROGRESS: at sentence #180000, processed 2384222 words, keeping 58811 word types\n",
      "2021-05-16 10:16:43,810 : INFO : PROGRESS: at sentence #190000, processed 2509424 words, keeping 60870 word types\n",
      "2021-05-16 10:16:43,833 : INFO : collected 62836 word types from a corpus of 2629686 raw words and 199504 sentences\n",
      "2021-05-16 10:16:43,834 : INFO : Creating a fresh vocabulary\n",
      "2021-05-16 10:16:43,891 : INFO : Word2Vec lifecycle event {'msg': 'effective_min_count=5 retains 12555 unique words (19.98058437838182%% of original 62836, drops 50281)', 'datetime': '2021-05-16T10:16:43.891776', 'gensim': '4.0.1', 'python': '3.8.3 (default, Jul  2 2020, 17:30:36) [MSC v.1916 64 bit (AMD64)]', 'platform': 'Windows-10-10.0.19041-SP0', 'event': 'prepare_vocab'}\n",
      "2021-05-16 10:16:43,892 : INFO : Word2Vec lifecycle event {'msg': 'effective_min_count=5 leaves 2559252 word corpus (97.3215813599038%% of original 2629686, drops 70434)', 'datetime': '2021-05-16T10:16:43.892761', 'gensim': '4.0.1', 'python': '3.8.3 (default, Jul  2 2020, 17:30:36) [MSC v.1916 64 bit (AMD64)]', 'platform': 'Windows-10-10.0.19041-SP0', 'event': 'prepare_vocab'}\n",
      "2021-05-16 10:16:43,964 : INFO : deleting the raw counts dictionary of 62836 items\n",
      "2021-05-16 10:16:43,965 : INFO : sample=0.001 downsamples 60 most-common words\n",
      "2021-05-16 10:16:43,966 : INFO : Word2Vec lifecycle event {'msg': 'downsampling leaves estimated 1947077.6709110395 word corpus (76.1%% of prior 2559252)', 'datetime': '2021-05-16T10:16:43.966536', 'gensim': '4.0.1', 'python': '3.8.3 (default, Jul  2 2020, 17:30:36) [MSC v.1916 64 bit (AMD64)]', 'platform': 'Windows-10-10.0.19041-SP0', 'event': 'prepare_vocab'}\n",
      "2021-05-16 10:16:43,972 : INFO : constructing a huffman tree from 12555 words\n",
      "2021-05-16 10:16:44,341 : INFO : built huffman tree with maximum node depth 19\n",
      "2021-05-16 10:16:44,443 : INFO : estimated required memory for 12555 words and 100 dimensions: 23854500 bytes\n",
      "2021-05-16 10:16:44,444 : INFO : resetting layer weights\n",
      "2021-05-16 10:16:44,448 : INFO : Word2Vec lifecycle event {'update': False, 'trim_rule': 'None', 'datetime': '2021-05-16T10:16:44.448795', 'gensim': '4.0.1', 'python': '3.8.3 (default, Jul  2 2020, 17:30:36) [MSC v.1916 64 bit (AMD64)]', 'platform': 'Windows-10-10.0.19041-SP0', 'event': 'build_vocab'}\n",
      "2021-05-16 10:16:44,449 : INFO : Word2Vec lifecycle event {'msg': 'training model with 3 workers on 12555 vocabulary and 100 features, using sg=1 hs=1 sample=0.001 negative=5 window=10', 'datetime': '2021-05-16T10:16:44.449750', 'gensim': '4.0.1', 'python': '3.8.3 (default, Jul  2 2020, 17:30:36) [MSC v.1916 64 bit (AMD64)]', 'platform': 'Windows-10-10.0.19041-SP0', 'event': 'train'}\n",
      "2021-05-16 10:16:45,481 : INFO : EPOCH 1 - PROGRESS: at 8.69% examples, 172668 words/s, in_qsize 6, out_qsize 0\n",
      "2021-05-16 10:16:46,496 : INFO : EPOCH 1 - PROGRESS: at 17.11% examples, 169874 words/s, in_qsize 5, out_qsize 0\n",
      "2021-05-16 10:16:47,530 : INFO : EPOCH 1 - PROGRESS: at 25.84% examples, 170278 words/s, in_qsize 5, out_qsize 0\n",
      "2021-05-16 10:16:48,538 : INFO : EPOCH 1 - PROGRESS: at 34.22% examples, 169703 words/s, in_qsize 6, out_qsize 0\n",
      "2021-05-16 10:16:49,547 : INFO : EPOCH 1 - PROGRESS: at 42.25% examples, 167926 words/s, in_qsize 5, out_qsize 0\n",
      "2021-05-16 10:16:50,590 : INFO : EPOCH 1 - PROGRESS: at 50.71% examples, 167007 words/s, in_qsize 6, out_qsize 0\n",
      "2021-05-16 10:16:51,625 : INFO : EPOCH 1 - PROGRESS: at 60.97% examples, 169911 words/s, in_qsize 6, out_qsize 0\n",
      "2021-05-16 10:16:52,653 : INFO : EPOCH 1 - PROGRESS: at 70.88% examples, 171300 words/s, in_qsize 5, out_qsize 0\n",
      "2021-05-16 10:16:53,677 : INFO : EPOCH 1 - PROGRESS: at 80.04% examples, 170793 words/s, in_qsize 5, out_qsize 0\n",
      "2021-05-16 10:16:54,691 : INFO : EPOCH 1 - PROGRESS: at 90.38% examples, 172792 words/s, in_qsize 5, out_qsize 0\n",
      "2021-05-16 10:16:55,677 : INFO : worker thread finished; awaiting finish of 2 more threads\n",
      "2021-05-16 10:16:55,693 : INFO : EPOCH 1 - PROGRESS: at 99.61% examples, 172720 words/s, in_qsize 1, out_qsize 1\n",
      "2021-05-16 10:16:55,694 : INFO : worker thread finished; awaiting finish of 1 more threads\n",
      "2021-05-16 10:16:55,698 : INFO : worker thread finished; awaiting finish of 0 more threads\n",
      "2021-05-16 10:16:55,699 : INFO : EPOCH - 1 : training on 2629686 raw words (1948190 effective words) took 11.2s, 173283 effective words/s\n",
      "2021-05-16 10:16:56,707 : INFO : EPOCH 2 - PROGRESS: at 7.98% examples, 162112 words/s, in_qsize 5, out_qsize 0\n",
      "2021-05-16 10:16:57,714 : INFO : EPOCH 2 - PROGRESS: at 17.47% examples, 176271 words/s, in_qsize 5, out_qsize 0\n",
      "2021-05-16 10:16:58,738 : INFO : EPOCH 2 - PROGRESS: at 26.20% examples, 175113 words/s, in_qsize 5, out_qsize 0\n",
      "2021-05-16 10:16:59,744 : INFO : EPOCH 2 - PROGRESS: at 34.95% examples, 175270 words/s, in_qsize 6, out_qsize 0\n",
      "2021-05-16 10:17:00,756 : INFO : EPOCH 2 - PROGRESS: at 43.70% examples, 175203 words/s, in_qsize 5, out_qsize 0\n",
      "2021-05-16 10:17:01,770 : INFO : EPOCH 2 - PROGRESS: at 52.29% examples, 173906 words/s, in_qsize 5, out_qsize 0\n",
      "2021-05-16 10:17:02,794 : INFO : EPOCH 2 - PROGRESS: at 61.78% examples, 173915 words/s, in_qsize 5, out_qsize 0\n",
      "2021-05-16 10:17:03,813 : INFO : EPOCH 2 - PROGRESS: at 71.68% examples, 175020 words/s, in_qsize 5, out_qsize 0\n",
      "2021-05-16 10:17:04,844 : INFO : EPOCH 2 - PROGRESS: at 81.61% examples, 175609 words/s, in_qsize 5, out_qsize 0\n",
      "2021-05-16 10:17:05,923 : INFO : EPOCH 2 - PROGRESS: at 92.41% examples, 176741 words/s, in_qsize 5, out_qsize 0\n",
      "2021-05-16 10:17:06,580 : INFO : worker thread finished; awaiting finish of 2 more threads\n",
      "2021-05-16 10:17:06,623 : INFO : worker thread finished; awaiting finish of 1 more threads\n",
      "2021-05-16 10:17:06,635 : INFO : worker thread finished; awaiting finish of 0 more threads\n",
      "2021-05-16 10:17:06,636 : INFO : EPOCH - 2 : training on 2629686 raw words (1948316 effective words) took 10.9s, 178266 effective words/s\n",
      "2021-05-16 10:17:07,646 : INFO : EPOCH 3 - PROGRESS: at 7.98% examples, 161344 words/s, in_qsize 5, out_qsize 0\n",
      "2021-05-16 10:17:08,646 : INFO : EPOCH 3 - PROGRESS: at 17.11% examples, 172727 words/s, in_qsize 5, out_qsize 0\n",
      "2021-05-16 10:17:09,715 : INFO : EPOCH 3 - PROGRESS: at 26.58% examples, 174983 words/s, in_qsize 5, out_qsize 0\n",
      "2021-05-16 10:17:10,719 : INFO : EPOCH 3 - PROGRESS: at 35.70% examples, 177162 words/s, in_qsize 5, out_qsize 0\n",
      "2021-05-16 10:17:11,779 : INFO : EPOCH 3 - PROGRESS: at 45.54% examples, 179285 words/s, in_qsize 5, out_qsize 0\n",
      "2021-05-16 10:17:12,793 : INFO : EPOCH 3 - PROGRESS: at 55.44% examples, 181068 words/s, in_qsize 5, out_qsize 0\n",
      "2021-05-16 10:17:13,817 : INFO : EPOCH 3 - PROGRESS: at 65.74% examples, 182097 words/s, in_qsize 5, out_qsize 0\n",
      "2021-05-16 10:17:14,820 : INFO : EPOCH 3 - PROGRESS: at 75.68% examples, 182511 words/s, in_qsize 5, out_qsize 0\n",
      "2021-05-16 10:17:15,842 : INFO : EPOCH 3 - PROGRESS: at 86.00% examples, 183250 words/s, in_qsize 6, out_qsize 0\n",
      "2021-05-16 10:17:16,842 : INFO : EPOCH 3 - PROGRESS: at 95.56% examples, 182775 words/s, in_qsize 5, out_qsize 0\n",
      "2021-05-16 10:17:17,240 : INFO : worker thread finished; awaiting finish of 2 more threads\n"
     ]
    },
    {
     "name": "stderr",
     "output_type": "stream",
     "text": [
      "2021-05-16 10:17:17,256 : INFO : worker thread finished; awaiting finish of 1 more threads\n",
      "2021-05-16 10:17:17,299 : INFO : worker thread finished; awaiting finish of 0 more threads\n",
      "2021-05-16 10:17:17,299 : INFO : EPOCH - 3 : training on 2629686 raw words (1947715 effective words) took 10.7s, 182761 effective words/s\n",
      "2021-05-16 10:17:18,307 : INFO : EPOCH 4 - PROGRESS: at 8.33% examples, 169124 words/s, in_qsize 5, out_qsize 0\n",
      "2021-05-16 10:17:19,399 : INFO : EPOCH 4 - PROGRESS: at 17.84% examples, 172455 words/s, in_qsize 6, out_qsize 0\n",
      "2021-05-16 10:17:20,407 : INFO : EPOCH 4 - PROGRESS: at 27.31% examples, 178029 words/s, in_qsize 5, out_qsize 0\n",
      "2021-05-16 10:17:21,418 : INFO : EPOCH 4 - PROGRESS: at 36.06% examples, 177211 words/s, in_qsize 6, out_qsize 0\n",
      "2021-05-16 10:17:22,431 : INFO : EPOCH 4 - PROGRESS: at 44.43% examples, 175234 words/s, in_qsize 5, out_qsize 0\n",
      "2021-05-16 10:17:23,460 : INFO : EPOCH 4 - PROGRESS: at 53.45% examples, 174755 words/s, in_qsize 5, out_qsize 0\n",
      "2021-05-16 10:17:24,538 : INFO : EPOCH 4 - PROGRESS: at 62.99% examples, 173365 words/s, in_qsize 5, out_qsize 0\n",
      "2021-05-16 10:17:25,559 : INFO : EPOCH 4 - PROGRESS: at 73.26% examples, 175302 words/s, in_qsize 5, out_qsize 0\n",
      "2021-05-16 10:17:26,660 : INFO : EPOCH 4 - PROGRESS: at 83.21% examples, 174506 words/s, in_qsize 5, out_qsize 0\n",
      "2021-05-16 10:17:27,667 : INFO : EPOCH 4 - PROGRESS: at 92.41% examples, 174067 words/s, in_qsize 5, out_qsize 0\n",
      "2021-05-16 10:17:28,439 : INFO : worker thread finished; awaiting finish of 2 more threads\n",
      "2021-05-16 10:17:28,449 : INFO : worker thread finished; awaiting finish of 1 more threads\n",
      "2021-05-16 10:17:28,519 : INFO : worker thread finished; awaiting finish of 0 more threads\n",
      "2021-05-16 10:17:28,520 : INFO : EPOCH - 4 : training on 2629686 raw words (1946141 effective words) took 11.2s, 173548 effective words/s\n",
      "2021-05-16 10:17:29,543 : INFO : EPOCH 5 - PROGRESS: at 7.98% examples, 159152 words/s, in_qsize 5, out_qsize 0\n",
      "2021-05-16 10:17:30,597 : INFO : EPOCH 5 - PROGRESS: at 17.11% examples, 167156 words/s, in_qsize 6, out_qsize 0\n",
      "2021-05-16 10:17:31,635 : INFO : EPOCH 5 - PROGRESS: at 25.84% examples, 168144 words/s, in_qsize 5, out_qsize 0\n",
      "2021-05-16 10:17:32,707 : INFO : EPOCH 5 - PROGRESS: at 34.58% examples, 167223 words/s, in_qsize 5, out_qsize 0\n",
      "2021-05-16 10:17:33,726 : INFO : EPOCH 5 - PROGRESS: at 44.06% examples, 171330 words/s, in_qsize 6, out_qsize 0\n",
      "2021-05-16 10:17:34,738 : INFO : EPOCH 5 - PROGRESS: at 52.29% examples, 169556 words/s, in_qsize 5, out_qsize 0\n",
      "2021-05-16 10:17:35,756 : INFO : EPOCH 5 - PROGRESS: at 61.78% examples, 170328 words/s, in_qsize 5, out_qsize 0\n",
      "2021-05-16 10:17:36,772 : INFO : EPOCH 5 - PROGRESS: at 71.68% examples, 171867 words/s, in_qsize 5, out_qsize 0\n",
      "2021-05-16 10:17:37,810 : INFO : EPOCH 5 - PROGRESS: at 82.01% examples, 173480 words/s, in_qsize 5, out_qsize 0\n",
      "2021-05-16 10:17:38,813 : INFO : EPOCH 5 - PROGRESS: at 92.41% examples, 175368 words/s, in_qsize 5, out_qsize 0\n",
      "2021-05-16 10:17:39,524 : INFO : worker thread finished; awaiting finish of 2 more threads\n",
      "2021-05-16 10:17:39,539 : INFO : worker thread finished; awaiting finish of 1 more threads\n",
      "2021-05-16 10:17:39,550 : INFO : worker thread finished; awaiting finish of 0 more threads\n",
      "2021-05-16 10:17:39,550 : INFO : EPOCH - 5 : training on 2629686 raw words (1946907 effective words) took 11.0s, 176573 effective words/s\n",
      "2021-05-16 10:17:39,551 : INFO : Word2Vec lifecycle event {'msg': 'training on 13148430 raw words (9737269 effective words) took 55.1s, 176714 effective words/s', 'datetime': '2021-05-16T10:17:39.551964', 'gensim': '4.0.1', 'python': '3.8.3 (default, Jul  2 2020, 17:30:36) [MSC v.1916 64 bit (AMD64)]', 'platform': 'Windows-10-10.0.19041-SP0', 'event': 'train'}\n",
      "2021-05-16 10:17:39,552 : INFO : Word2Vec lifecycle event {'params': 'Word2Vec(vocab=12555, vector_size=100, alpha=0.025)', 'datetime': '2021-05-16T10:17:39.552910', 'gensim': '4.0.1', 'python': '3.8.3 (default, Jul  2 2020, 17:30:36) [MSC v.1916 64 bit (AMD64)]', 'platform': 'Windows-10-10.0.19041-SP0', 'event': 'created'}\n"
     ]
    }
   ],
   "source": [
    "w2v_porter = train_word2vec(porter_stemmed_train, num_features, min_word_count, context, hs, sg)"
   ]
  },
  {
   "cell_type": "code",
   "execution_count": 48,
   "metadata": {},
   "outputs": [
    {
     "name": "stderr",
     "output_type": "stream",
     "text": [
      "2021-05-16 10:17:39,570 : INFO : collecting all words and their counts\n",
      "2021-05-16 10:17:39,570 : INFO : PROGRESS: at sentence #0, processed 0 words, keeping 0 word types\n",
      "2021-05-16 10:17:39,602 : INFO : PROGRESS: at sentence #10000, processed 138523 words, keeping 10423 word types\n",
      "2021-05-16 10:17:39,636 : INFO : PROGRESS: at sentence #20000, processed 276045 words, keeping 15639 word types\n",
      "2021-05-16 10:17:39,663 : INFO : PROGRESS: at sentence #30000, processed 413237 words, keeping 19776 word types\n",
      "2021-05-16 10:17:39,697 : INFO : PROGRESS: at sentence #40000, processed 549477 words, keeping 23311 word types\n",
      "2021-05-16 10:17:39,719 : INFO : PROGRESS: at sentence #50000, processed 687841 words, keeping 26377 word types\n",
      "2021-05-16 10:17:39,745 : INFO : PROGRESS: at sentence #60000, processed 825230 words, keeping 29260 word types\n"
     ]
    },
    {
     "name": "stdout",
     "output_type": "stream",
     "text": [
      "Training model...\n"
     ]
    },
    {
     "name": "stderr",
     "output_type": "stream",
     "text": [
      "2021-05-16 10:17:39,769 : INFO : PROGRESS: at sentence #70000, processed 962818 words, keeping 31918 word types\n",
      "2021-05-16 10:17:39,793 : INFO : PROGRESS: at sentence #80000, processed 1100112 words, keeping 34457 word types\n",
      "2021-05-16 10:17:39,822 : INFO : PROGRESS: at sentence #90000, processed 1237509 words, keeping 36887 word types\n",
      "2021-05-16 10:17:39,853 : INFO : PROGRESS: at sentence #100000, processed 1373846 words, keeping 39244 word types\n",
      "2021-05-16 10:17:39,877 : INFO : PROGRESS: at sentence #110000, processed 1500874 words, keeping 42006 word types\n",
      "2021-05-16 10:17:39,900 : INFO : PROGRESS: at sentence #120000, processed 1627667 words, keeping 44471 word types\n",
      "2021-05-16 10:17:39,923 : INFO : PROGRESS: at sentence #130000, processed 1754258 words, keeping 47012 word types\n",
      "2021-05-16 10:17:39,947 : INFO : PROGRESS: at sentence #140000, processed 1880656 words, keeping 49383 word types\n",
      "2021-05-16 10:17:39,970 : INFO : PROGRESS: at sentence #150000, processed 2006472 words, keeping 51710 word types\n",
      "2021-05-16 10:17:39,995 : INFO : PROGRESS: at sentence #160000, processed 2132057 words, keeping 53914 word types\n",
      "2021-05-16 10:17:40,017 : INFO : PROGRESS: at sentence #170000, processed 2258149 words, keeping 56046 word types\n",
      "2021-05-16 10:17:40,041 : INFO : PROGRESS: at sentence #180000, processed 2384222 words, keeping 58246 word types\n",
      "2021-05-16 10:17:40,064 : INFO : PROGRESS: at sentence #190000, processed 2509424 words, keeping 60268 word types\n",
      "2021-05-16 10:17:40,086 : INFO : collected 62208 word types from a corpus of 2629686 raw words and 199504 sentences\n",
      "2021-05-16 10:17:40,086 : INFO : Creating a fresh vocabulary\n",
      "2021-05-16 10:17:40,150 : INFO : Word2Vec lifecycle event {'msg': 'effective_min_count=5 retains 12528 unique words (20.13888888888889%% of original 62208, drops 49680)', 'datetime': '2021-05-16T10:17:40.150385', 'gensim': '4.0.1', 'python': '3.8.3 (default, Jul  2 2020, 17:30:36) [MSC v.1916 64 bit (AMD64)]', 'platform': 'Windows-10-10.0.19041-SP0', 'event': 'prepare_vocab'}\n",
      "2021-05-16 10:17:40,151 : INFO : Word2Vec lifecycle event {'msg': 'effective_min_count=5 leaves 2559948 word corpus (97.34804839817377%% of original 2629686, drops 69738)', 'datetime': '2021-05-16T10:17:40.151382', 'gensim': '4.0.1', 'python': '3.8.3 (default, Jul  2 2020, 17:30:36) [MSC v.1916 64 bit (AMD64)]', 'platform': 'Windows-10-10.0.19041-SP0', 'event': 'prepare_vocab'}\n",
      "2021-05-16 10:17:40,218 : INFO : deleting the raw counts dictionary of 62208 items\n",
      "2021-05-16 10:17:40,220 : INFO : sample=0.001 downsamples 60 most-common words\n",
      "2021-05-16 10:17:40,220 : INFO : Word2Vec lifecycle event {'msg': 'downsampling leaves estimated 1947820.0669285702 word corpus (76.1%% of prior 2559948)', 'datetime': '2021-05-16T10:17:40.220752', 'gensim': '4.0.1', 'python': '3.8.3 (default, Jul  2 2020, 17:30:36) [MSC v.1916 64 bit (AMD64)]', 'platform': 'Windows-10-10.0.19041-SP0', 'event': 'prepare_vocab'}\n",
      "2021-05-16 10:17:40,227 : INFO : constructing a huffman tree from 12528 words\n",
      "2021-05-16 10:17:41,155 : INFO : built huffman tree with maximum node depth 19\n",
      "2021-05-16 10:17:41,255 : INFO : estimated required memory for 12528 words and 100 dimensions: 23803200 bytes\n",
      "2021-05-16 10:17:41,256 : INFO : resetting layer weights\n",
      "2021-05-16 10:17:41,261 : INFO : Word2Vec lifecycle event {'update': False, 'trim_rule': 'None', 'datetime': '2021-05-16T10:17:41.261102', 'gensim': '4.0.1', 'python': '3.8.3 (default, Jul  2 2020, 17:30:36) [MSC v.1916 64 bit (AMD64)]', 'platform': 'Windows-10-10.0.19041-SP0', 'event': 'build_vocab'}\n",
      "2021-05-16 10:17:41,262 : INFO : Word2Vec lifecycle event {'msg': 'training model with 3 workers on 12528 vocabulary and 100 features, using sg=1 hs=1 sample=0.001 negative=5 window=10', 'datetime': '2021-05-16T10:17:41.262066', 'gensim': '4.0.1', 'python': '3.8.3 (default, Jul  2 2020, 17:30:36) [MSC v.1916 64 bit (AMD64)]', 'platform': 'Windows-10-10.0.19041-SP0', 'event': 'train'}\n",
      "2021-05-16 10:17:42,328 : INFO : EPOCH 1 - PROGRESS: at 9.05% examples, 173825 words/s, in_qsize 5, out_qsize 0\n",
      "2021-05-16 10:17:43,376 : INFO : EPOCH 1 - PROGRESS: at 18.95% examples, 181615 words/s, in_qsize 5, out_qsize 0\n",
      "2021-05-16 10:17:44,417 : INFO : EPOCH 1 - PROGRESS: at 28.77% examples, 184698 words/s, in_qsize 5, out_qsize 0\n",
      "2021-05-16 10:17:45,471 : INFO : EPOCH 1 - PROGRESS: at 37.53% examples, 180480 words/s, in_qsize 5, out_qsize 0\n",
      "2021-05-16 10:17:46,476 : INFO : EPOCH 1 - PROGRESS: at 46.65% examples, 181056 words/s, in_qsize 5, out_qsize 0\n",
      "2021-05-16 10:17:47,553 : INFO : EPOCH 1 - PROGRESS: at 56.61% examples, 180671 words/s, in_qsize 6, out_qsize 0\n",
      "2021-05-16 10:17:48,650 : INFO : EPOCH 1 - PROGRESS: at 67.32% examples, 181036 words/s, in_qsize 5, out_qsize 0\n",
      "2021-05-16 10:17:49,680 : INFO : EPOCH 1 - PROGRESS: at 78.05% examples, 182747 words/s, in_qsize 5, out_qsize 0\n",
      "2021-05-16 10:17:50,743 : INFO : EPOCH 1 - PROGRESS: at 88.79% examples, 183457 words/s, in_qsize 5, out_qsize 0\n",
      "2021-05-16 10:17:51,730 : INFO : worker thread finished; awaiting finish of 2 more threads\n",
      "2021-05-16 10:17:51,755 : INFO : EPOCH 1 - PROGRESS: at 99.61% examples, 185050 words/s, in_qsize 1, out_qsize 1\n",
      "2021-05-16 10:17:51,755 : INFO : worker thread finished; awaiting finish of 1 more threads\n",
      "2021-05-16 10:17:51,798 : INFO : worker thread finished; awaiting finish of 0 more threads\n",
      "2021-05-16 10:17:51,799 : INFO : EPOCH - 1 : training on 2629686 raw words (1947984 effective words) took 10.5s, 184977 effective words/s\n",
      "2021-05-16 10:17:52,878 : INFO : EPOCH 2 - PROGRESS: at 9.05% examples, 171498 words/s, in_qsize 5, out_qsize 0\n",
      "2021-05-16 10:17:53,931 : INFO : EPOCH 2 - PROGRESS: at 18.95% examples, 180257 words/s, in_qsize 5, out_qsize 0\n",
      "2021-05-16 10:17:54,938 : INFO : EPOCH 2 - PROGRESS: at 28.04% examples, 181064 words/s, in_qsize 5, out_qsize 0\n",
      "2021-05-16 10:17:55,972 : INFO : EPOCH 2 - PROGRESS: at 37.16% examples, 180412 words/s, in_qsize 5, out_qsize 0\n",
      "2021-05-16 10:17:56,981 : INFO : EPOCH 2 - PROGRESS: at 46.27% examples, 180827 words/s, in_qsize 5, out_qsize 0\n",
      "2021-05-16 10:17:57,995 : INFO : EPOCH 2 - PROGRESS: at 56.23% examples, 182357 words/s, in_qsize 5, out_qsize 0\n",
      "2021-05-16 10:17:59,097 : INFO : EPOCH 2 - PROGRESS: at 66.13% examples, 180244 words/s, in_qsize 5, out_qsize 0\n",
      "2021-05-16 10:18:00,110 : INFO : EPOCH 2 - PROGRESS: at 76.50% examples, 181534 words/s, in_qsize 5, out_qsize 0\n",
      "2021-05-16 10:18:01,135 : INFO : EPOCH 2 - PROGRESS: at 86.40% examples, 181533 words/s, in_qsize 5, out_qsize 0\n",
      "2021-05-16 10:18:02,159 : INFO : EPOCH 2 - PROGRESS: at 97.14% examples, 182967 words/s, in_qsize 5, out_qsize 0\n",
      "2021-05-16 10:18:02,368 : INFO : worker thread finished; awaiting finish of 2 more threads\n",
      "2021-05-16 10:18:02,399 : INFO : worker thread finished; awaiting finish of 1 more threads\n",
      "2021-05-16 10:18:02,414 : INFO : worker thread finished; awaiting finish of 0 more threads\n",
      "2021-05-16 10:18:02,414 : INFO : EPOCH - 2 : training on 2629686 raw words (1947984 effective words) took 10.6s, 183614 effective words/s\n",
      "2021-05-16 10:18:03,504 : INFO : EPOCH 3 - PROGRESS: at 9.05% examples, 169818 words/s, in_qsize 5, out_qsize 0\n",
      "2021-05-16 10:18:04,552 : INFO : EPOCH 3 - PROGRESS: at 17.84% examples, 169290 words/s, in_qsize 5, out_qsize 0\n",
      "2021-05-16 10:18:05,585 : INFO : EPOCH 3 - PROGRESS: at 26.95% examples, 172205 words/s, in_qsize 5, out_qsize 0\n",
      "2021-05-16 10:18:06,590 : INFO : EPOCH 3 - PROGRESS: at 36.06% examples, 174970 words/s, in_qsize 5, out_qsize 0\n",
      "2021-05-16 10:18:07,596 : INFO : EPOCH 3 - PROGRESS: at 45.17% examples, 176540 words/s, in_qsize 5, out_qsize 0\n",
      "2021-05-16 10:18:08,601 : INFO : EPOCH 3 - PROGRESS: at 54.64% examples, 177817 words/s, in_qsize 5, out_qsize 0\n",
      "2021-05-16 10:18:09,633 : INFO : EPOCH 3 - PROGRESS: at 64.16% examples, 177093 words/s, in_qsize 5, out_qsize 0\n",
      "2021-05-16 10:18:10,702 : INFO : EPOCH 3 - PROGRESS: at 74.86% examples, 178512 words/s, in_qsize 5, out_qsize 0\n",
      "2021-05-16 10:18:11,735 : INFO : EPOCH 3 - PROGRESS: at 85.60% examples, 180264 words/s, in_qsize 5, out_qsize 0\n",
      "2021-05-16 10:18:12,816 : INFO : EPOCH 3 - PROGRESS: at 96.36% examples, 180822 words/s, in_qsize 5, out_qsize 0\n",
      "2021-05-16 10:18:13,080 : INFO : worker thread finished; awaiting finish of 2 more threads\n"
     ]
    },
    {
     "name": "stderr",
     "output_type": "stream",
     "text": [
      "2021-05-16 10:18:13,090 : INFO : worker thread finished; awaiting finish of 1 more threads\n",
      "2021-05-16 10:18:13,155 : INFO : worker thread finished; awaiting finish of 0 more threads\n",
      "2021-05-16 10:18:13,156 : INFO : EPOCH - 3 : training on 2629686 raw words (1948278 effective words) took 10.7s, 181467 effective words/s\n",
      "2021-05-16 10:18:14,240 : INFO : EPOCH 4 - PROGRESS: at 9.05% examples, 170713 words/s, in_qsize 5, out_qsize 0\n",
      "2021-05-16 10:18:15,309 : INFO : EPOCH 4 - PROGRESS: at 18.95% examples, 178445 words/s, in_qsize 5, out_qsize 0\n",
      "2021-05-16 10:18:16,367 : INFO : EPOCH 4 - PROGRESS: at 28.77% examples, 181594 words/s, in_qsize 5, out_qsize 0\n",
      "2021-05-16 10:18:17,369 : INFO : EPOCH 4 - PROGRESS: at 37.88% examples, 182270 words/s, in_qsize 5, out_qsize 0\n",
      "2021-05-16 10:18:18,394 : INFO : EPOCH 4 - PROGRESS: at 47.75% examples, 184574 words/s, in_qsize 6, out_qsize 0\n",
      "2021-05-16 10:18:19,434 : INFO : EPOCH 4 - PROGRESS: at 57.80% examples, 184745 words/s, in_qsize 6, out_qsize 0\n",
      "2021-05-16 10:18:20,447 : INFO : EPOCH 4 - PROGRESS: at 68.10% examples, 185595 words/s, in_qsize 5, out_qsize 0\n",
      "2021-05-16 10:18:21,493 : INFO : EPOCH 4 - PROGRESS: at 78.05% examples, 184619 words/s, in_qsize 5, out_qsize 0\n",
      "2021-05-16 10:18:22,531 : INFO : EPOCH 4 - PROGRESS: at 88.79% examples, 185591 words/s, in_qsize 5, out_qsize 0\n",
      "2021-05-16 10:18:23,520 : INFO : worker thread finished; awaiting finish of 2 more threads\n",
      "2021-05-16 10:18:23,572 : INFO : EPOCH 4 - PROGRESS: at 99.61% examples, 186467 words/s, in_qsize 1, out_qsize 1\n",
      "2021-05-16 10:18:23,573 : INFO : worker thread finished; awaiting finish of 1 more threads\n",
      "2021-05-16 10:18:23,589 : INFO : worker thread finished; awaiting finish of 0 more threads\n",
      "2021-05-16 10:18:23,590 : INFO : EPOCH - 4 : training on 2629686 raw words (1948394 effective words) took 10.4s, 186847 effective words/s\n",
      "2021-05-16 10:18:24,611 : INFO : EPOCH 5 - PROGRESS: at 7.98% examples, 159224 words/s, in_qsize 5, out_qsize 0\n",
      "2021-05-16 10:18:25,663 : INFO : EPOCH 5 - PROGRESS: at 17.47% examples, 170812 words/s, in_qsize 5, out_qsize 0\n",
      "2021-05-16 10:18:26,667 : INFO : EPOCH 5 - PROGRESS: at 26.20% examples, 172525 words/s, in_qsize 5, out_qsize 0\n",
      "2021-05-16 10:18:27,701 : INFO : EPOCH 5 - PROGRESS: at 35.33% examples, 173995 words/s, in_qsize 5, out_qsize 0\n",
      "2021-05-16 10:18:28,732 : INFO : EPOCH 5 - PROGRESS: at 44.43% examples, 174922 words/s, in_qsize 5, out_qsize 0\n",
      "2021-05-16 10:18:29,794 : INFO : EPOCH 5 - PROGRESS: at 53.86% examples, 174832 words/s, in_qsize 5, out_qsize 0\n",
      "2021-05-16 10:18:30,812 : INFO : EPOCH 5 - PROGRESS: at 64.16% examples, 176903 words/s, in_qsize 5, out_qsize 0\n",
      "2021-05-16 10:18:31,851 : INFO : EPOCH 5 - PROGRESS: at 74.05% examples, 177203 words/s, in_qsize 5, out_qsize 0\n",
      "2021-05-16 10:18:32,872 : INFO : EPOCH 5 - PROGRESS: at 84.42% examples, 178523 words/s, in_qsize 5, out_qsize 0\n",
      "2021-05-16 10:18:33,907 : INFO : EPOCH 5 - PROGRESS: at 94.80% examples, 179365 words/s, in_qsize 6, out_qsize 0\n",
      "2021-05-16 10:18:34,353 : INFO : worker thread finished; awaiting finish of 2 more threads\n",
      "2021-05-16 10:18:34,363 : INFO : worker thread finished; awaiting finish of 1 more threads\n",
      "2021-05-16 10:18:34,408 : INFO : worker thread finished; awaiting finish of 0 more threads\n",
      "2021-05-16 10:18:34,408 : INFO : EPOCH - 5 : training on 2629686 raw words (1947398 effective words) took 10.8s, 180096 effective words/s\n",
      "2021-05-16 10:18:34,409 : INFO : Word2Vec lifecycle event {'msg': 'training on 13148430 raw words (9740038 effective words) took 53.1s, 183266 effective words/s', 'datetime': '2021-05-16T10:18:34.409781', 'gensim': '4.0.1', 'python': '3.8.3 (default, Jul  2 2020, 17:30:36) [MSC v.1916 64 bit (AMD64)]', 'platform': 'Windows-10-10.0.19041-SP0', 'event': 'train'}\n",
      "2021-05-16 10:18:34,409 : INFO : Word2Vec lifecycle event {'params': 'Word2Vec(vocab=12528, vector_size=100, alpha=0.025)', 'datetime': '2021-05-16T10:18:34.409781', 'gensim': '4.0.1', 'python': '3.8.3 (default, Jul  2 2020, 17:30:36) [MSC v.1916 64 bit (AMD64)]', 'platform': 'Windows-10-10.0.19041-SP0', 'event': 'created'}\n"
     ]
    }
   ],
   "source": [
    "w2v_snowball = train_word2vec(snowball_stemmed_train, num_features, min_word_count, context, hs, sg)"
   ]
  },
  {
   "cell_type": "code",
   "execution_count": 49,
   "metadata": {},
   "outputs": [
    {
     "name": "stderr",
     "output_type": "stream",
     "text": [
      "2021-05-16 10:18:34,423 : INFO : collecting all words and their counts\n",
      "2021-05-16 10:18:34,424 : INFO : PROGRESS: at sentence #0, processed 0 words, keeping 0 word types\n",
      "2021-05-16 10:18:34,448 : INFO : PROGRESS: at sentence #10000, processed 138523 words, keeping 9247 word types\n",
      "2021-05-16 10:18:34,472 : INFO : PROGRESS: at sentence #20000, processed 276045 words, keeping 13824 word types\n",
      "2021-05-16 10:18:34,502 : INFO : PROGRESS: at sentence #30000, processed 413237 words, keeping 17430 word types\n",
      "2021-05-16 10:18:34,526 : INFO : PROGRESS: at sentence #40000, processed 549477 words, keeping 20502 word types\n",
      "2021-05-16 10:18:34,551 : INFO : PROGRESS: at sentence #50000, processed 687841 words, keeping 23158 word types\n",
      "2021-05-16 10:18:34,575 : INFO : PROGRESS: at sentence #60000, processed 825230 words, keeping 25679 word types\n",
      "2021-05-16 10:18:34,599 : INFO : PROGRESS: at sentence #70000, processed 962818 words, keeping 28029 word types\n"
     ]
    },
    {
     "name": "stdout",
     "output_type": "stream",
     "text": [
      "Training model...\n"
     ]
    },
    {
     "name": "stderr",
     "output_type": "stream",
     "text": [
      "2021-05-16 10:18:34,625 : INFO : PROGRESS: at sentence #80000, processed 1100112 words, keeping 30279 word types\n",
      "2021-05-16 10:18:34,650 : INFO : PROGRESS: at sentence #90000, processed 1237509 words, keeping 32404 word types\n",
      "2021-05-16 10:18:34,675 : INFO : PROGRESS: at sentence #100000, processed 1373846 words, keeping 34439 word types\n",
      "2021-05-16 10:18:34,698 : INFO : PROGRESS: at sentence #110000, processed 1500874 words, keeping 36868 word types\n",
      "2021-05-16 10:18:34,722 : INFO : PROGRESS: at sentence #120000, processed 1627667 words, keeping 39029 word types\n",
      "2021-05-16 10:18:34,745 : INFO : PROGRESS: at sentence #130000, processed 1754258 words, keeping 41298 word types\n",
      "2021-05-16 10:18:34,768 : INFO : PROGRESS: at sentence #140000, processed 1880656 words, keeping 43373 word types\n",
      "2021-05-16 10:18:34,792 : INFO : PROGRESS: at sentence #150000, processed 2006472 words, keeping 45441 word types\n",
      "2021-05-16 10:18:34,815 : INFO : PROGRESS: at sentence #160000, processed 2132057 words, keeping 47411 word types\n",
      "2021-05-16 10:18:34,838 : INFO : PROGRESS: at sentence #170000, processed 2258149 words, keeping 49270 word types\n",
      "2021-05-16 10:18:34,861 : INFO : PROGRESS: at sentence #180000, processed 2384222 words, keeping 51177 word types\n",
      "2021-05-16 10:18:34,884 : INFO : PROGRESS: at sentence #190000, processed 2509424 words, keeping 52955 word types\n",
      "2021-05-16 10:18:34,906 : INFO : collected 54685 word types from a corpus of 2629686 raw words and 199504 sentences\n",
      "2021-05-16 10:18:34,906 : INFO : Creating a fresh vocabulary\n",
      "2021-05-16 10:18:34,958 : INFO : Word2Vec lifecycle event {'msg': 'effective_min_count=5 retains 10951 unique words (20.025601170339215%% of original 54685, drops 43734)', 'datetime': '2021-05-16T10:18:34.958980', 'gensim': '4.0.1', 'python': '3.8.3 (default, Jul  2 2020, 17:30:36) [MSC v.1916 64 bit (AMD64)]', 'platform': 'Windows-10-10.0.19041-SP0', 'event': 'prepare_vocab'}\n",
      "2021-05-16 10:18:34,959 : INFO : Word2Vec lifecycle event {'msg': 'effective_min_count=5 leaves 2568568 word corpus (97.67584418824148%% of original 2629686, drops 61118)', 'datetime': '2021-05-16T10:18:34.959924', 'gensim': '4.0.1', 'python': '3.8.3 (default, Jul  2 2020, 17:30:36) [MSC v.1916 64 bit (AMD64)]', 'platform': 'Windows-10-10.0.19041-SP0', 'event': 'prepare_vocab'}\n",
      "2021-05-16 10:18:35,016 : INFO : deleting the raw counts dictionary of 54685 items\n",
      "2021-05-16 10:18:35,018 : INFO : sample=0.001 downsamples 63 most-common words\n",
      "2021-05-16 10:18:35,019 : INFO : Word2Vec lifecycle event {'msg': 'downsampling leaves estimated 1951602.179784148 word corpus (76.0%% of prior 2568568)', 'datetime': '2021-05-16T10:18:35.019765', 'gensim': '4.0.1', 'python': '3.8.3 (default, Jul  2 2020, 17:30:36) [MSC v.1916 64 bit (AMD64)]', 'platform': 'Windows-10-10.0.19041-SP0', 'event': 'prepare_vocab'}\n",
      "2021-05-16 10:18:35,024 : INFO : constructing a huffman tree from 10951 words\n",
      "2021-05-16 10:18:35,332 : INFO : built huffman tree with maximum node depth 19\n",
      "2021-05-16 10:18:35,419 : INFO : estimated required memory for 10951 words and 100 dimensions: 20806900 bytes\n",
      "2021-05-16 10:18:35,420 : INFO : resetting layer weights\n",
      "2021-05-16 10:18:35,424 : INFO : Word2Vec lifecycle event {'update': False, 'trim_rule': 'None', 'datetime': '2021-05-16T10:18:35.424753', 'gensim': '4.0.1', 'python': '3.8.3 (default, Jul  2 2020, 17:30:36) [MSC v.1916 64 bit (AMD64)]', 'platform': 'Windows-10-10.0.19041-SP0', 'event': 'build_vocab'}\n",
      "2021-05-16 10:18:35,424 : INFO : Word2Vec lifecycle event {'msg': 'training model with 3 workers on 10951 vocabulary and 100 features, using sg=1 hs=1 sample=0.001 negative=5 window=10', 'datetime': '2021-05-16T10:18:35.424753', 'gensim': '4.0.1', 'python': '3.8.3 (default, Jul  2 2020, 17:30:36) [MSC v.1916 64 bit (AMD64)]', 'platform': 'Windows-10-10.0.19041-SP0', 'event': 'train'}\n",
      "2021-05-16 10:18:36,439 : INFO : EPOCH 1 - PROGRESS: at 8.34% examples, 167950 words/s, in_qsize 5, out_qsize 0\n",
      "2021-05-16 10:18:37,443 : INFO : EPOCH 1 - PROGRESS: at 17.47% examples, 175992 words/s, in_qsize 6, out_qsize 0\n",
      "2021-05-16 10:18:38,488 : INFO : EPOCH 1 - PROGRESS: at 26.58% examples, 176119 words/s, in_qsize 5, out_qsize 0\n",
      "2021-05-16 10:18:39,499 : INFO : EPOCH 1 - PROGRESS: at 35.70% examples, 177750 words/s, in_qsize 5, out_qsize 0\n",
      "2021-05-16 10:18:40,503 : INFO : EPOCH 1 - PROGRESS: at 44.80% examples, 178956 words/s, in_qsize 5, out_qsize 0\n",
      "2021-05-16 10:18:41,503 : INFO : EPOCH 1 - PROGRESS: at 54.25% examples, 179955 words/s, in_qsize 5, out_qsize 0\n",
      "2021-05-16 10:18:42,555 : INFO : EPOCH 1 - PROGRESS: at 64.94% examples, 181670 words/s, in_qsize 5, out_qsize 0\n",
      "2021-05-16 10:18:43,601 : INFO : EPOCH 1 - PROGRESS: at 75.68% examples, 183067 words/s, in_qsize 5, out_qsize 0\n",
      "2021-05-16 10:18:44,654 : INFO : EPOCH 1 - PROGRESS: at 86.40% examples, 183983 words/s, in_qsize 5, out_qsize 0\n",
      "2021-05-16 10:18:45,680 : INFO : EPOCH 1 - PROGRESS: at 96.75% examples, 184479 words/s, in_qsize 5, out_qsize 0\n",
      "2021-05-16 10:18:45,938 : INFO : worker thread finished; awaiting finish of 2 more threads\n",
      "2021-05-16 10:18:45,965 : INFO : worker thread finished; awaiting finish of 1 more threads\n",
      "2021-05-16 10:18:45,986 : INFO : worker thread finished; awaiting finish of 0 more threads\n",
      "2021-05-16 10:18:45,987 : INFO : EPOCH - 1 : training on 2629686 raw words (1951916 effective words) took 10.6s, 184912 effective words/s\n",
      "2021-05-16 10:18:47,035 : INFO : EPOCH 2 - PROGRESS: at 9.05% examples, 176905 words/s, in_qsize 6, out_qsize 0\n",
      "2021-05-16 10:18:48,046 : INFO : EPOCH 2 - PROGRESS: at 18.21% examples, 179554 words/s, in_qsize 5, out_qsize 0\n",
      "2021-05-16 10:18:49,081 : INFO : EPOCH 2 - PROGRESS: at 27.67% examples, 181551 words/s, in_qsize 5, out_qsize 0\n",
      "2021-05-16 10:18:50,115 : INFO : EPOCH 2 - PROGRESS: at 36.43% examples, 178995 words/s, in_qsize 5, out_qsize 0\n",
      "2021-05-16 10:18:51,176 : INFO : EPOCH 2 - PROGRESS: at 44.43% examples, 173640 words/s, in_qsize 6, out_qsize 0\n",
      "2021-05-16 10:18:52,212 : INFO : EPOCH 2 - PROGRESS: at 52.68% examples, 170926 words/s, in_qsize 5, out_qsize 0\n",
      "2021-05-16 10:18:53,249 : INFO : EPOCH 2 - PROGRESS: at 61.78% examples, 170129 words/s, in_qsize 6, out_qsize 0\n",
      "2021-05-16 10:18:54,258 : INFO : EPOCH 2 - PROGRESS: at 71.68% examples, 171906 words/s, in_qsize 6, out_qsize 0\n",
      "2021-05-16 10:18:55,324 : INFO : EPOCH 2 - PROGRESS: at 82.01% examples, 173074 words/s, in_qsize 5, out_qsize 0\n",
      "2021-05-16 10:18:56,325 : INFO : EPOCH 2 - PROGRESS: at 92.41% examples, 175093 words/s, in_qsize 5, out_qsize 0\n",
      "2021-05-16 10:18:57,034 : INFO : worker thread finished; awaiting finish of 2 more threads\n",
      "2021-05-16 10:18:57,036 : INFO : worker thread finished; awaiting finish of 1 more threads\n",
      "2021-05-16 10:18:57,106 : INFO : worker thread finished; awaiting finish of 0 more threads\n",
      "2021-05-16 10:18:57,107 : INFO : EPOCH - 2 : training on 2629686 raw words (1952294 effective words) took 11.1s, 175636 effective words/s\n",
      "2021-05-16 10:18:58,126 : INFO : EPOCH 3 - PROGRESS: at 7.98% examples, 160441 words/s, in_qsize 6, out_qsize 0\n",
      "2021-05-16 10:18:59,142 : INFO : EPOCH 3 - PROGRESS: at 17.47% examples, 174625 words/s, in_qsize 5, out_qsize 0\n",
      "2021-05-16 10:19:00,186 : INFO : EPOCH 3 - PROGRESS: at 26.58% examples, 175331 words/s, in_qsize 5, out_qsize 0\n",
      "2021-05-16 10:19:01,208 : INFO : EPOCH 3 - PROGRESS: at 35.33% examples, 174751 words/s, in_qsize 5, out_qsize 0\n",
      "2021-05-16 10:19:02,223 : INFO : EPOCH 3 - PROGRESS: at 44.43% examples, 176163 words/s, in_qsize 5, out_qsize 0\n",
      "2021-05-16 10:19:03,260 : INFO : EPOCH 3 - PROGRESS: at 53.86% examples, 176589 words/s, in_qsize 5, out_qsize 0\n",
      "2021-05-16 10:19:04,282 : INFO : EPOCH 3 - PROGRESS: at 63.38% examples, 176327 words/s, in_qsize 5, out_qsize 0\n",
      "2021-05-16 10:19:05,294 : INFO : EPOCH 3 - PROGRESS: at 73.66% examples, 178228 words/s, in_qsize 5, out_qsize 0\n",
      "2021-05-16 10:19:06,344 : INFO : EPOCH 3 - PROGRESS: at 83.21% examples, 177309 words/s, in_qsize 5, out_qsize 0\n",
      "2021-05-16 10:19:07,349 : INFO : EPOCH 3 - PROGRESS: at 92.82% examples, 177415 words/s, in_qsize 5, out_qsize 0\n",
      "2021-05-16 10:19:08,033 : INFO : worker thread finished; awaiting finish of 2 more threads\n",
      "2021-05-16 10:19:08,037 : INFO : worker thread finished; awaiting finish of 1 more threads\n"
     ]
    },
    {
     "name": "stderr",
     "output_type": "stream",
     "text": [
      "2021-05-16 10:19:08,079 : INFO : worker thread finished; awaiting finish of 0 more threads\n",
      "2021-05-16 10:19:08,080 : INFO : EPOCH - 3 : training on 2629686 raw words (1951356 effective words) took 11.0s, 177949 effective words/s\n",
      "2021-05-16 10:19:09,088 : INFO : EPOCH 4 - PROGRESS: at 8.34% examples, 169484 words/s, in_qsize 5, out_qsize 0\n",
      "2021-05-16 10:19:10,156 : INFO : EPOCH 4 - PROGRESS: at 17.84% examples, 174644 words/s, in_qsize 5, out_qsize 0\n",
      "2021-05-16 10:19:11,206 : INFO : EPOCH 4 - PROGRESS: at 26.58% examples, 172670 words/s, in_qsize 5, out_qsize 0\n",
      "2021-05-16 10:19:12,223 : INFO : EPOCH 4 - PROGRESS: at 35.33% examples, 173074 words/s, in_qsize 5, out_qsize 0\n",
      "2021-05-16 10:19:13,238 : INFO : EPOCH 4 - PROGRESS: at 44.06% examples, 173340 words/s, in_qsize 5, out_qsize 0\n",
      "2021-05-16 10:19:14,249 : INFO : EPOCH 4 - PROGRESS: at 53.86% examples, 176198 words/s, in_qsize 5, out_qsize 0\n",
      "2021-05-16 10:19:15,352 : INFO : EPOCH 4 - PROGRESS: at 62.59% examples, 171966 words/s, in_qsize 5, out_qsize 0\n",
      "2021-05-16 10:19:16,374 : INFO : EPOCH 4 - PROGRESS: at 72.47% examples, 173265 words/s, in_qsize 5, out_qsize 0\n",
      "2021-05-16 10:19:17,439 : INFO : EPOCH 4 - PROGRESS: at 82.80% examples, 174229 words/s, in_qsize 5, out_qsize 0\n",
      "2021-05-16 10:19:18,484 : INFO : EPOCH 4 - PROGRESS: at 92.82% examples, 174649 words/s, in_qsize 6, out_qsize 0\n",
      "2021-05-16 10:19:19,142 : INFO : worker thread finished; awaiting finish of 2 more threads\n",
      "2021-05-16 10:19:19,146 : INFO : worker thread finished; awaiting finish of 1 more threads\n",
      "2021-05-16 10:19:19,189 : INFO : worker thread finished; awaiting finish of 0 more threads\n",
      "2021-05-16 10:19:19,189 : INFO : EPOCH - 4 : training on 2629686 raw words (1951665 effective words) took 11.1s, 175786 effective words/s\n",
      "2021-05-16 10:19:20,298 : INFO : EPOCH 5 - PROGRESS: at 9.05% examples, 167198 words/s, in_qsize 6, out_qsize 0\n",
      "2021-05-16 10:19:21,366 : INFO : EPOCH 5 - PROGRESS: at 18.95% examples, 176582 words/s, in_qsize 6, out_qsize 0\n",
      "2021-05-16 10:19:22,381 : INFO : EPOCH 5 - PROGRESS: at 28.40% examples, 180513 words/s, in_qsize 5, out_qsize 0\n",
      "2021-05-16 10:19:23,440 : INFO : EPOCH 5 - PROGRESS: at 37.53% examples, 178913 words/s, in_qsize 5, out_qsize 0\n",
      "2021-05-16 10:19:24,494 : INFO : EPOCH 5 - PROGRESS: at 46.28% examples, 176756 words/s, in_qsize 5, out_qsize 0\n",
      "2021-05-16 10:19:25,506 : INFO : EPOCH 5 - PROGRESS: at 56.23% examples, 179014 words/s, in_qsize 5, out_qsize 0\n",
      "2021-05-16 10:19:26,571 : INFO : EPOCH 5 - PROGRESS: at 66.13% examples, 178407 words/s, in_qsize 5, out_qsize 0\n",
      "2021-05-16 10:19:27,610 : INFO : EPOCH 5 - PROGRESS: at 76.88% examples, 180320 words/s, in_qsize 5, out_qsize 0\n",
      "2021-05-16 10:19:28,648 : INFO : EPOCH 5 - PROGRESS: at 86.40% examples, 179455 words/s, in_qsize 6, out_qsize 0\n",
      "2021-05-16 10:19:29,727 : INFO : EPOCH 5 - PROGRESS: at 95.95% examples, 178046 words/s, in_qsize 5, out_qsize 0\n",
      "2021-05-16 10:19:30,033 : INFO : worker thread finished; awaiting finish of 2 more threads\n",
      "2021-05-16 10:19:30,082 : INFO : worker thread finished; awaiting finish of 1 more threads\n",
      "2021-05-16 10:19:30,096 : INFO : worker thread finished; awaiting finish of 0 more threads\n",
      "2021-05-16 10:19:30,097 : INFO : EPOCH - 5 : training on 2629686 raw words (1951191 effective words) took 10.9s, 178972 effective words/s\n",
      "2021-05-16 10:19:30,098 : INFO : Word2Vec lifecycle event {'msg': 'training on 13148430 raw words (9758422 effective words) took 54.7s, 178490 effective words/s', 'datetime': '2021-05-16T10:19:30.098111', 'gensim': '4.0.1', 'python': '3.8.3 (default, Jul  2 2020, 17:30:36) [MSC v.1916 64 bit (AMD64)]', 'platform': 'Windows-10-10.0.19041-SP0', 'event': 'train'}\n",
      "2021-05-16 10:19:30,098 : INFO : Word2Vec lifecycle event {'params': 'Word2Vec(vocab=10951, vector_size=100, alpha=0.025)', 'datetime': '2021-05-16T10:19:30.098111', 'gensim': '4.0.1', 'python': '3.8.3 (default, Jul  2 2020, 17:30:36) [MSC v.1916 64 bit (AMD64)]', 'platform': 'Windows-10-10.0.19041-SP0', 'event': 'created'}\n"
     ]
    }
   ],
   "source": [
    "w2v_lancaster = train_word2vec(lancaster_stemmed_train, num_features, min_word_count, context, hs, sg)"
   ]
  },
  {
   "cell_type": "code",
   "execution_count": 50,
   "metadata": {},
   "outputs": [
    {
     "name": "stderr",
     "output_type": "stream",
     "text": [
      "2021-05-16 10:19:30,117 : INFO : collecting all words and their counts\n",
      "2021-05-16 10:19:30,118 : INFO : PROGRESS: at sentence #0, processed 0 words, keeping 0 word types\n",
      "2021-05-16 10:19:30,144 : INFO : PROGRESS: at sentence #10000, processed 138523 words, keeping 11966 word types\n",
      "2021-05-16 10:19:30,167 : INFO : PROGRESS: at sentence #20000, processed 276045 words, keeping 18113 word types\n",
      "2021-05-16 10:19:30,191 : INFO : PROGRESS: at sentence #30000, processed 413237 words, keeping 22987 word types\n",
      "2021-05-16 10:19:30,215 : INFO : PROGRESS: at sentence #40000, processed 549477 words, keeping 27156 word types\n",
      "2021-05-16 10:19:30,240 : INFO : PROGRESS: at sentence #50000, processed 687841 words, keeping 30766 word types\n",
      "2021-05-16 10:19:30,265 : INFO : PROGRESS: at sentence #60000, processed 825230 words, keeping 34185 word types\n",
      "2021-05-16 10:19:30,288 : INFO : PROGRESS: at sentence #70000, processed 962818 words, keeping 37361 word types\n"
     ]
    },
    {
     "name": "stdout",
     "output_type": "stream",
     "text": [
      "Training model...\n"
     ]
    },
    {
     "name": "stderr",
     "output_type": "stream",
     "text": [
      "2021-05-16 10:19:30,313 : INFO : PROGRESS: at sentence #80000, processed 1100112 words, keeping 40359 word types\n",
      "2021-05-16 10:19:30,338 : INFO : PROGRESS: at sentence #90000, processed 1237509 words, keeping 43252 word types\n",
      "2021-05-16 10:19:30,366 : INFO : PROGRESS: at sentence #100000, processed 1373846 words, keeping 46008 word types\n",
      "2021-05-16 10:19:30,390 : INFO : PROGRESS: at sentence #110000, processed 1500874 words, keeping 49208 word types\n",
      "2021-05-16 10:19:30,414 : INFO : PROGRESS: at sentence #120000, processed 1627667 words, keeping 52130 word types\n",
      "2021-05-16 10:19:30,440 : INFO : PROGRESS: at sentence #130000, processed 1754258 words, keeping 55089 word types\n",
      "2021-05-16 10:19:30,466 : INFO : PROGRESS: at sentence #140000, processed 1880656 words, keeping 57922 word types\n",
      "2021-05-16 10:19:30,491 : INFO : PROGRESS: at sentence #150000, processed 2006472 words, keeping 60659 word types\n",
      "2021-05-16 10:19:30,516 : INFO : PROGRESS: at sentence #160000, processed 2132057 words, keeping 63276 word types\n",
      "2021-05-16 10:19:30,539 : INFO : PROGRESS: at sentence #170000, processed 2258149 words, keeping 65777 word types\n",
      "2021-05-16 10:19:30,563 : INFO : PROGRESS: at sentence #180000, processed 2384222 words, keeping 68324 word types\n",
      "2021-05-16 10:19:30,587 : INFO : PROGRESS: at sentence #190000, processed 2509424 words, keeping 70716 word types\n",
      "2021-05-16 10:19:30,609 : INFO : collected 73002 word types from a corpus of 2629686 raw words and 199504 sentences\n",
      "2021-05-16 10:19:30,610 : INFO : Creating a fresh vocabulary\n",
      "2021-05-16 10:19:30,677 : INFO : Word2Vec lifecycle event {'msg': 'effective_min_count=5 retains 14455 unique words (19.800827374592476%% of original 73002, drops 58547)', 'datetime': '2021-05-16T10:19:30.677654', 'gensim': '4.0.1', 'python': '3.8.3 (default, Jul  2 2020, 17:30:36) [MSC v.1916 64 bit (AMD64)]', 'platform': 'Windows-10-10.0.19041-SP0', 'event': 'prepare_vocab'}\n",
      "2021-05-16 10:19:30,677 : INFO : Word2Vec lifecycle event {'msg': 'effective_min_count=5 leaves 2547463 word corpus (96.8732768855293%% of original 2629686, drops 82223)', 'datetime': '2021-05-16T10:19:30.677654', 'gensim': '4.0.1', 'python': '3.8.3 (default, Jul  2 2020, 17:30:36) [MSC v.1916 64 bit (AMD64)]', 'platform': 'Windows-10-10.0.19041-SP0', 'event': 'prepare_vocab'}\n",
      "2021-05-16 10:19:30,753 : INFO : deleting the raw counts dictionary of 73002 items\n",
      "2021-05-16 10:19:30,755 : INFO : sample=0.001 downsamples 58 most-common words\n",
      "2021-05-16 10:19:30,755 : INFO : Word2Vec lifecycle event {'msg': 'downsampling leaves estimated 1946913.709328946 word corpus (76.4%% of prior 2547463)', 'datetime': '2021-05-16T10:19:30.755420', 'gensim': '4.0.1', 'python': '3.8.3 (default, Jul  2 2020, 17:30:36) [MSC v.1916 64 bit (AMD64)]', 'platform': 'Windows-10-10.0.19041-SP0', 'event': 'prepare_vocab'}\n",
      "2021-05-16 10:19:30,762 : INFO : constructing a huffman tree from 14455 words\n",
      "2021-05-16 10:19:31,201 : INFO : built huffman tree with maximum node depth 19\n",
      "2021-05-16 10:19:31,323 : INFO : estimated required memory for 14455 words and 100 dimensions: 27464500 bytes\n",
      "2021-05-16 10:19:31,323 : INFO : resetting layer weights\n",
      "2021-05-16 10:19:31,330 : INFO : Word2Vec lifecycle event {'update': False, 'trim_rule': 'None', 'datetime': '2021-05-16T10:19:31.329850', 'gensim': '4.0.1', 'python': '3.8.3 (default, Jul  2 2020, 17:30:36) [MSC v.1916 64 bit (AMD64)]', 'platform': 'Windows-10-10.0.19041-SP0', 'event': 'build_vocab'}\n",
      "2021-05-16 10:19:31,330 : INFO : Word2Vec lifecycle event {'msg': 'training model with 3 workers on 14455 vocabulary and 100 features, using sg=1 hs=1 sample=0.001 negative=5 window=10', 'datetime': '2021-05-16T10:19:31.330861', 'gensim': '4.0.1', 'python': '3.8.3 (default, Jul  2 2020, 17:30:36) [MSC v.1916 64 bit (AMD64)]', 'platform': 'Windows-10-10.0.19041-SP0', 'event': 'train'}\n",
      "2021-05-16 10:19:32,374 : INFO : EPOCH 1 - PROGRESS: at 7.98% examples, 156392 words/s, in_qsize 5, out_qsize 0\n",
      "2021-05-16 10:19:33,425 : INFO : EPOCH 1 - PROGRESS: at 16.74% examples, 162504 words/s, in_qsize 5, out_qsize 0\n",
      "2021-05-16 10:19:34,450 : INFO : EPOCH 1 - PROGRESS: at 25.49% examples, 165810 words/s, in_qsize 5, out_qsize 0\n",
      "2021-05-16 10:19:35,456 : INFO : EPOCH 1 - PROGRESS: at 33.87% examples, 166460 words/s, in_qsize 5, out_qsize 0\n",
      "2021-05-16 10:19:36,484 : INFO : EPOCH 1 - PROGRESS: at 42.61% examples, 167669 words/s, in_qsize 5, out_qsize 0\n",
      "2021-05-16 10:19:37,499 : INFO : EPOCH 1 - PROGRESS: at 51.10% examples, 167504 words/s, in_qsize 5, out_qsize 0\n",
      "2021-05-16 10:19:38,526 : INFO : EPOCH 1 - PROGRESS: at 61.39% examples, 170469 words/s, in_qsize 5, out_qsize 0\n",
      "2021-05-16 10:19:39,563 : INFO : EPOCH 1 - PROGRESS: at 71.27% examples, 171578 words/s, in_qsize 5, out_qsize 0\n",
      "2021-05-16 10:19:40,569 : INFO : EPOCH 1 - PROGRESS: at 80.83% examples, 172185 words/s, in_qsize 5, out_qsize 0\n",
      "2021-05-16 10:19:41,598 : INFO : EPOCH 1 - PROGRESS: at 91.19% examples, 173726 words/s, in_qsize 5, out_qsize 0\n",
      "2021-05-16 10:19:42,430 : INFO : worker thread finished; awaiting finish of 2 more threads\n",
      "2021-05-16 10:19:42,447 : INFO : worker thread finished; awaiting finish of 1 more threads\n",
      "2021-05-16 10:19:42,502 : INFO : worker thread finished; awaiting finish of 0 more threads\n",
      "2021-05-16 10:19:42,503 : INFO : EPOCH - 1 : training on 2629686 raw words (1947276 effective words) took 11.2s, 174398 effective words/s\n",
      "2021-05-16 10:19:43,528 : INFO : EPOCH 2 - PROGRESS: at 7.98% examples, 159563 words/s, in_qsize 5, out_qsize 0\n",
      "2021-05-16 10:19:44,584 : INFO : EPOCH 2 - PROGRESS: at 16.74% examples, 163611 words/s, in_qsize 5, out_qsize 0\n",
      "2021-05-16 10:19:45,609 : INFO : EPOCH 2 - PROGRESS: at 26.20% examples, 171367 words/s, in_qsize 5, out_qsize 0\n",
      "2021-05-16 10:19:46,624 : INFO : EPOCH 2 - PROGRESS: at 34.95% examples, 172108 words/s, in_qsize 5, out_qsize 0\n",
      "2021-05-16 10:19:47,647 : INFO : EPOCH 2 - PROGRESS: at 44.06% examples, 173738 words/s, in_qsize 5, out_qsize 0\n",
      "2021-05-16 10:19:48,663 : INFO : EPOCH 2 - PROGRESS: at 53.45% examples, 175105 words/s, in_qsize 6, out_qsize 0\n",
      "2021-05-16 10:19:49,673 : INFO : EPOCH 2 - PROGRESS: at 62.98% examples, 175290 words/s, in_qsize 5, out_qsize 0\n",
      "2021-05-16 10:19:50,692 : INFO : EPOCH 2 - PROGRESS: at 72.86% examples, 176133 words/s, in_qsize 5, out_qsize 0\n",
      "2021-05-16 10:19:51,746 : INFO : EPOCH 2 - PROGRESS: at 83.21% examples, 176914 words/s, in_qsize 5, out_qsize 0\n",
      "2021-05-16 10:19:52,831 : INFO : EPOCH 2 - PROGRESS: at 93.99% examples, 177763 words/s, in_qsize 6, out_qsize 0\n",
      "2021-05-16 10:19:53,349 : INFO : worker thread finished; awaiting finish of 2 more threads\n",
      "2021-05-16 10:19:53,366 : INFO : worker thread finished; awaiting finish of 1 more threads\n",
      "2021-05-16 10:19:53,429 : INFO : worker thread finished; awaiting finish of 0 more threads\n",
      "2021-05-16 10:19:53,430 : INFO : EPOCH - 2 : training on 2629686 raw words (1947457 effective words) took 10.9s, 178378 effective words/s\n",
      "2021-05-16 10:19:54,538 : INFO : EPOCH 3 - PROGRESS: at 9.05% examples, 167200 words/s, in_qsize 5, out_qsize 0\n",
      "2021-05-16 10:19:55,651 : INFO : EPOCH 3 - PROGRESS: at 18.95% examples, 172953 words/s, in_qsize 5, out_qsize 0\n",
      "2021-05-16 10:19:56,658 : INFO : EPOCH 3 - PROGRESS: at 27.67% examples, 173894 words/s, in_qsize 5, out_qsize 0\n",
      "2021-05-16 10:19:57,725 : INFO : EPOCH 3 - PROGRESS: at 36.79% examples, 173592 words/s, in_qsize 5, out_qsize 0\n",
      "2021-05-16 10:19:58,757 : INFO : EPOCH 3 - PROGRESS: at 46.27% examples, 175980 words/s, in_qsize 5, out_qsize 0\n",
      "2021-05-16 10:19:59,801 : INFO : EPOCH 3 - PROGRESS: at 55.84% examples, 176178 words/s, in_qsize 5, out_qsize 0\n",
      "2021-05-16 10:20:00,827 : INFO : EPOCH 3 - PROGRESS: at 66.13% examples, 177804 words/s, in_qsize 5, out_qsize 0\n",
      "2021-05-16 10:20:01,829 : INFO : EPOCH 3 - PROGRESS: at 76.50% examples, 179583 words/s, in_qsize 5, out_qsize 0\n",
      "2021-05-16 10:20:02,879 : INFO : EPOCH 3 - PROGRESS: at 86.40% examples, 179316 words/s, in_qsize 5, out_qsize 0\n",
      "2021-05-16 10:20:03,897 : INFO : EPOCH 3 - PROGRESS: at 96.36% examples, 179601 words/s, in_qsize 6, out_qsize 0\n",
      "2021-05-16 10:20:04,166 : INFO : worker thread finished; awaiting finish of 2 more threads\n",
      "2021-05-16 10:20:04,202 : INFO : worker thread finished; awaiting finish of 1 more threads\n"
     ]
    },
    {
     "name": "stderr",
     "output_type": "stream",
     "text": [
      "2021-05-16 10:20:04,243 : INFO : worker thread finished; awaiting finish of 0 more threads\n",
      "2021-05-16 10:20:04,244 : INFO : EPOCH - 3 : training on 2629686 raw words (1947209 effective words) took 10.8s, 180159 effective words/s\n",
      "2021-05-16 10:20:05,270 : INFO : EPOCH 4 - PROGRESS: at 7.98% examples, 158964 words/s, in_qsize 5, out_qsize 0\n",
      "2021-05-16 10:20:06,357 : INFO : EPOCH 4 - PROGRESS: at 17.84% examples, 171293 words/s, in_qsize 5, out_qsize 0\n",
      "2021-05-16 10:20:07,394 : INFO : EPOCH 4 - PROGRESS: at 26.58% examples, 171082 words/s, in_qsize 5, out_qsize 0\n",
      "2021-05-16 10:20:08,412 : INFO : EPOCH 4 - PROGRESS: at 35.70% examples, 173551 words/s, in_qsize 5, out_qsize 0\n",
      "2021-05-16 10:20:09,413 : INFO : EPOCH 4 - PROGRESS: at 44.06% examples, 172740 words/s, in_qsize 6, out_qsize 0\n",
      "2021-05-16 10:20:10,438 : INFO : EPOCH 4 - PROGRESS: at 53.45% examples, 173978 words/s, in_qsize 5, out_qsize 0\n",
      "2021-05-16 10:20:11,449 : INFO : EPOCH 4 - PROGRESS: at 63.38% examples, 175318 words/s, in_qsize 5, out_qsize 0\n",
      "2021-05-16 10:20:12,478 : INFO : EPOCH 4 - PROGRESS: at 72.86% examples, 175071 words/s, in_qsize 5, out_qsize 0\n",
      "2021-05-16 10:20:13,483 : INFO : EPOCH 4 - PROGRESS: at 82.80% examples, 176087 words/s, in_qsize 5, out_qsize 0\n",
      "2021-05-16 10:20:14,541 : INFO : EPOCH 4 - PROGRESS: at 92.82% examples, 176031 words/s, in_qsize 6, out_qsize 0\n",
      "2021-05-16 10:20:15,223 : INFO : worker thread finished; awaiting finish of 2 more threads\n",
      "2021-05-16 10:20:15,232 : INFO : worker thread finished; awaiting finish of 1 more threads\n",
      "2021-05-16 10:20:15,289 : INFO : worker thread finished; awaiting finish of 0 more threads\n",
      "2021-05-16 10:20:15,289 : INFO : EPOCH - 4 : training on 2629686 raw words (1946772 effective words) took 11.0s, 176325 effective words/s\n",
      "2021-05-16 10:20:16,306 : INFO : EPOCH 5 - PROGRESS: at 8.33% examples, 167772 words/s, in_qsize 6, out_qsize 0\n",
      "2021-05-16 10:20:17,362 : INFO : EPOCH 5 - PROGRESS: at 17.84% examples, 174653 words/s, in_qsize 5, out_qsize 0\n",
      "2021-05-16 10:20:18,389 : INFO : EPOCH 5 - PROGRESS: at 26.95% examples, 176246 words/s, in_qsize 5, out_qsize 0\n",
      "2021-05-16 10:20:19,405 : INFO : EPOCH 5 - PROGRESS: at 36.06% examples, 177609 words/s, in_qsize 5, out_qsize 0\n",
      "2021-05-16 10:20:20,441 : INFO : EPOCH 5 - PROGRESS: at 45.54% examples, 179142 words/s, in_qsize 6, out_qsize 0\n",
      "2021-05-16 10:20:21,477 : INFO : EPOCH 5 - PROGRESS: at 55.05% examples, 179007 words/s, in_qsize 5, out_qsize 0\n",
      "2021-05-16 10:20:22,490 : INFO : EPOCH 5 - PROGRESS: at 64.94% examples, 179602 words/s, in_qsize 5, out_qsize 0\n",
      "2021-05-16 10:20:23,574 : INFO : EPOCH 5 - PROGRESS: at 75.26% examples, 179408 words/s, in_qsize 5, out_qsize 0\n",
      "2021-05-16 10:20:24,648 : INFO : EPOCH 5 - PROGRESS: at 86.00% examples, 180256 words/s, in_qsize 5, out_qsize 0\n",
      "2021-05-16 10:20:25,671 : INFO : EPOCH 5 - PROGRESS: at 96.36% examples, 181100 words/s, in_qsize 6, out_qsize 0\n",
      "2021-05-16 10:20:25,993 : INFO : worker thread finished; awaiting finish of 2 more threads\n",
      "2021-05-16 10:20:26,005 : INFO : worker thread finished; awaiting finish of 1 more threads\n",
      "2021-05-16 10:20:26,023 : INFO : worker thread finished; awaiting finish of 0 more threads\n",
      "2021-05-16 10:20:26,023 : INFO : EPOCH - 5 : training on 2629686 raw words (1947214 effective words) took 10.7s, 181518 effective words/s\n",
      "2021-05-16 10:20:26,023 : INFO : Word2Vec lifecycle event {'msg': 'training on 13148430 raw words (9735928 effective words) took 54.7s, 178012 effective words/s', 'datetime': '2021-05-16T10:20:26.023943', 'gensim': '4.0.1', 'python': '3.8.3 (default, Jul  2 2020, 17:30:36) [MSC v.1916 64 bit (AMD64)]', 'platform': 'Windows-10-10.0.19041-SP0', 'event': 'train'}\n",
      "2021-05-16 10:20:26,024 : INFO : Word2Vec lifecycle event {'params': 'Word2Vec(vocab=14455, vector_size=100, alpha=0.025)', 'datetime': '2021-05-16T10:20:26.024893', 'gensim': '4.0.1', 'python': '3.8.3 (default, Jul  2 2020, 17:30:36) [MSC v.1916 64 bit (AMD64)]', 'platform': 'Windows-10-10.0.19041-SP0', 'event': 'created'}\n"
     ]
    }
   ],
   "source": [
    "w2v_lemma = train_word2vec(lemma_train, num_features, min_word_count, context, hs, sg)"
   ]
  },
  {
   "cell_type": "code",
   "execution_count": 51,
   "metadata": {},
   "outputs": [
    {
     "name": "stderr",
     "output_type": "stream",
     "text": [
      "2021-05-16 10:20:26,032 : INFO : collecting all words and their counts\n",
      "2021-05-16 10:20:26,033 : INFO : PROGRESS: at sentence #0, processed 0 words, keeping 0 word types\n",
      "2021-05-16 10:20:26,055 : INFO : PROGRESS: at sentence #10000, processed 138523 words, keeping 9281 word types\n",
      "2021-05-16 10:20:26,078 : INFO : PROGRESS: at sentence #20000, processed 276045 words, keeping 13832 word types\n",
      "2021-05-16 10:20:26,101 : INFO : PROGRESS: at sentence #30000, processed 413237 words, keeping 17457 word types\n",
      "2021-05-16 10:20:26,125 : INFO : PROGRESS: at sentence #40000, processed 549477 words, keeping 20546 word types\n",
      "2021-05-16 10:20:26,149 : INFO : PROGRESS: at sentence #50000, processed 687841 words, keeping 23174 word types\n",
      "2021-05-16 10:20:26,173 : INFO : PROGRESS: at sentence #60000, processed 825230 words, keeping 25725 word types\n",
      "2021-05-16 10:20:26,197 : INFO : PROGRESS: at sentence #70000, processed 962818 words, keeping 28054 word types\n",
      "2021-05-16 10:20:26,219 : INFO : PROGRESS: at sentence #80000, processed 1100112 words, keeping 30302 word types\n"
     ]
    },
    {
     "name": "stdout",
     "output_type": "stream",
     "text": [
      "Training model...\n"
     ]
    },
    {
     "name": "stderr",
     "output_type": "stream",
     "text": [
      "2021-05-16 10:20:26,242 : INFO : PROGRESS: at sentence #90000, processed 1237509 words, keeping 32466 word types\n",
      "2021-05-16 10:20:26,268 : INFO : PROGRESS: at sentence #100000, processed 1373846 words, keeping 34522 word types\n",
      "2021-05-16 10:20:26,293 : INFO : PROGRESS: at sentence #110000, processed 1500874 words, keeping 36967 word types\n",
      "2021-05-16 10:20:26,314 : INFO : PROGRESS: at sentence #120000, processed 1627667 words, keeping 39173 word types\n",
      "2021-05-16 10:20:26,337 : INFO : PROGRESS: at sentence #130000, processed 1754258 words, keeping 41434 word types\n",
      "2021-05-16 10:20:26,361 : INFO : PROGRESS: at sentence #140000, processed 1880656 words, keeping 43539 word types\n",
      "2021-05-16 10:20:26,383 : INFO : PROGRESS: at sentence #150000, processed 2006472 words, keeping 45635 word types\n",
      "2021-05-16 10:20:26,406 : INFO : PROGRESS: at sentence #160000, processed 2132057 words, keeping 47619 word types\n",
      "2021-05-16 10:20:26,428 : INFO : PROGRESS: at sentence #170000, processed 2258149 words, keeping 49500 word types\n",
      "2021-05-16 10:20:26,451 : INFO : PROGRESS: at sentence #180000, processed 2384222 words, keeping 51416 word types\n",
      "2021-05-16 10:20:26,474 : INFO : PROGRESS: at sentence #190000, processed 2509424 words, keeping 53222 word types\n",
      "2021-05-16 10:20:26,496 : INFO : collected 54991 word types from a corpus of 2629686 raw words and 199504 sentences\n",
      "2021-05-16 10:20:26,496 : INFO : Creating a fresh vocabulary\n",
      "2021-05-16 10:20:26,548 : INFO : Word2Vec lifecycle event {'msg': 'effective_min_count=5 retains 10989 unique words (19.983269989634667%% of original 54991, drops 44002)', 'datetime': '2021-05-16T10:20:26.548446', 'gensim': '4.0.1', 'python': '3.8.3 (default, Jul  2 2020, 17:30:36) [MSC v.1916 64 bit (AMD64)]', 'platform': 'Windows-10-10.0.19041-SP0', 'event': 'prepare_vocab'}\n",
      "2021-05-16 10:20:26,548 : INFO : Word2Vec lifecycle event {'msg': 'effective_min_count=5 leaves 2568446 word corpus (97.67120485107347%% of original 2629686, drops 61240)', 'datetime': '2021-05-16T10:20:26.548446', 'gensim': '4.0.1', 'python': '3.8.3 (default, Jul  2 2020, 17:30:36) [MSC v.1916 64 bit (AMD64)]', 'platform': 'Windows-10-10.0.19041-SP0', 'event': 'prepare_vocab'}\n",
      "2021-05-16 10:20:26,605 : INFO : deleting the raw counts dictionary of 54991 items\n",
      "2021-05-16 10:20:26,606 : INFO : sample=0.001 downsamples 61 most-common words\n",
      "2021-05-16 10:20:26,607 : INFO : Word2Vec lifecycle event {'msg': 'downsampling leaves estimated 1934593.493939695 word corpus (75.3%% of prior 2568446)', 'datetime': '2021-05-16T10:20:26.607216', 'gensim': '4.0.1', 'python': '3.8.3 (default, Jul  2 2020, 17:30:36) [MSC v.1916 64 bit (AMD64)]', 'platform': 'Windows-10-10.0.19041-SP0', 'event': 'prepare_vocab'}\n",
      "2021-05-16 10:20:26,612 : INFO : constructing a huffman tree from 10989 words\n",
      "2021-05-16 10:20:26,925 : INFO : built huffman tree with maximum node depth 19\n",
      "2021-05-16 10:20:27,013 : INFO : estimated required memory for 10989 words and 100 dimensions: 20879100 bytes\n",
      "2021-05-16 10:20:27,013 : INFO : resetting layer weights\n",
      "2021-05-16 10:20:27,019 : INFO : Word2Vec lifecycle event {'update': False, 'trim_rule': 'None', 'datetime': '2021-05-16T10:20:27.019861', 'gensim': '4.0.1', 'python': '3.8.3 (default, Jul  2 2020, 17:30:36) [MSC v.1916 64 bit (AMD64)]', 'platform': 'Windows-10-10.0.19041-SP0', 'event': 'build_vocab'}\n",
      "2021-05-16 10:20:27,020 : INFO : Word2Vec lifecycle event {'msg': 'training model with 3 workers on 10989 vocabulary and 100 features, using sg=1 hs=1 sample=0.001 negative=5 window=10', 'datetime': '2021-05-16T10:20:27.020889', 'gensim': '4.0.1', 'python': '3.8.3 (default, Jul  2 2020, 17:30:36) [MSC v.1916 64 bit (AMD64)]', 'platform': 'Windows-10-10.0.19041-SP0', 'event': 'train'}\n",
      "2021-05-16 10:20:28,029 : INFO : EPOCH 1 - PROGRESS: at 7.98% examples, 160270 words/s, in_qsize 6, out_qsize 0\n",
      "2021-05-16 10:20:29,088 : INFO : EPOCH 1 - PROGRESS: at 17.84% examples, 173613 words/s, in_qsize 5, out_qsize 0\n",
      "2021-05-16 10:20:30,154 : INFO : EPOCH 1 - PROGRESS: at 27.67% examples, 177552 words/s, in_qsize 5, out_qsize 0\n",
      "2021-05-16 10:20:31,174 : INFO : EPOCH 1 - PROGRESS: at 36.79% examples, 178014 words/s, in_qsize 5, out_qsize 0\n",
      "2021-05-16 10:20:32,186 : INFO : EPOCH 1 - PROGRESS: at 45.90% examples, 178442 words/s, in_qsize 5, out_qsize 0\n",
      "2021-05-16 10:20:33,190 : INFO : EPOCH 1 - PROGRESS: at 54.64% examples, 176880 words/s, in_qsize 5, out_qsize 0\n",
      "2021-05-16 10:20:34,234 : INFO : EPOCH 1 - PROGRESS: at 64.94% examples, 177904 words/s, in_qsize 5, out_qsize 0\n",
      "2021-05-16 10:20:35,304 : INFO : EPOCH 1 - PROGRESS: at 75.68% examples, 179078 words/s, in_qsize 6, out_qsize 0\n",
      "2021-05-16 10:20:36,318 : INFO : EPOCH 1 - PROGRESS: at 85.60% examples, 179471 words/s, in_qsize 5, out_qsize 0\n",
      "2021-05-16 10:20:37,389 : INFO : EPOCH 1 - PROGRESS: at 95.95% examples, 179461 words/s, in_qsize 5, out_qsize 0\n",
      "2021-05-16 10:20:37,660 : INFO : worker thread finished; awaiting finish of 2 more threads\n",
      "2021-05-16 10:20:37,711 : INFO : worker thread finished; awaiting finish of 1 more threads\n",
      "2021-05-16 10:20:37,735 : INFO : worker thread finished; awaiting finish of 0 more threads\n",
      "2021-05-16 10:20:37,736 : INFO : EPOCH - 1 : training on 2629686 raw words (1935253 effective words) took 10.7s, 180698 effective words/s\n",
      "2021-05-16 10:20:38,744 : INFO : EPOCH 2 - PROGRESS: at 8.34% examples, 167161 words/s, in_qsize 5, out_qsize 0\n",
      "2021-05-16 10:20:39,800 : INFO : EPOCH 2 - PROGRESS: at 17.84% examples, 173781 words/s, in_qsize 5, out_qsize 0\n",
      "2021-05-16 10:20:40,823 : INFO : EPOCH 2 - PROGRESS: at 27.31% examples, 177784 words/s, in_qsize 5, out_qsize 0\n",
      "2021-05-16 10:20:41,869 : INFO : EPOCH 2 - PROGRESS: at 36.79% examples, 178791 words/s, in_qsize 5, out_qsize 0\n",
      "2021-05-16 10:20:42,919 : INFO : EPOCH 2 - PROGRESS: at 46.65% examples, 180627 words/s, in_qsize 5, out_qsize 0\n",
      "2021-05-16 10:20:43,991 : INFO : EPOCH 2 - PROGRESS: at 57.00% examples, 181457 words/s, in_qsize 6, out_qsize 0\n",
      "2021-05-16 10:20:45,035 : INFO : EPOCH 2 - PROGRESS: at 67.72% examples, 182863 words/s, in_qsize 5, out_qsize 0\n",
      "2021-05-16 10:20:46,036 : INFO : EPOCH 2 - PROGRESS: at 78.05% examples, 184007 words/s, in_qsize 6, out_qsize 0\n",
      "2021-05-16 10:20:47,044 : INFO : EPOCH 2 - PROGRESS: at 87.98% examples, 183938 words/s, in_qsize 6, out_qsize 1\n",
      "2021-05-16 10:20:48,121 : INFO : EPOCH 2 - PROGRESS: at 98.74% examples, 184063 words/s, in_qsize 4, out_qsize 0\n",
      "2021-05-16 10:20:48,144 : INFO : worker thread finished; awaiting finish of 2 more threads\n",
      "2021-05-16 10:20:48,153 : INFO : worker thread finished; awaiting finish of 1 more threads\n",
      "2021-05-16 10:20:48,220 : INFO : worker thread finished; awaiting finish of 0 more threads\n",
      "2021-05-16 10:20:48,221 : INFO : EPOCH - 2 : training on 2629686 raw words (1934186 effective words) took 10.5s, 184559 effective words/s\n",
      "2021-05-16 10:20:49,291 : INFO : EPOCH 3 - PROGRESS: at 9.05% examples, 171828 words/s, in_qsize 5, out_qsize 0\n",
      "2021-05-16 10:20:50,368 : INFO : EPOCH 3 - PROGRESS: at 18.95% examples, 177443 words/s, in_qsize 5, out_qsize 0\n",
      "2021-05-16 10:20:51,453 : INFO : EPOCH 3 - PROGRESS: at 28.77% examples, 178906 words/s, in_qsize 5, out_qsize 0\n",
      "2021-05-16 10:20:52,464 : INFO : EPOCH 3 - PROGRESS: at 38.25% examples, 181079 words/s, in_qsize 5, out_qsize 0\n",
      "2021-05-16 10:20:53,481 : INFO : EPOCH 3 - PROGRESS: at 47.39% examples, 180806 words/s, in_qsize 5, out_qsize 0\n",
      "2021-05-16 10:20:54,494 : INFO : EPOCH 3 - PROGRESS: at 57.40% examples, 182173 words/s, in_qsize 6, out_qsize 0\n",
      "2021-05-16 10:20:55,495 : INFO : EPOCH 3 - PROGRESS: at 67.72% examples, 183545 words/s, in_qsize 5, out_qsize 0\n",
      "2021-05-16 10:20:56,537 : INFO : EPOCH 3 - PROGRESS: at 78.05% examples, 183675 words/s, in_qsize 5, out_qsize 0\n",
      "2021-05-16 10:20:57,546 : INFO : EPOCH 3 - PROGRESS: at 88.39% examples, 184442 words/s, in_qsize 5, out_qsize 0\n",
      "2021-05-16 10:20:58,572 : INFO : EPOCH 3 - PROGRESS: at 97.92% examples, 183300 words/s, in_qsize 5, out_qsize 0\n",
      "2021-05-16 10:20:58,708 : INFO : worker thread finished; awaiting finish of 2 more threads\n",
      "2021-05-16 10:20:58,752 : INFO : worker thread finished; awaiting finish of 1 more threads\n",
      "2021-05-16 10:20:58,762 : INFO : worker thread finished; awaiting finish of 0 more threads\n"
     ]
    },
    {
     "name": "stderr",
     "output_type": "stream",
     "text": [
      "2021-05-16 10:20:58,762 : INFO : EPOCH - 3 : training on 2629686 raw words (1934522 effective words) took 10.5s, 183634 effective words/s\n",
      "2021-05-16 10:20:59,850 : INFO : EPOCH 4 - PROGRESS: at 9.05% examples, 169056 words/s, in_qsize 5, out_qsize 0\n",
      "2021-05-16 10:21:00,855 : INFO : EPOCH 4 - PROGRESS: at 18.58% examples, 178652 words/s, in_qsize 5, out_qsize 0\n",
      "2021-05-16 10:21:01,872 : INFO : EPOCH 4 - PROGRESS: at 28.04% examples, 181432 words/s, in_qsize 5, out_qsize 0\n",
      "2021-05-16 10:21:02,906 : INFO : EPOCH 4 - PROGRESS: at 37.53% examples, 182017 words/s, in_qsize 5, out_qsize 0\n",
      "2021-05-16 10:21:03,913 : INFO : EPOCH 4 - PROGRESS: at 46.65% examples, 181925 words/s, in_qsize 5, out_qsize 0\n",
      "2021-05-16 10:21:04,937 : INFO : EPOCH 4 - PROGRESS: at 56.61% examples, 182872 words/s, in_qsize 5, out_qsize 0\n",
      "2021-05-16 10:21:05,963 : INFO : EPOCH 4 - PROGRESS: at 66.94% examples, 183463 words/s, in_qsize 5, out_qsize 0\n",
      "2021-05-16 10:21:06,985 : INFO : EPOCH 4 - PROGRESS: at 77.27% examples, 184070 words/s, in_qsize 5, out_qsize 0\n",
      "2021-05-16 10:21:08,010 : INFO : EPOCH 4 - PROGRESS: at 87.18% examples, 183673 words/s, in_qsize 6, out_qsize 0\n",
      "2021-05-16 10:21:09,012 : INFO : EPOCH 4 - PROGRESS: at 97.54% examples, 184459 words/s, in_qsize 5, out_qsize 0\n",
      "2021-05-16 10:21:09,223 : INFO : worker thread finished; awaiting finish of 2 more threads\n",
      "2021-05-16 10:21:09,228 : INFO : worker thread finished; awaiting finish of 1 more threads\n",
      "2021-05-16 10:21:09,242 : INFO : worker thread finished; awaiting finish of 0 more threads\n",
      "2021-05-16 10:21:09,242 : INFO : EPOCH - 4 : training on 2629686 raw words (1935477 effective words) took 10.5s, 184776 effective words/s\n",
      "2021-05-16 10:21:10,248 : INFO : EPOCH 5 - PROGRESS: at 8.69% examples, 175220 words/s, in_qsize 5, out_qsize 0\n",
      "2021-05-16 10:21:11,287 : INFO : EPOCH 5 - PROGRESS: at 18.21% examples, 179158 words/s, in_qsize 6, out_qsize 0\n",
      "2021-05-16 10:21:12,304 : INFO : EPOCH 5 - PROGRESS: at 27.31% examples, 179323 words/s, in_qsize 6, out_qsize 0\n",
      "2021-05-16 10:21:13,358 : INFO : EPOCH 5 - PROGRESS: at 36.79% examples, 179732 words/s, in_qsize 6, out_qsize 0\n",
      "2021-05-16 10:21:14,381 : INFO : EPOCH 5 - PROGRESS: at 46.27% examples, 180835 words/s, in_qsize 6, out_qsize 0\n",
      "2021-05-16 10:21:15,392 : INFO : EPOCH 5 - PROGRESS: at 55.84% examples, 181082 words/s, in_qsize 5, out_qsize 0\n",
      "2021-05-16 10:21:16,410 : INFO : EPOCH 5 - PROGRESS: at 66.13% examples, 182201 words/s, in_qsize 5, out_qsize 0\n",
      "2021-05-16 10:21:17,421 : INFO : EPOCH 5 - PROGRESS: at 76.10% examples, 182292 words/s, in_qsize 5, out_qsize 0\n",
      "2021-05-16 10:21:18,465 : INFO : EPOCH 5 - PROGRESS: at 86.40% examples, 182539 words/s, in_qsize 5, out_qsize 0\n",
      "2021-05-16 10:21:19,504 : INFO : EPOCH 5 - PROGRESS: at 96.75% examples, 182792 words/s, in_qsize 5, out_qsize 0\n",
      "2021-05-16 10:21:19,751 : INFO : worker thread finished; awaiting finish of 2 more threads\n",
      "2021-05-16 10:21:19,785 : INFO : worker thread finished; awaiting finish of 1 more threads\n",
      "2021-05-16 10:21:19,795 : INFO : worker thread finished; awaiting finish of 0 more threads\n",
      "2021-05-16 10:21:19,795 : INFO : EPOCH - 5 : training on 2629686 raw words (1935160 effective words) took 10.5s, 183479 effective words/s\n",
      "2021-05-16 10:21:19,796 : INFO : Word2Vec lifecycle event {'msg': 'training on 13148430 raw words (9674598 effective words) took 52.8s, 183317 effective words/s', 'datetime': '2021-05-16T10:21:19.796464', 'gensim': '4.0.1', 'python': '3.8.3 (default, Jul  2 2020, 17:30:36) [MSC v.1916 64 bit (AMD64)]', 'platform': 'Windows-10-10.0.19041-SP0', 'event': 'train'}\n",
      "2021-05-16 10:21:19,796 : INFO : Word2Vec lifecycle event {'params': 'Word2Vec(vocab=10989, vector_size=100, alpha=0.025)', 'datetime': '2021-05-16T10:21:19.796464', 'gensim': '4.0.1', 'python': '3.8.3 (default, Jul  2 2020, 17:30:36) [MSC v.1916 64 bit (AMD64)]', 'platform': 'Windows-10-10.0.19041-SP0', 'event': 'created'}\n"
     ]
    }
   ],
   "source": [
    "w2v_lovins = train_word2vec(lovins_stemmed_train, num_features, min_word_count, context, hs, sg)"
   ]
  },
  {
   "cell_type": "code",
   "execution_count": 52,
   "metadata": {},
   "outputs": [
    {
     "name": "stderr",
     "output_type": "stream",
     "text": [
      "2021-05-16 10:21:19,803 : INFO : Word2Vec lifecycle event {'fname_or_handle': 'model_w2v_baseline', 'separately': 'None', 'sep_limit': 10485760, 'ignore': frozenset(), 'datetime': '2021-05-16T10:21:19.803901', 'gensim': '4.0.1', 'python': '3.8.3 (default, Jul  2 2020, 17:30:36) [MSC v.1916 64 bit (AMD64)]', 'platform': 'Windows-10-10.0.19041-SP0', 'event': 'saving'}\n",
      "2021-05-16 10:21:19,804 : INFO : not storing attribute cum_table\n",
      "2021-05-16 10:21:19,887 : INFO : saved model_w2v_baseline\n",
      "2021-05-16 10:21:19,888 : INFO : Word2Vec lifecycle event {'fname_or_handle': 'model_w2v_porter', 'separately': 'None', 'sep_limit': 10485760, 'ignore': frozenset(), 'datetime': '2021-05-16T10:21:19.888716', 'gensim': '4.0.1', 'python': '3.8.3 (default, Jul  2 2020, 17:30:36) [MSC v.1916 64 bit (AMD64)]', 'platform': 'Windows-10-10.0.19041-SP0', 'event': 'saving'}\n",
      "2021-05-16 10:21:19,889 : INFO : not storing attribute cum_table\n",
      "2021-05-16 10:21:19,948 : INFO : saved model_w2v_porter\n",
      "2021-05-16 10:21:19,949 : INFO : Word2Vec lifecycle event {'fname_or_handle': 'model_w2v_snowball', 'separately': 'None', 'sep_limit': 10485760, 'ignore': frozenset(), 'datetime': '2021-05-16T10:21:19.949512', 'gensim': '4.0.1', 'python': '3.8.3 (default, Jul  2 2020, 17:30:36) [MSC v.1916 64 bit (AMD64)]', 'platform': 'Windows-10-10.0.19041-SP0', 'event': 'saving'}\n",
      "2021-05-16 10:21:19,950 : INFO : not storing attribute cum_table\n",
      "2021-05-16 10:21:20,009 : INFO : saved model_w2v_snowball\n",
      "2021-05-16 10:21:20,010 : INFO : Word2Vec lifecycle event {'fname_or_handle': 'model_w2v_lancaster', 'separately': 'None', 'sep_limit': 10485760, 'ignore': frozenset(), 'datetime': '2021-05-16T10:21:20.010360', 'gensim': '4.0.1', 'python': '3.8.3 (default, Jul  2 2020, 17:30:36) [MSC v.1916 64 bit (AMD64)]', 'platform': 'Windows-10-10.0.19041-SP0', 'event': 'saving'}\n",
      "2021-05-16 10:21:20,011 : INFO : not storing attribute cum_table\n",
      "2021-05-16 10:21:20,064 : INFO : saved model_w2v_lancaster\n",
      "2021-05-16 10:21:20,065 : INFO : Word2Vec lifecycle event {'fname_or_handle': 'model_w2v_lemma', 'separately': 'None', 'sep_limit': 10485760, 'ignore': frozenset(), 'datetime': '2021-05-16T10:21:20.065893', 'gensim': '4.0.1', 'python': '3.8.3 (default, Jul  2 2020, 17:30:36) [MSC v.1916 64 bit (AMD64)]', 'platform': 'Windows-10-10.0.19041-SP0', 'event': 'saving'}\n",
      "2021-05-16 10:21:20,065 : INFO : not storing attribute cum_table\n",
      "2021-05-16 10:21:20,132 : INFO : saved model_w2v_lemma\n",
      "2021-05-16 10:21:20,133 : INFO : Word2Vec lifecycle event {'fname_or_handle': 'model_w2v_lovins', 'separately': 'None', 'sep_limit': 10485760, 'ignore': frozenset(), 'datetime': '2021-05-16T10:21:20.133116', 'gensim': '4.0.1', 'python': '3.8.3 (default, Jul  2 2020, 17:30:36) [MSC v.1916 64 bit (AMD64)]', 'platform': 'Windows-10-10.0.19041-SP0', 'event': 'saving'}\n",
      "2021-05-16 10:21:20,134 : INFO : not storing attribute cum_table\n",
      "2021-05-16 10:21:20,186 : INFO : saved model_w2v_lovins\n"
     ]
    }
   ],
   "source": [
    "# save models for later use\n",
    "w2v_baseline.save(\"model_w2v_baseline\")\n",
    "w2v_porter.save(\"model_w2v_porter\")\n",
    "w2v_snowball.save(\"model_w2v_snowball\")\n",
    "w2v_lancaster.save(\"model_w2v_lancaster\")\n",
    "w2v_lemma.save(\"model_w2v_lemma\")\n",
    "w2v_lovins.save(\"model_w2v_lovins\")"
   ]
  },
  {
   "cell_type": "code",
   "execution_count": 53,
   "metadata": {},
   "outputs": [
    {
     "name": "stdout",
     "output_type": "stream",
     "text": [
      "Word2Vec(vocab=15961, vector_size=100, alpha=0.025)\n",
      "Word2Vec(vocab=12555, vector_size=100, alpha=0.025)\n",
      "Word2Vec(vocab=12528, vector_size=100, alpha=0.025)\n",
      "Word2Vec(vocab=10951, vector_size=100, alpha=0.025)\n",
      "Word2Vec(vocab=14455, vector_size=100, alpha=0.025)\n",
      "Word2Vec(vocab=10989, vector_size=100, alpha=0.025)\n"
     ]
    }
   ],
   "source": [
    "print(w2v_baseline)\n",
    "print(w2v_porter)\n",
    "print(w2v_snowball)\n",
    "print(w2v_lancaster)\n",
    "print(w2v_lemma)\n",
    "print(w2v_lovins)"
   ]
  },
  {
   "cell_type": "code",
   "execution_count": 54,
   "metadata": {},
   "outputs": [],
   "source": [
    "import gensim\n",
    "def word_averaging(model, words):\n",
    "    all_words, mean = set(), []\n",
    "    \n",
    "    for word in words:\n",
    "        if isinstance(word, np.ndarray):\n",
    "            mean.append(word)\n",
    "        elif word in model.wv.key_to_index:\n",
    "            mean.append(model.wv.get_vector(word, norm=True))\n",
    "            all_words.add(model.wv.key_to_index[word])\n",
    "\n",
    "    if not mean:\n",
    "        print(mean)\n",
    "        logging.warning(\"cannot compute similarity with no input %s\", words)\n",
    "        # FIXME: remove these examples in pre-processing\n",
    "        return np.zeros(model.wv.vector_size,)\n",
    "\n",
    "    mean = gensim.matutils.unitvec(np.array(mean).mean(axis=0)).astype(np.float32)\n",
    "    return mean\n",
    "\n",
    "def  word_averaging_list(model, text_list):\n",
    "    return np.vstack([word_averaging(model, review) for review in text_list ])"
   ]
  },
  {
   "cell_type": "code",
   "execution_count": 55,
   "metadata": {},
   "outputs": [
    {
     "name": "stderr",
     "output_type": "stream",
     "text": [
      "2021-05-16 10:21:20,381 : WARNING : cannot compute similarity with no input ['doesntfeelwell']\n"
     ]
    },
    {
     "name": "stdout",
     "output_type": "stream",
     "text": [
      "[]\n"
     ]
    },
    {
     "name": "stderr",
     "output_type": "stream",
     "text": [
      "2021-05-16 10:21:20,420 : WARNING : cannot compute similarity with no input ['starbuck']\n",
      "2021-05-16 10:21:20,434 : WARNING : cannot compute similarity with no input ['shittysunday']\n",
      "2021-05-16 10:21:20,486 : WARNING : cannot compute similarity with no input ['insomniugh']\n",
      "2021-05-16 10:21:20,586 : WARNING : cannot compute similarity with no input ['ouches']\n"
     ]
    },
    {
     "name": "stdout",
     "output_type": "stream",
     "text": [
      "[]\n",
      "[]\n",
      "[]\n",
      "[]\n"
     ]
    },
    {
     "name": "stderr",
     "output_type": "stream",
     "text": [
      "2021-05-16 10:21:20,647 : WARNING : cannot compute similarity with no input ['thesims3']\n",
      "2021-05-16 10:21:20,666 : WARNING : cannot compute similarity with no input ['speachlesssssss']\n",
      "2021-05-16 10:21:20,674 : WARNING : cannot compute similarity with no input ['mcgrath']\n",
      "2021-05-16 10:21:20,764 : WARNING : cannot compute similarity with no input ['hallieeeeee']\n",
      "2021-05-16 10:21:20,821 : WARNING : cannot compute similarity with no input ['collegian']\n",
      "2021-05-16 10:21:20,831 : WARNING : cannot compute similarity with no input ['esuk', 'durang', 'belayar']\n"
     ]
    },
    {
     "name": "stdout",
     "output_type": "stream",
     "text": [
      "[]\n",
      "[]\n",
      "[]\n",
      "[]\n",
      "[]\n",
      "[]\n"
     ]
    },
    {
     "name": "stderr",
     "output_type": "stream",
     "text": [
      "2021-05-16 10:21:20,837 : WARNING : cannot compute similarity with no input ['helpmeplease']\n",
      "2021-05-16 10:21:20,978 : WARNING : cannot compute similarity with no input ['secar', 'louaa']\n",
      "2021-05-16 10:21:21,028 : WARNING : cannot compute similarity with no input ['sadddddd']\n"
     ]
    },
    {
     "name": "stdout",
     "output_type": "stream",
     "text": [
      "[]\n",
      "[]\n",
      "[]\n"
     ]
    },
    {
     "name": "stderr",
     "output_type": "stream",
     "text": [
      "2021-05-16 10:21:21,135 : WARNING : cannot compute similarity with no input ['okok', 'surt']\n",
      "2021-05-16 10:21:21,219 : WARNING : cannot compute similarity with no input ['revisinggg']\n",
      "2021-05-16 10:21:21,284 : WARNING : cannot compute similarity with no input ['fds', 'acabou']\n",
      "2021-05-16 10:21:21,328 : WARNING : cannot compute similarity with no input ['tiirreed']\n"
     ]
    },
    {
     "name": "stdout",
     "output_type": "stream",
     "text": [
      "[]\n",
      "[]\n",
      "[]\n",
      "[]\n"
     ]
    },
    {
     "name": "stderr",
     "output_type": "stream",
     "text": [
      "2021-05-16 10:21:21,375 : WARNING : cannot compute similarity with no input ['cof', 'cof', 'cof']\n",
      "2021-05-16 10:21:21,395 : WARNING : cannot compute similarity with no input ['noothingg', 'borred']\n",
      "2021-05-16 10:21:21,398 : WARNING : cannot compute similarity with no input ['unreachable']\n",
      "2021-05-16 10:21:21,457 : WARNING : cannot compute similarity with no input ['riannna', 'imy2']\n"
     ]
    },
    {
     "name": "stdout",
     "output_type": "stream",
     "text": [
      "[]\n",
      "[]\n",
      "[]\n",
      "[]\n"
     ]
    },
    {
     "name": "stderr",
     "output_type": "stream",
     "text": [
      "2021-05-16 10:21:21,688 : WARNING : cannot compute similarity with no input ['potong', 'rambut']\n",
      "2021-05-16 10:21:21,863 : WARNING : cannot compute similarity with no input ['nmmm']\n"
     ]
    },
    {
     "name": "stdout",
     "output_type": "stream",
     "text": [
      "[]\n",
      "[]\n"
     ]
    },
    {
     "name": "stderr",
     "output_type": "stream",
     "text": [
      "2021-05-16 10:21:21,936 : WARNING : cannot compute similarity with no input ['noctural', 'myclonus']\n",
      "2021-05-16 10:21:22,083 : WARNING : cannot compute similarity with no input ['oouch']\n",
      "2021-05-16 10:21:22,119 : WARNING : cannot compute similarity with no input ['unfortunatelly']\n"
     ]
    },
    {
     "name": "stdout",
     "output_type": "stream",
     "text": [
      "[]\n",
      "[]\n",
      "[]\n"
     ]
    },
    {
     "name": "stderr",
     "output_type": "stream",
     "text": [
      "2021-05-16 10:21:22,141 : WARNING : cannot compute similarity with no input ['crampssssss']\n",
      "2021-05-16 10:21:22,318 : WARNING : cannot compute similarity with no input ['pling', 'pling']\n"
     ]
    },
    {
     "name": "stdout",
     "output_type": "stream",
     "text": [
      "[]\n",
      "[]\n"
     ]
    },
    {
     "name": "stderr",
     "output_type": "stream",
     "text": [
      "2021-05-16 10:21:22,330 : WARNING : cannot compute similarity with no input ['misunderstood']\n",
      "2021-05-16 10:21:22,403 : WARNING : cannot compute similarity with no input ['sleepdisorderssuckassandihaveonewhyaminotusingthespacebar', 'idkwhocaresmyinsomniaisback']\n",
      "2021-05-16 10:21:22,429 : WARNING : cannot compute similarity with no input ['pancreatitis']\n",
      "2021-05-16 10:21:22,475 : WARNING : cannot compute similarity with no input ['offlineeeeeeee']\n",
      "2021-05-16 10:21:22,524 : WARNING : cannot compute similarity with no input ['wompppp', 'wompp']\n"
     ]
    },
    {
     "name": "stdout",
     "output_type": "stream",
     "text": [
      "[]\n",
      "[]\n",
      "[]\n",
      "[]\n",
      "[]\n"
     ]
    },
    {
     "name": "stderr",
     "output_type": "stream",
     "text": [
      "2021-05-16 10:21:22,568 : WARNING : cannot compute similarity with no input ['madnessness']\n",
      "2021-05-16 10:21:22,683 : WARNING : cannot compute similarity with no input ['imisspeoplethatihaventtalkedtoforarealllylongtime', 'iwonderhowtheyaredoing']\n",
      "2021-05-16 10:21:22,696 : WARNING : cannot compute similarity with no input ['prop8', 'overturned']\n"
     ]
    },
    {
     "name": "stdout",
     "output_type": "stream",
     "text": [
      "[]\n",
      "[]\n",
      "[]\n"
     ]
    },
    {
     "name": "stderr",
     "output_type": "stream",
     "text": [
      "2021-05-16 10:21:22,854 : WARNING : cannot compute similarity with no input ['suucks']\n",
      "2021-05-16 10:21:22,857 : WARNING : cannot compute similarity with no input ['stressedddddddddddddddd']\n",
      "2021-05-16 10:21:22,862 : WARNING : cannot compute similarity with no input ['nee']\n",
      "2021-05-16 10:21:22,933 : WARNING : cannot compute similarity with no input ['shutup']\n",
      "2021-05-16 10:21:23,019 : WARNING : cannot compute similarity with no input ['sux2bu']\n"
     ]
    },
    {
     "name": "stdout",
     "output_type": "stream",
     "text": [
      "[]\n",
      "[]\n",
      "[]\n",
      "[]\n",
      "[]\n"
     ]
    },
    {
     "name": "stderr",
     "output_type": "stream",
     "text": [
      "2021-05-16 10:21:23,099 : WARNING : cannot compute similarity with no input ['donnee', 'frieday']\n",
      "2021-05-16 10:21:23,137 : WARNING : cannot compute similarity with no input ['notankz']\n",
      "2021-05-16 10:21:23,306 : WARNING : cannot compute similarity with no input ['heeyyy']\n"
     ]
    },
    {
     "name": "stdout",
     "output_type": "stream",
     "text": [
      "[]\n",
      "[]\n",
      "[]\n"
     ]
    },
    {
     "name": "stderr",
     "output_type": "stream",
     "text": [
      "2021-05-16 10:21:23,319 : WARNING : cannot compute similarity with no input ['omgnowhy']\n",
      "2021-05-16 10:21:23,375 : WARNING : cannot compute similarity with no input ['gidp']\n",
      "2021-05-16 10:21:23,429 : WARNING : cannot compute similarity with no input ['ihazaheadache']\n",
      "2021-05-16 10:21:23,461 : WARNING : cannot compute similarity with no input ['sowwi']\n"
     ]
    },
    {
     "name": "stdout",
     "output_type": "stream",
     "text": [
      "[]\n",
      "[]\n",
      "[]\n",
      "[]\n"
     ]
    },
    {
     "name": "stderr",
     "output_type": "stream",
     "text": [
      "2021-05-16 10:21:23,526 : WARNING : cannot compute similarity with no input ['missyou']\n",
      "2021-05-16 10:21:23,541 : WARNING : cannot compute similarity with no input ['wankers']\n",
      "2021-05-16 10:21:23,590 : WARNING : cannot compute similarity with no input ['ayudamee']\n",
      "2021-05-16 10:21:23,603 : WARNING : cannot compute similarity with no input ['thankkkks']\n",
      "2021-05-16 10:21:23,622 : WARNING : cannot compute similarity with no input ['daaaaaaaaaaaammmmmnnn', 'yooouuuu']\n",
      "2021-05-16 10:21:23,654 : WARNING : cannot compute similarity with no input ['venezuellaa']\n"
     ]
    },
    {
     "name": "stdout",
     "output_type": "stream",
     "text": [
      "[]\n",
      "[]\n",
      "[]\n",
      "[]\n",
      "[]\n",
      "[]\n"
     ]
    },
    {
     "name": "stderr",
     "output_type": "stream",
     "text": [
      "2021-05-16 10:21:23,771 : WARNING : cannot compute similarity with no input ['combong']\n",
      "2021-05-16 10:21:23,869 : WARNING : cannot compute similarity with no input ['ckberry']\n",
      "2021-05-16 10:21:23,948 : WARNING : cannot compute similarity with no input ['aweh']\n"
     ]
    },
    {
     "name": "stdout",
     "output_type": "stream",
     "text": [
      "[]\n",
      "[]\n",
      "[]\n"
     ]
    },
    {
     "name": "stderr",
     "output_type": "stream",
     "text": [
      "2021-05-16 10:21:24,050 : WARNING : cannot compute similarity with no input ['dondee', 'esthas', 'corazon']\n",
      "2021-05-16 10:21:24,114 : WARNING : cannot compute similarity with no input ['tycody']\n",
      "2021-05-16 10:21:24,151 : WARNING : cannot compute similarity with no input ['drogba', 'equalises']\n",
      "2021-05-16 10:21:24,180 : WARNING : cannot compute similarity with no input ['600words']\n",
      "2021-05-16 10:21:24,213 : WARNING : cannot compute similarity with no input ['huggle']\n",
      "2021-05-16 10:21:24,216 : WARNING : cannot compute similarity with no input ['effectivement']\n"
     ]
    },
    {
     "name": "stdout",
     "output_type": "stream",
     "text": [
      "[]\n",
      "[]\n",
      "[]\n",
      "[]\n",
      "[]\n",
      "[]\n"
     ]
    },
    {
     "name": "stderr",
     "output_type": "stream",
     "text": [
      "2021-05-16 10:21:24,400 : WARNING : cannot compute similarity with no input ['aawww']\n",
      "2021-05-16 10:21:24,458 : WARNING : cannot compute similarity with no input ['ahi']\n"
     ]
    },
    {
     "name": "stdout",
     "output_type": "stream",
     "text": [
      "[]\n",
      "[]\n"
     ]
    },
    {
     "name": "stderr",
     "output_type": "stream",
     "text": [
      "2021-05-16 10:21:24,620 : WARNING : cannot compute similarity with no input ['mykneehurtsofuckingbad']\n",
      "2021-05-16 10:21:24,644 : WARNING : cannot compute similarity with no input ['exausto']\n",
      "2021-05-16 10:21:24,681 : WARNING : cannot compute similarity with no input ['soninho']\n",
      "2021-05-16 10:21:24,814 : WARNING : cannot compute similarity with no input ['ngampussss']\n"
     ]
    },
    {
     "name": "stdout",
     "output_type": "stream",
     "text": [
      "[]\n",
      "[]\n",
      "[]\n",
      "[]\n"
     ]
    },
    {
     "name": "stderr",
     "output_type": "stream",
     "text": [
      "2021-05-16 10:21:24,889 : WARNING : cannot compute similarity with no input ['versehen']\n",
      "2021-05-16 10:21:24,940 : WARNING : cannot compute similarity with no input ['whrrrruu']\n",
      "2021-05-16 10:21:25,041 : WARNING : cannot compute similarity with no input ['pusiing']\n"
     ]
    },
    {
     "name": "stdout",
     "output_type": "stream",
     "text": [
      "[]\n",
      "[]\n",
      "[]\n"
     ]
    },
    {
     "name": "stderr",
     "output_type": "stream",
     "text": [
      "2021-05-16 10:21:25,193 : WARNING : cannot compute similarity with no input ['cmo', 'funciona', 'esto']\n",
      "2021-05-16 10:21:25,223 : WARNING : cannot compute similarity with no input ['weatherfail']\n",
      "2021-05-16 10:21:25,269 : WARNING : cannot compute similarity with no input ['worktime']\n",
      "2021-05-16 10:21:25,272 : WARNING : cannot compute similarity with no input ['revisin']\n"
     ]
    },
    {
     "name": "stdout",
     "output_type": "stream",
     "text": [
      "[]\n",
      "[]\n",
      "[]\n",
      "[]\n",
      "[]"
     ]
    },
    {
     "name": "stderr",
     "output_type": "stream",
     "text": [
      "2021-05-16 10:21:25,395 : WARNING : cannot compute similarity with no input ['9dayss']\n",
      "2021-05-16 10:21:25,484 : WARNING : cannot compute similarity with no input ['rvghosttown']\n",
      "2021-05-16 10:21:25,560 : WARNING : cannot compute similarity with no input ['anyonee', 'onn']\n"
     ]
    },
    {
     "name": "stdout",
     "output_type": "stream",
     "text": [
      "\n",
      "[]\n",
      "[]\n"
     ]
    },
    {
     "name": "stderr",
     "output_type": "stream",
     "text": [
      "2021-05-16 10:21:25,745 : WARNING : cannot compute similarity with no input ['rottedd']\n",
      "2021-05-16 10:21:25,782 : WARNING : cannot compute similarity with no input ['youtwitface']\n",
      "2021-05-16 10:21:25,795 : WARNING : cannot compute similarity with no input ['houseguests']\n",
      "2021-05-16 10:21:25,923 : WARNING : cannot compute similarity with no input ['flikrmail']\n"
     ]
    },
    {
     "name": "stdout",
     "output_type": "stream",
     "text": [
      "[]\n",
      "[]\n",
      "[]\n",
      "[]\n"
     ]
    },
    {
     "name": "stderr",
     "output_type": "stream",
     "text": [
      "2021-05-16 10:21:25,968 : WARNING : cannot compute similarity with no input ['lowbatt']\n",
      "2021-05-16 10:21:26,112 : WARNING : cannot compute similarity with no input ['poooooooor', 'sheeeep']\n"
     ]
    },
    {
     "name": "stdout",
     "output_type": "stream",
     "text": [
      "[]\n",
      "[]\n"
     ]
    },
    {
     "name": "stderr",
     "output_type": "stream",
     "text": [
      "2021-05-16 10:21:26,181 : WARNING : cannot compute similarity with no input ['jbg', 'nemam']\n",
      "2021-05-16 10:21:26,198 : WARNING : cannot compute similarity with no input ['pusiing']\n",
      "2021-05-16 10:21:26,235 : WARNING : cannot compute similarity with no input ['earthquack']\n",
      "2021-05-16 10:21:26,248 : WARNING : cannot compute similarity with no input ['exaaaaams']\n",
      "2021-05-16 10:21:26,289 : WARNING : cannot compute similarity with no input ['mybe']\n"
     ]
    },
    {
     "name": "stdout",
     "output_type": "stream",
     "text": [
      "[]\n",
      "[]\n",
      "[]\n",
      "[]\n",
      "[]\n"
     ]
    },
    {
     "name": "stderr",
     "output_type": "stream",
     "text": [
      "2021-05-16 10:21:26,512 : WARNING : cannot compute similarity with no input ['neeeeeeeeeeeeeeeeeeeeneeeeeeeeeeeneeeeeeeeee']\n",
      "2021-05-16 10:21:26,523 : WARNING : cannot compute similarity with no input ['capee']\n",
      "2021-05-16 10:21:26,619 : WARNING : cannot compute similarity with no input ['bogusss']\n",
      "2021-05-16 10:21:26,694 : WARNING : cannot compute similarity with no input ['stressssssssssssssssssed']\n"
     ]
    },
    {
     "name": "stdout",
     "output_type": "stream",
     "text": [
      "[]\n",
      "[]\n",
      "[]\n",
      "[]\n"
     ]
    },
    {
     "name": "stderr",
     "output_type": "stream",
     "text": [
      "2021-05-16 10:21:26,705 : WARNING : cannot compute similarity with no input ['wuiih', 'lemesh']\n",
      "2021-05-16 10:21:26,767 : WARNING : cannot compute similarity with no input ['exacly']\n",
      "2021-05-16 10:21:26,812 : WARNING : cannot compute similarity with no input ['missssyou', 'stina']\n",
      "2021-05-16 10:21:26,837 : WARNING : cannot compute similarity with no input ['nincs', 'gz', 'anysnl', 'frdnk']\n",
      "2021-05-16 10:21:26,842 : WARNING : cannot compute similarity with no input ['dois', 'picols', 'ento']\n",
      "2021-05-16 10:21:26,877 : WARNING : cannot compute similarity with no input ['nopes']\n"
     ]
    },
    {
     "name": "stdout",
     "output_type": "stream",
     "text": [
      "[]\n",
      "[]\n",
      "[]\n",
      "[]\n",
      "[]\n",
      "[]\n"
     ]
    },
    {
     "name": "stderr",
     "output_type": "stream",
     "text": [
      "2021-05-16 10:21:26,898 : WARNING : cannot compute similarity with no input ['thankiiees']\n",
      "2021-05-16 10:21:26,903 : WARNING : cannot compute similarity with no input ['ss501']\n",
      "2021-05-16 10:21:26,929 : WARNING : cannot compute similarity with no input ['workiando']\n",
      "2021-05-16 10:21:26,934 : WARNING : cannot compute similarity with no input ['jup']\n",
      "2021-05-16 10:21:26,946 : WARNING : cannot compute similarity with no input ['wiilllllllllllllllll']\n",
      "2021-05-16 10:21:26,952 : WARNING : cannot compute similarity with no input ['sii']\n",
      "2021-05-16 10:21:26,958 : WARNING : cannot compute similarity with no input ['twelcome']\n",
      "2021-05-16 10:21:26,960 : WARNING : cannot compute similarity with no input ['beachface']\n",
      "2021-05-16 10:21:26,966 : WARNING : cannot compute similarity with no input ['yesssssssssssssssssssss']\n",
      "2021-05-16 10:21:26,967 : WARNING : cannot compute similarity with no input ['thanxx']\n",
      "2021-05-16 10:21:26,972 : WARNING : cannot compute similarity with no input ['aham']\n",
      "2021-05-16 10:21:27,033 : WARNING : cannot compute similarity with no input ['awsomee']\n",
      "2021-05-16 10:21:27,052 : WARNING : cannot compute similarity with no input ['farin', 'urlaub', 'sonne']\n",
      "2021-05-16 10:21:27,089 : WARNING : cannot compute similarity with no input ['eeeeeeeeeeeeeeeeeeeeeeeeeeeeeeee', 'giles']\n"
     ]
    },
    {
     "name": "stdout",
     "output_type": "stream",
     "text": [
      "[]\n",
      "[]\n",
      "[]\n",
      "[]\n",
      "[]\n",
      "[]\n",
      "[]\n",
      "[]\n",
      "[]\n",
      "[]\n",
      "[]\n",
      "[]\n",
      "[]\n",
      "[]\n"
     ]
    },
    {
     "name": "stderr",
     "output_type": "stream",
     "text": [
      "2021-05-16 10:21:27,111 : WARNING : cannot compute similarity with no input ['chillllllllllllling']\n",
      "2021-05-16 10:21:27,118 : WARNING : cannot compute similarity with no input ['cookingg']\n",
      "2021-05-16 10:21:27,168 : WARNING : cannot compute similarity with no input ['bisous', 'loulou']\n",
      "2021-05-16 10:21:27,188 : WARNING : cannot compute similarity with no input ['github']\n",
      "2021-05-16 10:21:27,212 : WARNING : cannot compute similarity with no input ['odeame']\n",
      "2021-05-16 10:21:27,232 : WARNING : cannot compute similarity with no input ['thursdayy']\n",
      "2021-05-16 10:21:27,275 : WARNING : cannot compute similarity with no input ['thankyoou']\n"
     ]
    },
    {
     "name": "stdout",
     "output_type": "stream",
     "text": [
      "[]\n",
      "[]\n",
      "[]\n",
      "[]\n",
      "[]\n",
      "[]\n",
      "[]\n"
     ]
    },
    {
     "name": "stderr",
     "output_type": "stream",
     "text": [
      "2021-05-16 10:21:27,335 : WARNING : cannot compute similarity with no input ['muums']\n",
      "2021-05-16 10:21:27,367 : WARNING : cannot compute similarity with no input ['vem', 'pela', 'sombra']\n",
      "2021-05-16 10:21:27,375 : WARNING : cannot compute similarity with no input ['yeesss']\n",
      "2021-05-16 10:21:27,398 : WARNING : cannot compute similarity with no input ['toon']\n",
      "2021-05-16 10:21:27,409 : WARNING : cannot compute similarity with no input ['santaii', 'soree']\n",
      "2021-05-16 10:21:27,465 : WARNING : cannot compute similarity with no input ['yummmmmmmmmmm']\n",
      "2021-05-16 10:21:27,489 : WARNING : cannot compute similarity with no input ['ooooooooh']\n",
      "2021-05-16 10:21:27,501 : WARNING : cannot compute similarity with no input ['goooo', 'rhody', 'uri']\n",
      "2021-05-16 10:21:27,516 : WARNING : cannot compute similarity with no input ['thanxxx']\n"
     ]
    },
    {
     "name": "stdout",
     "output_type": "stream",
     "text": [
      "[]\n",
      "[]\n",
      "[]\n",
      "[]\n",
      "[]\n",
      "[]\n",
      "[]\n",
      "[]\n",
      "[]\n"
     ]
    },
    {
     "name": "stderr",
     "output_type": "stream",
     "text": [
      "2021-05-16 10:21:27,520 : WARNING : cannot compute similarity with no input ['moin', 'tatjana']\n",
      "2021-05-16 10:21:27,531 : WARNING : cannot compute similarity with no input ['swiitch', 'reloaded']\n",
      "2021-05-16 10:21:27,605 : WARNING : cannot compute similarity with no input ['imtakeya']\n",
      "2021-05-16 10:21:27,611 : WARNING : cannot compute similarity with no input ['heyyhoo', 'heyhey']\n",
      "2021-05-16 10:21:27,625 : WARNING : cannot compute similarity with no input ['hitech']\n",
      "2021-05-16 10:21:27,642 : WARNING : cannot compute similarity with no input ['kahjuks', 'mitte']\n",
      "2021-05-16 10:21:27,649 : WARNING : cannot compute similarity with no input ['te9ba7i', '3la', 'khayer', 'roqayah']\n",
      "2021-05-16 10:21:27,705 : WARNING : cannot compute similarity with no input ['eslytelen']\n"
     ]
    },
    {
     "name": "stdout",
     "output_type": "stream",
     "text": [
      "[]\n",
      "[]\n",
      "[]\n",
      "[]\n",
      "[]\n",
      "[]\n",
      "[]\n",
      "[]\n"
     ]
    },
    {
     "name": "stderr",
     "output_type": "stream",
     "text": [
      "2021-05-16 10:21:27,775 : WARNING : cannot compute similarity with no input ['helou']\n",
      "2021-05-16 10:21:27,788 : WARNING : cannot compute similarity with no input ['iloveyoumoree']\n",
      "2021-05-16 10:21:27,797 : WARNING : cannot compute similarity with no input ['schande']\n",
      "2021-05-16 10:21:27,803 : WARNING : cannot compute similarity with no input ['acontece']\n",
      "2021-05-16 10:21:27,916 : WARNING : cannot compute similarity with no input ['fye']\n",
      "2021-05-16 10:21:27,921 : WARNING : cannot compute similarity with no input ['bakgat', 'boererate']\n",
      "2021-05-16 10:21:27,927 : WARNING : cannot compute similarity with no input ['teewars']\n",
      "2021-05-16 10:21:27,945 : WARNING : cannot compute similarity with no input ['soundtripping']\n",
      "2021-05-16 10:21:27,969 : WARNING : cannot compute similarity with no input ['summerrrrr']\n"
     ]
    },
    {
     "name": "stdout",
     "output_type": "stream",
     "text": [
      "[]\n",
      "[]\n",
      "[]\n",
      "[]\n",
      "[]\n",
      "[]\n",
      "[]\n",
      "[]\n",
      "[]\n"
     ]
    },
    {
     "name": "stderr",
     "output_type": "stream",
     "text": [
      "2021-05-16 10:21:28,053 : WARNING : cannot compute similarity with no input ['eatinggg']\n",
      "2021-05-16 10:21:28,061 : WARNING : cannot compute similarity with no input ['thku4']\n",
      "2021-05-16 10:21:28,086 : WARNING : cannot compute similarity with no input ['surprisee']\n",
      "2021-05-16 10:21:28,145 : WARNING : cannot compute similarity with no input ['hehehee']\n",
      "2021-05-16 10:21:28,147 : WARNING : cannot compute similarity with no input ['yuppers']\n",
      "2021-05-16 10:21:28,237 : WARNING : cannot compute similarity with no input ['qui', 'contient']\n"
     ]
    },
    {
     "name": "stdout",
     "output_type": "stream",
     "text": [
      "[]\n",
      "[]\n",
      "[]\n",
      "[]\n",
      "[]\n",
      "[]\n"
     ]
    },
    {
     "name": "stderr",
     "output_type": "stream",
     "text": [
      "2021-05-16 10:21:28,265 : WARNING : cannot compute similarity with no input ['morrrning']\n",
      "2021-05-16 10:21:28,302 : WARNING : cannot compute similarity with no input ['twittucandus']\n",
      "2021-05-16 10:21:28,336 : WARNING : cannot compute similarity with no input ['hiyas']\n",
      "2021-05-16 10:21:28,384 : WARNING : cannot compute similarity with no input ['soundtripping']\n",
      "2021-05-16 10:21:28,404 : WARNING : cannot compute similarity with no input ['cuuzee']\n",
      "2021-05-16 10:21:28,410 : WARNING : cannot compute similarity with no input ['hohoho']\n",
      "2021-05-16 10:21:28,414 : WARNING : cannot compute similarity with no input ['3awafi']\n"
     ]
    },
    {
     "name": "stdout",
     "output_type": "stream",
     "text": [
      "[]\n",
      "[]\n",
      "[]\n",
      "[]\n",
      "[]\n",
      "[]\n",
      "[]\n"
     ]
    },
    {
     "name": "stderr",
     "output_type": "stream",
     "text": [
      "2021-05-16 10:21:28,459 : WARNING : cannot compute similarity with no input ['suerte']\n",
      "2021-05-16 10:21:28,478 : WARNING : cannot compute similarity with no input ['hellloo']\n",
      "2021-05-16 10:21:28,498 : WARNING : cannot compute similarity with no input ['fliink']\n",
      "2021-05-16 10:21:28,520 : WARNING : cannot compute similarity with no input ['iloovemynewbackground']\n",
      "2021-05-16 10:21:28,568 : WARNING : cannot compute similarity with no input ['dekh', 'bhai', 'dekh']\n",
      "2021-05-16 10:21:28,612 : WARNING : cannot compute similarity with no input ['buscando', 'ghostsbusters']\n",
      "2021-05-16 10:21:28,614 : WARNING : cannot compute similarity with no input ['ruphotography']\n"
     ]
    },
    {
     "name": "stdout",
     "output_type": "stream",
     "text": [
      "[]\n",
      "[]\n",
      "[]\n",
      "[]\n",
      "[]\n",
      "[]\n",
      "[]\n"
     ]
    },
    {
     "name": "stderr",
     "output_type": "stream",
     "text": [
      "2021-05-16 10:21:28,674 : WARNING : cannot compute similarity with no input ['locoo']\n",
      "2021-05-16 10:21:28,693 : WARNING : cannot compute similarity with no input ['b00m', 'headshot']\n",
      "2021-05-16 10:21:28,697 : WARNING : cannot compute similarity with no input ['ohkayy']\n",
      "2021-05-16 10:21:28,786 : WARNING : cannot compute similarity with no input ['rthx']\n",
      "2021-05-16 10:21:28,858 : WARNING : cannot compute similarity with no input ['yesir']\n"
     ]
    },
    {
     "name": "stdout",
     "output_type": "stream",
     "text": [
      "[]\n",
      "[]\n",
      "[]\n",
      "[]\n",
      "[]\n"
     ]
    },
    {
     "name": "stderr",
     "output_type": "stream",
     "text": [
      "2021-05-16 10:21:28,879 : WARNING : cannot compute similarity with no input ['test873645663566625']\n",
      "2021-05-16 10:21:29,011 : WARNING : cannot compute similarity with no input ['tinstaafl']\n",
      "2021-05-16 10:21:29,045 : WARNING : cannot compute similarity with no input ['knnyen', 'adod', 'magad']\n",
      "2021-05-16 10:21:29,057 : WARNING : cannot compute similarity with no input ['solvent', 'fumes']\n"
     ]
    },
    {
     "name": "stdout",
     "output_type": "stream",
     "text": [
      "[]\n",
      "[]\n",
      "[]\n",
      "[]\n"
     ]
    },
    {
     "name": "stderr",
     "output_type": "stream",
     "text": [
      "2021-05-16 10:21:29,177 : WARNING : cannot compute similarity with no input ['braggart']\n",
      "2021-05-16 10:21:29,201 : WARNING : cannot compute similarity with no input ['thankiness']\n",
      "2021-05-16 10:21:29,220 : WARNING : cannot compute similarity with no input ['fg682', 'ssh']\n",
      "2021-05-16 10:21:29,233 : WARNING : cannot compute similarity with no input ['thanksie']\n"
     ]
    },
    {
     "name": "stdout",
     "output_type": "stream",
     "text": [
      "[]\n",
      "[]\n",
      "[]\n",
      "[]\n"
     ]
    },
    {
     "name": "stderr",
     "output_type": "stream",
     "text": [
      "2021-05-16 10:21:29,388 : WARNING : cannot compute similarity with no input ['ooi']\n",
      "2021-05-16 10:21:29,410 : WARNING : cannot compute similarity with no input ['byerssss']\n",
      "2021-05-16 10:21:29,433 : WARNING : cannot compute similarity with no input ['supi', 'knuddel']\n",
      "2021-05-16 10:21:29,453 : WARNING : cannot compute similarity with no input ['epiphany']\n",
      "2021-05-16 10:21:29,464 : WARNING : cannot compute similarity with no input ['chiilllling']\n",
      "2021-05-16 10:21:29,541 : WARNING : cannot compute similarity with no input ['facepalm']\n"
     ]
    },
    {
     "name": "stdout",
     "output_type": "stream",
     "text": [
      "[]\n",
      "[]\n",
      "[]\n",
      "[]\n",
      "[]\n",
      "[]\n"
     ]
    },
    {
     "name": "stderr",
     "output_type": "stream",
     "text": [
      "2021-05-16 10:21:29,636 : WARNING : cannot compute similarity with no input ['ducttape']\n",
      "2021-05-16 10:21:29,647 : WARNING : cannot compute similarity with no input ['corinthians']\n",
      "2021-05-16 10:21:29,649 : WARNING : cannot compute similarity with no input ['shonteeis', 'herrree']\n",
      "2021-05-16 10:21:29,674 : WARNING : cannot compute similarity with no input ['gotya']\n",
      "2021-05-16 10:21:29,682 : WARNING : cannot compute similarity with no input ['crenshawwwwwwwwww']\n",
      "2021-05-16 10:21:29,686 : WARNING : cannot compute similarity with no input ['peacee']\n",
      "2021-05-16 10:21:29,700 : WARNING : cannot compute similarity with no input ['happybirthday']\n",
      "2021-05-16 10:21:29,716 : WARNING : cannot compute similarity with no input ['moviess']\n",
      "2021-05-16 10:21:29,728 : WARNING : cannot compute similarity with no input ['halllloo']\n",
      "2021-05-16 10:21:29,746 : WARNING : cannot compute similarity with no input ['mmhmph']\n",
      "2021-05-16 10:21:29,748 : WARNING : cannot compute similarity with no input ['xicoo']\n",
      "2021-05-16 10:21:29,755 : WARNING : cannot compute similarity with no input ['filmingggg', 'finalllly']\n",
      "2021-05-16 10:21:29,793 : WARNING : cannot compute similarity with no input ['chilllinggggg']\n",
      "2021-05-16 10:21:29,817 : WARNING : cannot compute similarity with no input ['essited']\n"
     ]
    },
    {
     "name": "stdout",
     "output_type": "stream",
     "text": [
      "[]\n",
      "[]\n",
      "[]\n",
      "[]\n",
      "[]\n",
      "[]\n",
      "[]\n",
      "[]\n",
      "[]\n",
      "[]\n",
      "[]\n",
      "[]\n",
      "[]\n",
      "[]\n"
     ]
    },
    {
     "name": "stderr",
     "output_type": "stream",
     "text": [
      "2021-05-16 10:21:29,874 : WARNING : cannot compute similarity with no input ['witter', 'obsesssed']\n",
      "2021-05-16 10:21:29,916 : WARNING : cannot compute similarity with no input ['soundslikespreadshirt']\n",
      "2021-05-16 10:21:29,929 : WARNING : cannot compute similarity with no input ['morsche']\n",
      "2021-05-16 10:21:29,933 : WARNING : cannot compute similarity with no input ['shopppingggg']\n",
      "2021-05-16 10:21:29,956 : WARNING : cannot compute similarity with no input ['scanlations']\n",
      "2021-05-16 10:21:29,975 : WARNING : cannot compute similarity with no input ['hurraaaay', 'successsss']\n",
      "2021-05-16 10:21:30,002 : WARNING : cannot compute similarity with no input ['shupppppp']\n",
      "2021-05-16 10:21:30,009 : WARNING : cannot compute similarity with no input ['whatupwhatupwhatup']\n",
      "2021-05-16 10:21:30,010 : WARNING : cannot compute similarity with no input ['buckweet', 'foreal']\n",
      "2021-05-16 10:21:30,038 : WARNING : cannot compute similarity with no input ['sunshinee']\n",
      "2021-05-16 10:21:30,058 : WARNING : cannot compute similarity with no input ['shmokey']\n"
     ]
    },
    {
     "name": "stdout",
     "output_type": "stream",
     "text": [
      "[]\n",
      "[]\n",
      "[]\n",
      "[]\n",
      "[]\n",
      "[]\n",
      "[]\n",
      "[]\n",
      "[]\n",
      "[]\n",
      "[]\n"
     ]
    },
    {
     "name": "stderr",
     "output_type": "stream",
     "text": [
      "2021-05-16 10:21:30,068 : WARNING : cannot compute similarity with no input ['dankeschn']\n",
      "2021-05-16 10:21:30,072 : WARNING : cannot compute similarity with no input ['andree']\n",
      "2021-05-16 10:21:30,150 : WARNING : cannot compute similarity with no input ['haaaaaaaaaardbase']\n",
      "2021-05-16 10:21:30,192 : WARNING : cannot compute similarity with no input ['gefeliciteerd']\n",
      "2021-05-16 10:21:30,194 : WARNING : cannot compute similarity with no input ['surrree']\n",
      "2021-05-16 10:21:30,206 : WARNING : cannot compute similarity with no input ['mto', 'bacana', 'esse', 'searchcast']\n",
      "2021-05-16 10:21:30,230 : WARNING : cannot compute similarity with no input ['showwwwweerrr']\n",
      "2021-05-16 10:21:30,233 : WARNING : cannot compute similarity with no input ['jttk', 'angyalfldre']\n",
      "2021-05-16 10:21:30,264 : WARNING : cannot compute similarity with no input ['shnaapp', 'nour', 'zaki']\n"
     ]
    },
    {
     "name": "stdout",
     "output_type": "stream",
     "text": [
      "[]\n",
      "[]\n",
      "[]\n",
      "[]\n",
      "[]\n",
      "[]\n",
      "[]\n",
      "[]\n",
      "[]\n"
     ]
    },
    {
     "name": "stderr",
     "output_type": "stream",
     "text": [
      "2021-05-16 10:21:30,340 : WARNING : cannot compute similarity with no input ['greeeeeeeeece']\n",
      "2021-05-16 10:21:30,381 : WARNING : cannot compute similarity with no input ['shoopping']\n",
      "2021-05-16 10:21:30,407 : WARNING : cannot compute similarity with no input ['oii', 'stefhany']\n",
      "2021-05-16 10:21:30,420 : WARNING : cannot compute similarity with no input ['omgomgomgomgomgomgomg', 'atlatlatlatlatl', 'tomorrrrrrowww']\n",
      "2021-05-16 10:21:30,442 : WARNING : cannot compute similarity with no input ['ruilen']\n",
      "2021-05-16 10:21:30,504 : WARNING : cannot compute similarity with no input ['hmmmmmmm']\n",
      "2021-05-16 10:21:30,518 : WARNING : cannot compute similarity with no input ['twitterpated']\n"
     ]
    },
    {
     "name": "stdout",
     "output_type": "stream",
     "text": [
      "[]\n",
      "[]\n",
      "[]\n",
      "[]\n",
      "[]\n",
      "[]\n",
      "[]\n"
     ]
    },
    {
     "name": "stderr",
     "output_type": "stream",
     "text": [
      "2021-05-16 10:21:30,540 : WARNING : cannot compute similarity with no input ['mercikes']\n",
      "2021-05-16 10:21:30,578 : WARNING : cannot compute similarity with no input ['youtwitface']\n",
      "2021-05-16 10:21:30,580 : WARNING : cannot compute similarity with no input ['beautiiful', 'piicture']\n",
      "2021-05-16 10:21:30,592 : WARNING : cannot compute similarity with no input ['hellloo']\n",
      "2021-05-16 10:21:30,669 : WARNING : cannot compute similarity with no input ['hemm', 'cantik']\n",
      "2021-05-16 10:21:30,695 : WARNING : cannot compute similarity with no input ['huggggggggg']\n"
     ]
    },
    {
     "name": "stdout",
     "output_type": "stream",
     "text": [
      "[]\n",
      "[]\n",
      "[]\n",
      "[]\n",
      "[]\n",
      "[]\n"
     ]
    },
    {
     "name": "stderr",
     "output_type": "stream",
     "text": [
      "2021-05-16 10:21:30,737 : WARNING : cannot compute similarity with no input ['decimalbrothers']\n",
      "2021-05-16 10:21:30,749 : WARNING : cannot compute similarity with no input ['touchdown', 'coron']\n",
      "2021-05-16 10:21:30,790 : WARNING : cannot compute similarity with no input ['reviewed']\n",
      "2021-05-16 10:21:30,797 : WARNING : cannot compute similarity with no input ['nacho', 'libre']\n",
      "2021-05-16 10:21:30,813 : WARNING : cannot compute similarity with no input ['moviess']\n",
      "2021-05-16 10:21:30,836 : WARNING : cannot compute similarity with no input ['vborn']\n",
      "2021-05-16 10:21:30,863 : WARNING : cannot compute similarity with no input ['showerd']\n",
      "2021-05-16 10:21:30,879 : WARNING : cannot compute similarity with no input ['viel', 'glck']\n",
      "2021-05-16 10:21:30,911 : WARNING : cannot compute similarity with no input ['definatellllllly']\n",
      "2021-05-16 10:21:30,935 : WARNING : cannot compute similarity with no input ['eventbox']\n"
     ]
    },
    {
     "name": "stdout",
     "output_type": "stream",
     "text": [
      "[]\n",
      "[]\n",
      "[]\n",
      "[]\n",
      "[]\n",
      "[]\n",
      "[]\n",
      "[]\n",
      "[]\n",
      "[]\n"
     ]
    },
    {
     "name": "stderr",
     "output_type": "stream",
     "text": [
      "2021-05-16 10:21:30,963 : WARNING : cannot compute similarity with no input ['kobeeeeee']\n",
      "2021-05-16 10:21:30,972 : WARNING : cannot compute similarity with no input ['purrfect', 'pinup', 'playmates']\n",
      "2021-05-16 10:21:30,978 : WARNING : cannot compute similarity with no input ['thankoos', 'thankoos']\n",
      "2021-05-16 10:21:31,048 : WARNING : cannot compute similarity with no input [\"s'alright\"]\n",
      "2021-05-16 10:21:31,062 : WARNING : cannot compute similarity with no input ['mashi']\n",
      "2021-05-16 10:21:31,083 : WARNING : cannot compute similarity with no input ['electroshock']\n",
      "2021-05-16 10:21:31,100 : WARNING : cannot compute similarity with no input ['tomyam', 'campur', 'satu']\n",
      "2021-05-16 10:21:31,103 : WARNING : cannot compute similarity with no input ['conversating']\n"
     ]
    },
    {
     "name": "stdout",
     "output_type": "stream",
     "text": [
      "[]\n",
      "[]\n",
      "[]\n",
      "[]\n",
      "[]\n",
      "[]\n",
      "[]\n",
      "[]\n"
     ]
    },
    {
     "name": "stderr",
     "output_type": "stream",
     "text": [
      "2021-05-16 10:21:31,272 : WARNING : cannot compute similarity with no input ['chating']\n",
      "2021-05-16 10:21:31,272 : WARNING : cannot compute similarity with no input ['cheater']\n",
      "2021-05-16 10:21:31,290 : WARNING : cannot compute similarity with no input ['perfectionist']\n",
      "2021-05-16 10:21:31,301 : WARNING : cannot compute similarity with no input ['megadeth']\n",
      "2021-05-16 10:21:31,374 : WARNING : cannot compute similarity with no input ['chinesee']\n",
      "2021-05-16 10:21:31,409 : WARNING : cannot compute similarity with no input ['twitterr', 'buddyy']\n",
      "2021-05-16 10:21:31,433 : WARNING : cannot compute similarity with no input ['beaitiful']\n",
      "2021-05-16 10:21:31,491 : WARNING : cannot compute similarity with no input ['shehasmovedon']\n"
     ]
    },
    {
     "name": "stdout",
     "output_type": "stream",
     "text": [
      "[]\n",
      "[]\n",
      "[]\n",
      "[]\n",
      "[]\n",
      "[]\n",
      "[]\n",
      "[]\n"
     ]
    },
    {
     "name": "stderr",
     "output_type": "stream",
     "text": [
      "2021-05-16 10:21:31,495 : WARNING : cannot compute similarity with no input ['homesweethome']\n",
      "2021-05-16 10:21:31,506 : WARNING : cannot compute similarity with no input ['pradedam', 'twittinti']\n",
      "2021-05-16 10:21:31,512 : WARNING : cannot compute similarity with no input ['chirp']\n",
      "2021-05-16 10:21:31,526 : WARNING : cannot compute similarity with no input ['hitdg']\n",
      "2021-05-16 10:21:31,562 : WARNING : cannot compute similarity with no input ['yuummmm']\n",
      "2021-05-16 10:21:31,569 : WARNING : cannot compute similarity with no input ['annyeong']\n",
      "2021-05-16 10:21:31,574 : WARNING : cannot compute similarity with no input ['sh0wer']\n",
      "2021-05-16 10:21:31,600 : WARNING : cannot compute similarity with no input ['moviesmovies']\n",
      "2021-05-16 10:21:31,670 : WARNING : cannot compute similarity with no input ['buond']\n",
      "2021-05-16 10:21:31,682 : WARNING : cannot compute similarity with no input ['optimize']\n"
     ]
    },
    {
     "name": "stdout",
     "output_type": "stream",
     "text": [
      "[]\n",
      "[]\n",
      "[]\n",
      "[]\n",
      "[]\n",
      "[]\n",
      "[]\n",
      "[]\n",
      "[]\n",
      "[]\n"
     ]
    },
    {
     "name": "stderr",
     "output_type": "stream",
     "text": [
      "2021-05-16 10:21:31,691 : WARNING : cannot compute similarity with no input ['makasih', 'follownya']\n",
      "2021-05-16 10:21:31,727 : WARNING : cannot compute similarity with no input ['goodnighttttt']\n",
      "2021-05-16 10:21:31,748 : WARNING : cannot compute similarity with no input ['jux', 'chilaxin']\n",
      "2021-05-16 10:21:31,784 : WARNING : cannot compute similarity with no input ['beidem', 'lach']\n",
      "2021-05-16 10:21:31,801 : WARNING : cannot compute similarity with no input ['inveja']\n",
      "2021-05-16 10:21:31,872 : WARNING : cannot compute similarity with no input ['retwee']\n",
      "2021-05-16 10:21:31,887 : WARNING : cannot compute similarity with no input ['toooo', 'lateee']\n"
     ]
    },
    {
     "name": "stdout",
     "output_type": "stream",
     "text": [
      "[]\n",
      "[]\n",
      "[]\n",
      "[]\n",
      "[]\n",
      "[]\n",
      "[]\n"
     ]
    },
    {
     "name": "stderr",
     "output_type": "stream",
     "text": [
      "2021-05-16 10:21:31,932 : WARNING : cannot compute similarity with no input ['goodnigh']\n",
      "2021-05-16 10:21:31,971 : WARNING : cannot compute similarity with no input ['congrashoooolayshonsss']\n",
      "2021-05-16 10:21:31,974 : WARNING : cannot compute similarity with no input ['lucknow']\n",
      "2021-05-16 10:21:31,978 : WARNING : cannot compute similarity with no input ['thnkz']\n",
      "2021-05-16 10:21:31,984 : WARNING : cannot compute similarity with no input ['thankks']\n",
      "2021-05-16 10:21:31,998 : WARNING : cannot compute similarity with no input ['podcasting']\n",
      "2021-05-16 10:21:32,041 : WARNING : cannot compute similarity with no input ['aiyaamekkkkcited']\n",
      "2021-05-16 10:21:32,052 : WARNING : cannot compute similarity with no input ['whoiskwash']\n",
      "2021-05-16 10:21:32,101 : WARNING : cannot compute similarity with no input ['afteroon']\n",
      "2021-05-16 10:21:32,140 : WARNING : cannot compute similarity with no input ['anglophil']\n"
     ]
    },
    {
     "name": "stdout",
     "output_type": "stream",
     "text": [
      "[]\n",
      "[]\n",
      "[]\n",
      "[]\n",
      "[]\n",
      "[]\n",
      "[]\n",
      "[]\n",
      "[]\n",
      "[]\n"
     ]
    },
    {
     "name": "stderr",
     "output_type": "stream",
     "text": [
      "2021-05-16 10:21:32,168 : WARNING : cannot compute similarity with no input ['journee', 'repos']\n",
      "2021-05-16 10:21:32,178 : WARNING : cannot compute similarity with no input ['yesssssssssssssssssss']\n",
      "2021-05-16 10:21:32,211 : WARNING : cannot compute similarity with no input ['shibby']\n",
      "2021-05-16 10:21:32,233 : WARNING : cannot compute similarity with no input ['whhhasssup', 'ssschick']\n",
      "2021-05-16 10:21:32,269 : WARNING : cannot compute similarity with no input ['yuuppppp']\n",
      "2021-05-16 10:21:32,271 : WARNING : cannot compute similarity with no input ['showerrrr']\n"
     ]
    },
    {
     "name": "stdout",
     "output_type": "stream",
     "text": [
      "[]\n",
      "[]\n",
      "[]\n",
      "[]\n",
      "[]\n",
      "[]\n"
     ]
    },
    {
     "name": "stderr",
     "output_type": "stream",
     "text": [
      "2021-05-16 10:21:32,377 : WARNING : cannot compute similarity with no input ['yeeaah']\n",
      "2021-05-16 10:21:32,392 : WARNING : cannot compute similarity with no input ['spoilsport']\n",
      "2021-05-16 10:21:32,404 : WARNING : cannot compute similarity with no input ['gefeliciteerd']\n",
      "2021-05-16 10:21:32,426 : WARNING : cannot compute similarity with no input ['moshimoshi']\n",
      "2021-05-16 10:21:32,439 : WARNING : cannot compute similarity with no input ['dokus']\n",
      "2021-05-16 10:21:32,468 : WARNING : cannot compute similarity with no input ['greed']\n",
      "2021-05-16 10:21:32,479 : WARNING : cannot compute similarity with no input ['weekendtime']\n",
      "2021-05-16 10:21:32,491 : WARNING : cannot compute similarity with no input ['slipknot']\n",
      "2021-05-16 10:21:32,511 : WARNING : cannot compute similarity with no input ['yaaay']\n"
     ]
    },
    {
     "name": "stdout",
     "output_type": "stream",
     "text": [
      "[]\n",
      "[]\n",
      "[]\n",
      "[]\n",
      "[]\n",
      "[]\n",
      "[]\n",
      "[]\n",
      "[]\n"
     ]
    },
    {
     "name": "stderr",
     "output_type": "stream",
     "text": [
      "2021-05-16 10:21:32,620 : WARNING : cannot compute similarity with no input ['twiiiitter']\n",
      "2021-05-16 10:21:32,630 : WARNING : cannot compute similarity with no input ['mercii']\n",
      "2021-05-16 10:21:32,636 : WARNING : cannot compute similarity with no input ['twitterholics']\n",
      "2021-05-16 10:21:32,641 : WARNING : cannot compute similarity with no input ['ilovecamping']\n",
      "2021-05-16 10:21:32,660 : WARNING : cannot compute similarity with no input ['idgts']\n",
      "2021-05-16 10:21:32,803 : WARNING : cannot compute similarity with no input ['heys']\n"
     ]
    },
    {
     "name": "stdout",
     "output_type": "stream",
     "text": [
      "[]\n",
      "[]\n",
      "[]\n",
      "[]\n",
      "[]\n",
      "[]\n"
     ]
    },
    {
     "name": "stderr",
     "output_type": "stream",
     "text": [
      "2021-05-16 10:21:32,847 : WARNING : cannot compute similarity with no input ['escutem', 'nossas', 'musicas']\n",
      "2021-05-16 10:21:32,896 : WARNING : cannot compute similarity with no input [\"'assie\"]\n",
      "2021-05-16 10:21:32,919 : WARNING : cannot compute similarity with no input ['sevenswords', 'prologue']\n",
      "2021-05-16 10:21:32,935 : WARNING : cannot compute similarity with no input ['notiert']\n",
      "2021-05-16 10:21:32,944 : WARNING : cannot compute similarity with no input ['mdw', 'wildness']\n",
      "2021-05-16 10:21:32,998 : WARNING : cannot compute similarity with no input ['sudah', 'diretweet']\n",
      "2021-05-16 10:21:33,015 : WARNING : cannot compute similarity with no input ['sound3p']\n",
      "2021-05-16 10:21:33,033 : WARNING : cannot compute similarity with no input ['chique']\n"
     ]
    },
    {
     "name": "stdout",
     "output_type": "stream",
     "text": [
      "[]\n",
      "[]\n",
      "[]\n",
      "[]\n",
      "[]\n",
      "[]\n",
      "[]\n",
      "[]\n"
     ]
    },
    {
     "name": "stderr",
     "output_type": "stream",
     "text": [
      "2021-05-16 10:21:33,075 : WARNING : cannot compute similarity with no input ['bubbletea', 'testen']\n",
      "2021-05-16 10:21:33,078 : WARNING : cannot compute similarity with no input ['wgworldwide']\n",
      "2021-05-16 10:21:33,113 : WARNING : cannot compute similarity with no input ['entendi']\n",
      "2021-05-16 10:21:33,163 : WARNING : cannot compute similarity with no input ['screammm', 'aimmm', 'firreeeeeeee']\n",
      "2021-05-16 10:21:33,169 : WARNING : cannot compute similarity with no input ['dugg']\n",
      "2021-05-16 10:21:33,218 : WARNING : cannot compute similarity with no input ['sehr', 'sucht']\n",
      "2021-05-16 10:21:33,228 : WARNING : cannot compute similarity with no input ['shup', 'whatwhatwhat']\n",
      "2021-05-16 10:21:33,242 : WARNING : cannot compute similarity with no input ['redpants']\n",
      "2021-05-16 10:21:33,256 : WARNING : cannot compute similarity with no input ['hallle']\n"
     ]
    },
    {
     "name": "stdout",
     "output_type": "stream",
     "text": [
      "[]\n",
      "[]\n",
      "[]\n",
      "[]\n",
      "[]\n",
      "[]\n",
      "[]\n",
      "[]\n",
      "[]\n"
     ]
    },
    {
     "name": "stderr",
     "output_type": "stream",
     "text": [
      "2021-05-16 10:21:33,286 : WARNING : cannot compute similarity with no input ['gefeliciteerd']\n"
     ]
    },
    {
     "name": "stdout",
     "output_type": "stream",
     "text": [
      "[]\n"
     ]
    }
   ],
   "source": [
    "x_train_baseline = word_averaging_list(w2v_baseline, tokenized_train)"
   ]
  },
  {
   "cell_type": "code",
   "execution_count": 56,
   "metadata": {},
   "outputs": [
    {
     "name": "stderr",
     "output_type": "stream",
     "text": [
      "2021-05-16 10:21:33,840 : WARNING : cannot compute similarity with no input ['doesntfeelwel']\n",
      "2021-05-16 10:21:33,890 : WARNING : cannot compute similarity with no input ['shittysunday']\n",
      "2021-05-16 10:21:33,942 : WARNING : cannot compute similarity with no input ['insomniugh']\n"
     ]
    },
    {
     "name": "stdout",
     "output_type": "stream",
     "text": [
      "[]\n",
      "[]\n",
      "[]\n"
     ]
    },
    {
     "name": "stderr",
     "output_type": "stream",
     "text": [
      "2021-05-16 10:21:34,107 : WARNING : cannot compute similarity with no input ['thesims3']\n",
      "2021-05-16 10:21:34,125 : WARNING : cannot compute similarity with no input ['speachlesssssss']\n",
      "2021-05-16 10:21:34,134 : WARNING : cannot compute similarity with no input ['mcgrath']\n",
      "2021-05-16 10:21:34,222 : WARNING : cannot compute similarity with no input ['hallieeeee']\n",
      "2021-05-16 10:21:34,278 : WARNING : cannot compute similarity with no input ['collegian']\n",
      "2021-05-16 10:21:34,288 : WARNING : cannot compute similarity with no input ['esuk', 'durang', 'belayar']\n"
     ]
    },
    {
     "name": "stdout",
     "output_type": "stream",
     "text": [
      "[]\n",
      "[]\n",
      "[]\n",
      "[]\n",
      "[]\n",
      "[]\n"
     ]
    },
    {
     "name": "stderr",
     "output_type": "stream",
     "text": [
      "2021-05-16 10:21:34,293 : WARNING : cannot compute similarity with no input ['helpmepleas']\n",
      "2021-05-16 10:21:34,430 : WARNING : cannot compute similarity with no input ['secar', 'louaa']\n",
      "2021-05-16 10:21:34,474 : WARNING : cannot compute similarity with no input ['sadddddd']\n"
     ]
    },
    {
     "name": "stdout",
     "output_type": "stream",
     "text": [
      "[]\n",
      "[]\n",
      "[]\n"
     ]
    },
    {
     "name": "stderr",
     "output_type": "stream",
     "text": [
      "2021-05-16 10:21:34,576 : WARNING : cannot compute similarity with no input ['okok', 'surt']\n",
      "2021-05-16 10:21:34,658 : WARNING : cannot compute similarity with no input ['revisinggg']\n",
      "2021-05-16 10:21:34,723 : WARNING : cannot compute similarity with no input ['fd', 'acab']\n",
      "2021-05-16 10:21:34,767 : WARNING : cannot compute similarity with no input ['tiirre']\n"
     ]
    },
    {
     "name": "stdout",
     "output_type": "stream",
     "text": [
      "[]\n",
      "[]\n",
      "[]\n",
      "[]\n"
     ]
    },
    {
     "name": "stderr",
     "output_type": "stream",
     "text": [
      "2021-05-16 10:21:34,813 : WARNING : cannot compute similarity with no input ['cof', 'cof', 'cof']\n",
      "2021-05-16 10:21:34,835 : WARNING : cannot compute similarity with no input ['unreach']\n",
      "2021-05-16 10:21:34,892 : WARNING : cannot compute similarity with no input ['riannna', 'imy2']\n"
     ]
    },
    {
     "name": "stdout",
     "output_type": "stream",
     "text": [
      "[]\n",
      "[]\n",
      "[]\n"
     ]
    },
    {
     "name": "stderr",
     "output_type": "stream",
     "text": [
      "2021-05-16 10:21:35,133 : WARNING : cannot compute similarity with no input ['potong', 'rambut']\n",
      "2021-05-16 10:21:35,326 : WARNING : cannot compute similarity with no input ['nmmm']\n"
     ]
    },
    {
     "name": "stdout",
     "output_type": "stream",
     "text": [
      "[]\n",
      "[]\n"
     ]
    },
    {
     "name": "stderr",
     "output_type": "stream",
     "text": [
      "2021-05-16 10:21:35,395 : WARNING : cannot compute similarity with no input ['noctur', 'myclonu']\n",
      "2021-05-16 10:21:35,541 : WARNING : cannot compute similarity with no input ['oouch']\n",
      "2021-05-16 10:21:35,576 : WARNING : cannot compute similarity with no input ['unfortunatelli']\n",
      "2021-05-16 10:21:35,597 : WARNING : cannot compute similarity with no input ['crampssssss']\n"
     ]
    },
    {
     "name": "stdout",
     "output_type": "stream",
     "text": [
      "[]\n",
      "[]\n",
      "[]\n",
      "[]\n"
     ]
    },
    {
     "name": "stderr",
     "output_type": "stream",
     "text": [
      "2021-05-16 10:21:35,771 : WARNING : cannot compute similarity with no input ['pling', 'pling']\n",
      "2021-05-16 10:21:35,783 : WARNING : cannot compute similarity with no input ['misunderstood']\n",
      "2021-05-16 10:21:35,858 : WARNING : cannot compute similarity with no input ['sleepdisorderssuckassandihaveonewhyaminotusingthespacebar', 'idkwhocaresmyinsomniaisback']\n",
      "2021-05-16 10:21:35,886 : WARNING : cannot compute similarity with no input ['pancreat']\n",
      "2021-05-16 10:21:35,931 : WARNING : cannot compute similarity with no input ['offlineeeeeee']\n",
      "2021-05-16 10:21:35,979 : WARNING : cannot compute similarity with no input ['wompppp', 'wompp']\n"
     ]
    },
    {
     "name": "stdout",
     "output_type": "stream",
     "text": [
      "[]\n",
      "[]\n",
      "[]\n",
      "[]\n",
      "[]\n",
      "[]\n"
     ]
    },
    {
     "name": "stderr",
     "output_type": "stream",
     "text": [
      "2021-05-16 10:21:36,023 : WARNING : cannot compute similarity with no input ['madness']\n",
      "2021-05-16 10:21:36,140 : WARNING : cannot compute similarity with no input ['imisspeoplethatihaventtalkedtoforarealllylongtim', 'iwonderhowtheyaredo']\n",
      "2021-05-16 10:21:36,153 : WARNING : cannot compute similarity with no input ['prop8', 'overturn']\n"
     ]
    },
    {
     "name": "stdout",
     "output_type": "stream",
     "text": [
      "[]\n",
      "[]\n",
      "[]\n"
     ]
    },
    {
     "name": "stderr",
     "output_type": "stream",
     "text": [
      "2021-05-16 10:21:36,309 : WARNING : cannot compute similarity with no input ['stressedddddddddddddddd']\n",
      "2021-05-16 10:21:36,382 : WARNING : cannot compute similarity with no input ['shutup']\n",
      "2021-05-16 10:21:36,467 : WARNING : cannot compute similarity with no input ['sux2bu']\n"
     ]
    },
    {
     "name": "stdout",
     "output_type": "stream",
     "text": [
      "[]\n",
      "[]\n",
      "[]\n"
     ]
    },
    {
     "name": "stderr",
     "output_type": "stream",
     "text": [
      "2021-05-16 10:21:36,547 : WARNING : cannot compute similarity with no input ['donne', 'frieday']\n",
      "2021-05-16 10:21:36,586 : WARNING : cannot compute similarity with no input ['notankz']\n"
     ]
    },
    {
     "name": "stdout",
     "output_type": "stream",
     "text": [
      "[]\n",
      "[]\n"
     ]
    },
    {
     "name": "stderr",
     "output_type": "stream",
     "text": [
      "2021-05-16 10:21:36,757 : WARNING : cannot compute similarity with no input ['heeyyy']\n",
      "2021-05-16 10:21:36,769 : WARNING : cannot compute similarity with no input ['omgnowhi']\n",
      "2021-05-16 10:21:36,826 : WARNING : cannot compute similarity with no input ['gidp']\n",
      "2021-05-16 10:21:36,878 : WARNING : cannot compute similarity with no input ['ihazaheadach']\n"
     ]
    },
    {
     "name": "stdout",
     "output_type": "stream",
     "text": [
      "[]\n",
      "[]\n",
      "[]\n",
      "[]\n"
     ]
    },
    {
     "name": "stderr",
     "output_type": "stream",
     "text": [
      "2021-05-16 10:21:36,974 : WARNING : cannot compute similarity with no input ['missyou']\n",
      "2021-05-16 10:21:37,036 : WARNING : cannot compute similarity with no input ['ayudame']\n",
      "2021-05-16 10:21:37,049 : WARNING : cannot compute similarity with no input ['thankkkk']\n",
      "2021-05-16 10:21:37,069 : WARNING : cannot compute similarity with no input ['daaaaaaaaaaaammmmmnnn', 'yooouuuu']\n",
      "2021-05-16 10:21:37,100 : WARNING : cannot compute similarity with no input ['venezuellaa']\n"
     ]
    },
    {
     "name": "stdout",
     "output_type": "stream",
     "text": [
      "[]\n",
      "[]\n",
      "[]\n",
      "[]\n",
      "[]\n"
     ]
    },
    {
     "name": "stderr",
     "output_type": "stream",
     "text": [
      "2021-05-16 10:21:37,217 : WARNING : cannot compute similarity with no input ['combong']\n",
      "2021-05-16 10:21:37,323 : WARNING : cannot compute similarity with no input ['ckberri']\n"
     ]
    },
    {
     "name": "stdout",
     "output_type": "stream",
     "text": [
      "[]\n",
      "[]\n",
      "[]\n"
     ]
    },
    {
     "name": "stderr",
     "output_type": "stream",
     "text": [
      "2021-05-16 10:21:37,403 : WARNING : cannot compute similarity with no input ['aweh']\n",
      "2021-05-16 10:21:37,506 : WARNING : cannot compute similarity with no input ['donde', 'estha', 'corazon']\n",
      "2021-05-16 10:21:37,563 : WARNING : cannot compute similarity with no input ['tycodi']\n",
      "2021-05-16 10:21:37,600 : WARNING : cannot compute similarity with no input ['drogba', 'equalis']\n",
      "2021-05-16 10:21:37,629 : WARNING : cannot compute similarity with no input ['600word']\n",
      "2021-05-16 10:21:37,666 : WARNING : cannot compute similarity with no input ['effectiv']\n"
     ]
    },
    {
     "name": "stdout",
     "output_type": "stream",
     "text": [
      "[]\n",
      "[]\n",
      "[]\n",
      "[]\n",
      "[]\n"
     ]
    },
    {
     "name": "stderr",
     "output_type": "stream",
     "text": [
      "2021-05-16 10:21:37,854 : WARNING : cannot compute similarity with no input ['aawww']\n",
      "2021-05-16 10:21:37,911 : WARNING : cannot compute similarity with no input ['ahi']\n"
     ]
    },
    {
     "name": "stdout",
     "output_type": "stream",
     "text": [
      "[]\n",
      "[]\n"
     ]
    },
    {
     "name": "stderr",
     "output_type": "stream",
     "text": [
      "2021-05-16 10:21:38,083 : WARNING : cannot compute similarity with no input ['mykneehurtsofuckingbad']\n",
      "2021-05-16 10:21:38,108 : WARNING : cannot compute similarity with no input ['exausto']\n",
      "2021-05-16 10:21:38,147 : WARNING : cannot compute similarity with no input ['soninho']\n",
      "2021-05-16 10:21:38,297 : WARNING : cannot compute similarity with no input ['ngampussss']\n"
     ]
    },
    {
     "name": "stdout",
     "output_type": "stream",
     "text": [
      "[]\n",
      "[]\n",
      "[]\n",
      "[]\n"
     ]
    },
    {
     "name": "stderr",
     "output_type": "stream",
     "text": [
      "2021-05-16 10:21:38,370 : WARNING : cannot compute similarity with no input ['versehen']\n",
      "2021-05-16 10:21:38,413 : WARNING : cannot compute similarity with no input ['whrrrruu']\n",
      "2021-05-16 10:21:38,508 : WARNING : cannot compute similarity with no input ['pusi']\n"
     ]
    },
    {
     "name": "stdout",
     "output_type": "stream",
     "text": [
      "[]\n",
      "[]\n",
      "[]\n"
     ]
    },
    {
     "name": "stderr",
     "output_type": "stream",
     "text": [
      "2021-05-16 10:21:38,665 : WARNING : cannot compute similarity with no input ['cmo', 'funciona', 'esto']\n",
      "2021-05-16 10:21:38,691 : WARNING : cannot compute similarity with no input ['weatherfail']\n",
      "2021-05-16 10:21:38,732 : WARNING : cannot compute similarity with no input ['worktim']\n",
      "2021-05-16 10:21:38,735 : WARNING : cannot compute similarity with no input ['revisin']\n",
      "2021-05-16 10:21:38,844 : WARNING : cannot compute similarity with no input ['9dayss']\n"
     ]
    },
    {
     "name": "stdout",
     "output_type": "stream",
     "text": [
      "[]\n",
      "[]\n",
      "[]\n",
      "[]\n",
      "[]\n"
     ]
    },
    {
     "name": "stderr",
     "output_type": "stream",
     "text": [
      "2021-05-16 10:21:38,926 : WARNING : cannot compute similarity with no input ['rvghosttown']\n",
      "2021-05-16 10:21:38,999 : WARNING : cannot compute similarity with no input ['anyone', 'onn']\n"
     ]
    },
    {
     "name": "stdout",
     "output_type": "stream",
     "text": [
      "[]\n",
      "[]\n"
     ]
    },
    {
     "name": "stderr",
     "output_type": "stream",
     "text": [
      "2021-05-16 10:21:39,183 : WARNING : cannot compute similarity with no input ['rottedd']\n",
      "2021-05-16 10:21:39,219 : WARNING : cannot compute similarity with no input ['youtwitfac']\n",
      "2021-05-16 10:21:39,234 : WARNING : cannot compute similarity with no input ['houseguest']\n",
      "2021-05-16 10:21:39,359 : WARNING : cannot compute similarity with no input ['flikrmail']\n"
     ]
    },
    {
     "name": "stdout",
     "output_type": "stream",
     "text": [
      "[]\n",
      "[]\n",
      "[]\n",
      "[]\n"
     ]
    },
    {
     "name": "stderr",
     "output_type": "stream",
     "text": [
      "2021-05-16 10:21:39,404 : WARNING : cannot compute similarity with no input ['lowbatt']\n",
      "2021-05-16 10:21:39,548 : WARNING : cannot compute similarity with no input ['poooooooor', 'sheeeep']\n"
     ]
    },
    {
     "name": "stdout",
     "output_type": "stream",
     "text": [
      "[]\n",
      "[]\n"
     ]
    },
    {
     "name": "stderr",
     "output_type": "stream",
     "text": [
      "2021-05-16 10:21:39,617 : WARNING : cannot compute similarity with no input ['jbg', 'nemam']\n",
      "2021-05-16 10:21:39,634 : WARNING : cannot compute similarity with no input ['pusi']\n",
      "2021-05-16 10:21:39,672 : WARNING : cannot compute similarity with no input ['earthquack']\n",
      "2021-05-16 10:21:39,685 : WARNING : cannot compute similarity with no input ['exaaaaam']\n",
      "2021-05-16 10:21:39,726 : WARNING : cannot compute similarity with no input ['mybe']\n"
     ]
    },
    {
     "name": "stdout",
     "output_type": "stream",
     "text": [
      "[]\n",
      "[]\n",
      "[]\n",
      "[]\n",
      "[]\n"
     ]
    },
    {
     "name": "stderr",
     "output_type": "stream",
     "text": [
      "2021-05-16 10:21:39,961 : WARNING : cannot compute similarity with no input ['neeeeeeeeeeeeeeeeeeeeneeeeeeeeeeeneeeeeeeee']\n",
      "2021-05-16 10:21:40,068 : WARNING : cannot compute similarity with no input ['bogusss']\n",
      "2021-05-16 10:21:40,135 : WARNING : cannot compute similarity with no input ['stressssssssssssssssss']\n",
      "2021-05-16 10:21:40,146 : WARNING : cannot compute similarity with no input ['wuiih', 'lemesh']\n"
     ]
    },
    {
     "name": "stdout",
     "output_type": "stream",
     "text": [
      "[]\n",
      "[]\n",
      "[]\n",
      "[]\n"
     ]
    },
    {
     "name": "stderr",
     "output_type": "stream",
     "text": [
      "2021-05-16 10:21:40,209 : WARNING : cannot compute similarity with no input ['exacli']\n",
      "2021-05-16 10:21:40,252 : WARNING : cannot compute similarity with no input ['missssyou', 'stina']\n",
      "2021-05-16 10:21:40,276 : WARNING : cannot compute similarity with no input ['ninc', 'gz', 'anysnl', 'frdnk']\n",
      "2021-05-16 10:21:40,334 : WARNING : cannot compute similarity with no input ['thankiie']\n",
      "2021-05-16 10:21:40,339 : WARNING : cannot compute similarity with no input ['ss501']\n",
      "2021-05-16 10:21:40,365 : WARNING : cannot compute similarity with no input ['workiando']\n",
      "2021-05-16 10:21:40,370 : WARNING : cannot compute similarity with no input ['jup']\n",
      "2021-05-16 10:21:40,382 : WARNING : cannot compute similarity with no input ['wiilllllllllllllllll']\n",
      "2021-05-16 10:21:40,389 : WARNING : cannot compute similarity with no input ['sii']\n",
      "2021-05-16 10:21:40,393 : WARNING : cannot compute similarity with no input ['twelcom']\n"
     ]
    },
    {
     "name": "stdout",
     "output_type": "stream",
     "text": [
      "[]\n",
      "[]\n",
      "[]\n",
      "[]\n",
      "[]\n",
      "[]\n",
      "[]\n",
      "[]\n",
      "[]\n",
      "[]\n"
     ]
    },
    {
     "name": "stderr",
     "output_type": "stream",
     "text": [
      "2021-05-16 10:21:40,396 : WARNING : cannot compute similarity with no input ['beachfac']\n",
      "2021-05-16 10:21:40,402 : WARNING : cannot compute similarity with no input ['yesssssssssssssssssssss']\n",
      "2021-05-16 10:21:40,403 : WARNING : cannot compute similarity with no input ['thanxx']\n",
      "2021-05-16 10:21:40,408 : WARNING : cannot compute similarity with no input ['aham']\n",
      "2021-05-16 10:21:40,470 : WARNING : cannot compute similarity with no input ['awsome']\n",
      "2021-05-16 10:21:40,489 : WARNING : cannot compute similarity with no input ['farin', 'urlaub', 'sonn']\n",
      "2021-05-16 10:21:40,524 : WARNING : cannot compute similarity with no input ['eeeeeeeeeeeeeeeeeeeeeeeeeeeeeeee', 'gile']\n",
      "2021-05-16 10:21:40,544 : WARNING : cannot compute similarity with no input ['chilllllllllllll']\n",
      "2021-05-16 10:21:40,549 : WARNING : cannot compute similarity with no input ['cookingg']\n"
     ]
    },
    {
     "name": "stdout",
     "output_type": "stream",
     "text": [
      "[]\n",
      "[]\n",
      "[]\n",
      "[]\n",
      "[]\n",
      "[]\n",
      "[]\n",
      "[]\n",
      "[]\n"
     ]
    },
    {
     "name": "stderr",
     "output_type": "stream",
     "text": [
      "2021-05-16 10:21:40,600 : WARNING : cannot compute similarity with no input ['bisou', 'loulou']\n",
      "2021-05-16 10:21:40,620 : WARNING : cannot compute similarity with no input ['github']\n",
      "2021-05-16 10:21:40,645 : WARNING : cannot compute similarity with no input ['odeam']\n",
      "2021-05-16 10:21:40,663 : WARNING : cannot compute similarity with no input ['thursdayi']\n",
      "2021-05-16 10:21:40,705 : WARNING : cannot compute similarity with no input ['thankyoou']\n",
      "2021-05-16 10:21:40,763 : WARNING : cannot compute similarity with no input ['muum']\n",
      "2021-05-16 10:21:40,795 : WARNING : cannot compute similarity with no input ['vem', 'pela', 'sombra']\n"
     ]
    },
    {
     "name": "stdout",
     "output_type": "stream",
     "text": [
      "[]\n",
      "[]\n",
      "[]\n",
      "[]\n",
      "[]\n",
      "[]\n",
      "[]\n"
     ]
    },
    {
     "name": "stderr",
     "output_type": "stream",
     "text": [
      "2021-05-16 10:21:40,803 : WARNING : cannot compute similarity with no input ['yeesss']\n",
      "2021-05-16 10:21:40,889 : WARNING : cannot compute similarity with no input ['yummmmmmmmmmm']\n",
      "2021-05-16 10:21:40,913 : WARNING : cannot compute similarity with no input ['ooooooooh']\n",
      "2021-05-16 10:21:40,924 : WARNING : cannot compute similarity with no input ['goooo', 'rhodi', 'uri']\n",
      "2021-05-16 10:21:40,940 : WARNING : cannot compute similarity with no input ['thanxxx']\n"
     ]
    },
    {
     "name": "stdout",
     "output_type": "stream",
     "text": [
      "[]\n",
      "[]\n",
      "[]\n",
      "[]\n",
      "[]\n"
     ]
    },
    {
     "name": "stderr",
     "output_type": "stream",
     "text": [
      "2021-05-16 10:21:41,026 : WARNING : cannot compute similarity with no input ['imtakeya']\n",
      "2021-05-16 10:21:41,032 : WARNING : cannot compute similarity with no input ['heyyhoo', 'heyhey']\n",
      "2021-05-16 10:21:41,048 : WARNING : cannot compute similarity with no input ['hitech']\n",
      "2021-05-16 10:21:41,065 : WARNING : cannot compute similarity with no input ['kahjuk', 'mitt']\n",
      "2021-05-16 10:21:41,073 : WARNING : cannot compute similarity with no input ['te9ba7i', '3la', 'khayer', 'roqayah']\n",
      "2021-05-16 10:21:41,134 : WARNING : cannot compute similarity with no input ['eslytelen']\n",
      "2021-05-16 10:21:41,212 : WARNING : cannot compute similarity with no input ['helou']\n"
     ]
    },
    {
     "name": "stdout",
     "output_type": "stream",
     "text": [
      "[]\n",
      "[]\n",
      "[]\n",
      "[]\n",
      "[]\n",
      "[]\n",
      "[]\n"
     ]
    },
    {
     "name": "stderr",
     "output_type": "stream",
     "text": [
      "2021-05-16 10:21:41,225 : WARNING : cannot compute similarity with no input ['iloveyoumore']\n",
      "2021-05-16 10:21:41,235 : WARNING : cannot compute similarity with no input ['schand']\n",
      "2021-05-16 10:21:41,241 : WARNING : cannot compute similarity with no input ['acontec']\n",
      "2021-05-16 10:21:41,348 : WARNING : cannot compute similarity with no input ['fye']\n",
      "2021-05-16 10:21:41,354 : WARNING : cannot compute similarity with no input ['bakgat', 'boerer']\n",
      "2021-05-16 10:21:41,359 : WARNING : cannot compute similarity with no input ['teewar']\n",
      "2021-05-16 10:21:41,381 : WARNING : cannot compute similarity with no input ['soundtrip']\n",
      "2021-05-16 10:21:41,402 : WARNING : cannot compute similarity with no input ['summerrrrr']\n"
     ]
    },
    {
     "name": "stdout",
     "output_type": "stream",
     "text": [
      "[]\n",
      "[]\n",
      "[]\n",
      "[]\n",
      "[]\n",
      "[]\n",
      "[]\n",
      "[]\n"
     ]
    },
    {
     "name": "stderr",
     "output_type": "stream",
     "text": [
      "2021-05-16 10:21:41,483 : WARNING : cannot compute similarity with no input ['eatinggg']\n",
      "2021-05-16 10:21:41,491 : WARNING : cannot compute similarity with no input ['thku4']\n",
      "2021-05-16 10:21:41,515 : WARNING : cannot compute similarity with no input ['surprise']\n",
      "2021-05-16 10:21:41,573 : WARNING : cannot compute similarity with no input ['hehehe']\n",
      "2021-05-16 10:21:41,575 : WARNING : cannot compute similarity with no input ['yupper']\n",
      "2021-05-16 10:21:41,665 : WARNING : cannot compute similarity with no input ['qui', 'contient']\n"
     ]
    },
    {
     "name": "stdout",
     "output_type": "stream",
     "text": [
      "[]\n",
      "[]\n",
      "[]\n",
      "[]\n",
      "[]\n",
      "[]\n"
     ]
    },
    {
     "name": "stderr",
     "output_type": "stream",
     "text": [
      "2021-05-16 10:21:41,694 : WARNING : cannot compute similarity with no input ['morrrn']\n",
      "2021-05-16 10:21:41,732 : WARNING : cannot compute similarity with no input ['twittucandu']\n",
      "2021-05-16 10:21:41,810 : WARNING : cannot compute similarity with no input ['soundtrip']\n",
      "2021-05-16 10:21:41,827 : WARNING : cannot compute similarity with no input ['cuuze']\n",
      "2021-05-16 10:21:41,834 : WARNING : cannot compute similarity with no input ['hohoho']\n",
      "2021-05-16 10:21:41,837 : WARNING : cannot compute similarity with no input ['3awafi']\n",
      "2021-05-16 10:21:41,878 : WARNING : cannot compute similarity with no input ['suert']\n"
     ]
    },
    {
     "name": "stdout",
     "output_type": "stream",
     "text": [
      "[]\n",
      "[]\n",
      "[]\n",
      "[]\n",
      "[]\n",
      "[]\n",
      "[]\n"
     ]
    },
    {
     "name": "stderr",
     "output_type": "stream",
     "text": [
      "2021-05-16 10:21:41,896 : WARNING : cannot compute similarity with no input ['hellloo']\n",
      "2021-05-16 10:21:41,917 : WARNING : cannot compute similarity with no input ['fliink']\n",
      "2021-05-16 10:21:41,938 : WARNING : cannot compute similarity with no input ['iloovemynewbackground']\n",
      "2021-05-16 10:21:41,967 : WARNING : cannot compute similarity with no input ['dekh', 'bhai', 'dekh']\n",
      "2021-05-16 10:21:41,995 : WARNING : cannot compute similarity with no input ['buscando', 'ghostsbust']\n",
      "2021-05-16 10:21:41,997 : WARNING : cannot compute similarity with no input ['ruphotographi']\n",
      "2021-05-16 10:21:42,043 : WARNING : cannot compute similarity with no input ['locoo']\n",
      "2021-05-16 10:21:42,065 : WARNING : cannot compute similarity with no input ['ohkayi']\n"
     ]
    },
    {
     "name": "stdout",
     "output_type": "stream",
     "text": [
      "[]\n",
      "[]\n",
      "[]\n",
      "[]\n",
      "[]\n",
      "[]\n",
      "[]\n",
      "[]\n"
     ]
    },
    {
     "name": "stderr",
     "output_type": "stream",
     "text": [
      "2021-05-16 10:21:42,154 : WARNING : cannot compute similarity with no input ['rthx']\n",
      "2021-05-16 10:21:42,228 : WARNING : cannot compute similarity with no input ['yesir']\n",
      "2021-05-16 10:21:42,247 : WARNING : cannot compute similarity with no input ['test873645663566625']\n"
     ]
    },
    {
     "name": "stdout",
     "output_type": "stream",
     "text": [
      "[]\n",
      "[]\n",
      "[]\n"
     ]
    },
    {
     "name": "stderr",
     "output_type": "stream",
     "text": [
      "2021-05-16 10:21:42,379 : WARNING : cannot compute similarity with no input ['tinstaafl']\n",
      "2021-05-16 10:21:42,412 : WARNING : cannot compute similarity with no input ['knnyen', 'adod', 'magad']\n",
      "2021-05-16 10:21:42,541 : WARNING : cannot compute similarity with no input ['braggart']\n"
     ]
    },
    {
     "name": "stdout",
     "output_type": "stream",
     "text": [
      "[]\n",
      "[]\n",
      "[]\n"
     ]
    },
    {
     "name": "stderr",
     "output_type": "stream",
     "text": [
      "2021-05-16 10:21:42,594 : WARNING : cannot compute similarity with no input ['thanksi']\n",
      "2021-05-16 10:21:42,752 : WARNING : cannot compute similarity with no input ['ooi']\n",
      "2021-05-16 10:21:42,774 : WARNING : cannot compute similarity with no input ['byerssss']\n"
     ]
    },
    {
     "name": "stdout",
     "output_type": "stream",
     "text": [
      "[]\n",
      "[]\n",
      "[]\n"
     ]
    },
    {
     "name": "stderr",
     "output_type": "stream",
     "text": [
      "2021-05-16 10:21:42,798 : WARNING : cannot compute similarity with no input ['supi', 'knuddel']\n",
      "2021-05-16 10:21:42,819 : WARNING : cannot compute similarity with no input ['epiphani']\n",
      "2021-05-16 10:21:42,829 : WARNING : cannot compute similarity with no input ['chiillll']\n",
      "2021-05-16 10:21:42,905 : WARNING : cannot compute similarity with no input ['facepalm']\n"
     ]
    },
    {
     "name": "stdout",
     "output_type": "stream",
     "text": [
      "[]\n",
      "[]\n",
      "[]\n",
      "[]\n"
     ]
    },
    {
     "name": "stderr",
     "output_type": "stream",
     "text": [
      "2021-05-16 10:21:42,996 : WARNING : cannot compute similarity with no input ['ducttap']\n",
      "2021-05-16 10:21:43,008 : WARNING : cannot compute similarity with no input ['corinthian']\n",
      "2021-05-16 10:21:43,011 : WARNING : cannot compute similarity with no input ['shonteei', 'herrre']\n",
      "2021-05-16 10:21:43,035 : WARNING : cannot compute similarity with no input ['gotya']\n",
      "2021-05-16 10:21:43,043 : WARNING : cannot compute similarity with no input ['crenshawwwwwwwwww']\n",
      "2021-05-16 10:21:43,046 : WARNING : cannot compute similarity with no input ['peace']\n",
      "2021-05-16 10:21:43,059 : WARNING : cannot compute similarity with no input ['happybirthday']\n",
      "2021-05-16 10:21:43,080 : WARNING : cannot compute similarity with no input ['moviess']\n",
      "2021-05-16 10:21:43,091 : WARNING : cannot compute similarity with no input ['halllloo']\n",
      "2021-05-16 10:21:43,109 : WARNING : cannot compute similarity with no input ['mmhmph']\n",
      "2021-05-16 10:21:43,111 : WARNING : cannot compute similarity with no input ['xicoo']\n",
      "2021-05-16 10:21:43,118 : WARNING : cannot compute similarity with no input ['filmingggg', 'finalllli']\n",
      "2021-05-16 10:21:43,160 : WARNING : cannot compute similarity with no input ['chilllinggggg']\n",
      "2021-05-16 10:21:43,183 : WARNING : cannot compute similarity with no input ['essit']\n"
     ]
    },
    {
     "name": "stdout",
     "output_type": "stream",
     "text": [
      "[]\n",
      "[]\n",
      "[]\n",
      "[]\n",
      "[]\n",
      "[]\n",
      "[]\n",
      "[]\n",
      "[]\n",
      "[]\n",
      "[]\n",
      "[]\n",
      "[]\n",
      "[]\n"
     ]
    },
    {
     "name": "stderr",
     "output_type": "stream",
     "text": [
      "2021-05-16 10:21:43,239 : WARNING : cannot compute similarity with no input ['witter', 'obsesss']\n",
      "2021-05-16 10:21:43,280 : WARNING : cannot compute similarity with no input ['soundslikespreadshirt']\n",
      "2021-05-16 10:21:43,294 : WARNING : cannot compute similarity with no input ['morsch']\n",
      "2021-05-16 10:21:43,298 : WARNING : cannot compute similarity with no input ['shopppingggg']\n",
      "2021-05-16 10:21:43,321 : WARNING : cannot compute similarity with no input ['scanlat']\n",
      "2021-05-16 10:21:43,340 : WARNING : cannot compute similarity with no input ['hurraaaay', 'successsss']\n",
      "2021-05-16 10:21:43,365 : WARNING : cannot compute similarity with no input ['shupppppp']\n",
      "2021-05-16 10:21:43,372 : WARNING : cannot compute similarity with no input ['whatupwhatupwhatup']\n",
      "2021-05-16 10:21:43,373 : WARNING : cannot compute similarity with no input ['buckweet', 'foreal']\n",
      "2021-05-16 10:21:43,400 : WARNING : cannot compute similarity with no input ['sunshine']\n",
      "2021-05-16 10:21:43,419 : WARNING : cannot compute similarity with no input ['shmokey']\n",
      "2021-05-16 10:21:43,429 : WARNING : cannot compute similarity with no input ['dankeschn']\n"
     ]
    },
    {
     "name": "stdout",
     "output_type": "stream",
     "text": [
      "[]\n",
      "[]\n",
      "[]\n",
      "[]\n",
      "[]\n",
      "[]\n",
      "[]\n",
      "[]\n",
      "[]\n",
      "[]\n",
      "[]\n",
      "[]\n"
     ]
    },
    {
     "name": "stderr",
     "output_type": "stream",
     "text": [
      "2021-05-16 10:21:43,434 : WARNING : cannot compute similarity with no input ['andre']\n",
      "2021-05-16 10:21:43,512 : WARNING : cannot compute similarity with no input ['haaaaaaaaaardbas']\n",
      "2021-05-16 10:21:43,549 : WARNING : cannot compute similarity with no input ['gefeliciteerd']\n",
      "2021-05-16 10:21:43,551 : WARNING : cannot compute similarity with no input ['surrre']\n",
      "2021-05-16 10:21:43,563 : WARNING : cannot compute similarity with no input ['mto', 'bacana', 'ess', 'searchcast']\n",
      "2021-05-16 10:21:43,587 : WARNING : cannot compute similarity with no input ['showwwwweerrr']\n",
      "2021-05-16 10:21:43,590 : WARNING : cannot compute similarity with no input ['jttk', 'angyalfldr']\n"
     ]
    },
    {
     "name": "stdout",
     "output_type": "stream",
     "text": [
      "[]\n",
      "[]\n",
      "[]\n",
      "[]\n",
      "[]\n",
      "[]\n",
      "[]\n"
     ]
    },
    {
     "name": "stderr",
     "output_type": "stream",
     "text": [
      "2021-05-16 10:21:43,623 : WARNING : cannot compute similarity with no input ['shnaapp', 'nour', 'zaki']\n",
      "2021-05-16 10:21:43,699 : WARNING : cannot compute similarity with no input ['greeeeeeeeec']\n",
      "2021-05-16 10:21:43,741 : WARNING : cannot compute similarity with no input ['shoop']\n",
      "2021-05-16 10:21:43,768 : WARNING : cannot compute similarity with no input ['oii', 'stefhani']\n",
      "2021-05-16 10:21:43,780 : WARNING : cannot compute similarity with no input ['omgomgomgomgomgomgomg', 'atlatlatlatlatl', 'tomorrrrrrowww']\n",
      "2021-05-16 10:21:43,803 : WARNING : cannot compute similarity with no input ['ruilen']\n"
     ]
    },
    {
     "name": "stdout",
     "output_type": "stream",
     "text": [
      "[]\n",
      "[]\n",
      "[]\n",
      "[]\n",
      "[]\n",
      "[]\n"
     ]
    },
    {
     "name": "stderr",
     "output_type": "stream",
     "text": [
      "2021-05-16 10:21:43,864 : WARNING : cannot compute similarity with no input ['hmmmmmmm']\n",
      "2021-05-16 10:21:43,895 : WARNING : cannot compute similarity with no input ['mercik']\n",
      "2021-05-16 10:21:43,932 : WARNING : cannot compute similarity with no input ['youtwitfac']\n",
      "2021-05-16 10:21:43,934 : WARNING : cannot compute similarity with no input ['beautii', 'piictur']\n",
      "2021-05-16 10:21:43,947 : WARNING : cannot compute similarity with no input ['hellloo']\n",
      "2021-05-16 10:21:44,024 : WARNING : cannot compute similarity with no input ['hemm', 'cantik']\n",
      "2021-05-16 10:21:44,049 : WARNING : cannot compute similarity with no input ['huggggggggg']\n"
     ]
    },
    {
     "name": "stdout",
     "output_type": "stream",
     "text": [
      "[]\n",
      "[]\n",
      "[]\n",
      "[]\n",
      "[]\n",
      "[]\n",
      "[]\n"
     ]
    },
    {
     "name": "stderr",
     "output_type": "stream",
     "text": [
      "2021-05-16 10:21:44,092 : WARNING : cannot compute similarity with no input ['decimalbroth']\n",
      "2021-05-16 10:21:44,103 : WARNING : cannot compute similarity with no input ['touchdown', 'coron']\n",
      "2021-05-16 10:21:44,162 : WARNING : cannot compute similarity with no input ['moviess']\n",
      "2021-05-16 10:21:44,186 : WARNING : cannot compute similarity with no input ['vborn']\n",
      "2021-05-16 10:21:44,208 : WARNING : cannot compute similarity with no input ['showerd']\n",
      "2021-05-16 10:21:44,223 : WARNING : cannot compute similarity with no input ['viel', 'glck']\n",
      "2021-05-16 10:21:44,255 : WARNING : cannot compute similarity with no input ['definatellllllli']\n",
      "2021-05-16 10:21:44,278 : WARNING : cannot compute similarity with no input ['eventbox']\n"
     ]
    },
    {
     "name": "stdout",
     "output_type": "stream",
     "text": [
      "[]\n",
      "[]\n",
      "[]\n",
      "[]\n",
      "[]\n",
      "[]\n",
      "[]\n",
      "[]\n"
     ]
    },
    {
     "name": "stderr",
     "output_type": "stream",
     "text": [
      "2021-05-16 10:21:44,307 : WARNING : cannot compute similarity with no input ['kobeeeee']\n",
      "2021-05-16 10:21:44,316 : WARNING : cannot compute similarity with no input ['purrfect', 'pinup', 'playmat']\n",
      "2021-05-16 10:21:44,322 : WARNING : cannot compute similarity with no input ['thankoo', 'thankoo']\n",
      "2021-05-16 10:21:44,394 : WARNING : cannot compute similarity with no input [\"s'alright\"]\n",
      "2021-05-16 10:21:44,407 : WARNING : cannot compute similarity with no input ['mashi']\n",
      "2021-05-16 10:21:44,427 : WARNING : cannot compute similarity with no input ['electroshock']\n",
      "2021-05-16 10:21:44,442 : WARNING : cannot compute similarity with no input ['tomyam', 'campur', 'satu']\n"
     ]
    },
    {
     "name": "stdout",
     "output_type": "stream",
     "text": [
      "[]\n",
      "[]\n",
      "[]\n",
      "[]\n",
      "[]\n",
      "[]\n",
      "[]\n"
     ]
    },
    {
     "name": "stderr",
     "output_type": "stream",
     "text": [
      "2021-05-16 10:21:44,609 : WARNING : cannot compute similarity with no input ['chate']\n",
      "2021-05-16 10:21:44,628 : WARNING : cannot compute similarity with no input ['perfectionist']\n",
      "2021-05-16 10:21:44,639 : WARNING : cannot compute similarity with no input ['megadeth']\n",
      "2021-05-16 10:21:44,711 : WARNING : cannot compute similarity with no input ['chinese']\n",
      "2021-05-16 10:21:44,748 : WARNING : cannot compute similarity with no input ['twitterr', 'buddyy']\n",
      "2021-05-16 10:21:44,773 : WARNING : cannot compute similarity with no input ['beaiti']\n"
     ]
    },
    {
     "name": "stdout",
     "output_type": "stream",
     "text": [
      "[]\n",
      "[]\n",
      "[]\n",
      "[]\n",
      "[]\n",
      "[]\n"
     ]
    },
    {
     "name": "stderr",
     "output_type": "stream",
     "text": [
      "2021-05-16 10:21:44,834 : WARNING : cannot compute similarity with no input ['shehasmovedon']\n",
      "2021-05-16 10:21:44,837 : WARNING : cannot compute similarity with no input ['homesweethom']\n",
      "2021-05-16 10:21:44,846 : WARNING : cannot compute similarity with no input ['pradedam', 'twittinti']\n",
      "2021-05-16 10:21:44,860 : WARNING : cannot compute similarity with no input ['hitdg']\n",
      "2021-05-16 10:21:44,893 : WARNING : cannot compute similarity with no input ['yuummmm']\n",
      "2021-05-16 10:21:44,902 : WARNING : cannot compute similarity with no input ['annyeong']\n",
      "2021-05-16 10:21:44,907 : WARNING : cannot compute similarity with no input ['sh0wer']\n",
      "2021-05-16 10:21:44,933 : WARNING : cannot compute similarity with no input ['moviesmovi']\n",
      "2021-05-16 10:21:45,001 : WARNING : cannot compute similarity with no input ['buond']\n"
     ]
    },
    {
     "name": "stdout",
     "output_type": "stream",
     "text": [
      "[]\n",
      "[]\n",
      "[]\n",
      "[]\n",
      "[]\n",
      "[]\n",
      "[]\n",
      "[]\n",
      "[]\n",
      "[]"
     ]
    },
    {
     "name": "stderr",
     "output_type": "stream",
     "text": [
      "2021-05-16 10:21:45,023 : WARNING : cannot compute similarity with no input ['makasih', 'follownya']\n",
      "2021-05-16 10:21:45,061 : WARNING : cannot compute similarity with no input ['goodnighttttt']\n",
      "2021-05-16 10:21:45,082 : WARNING : cannot compute similarity with no input ['jux', 'chilaxin']\n",
      "2021-05-16 10:21:45,122 : WARNING : cannot compute similarity with no input ['beidem', 'lach']\n",
      "2021-05-16 10:21:45,140 : WARNING : cannot compute similarity with no input ['inveja']\n",
      "2021-05-16 10:21:45,210 : WARNING : cannot compute similarity with no input ['retwe']\n"
     ]
    },
    {
     "name": "stdout",
     "output_type": "stream",
     "text": [
      "\n",
      "[]\n",
      "[]\n",
      "[]\n",
      "[]\n",
      "[]\n"
     ]
    },
    {
     "name": "stderr",
     "output_type": "stream",
     "text": [
      "2021-05-16 10:21:45,226 : WARNING : cannot compute similarity with no input ['toooo', 'latee']\n",
      "2021-05-16 10:21:45,269 : WARNING : cannot compute similarity with no input ['goodnigh']\n",
      "2021-05-16 10:21:45,307 : WARNING : cannot compute similarity with no input ['congrashoooolayshonsss']\n",
      "2021-05-16 10:21:45,311 : WARNING : cannot compute similarity with no input ['lucknow']\n",
      "2021-05-16 10:21:45,314 : WARNING : cannot compute similarity with no input ['thnkz']\n",
      "2021-05-16 10:21:45,320 : WARNING : cannot compute similarity with no input ['thankk']\n",
      "2021-05-16 10:21:45,373 : WARNING : cannot compute similarity with no input ['aiyaamekkkkcit']\n",
      "2021-05-16 10:21:45,384 : WARNING : cannot compute similarity with no input ['whoiskwash']\n"
     ]
    },
    {
     "name": "stdout",
     "output_type": "stream",
     "text": [
      "[]\n",
      "[]\n",
      "[]\n",
      "[]\n",
      "[]\n",
      "[]\n",
      "[]\n",
      "[]\n"
     ]
    },
    {
     "name": "stderr",
     "output_type": "stream",
     "text": [
      "2021-05-16 10:21:45,429 : WARNING : cannot compute similarity with no input ['afteroon']\n",
      "2021-05-16 10:21:45,467 : WARNING : cannot compute similarity with no input ['anglophil']\n",
      "2021-05-16 10:21:45,494 : WARNING : cannot compute similarity with no input ['journe', 'repo']\n",
      "2021-05-16 10:21:45,505 : WARNING : cannot compute similarity with no input ['yesssssssssssssssssss']\n",
      "2021-05-16 10:21:45,537 : WARNING : cannot compute similarity with no input ['shibbi']\n",
      "2021-05-16 10:21:45,559 : WARNING : cannot compute similarity with no input ['whhhasssup', 'ssschick']\n",
      "2021-05-16 10:21:45,596 : WARNING : cannot compute similarity with no input ['yuuppppp']\n",
      "2021-05-16 10:21:45,598 : WARNING : cannot compute similarity with no input ['showerrrr']\n"
     ]
    },
    {
     "name": "stdout",
     "output_type": "stream",
     "text": [
      "[]\n",
      "[]\n",
      "[]\n",
      "[]\n",
      "[]\n",
      "[]\n",
      "[]\n",
      "[]\n"
     ]
    },
    {
     "name": "stderr",
     "output_type": "stream",
     "text": [
      "2021-05-16 10:21:45,715 : WARNING : cannot compute similarity with no input ['yeeaah']\n",
      "2021-05-16 10:21:45,732 : WARNING : cannot compute similarity with no input ['spoilsport']\n",
      "2021-05-16 10:21:45,743 : WARNING : cannot compute similarity with no input ['gefeliciteerd']\n",
      "2021-05-16 10:21:45,766 : WARNING : cannot compute similarity with no input ['moshimoshi']\n",
      "2021-05-16 10:21:45,780 : WARNING : cannot compute similarity with no input ['doku']\n",
      "2021-05-16 10:21:45,809 : WARNING : cannot compute similarity with no input ['greed']\n",
      "2021-05-16 10:21:45,819 : WARNING : cannot compute similarity with no input ['weekendtim']\n",
      "2021-05-16 10:21:45,833 : WARNING : cannot compute similarity with no input ['slipknot']\n",
      "2021-05-16 10:21:45,851 : WARNING : cannot compute similarity with no input ['yaaay']\n"
     ]
    },
    {
     "name": "stdout",
     "output_type": "stream",
     "text": [
      "[]\n",
      "[]\n",
      "[]\n",
      "[]\n",
      "[]\n",
      "[]\n",
      "[]\n",
      "[]\n",
      "[]\n"
     ]
    },
    {
     "name": "stderr",
     "output_type": "stream",
     "text": [
      "2021-05-16 10:21:45,959 : WARNING : cannot compute similarity with no input ['twiiiitter']\n",
      "2021-05-16 10:21:45,969 : WARNING : cannot compute similarity with no input ['mercii']\n",
      "2021-05-16 10:21:45,975 : WARNING : cannot compute similarity with no input ['twitterhol']\n",
      "2021-05-16 10:21:45,980 : WARNING : cannot compute similarity with no input ['ilovecamp']\n",
      "2021-05-16 10:21:46,000 : WARNING : cannot compute similarity with no input ['idgt']\n"
     ]
    },
    {
     "name": "stdout",
     "output_type": "stream",
     "text": [
      "[]\n",
      "[]\n",
      "[]\n",
      "[]\n",
      "[]\n"
     ]
    },
    {
     "name": "stderr",
     "output_type": "stream",
     "text": [
      "2021-05-16 10:21:46,183 : WARNING : cannot compute similarity with no input ['escutem', 'nossa', 'musica']\n",
      "2021-05-16 10:21:46,232 : WARNING : cannot compute similarity with no input [\"'assi\"]\n",
      "2021-05-16 10:21:46,256 : WARNING : cannot compute similarity with no input ['sevensword', 'prologu']\n",
      "2021-05-16 10:21:46,271 : WARNING : cannot compute similarity with no input ['notiert']\n",
      "2021-05-16 10:21:46,330 : WARNING : cannot compute similarity with no input ['sudah', 'diretweet']\n",
      "2021-05-16 10:21:46,348 : WARNING : cannot compute similarity with no input ['sound3p']\n",
      "2021-05-16 10:21:46,366 : WARNING : cannot compute similarity with no input ['chiqu']\n"
     ]
    },
    {
     "name": "stdout",
     "output_type": "stream",
     "text": [
      "[]\n",
      "[]\n",
      "[]\n",
      "[]\n",
      "[]\n",
      "[]\n",
      "[]\n"
     ]
    },
    {
     "name": "stderr",
     "output_type": "stream",
     "text": [
      "2021-05-16 10:21:46,407 : WARNING : cannot compute similarity with no input ['bubbletea', 'testen']\n",
      "2021-05-16 10:21:46,410 : WARNING : cannot compute similarity with no input ['wgworldwid']\n",
      "2021-05-16 10:21:46,444 : WARNING : cannot compute similarity with no input ['entendi']\n",
      "2021-05-16 10:21:46,492 : WARNING : cannot compute similarity with no input ['screammm', 'aimmm', 'firreeeeeee']\n",
      "2021-05-16 10:21:46,498 : WARNING : cannot compute similarity with no input ['dugg']\n",
      "2021-05-16 10:21:46,551 : WARNING : cannot compute similarity with no input ['sehr', 'sucht']\n",
      "2021-05-16 10:21:46,561 : WARNING : cannot compute similarity with no input ['shup', 'whatwhatwhat']\n",
      "2021-05-16 10:21:46,574 : WARNING : cannot compute similarity with no input ['redpant']\n",
      "2021-05-16 10:21:46,588 : WARNING : cannot compute similarity with no input ['halll']\n"
     ]
    },
    {
     "name": "stdout",
     "output_type": "stream",
     "text": [
      "[]\n",
      "[]\n",
      "[]\n",
      "[]\n",
      "[]\n",
      "[]\n",
      "[]\n",
      "[]\n",
      "[]\n"
     ]
    },
    {
     "name": "stderr",
     "output_type": "stream",
     "text": [
      "2021-05-16 10:21:46,619 : WARNING : cannot compute similarity with no input ['gefeliciteerd']\n"
     ]
    },
    {
     "name": "stdout",
     "output_type": "stream",
     "text": [
      "[]\n"
     ]
    }
   ],
   "source": [
    "x_train_porter = word_averaging_list(w2v_porter, porter_stemmed_train)"
   ]
  },
  {
   "cell_type": "code",
   "execution_count": 57,
   "metadata": {},
   "outputs": [
    {
     "name": "stderr",
     "output_type": "stream",
     "text": [
      "2021-05-16 10:21:47,181 : WARNING : cannot compute similarity with no input ['doesntfeelwel']\n",
      "2021-05-16 10:21:47,232 : WARNING : cannot compute similarity with no input ['shittysunday']\n",
      "2021-05-16 10:21:47,288 : WARNING : cannot compute similarity with no input ['insomniugh']\n"
     ]
    },
    {
     "name": "stdout",
     "output_type": "stream",
     "text": [
      "[]\n",
      "[]\n",
      "[]\n"
     ]
    },
    {
     "name": "stderr",
     "output_type": "stream",
     "text": [
      "2021-05-16 10:21:47,446 : WARNING : cannot compute similarity with no input ['thesims3']\n",
      "2021-05-16 10:21:47,466 : WARNING : cannot compute similarity with no input ['speachlesssssss']\n",
      "2021-05-16 10:21:47,474 : WARNING : cannot compute similarity with no input ['mcgrath']\n",
      "2021-05-16 10:21:47,568 : WARNING : cannot compute similarity with no input ['hallieeeee']\n",
      "2021-05-16 10:21:47,624 : WARNING : cannot compute similarity with no input ['collegian']\n",
      "2021-05-16 10:21:47,634 : WARNING : cannot compute similarity with no input ['esuk', 'durang', 'belayar']\n"
     ]
    },
    {
     "name": "stdout",
     "output_type": "stream",
     "text": [
      "[]\n",
      "[]\n",
      "[]\n",
      "[]\n",
      "[]\n",
      "[]\n"
     ]
    },
    {
     "name": "stderr",
     "output_type": "stream",
     "text": [
      "2021-05-16 10:21:47,639 : WARNING : cannot compute similarity with no input ['helpmepleas']\n",
      "2021-05-16 10:21:47,795 : WARNING : cannot compute similarity with no input ['secar', 'louaa']\n"
     ]
    },
    {
     "name": "stdout",
     "output_type": "stream",
     "text": [
      "[]\n",
      "[]\n"
     ]
    },
    {
     "name": "stderr",
     "output_type": "stream",
     "text": [
      "2021-05-16 10:21:47,841 : WARNING : cannot compute similarity with no input ['sadddddd']\n",
      "2021-05-16 10:21:47,950 : WARNING : cannot compute similarity with no input ['okok', 'surt']\n"
     ]
    },
    {
     "name": "stdout",
     "output_type": "stream",
     "text": [
      "[]\n",
      "[]\n"
     ]
    },
    {
     "name": "stderr",
     "output_type": "stream",
     "text": [
      "2021-05-16 10:21:48,041 : WARNING : cannot compute similarity with no input ['revisinggg']\n",
      "2021-05-16 10:21:48,114 : WARNING : cannot compute similarity with no input ['fds', 'acabou']\n",
      "2021-05-16 10:21:48,160 : WARNING : cannot compute similarity with no input ['tiirre']\n",
      "2021-05-16 10:21:48,206 : WARNING : cannot compute similarity with no input ['cof', 'cof', 'cof']\n",
      "2021-05-16 10:21:48,228 : WARNING : cannot compute similarity with no input ['unreach']\n"
     ]
    },
    {
     "name": "stdout",
     "output_type": "stream",
     "text": [
      "[]\n",
      "[]\n",
      "[]\n",
      "[]\n",
      "[]\n"
     ]
    },
    {
     "name": "stderr",
     "output_type": "stream",
     "text": [
      "2021-05-16 10:21:48,286 : WARNING : cannot compute similarity with no input ['riannna', 'imy2']\n"
     ]
    },
    {
     "name": "stdout",
     "output_type": "stream",
     "text": [
      "[]\n"
     ]
    },
    {
     "name": "stderr",
     "output_type": "stream",
     "text": [
      "2021-05-16 10:21:48,522 : WARNING : cannot compute similarity with no input ['potong', 'rambut']\n",
      "2021-05-16 10:21:48,702 : WARNING : cannot compute similarity with no input ['nmmm']\n"
     ]
    },
    {
     "name": "stdout",
     "output_type": "stream",
     "text": [
      "[]\n",
      "[]\n"
     ]
    },
    {
     "name": "stderr",
     "output_type": "stream",
     "text": [
      "2021-05-16 10:21:48,772 : WARNING : cannot compute similarity with no input ['noctur', 'myclonus']\n",
      "2021-05-16 10:21:48,918 : WARNING : cannot compute similarity with no input ['oouch']\n",
      "2021-05-16 10:21:48,954 : WARNING : cannot compute similarity with no input ['unfortunatelli']\n"
     ]
    },
    {
     "name": "stdout",
     "output_type": "stream",
     "text": [
      "[]\n",
      "[]\n",
      "[]\n"
     ]
    },
    {
     "name": "stderr",
     "output_type": "stream",
     "text": [
      "2021-05-16 10:21:48,976 : WARNING : cannot compute similarity with no input ['crampssssss']\n",
      "2021-05-16 10:21:49,157 : WARNING : cannot compute similarity with no input ['pling', 'pling']\n"
     ]
    },
    {
     "name": "stdout",
     "output_type": "stream",
     "text": [
      "[]\n",
      "[]\n"
     ]
    },
    {
     "name": "stderr",
     "output_type": "stream",
     "text": [
      "2021-05-16 10:21:49,169 : WARNING : cannot compute similarity with no input ['misunderstood']\n",
      "2021-05-16 10:21:49,252 : WARNING : cannot compute similarity with no input ['sleepdisorderssuckassandihaveonewhyaminotusingthespacebar', 'idkwhocaresmyinsomniaisback']\n",
      "2021-05-16 10:21:49,279 : WARNING : cannot compute similarity with no input ['pancreat']\n",
      "2021-05-16 10:21:49,325 : WARNING : cannot compute similarity with no input ['offlineeeeeee']\n"
     ]
    },
    {
     "name": "stdout",
     "output_type": "stream",
     "text": [
      "[]\n",
      "[]\n",
      "[]\n",
      "[]\n"
     ]
    },
    {
     "name": "stderr",
     "output_type": "stream",
     "text": [
      "2021-05-16 10:21:49,374 : WARNING : cannot compute similarity with no input ['wompppp', 'wompp']\n",
      "2021-05-16 10:21:49,418 : WARNING : cannot compute similarity with no input ['madness']\n",
      "2021-05-16 10:21:49,532 : WARNING : cannot compute similarity with no input ['imisspeoplethatihaventtalkedtoforarealllylongtim', 'iwonderhowtheyaredo']\n",
      "2021-05-16 10:21:49,545 : WARNING : cannot compute similarity with no input ['prop8', 'overturn']\n"
     ]
    },
    {
     "name": "stdout",
     "output_type": "stream",
     "text": [
      "[]\n",
      "[]\n",
      "[]\n",
      "[]\n"
     ]
    },
    {
     "name": "stderr",
     "output_type": "stream",
     "text": [
      "2021-05-16 10:21:49,705 : WARNING : cannot compute similarity with no input ['stressedddddddddddddddd']\n",
      "2021-05-16 10:21:49,780 : WARNING : cannot compute similarity with no input ['shutup']\n",
      "2021-05-16 10:21:49,863 : WARNING : cannot compute similarity with no input ['sux2bu']\n"
     ]
    },
    {
     "name": "stdout",
     "output_type": "stream",
     "text": [
      "[]\n",
      "[]\n",
      "[]\n"
     ]
    },
    {
     "name": "stderr",
     "output_type": "stream",
     "text": [
      "2021-05-16 10:21:49,944 : WARNING : cannot compute similarity with no input ['donne', 'frieday']\n",
      "2021-05-16 10:21:49,984 : WARNING : cannot compute similarity with no input ['notankz']\n"
     ]
    },
    {
     "name": "stdout",
     "output_type": "stream",
     "text": [
      "[]\n",
      "[]\n"
     ]
    },
    {
     "name": "stderr",
     "output_type": "stream",
     "text": [
      "2021-05-16 10:21:50,159 : WARNING : cannot compute similarity with no input ['heeyyy']\n",
      "2021-05-16 10:21:50,172 : WARNING : cannot compute similarity with no input ['omgnowhi']\n",
      "2021-05-16 10:21:50,230 : WARNING : cannot compute similarity with no input ['gidp']\n",
      "2021-05-16 10:21:50,284 : WARNING : cannot compute similarity with no input ['ihazaheadach']\n"
     ]
    },
    {
     "name": "stdout",
     "output_type": "stream",
     "text": [
      "[]\n",
      "[]\n",
      "[]\n",
      "[]\n"
     ]
    },
    {
     "name": "stderr",
     "output_type": "stream",
     "text": [
      "2021-05-16 10:21:50,439 : WARNING : cannot compute similarity with no input ['missyou']\n",
      "2021-05-16 10:21:50,507 : WARNING : cannot compute similarity with no input ['ayudame']\n",
      "2021-05-16 10:21:50,520 : WARNING : cannot compute similarity with no input ['thankkkk']\n",
      "2021-05-16 10:21:50,540 : WARNING : cannot compute similarity with no input ['daaaaaaaaaaaammmmmnnn', 'yooouuuu']\n",
      "2021-05-16 10:21:50,572 : WARNING : cannot compute similarity with no input ['venezuellaa']\n"
     ]
    },
    {
     "name": "stdout",
     "output_type": "stream",
     "text": [
      "[]\n",
      "[]\n",
      "[]\n",
      "[]\n",
      "[]\n"
     ]
    },
    {
     "name": "stderr",
     "output_type": "stream",
     "text": [
      "2021-05-16 10:21:50,692 : WARNING : cannot compute similarity with no input ['combong']\n",
      "2021-05-16 10:21:50,789 : WARNING : cannot compute similarity with no input ['ckberri']\n",
      "2021-05-16 10:21:50,867 : WARNING : cannot compute similarity with no input ['aweh']\n"
     ]
    },
    {
     "name": "stdout",
     "output_type": "stream",
     "text": [
      "[]\n",
      "[]\n",
      "[]\n"
     ]
    },
    {
     "name": "stderr",
     "output_type": "stream",
     "text": [
      "2021-05-16 10:21:50,972 : WARNING : cannot compute similarity with no input ['donde', 'estha', 'corazon']\n",
      "2021-05-16 10:21:51,030 : WARNING : cannot compute similarity with no input ['tycodi']\n",
      "2021-05-16 10:21:51,067 : WARNING : cannot compute similarity with no input ['drogba', 'equalis']\n",
      "2021-05-16 10:21:51,096 : WARNING : cannot compute similarity with no input ['600word']\n",
      "2021-05-16 10:21:51,136 : WARNING : cannot compute similarity with no input ['effectiv']\n"
     ]
    },
    {
     "name": "stdout",
     "output_type": "stream",
     "text": [
      "[]\n",
      "[]\n",
      "[]\n",
      "[]\n",
      "[]\n"
     ]
    },
    {
     "name": "stderr",
     "output_type": "stream",
     "text": [
      "2021-05-16 10:21:51,332 : WARNING : cannot compute similarity with no input ['aawww']\n",
      "2021-05-16 10:21:51,399 : WARNING : cannot compute similarity with no input ['ahi']\n"
     ]
    },
    {
     "name": "stdout",
     "output_type": "stream",
     "text": [
      "[]\n",
      "[]\n"
     ]
    },
    {
     "name": "stderr",
     "output_type": "stream",
     "text": [
      "2021-05-16 10:21:51,563 : WARNING : cannot compute similarity with no input ['mykneehurtsofuckingbad']\n",
      "2021-05-16 10:21:51,587 : WARNING : cannot compute similarity with no input ['exausto']\n",
      "2021-05-16 10:21:51,624 : WARNING : cannot compute similarity with no input ['soninho']\n",
      "2021-05-16 10:21:51,755 : WARNING : cannot compute similarity with no input ['ngampussss']\n"
     ]
    },
    {
     "name": "stdout",
     "output_type": "stream",
     "text": [
      "[]\n",
      "[]\n",
      "[]\n",
      "[]\n"
     ]
    },
    {
     "name": "stderr",
     "output_type": "stream",
     "text": [
      "2021-05-16 10:21:51,829 : WARNING : cannot compute similarity with no input ['versehen']\n",
      "2021-05-16 10:21:51,874 : WARNING : cannot compute similarity with no input ['whrrrruu']\n",
      "2021-05-16 10:21:51,973 : WARNING : cannot compute similarity with no input ['pusi']\n"
     ]
    },
    {
     "name": "stdout",
     "output_type": "stream",
     "text": [
      "[]\n",
      "[]\n",
      "[]\n"
     ]
    },
    {
     "name": "stderr",
     "output_type": "stream",
     "text": [
      "2021-05-16 10:21:52,120 : WARNING : cannot compute similarity with no input ['cmo', 'funciona', 'esto']\n",
      "2021-05-16 10:21:52,147 : WARNING : cannot compute similarity with no input ['weatherfail']\n",
      "2021-05-16 10:21:52,189 : WARNING : cannot compute similarity with no input ['worktim']\n",
      "2021-05-16 10:21:52,192 : WARNING : cannot compute similarity with no input ['revisin']\n",
      "2021-05-16 10:21:52,303 : WARNING : cannot compute similarity with no input ['9dayss']\n"
     ]
    },
    {
     "name": "stdout",
     "output_type": "stream",
     "text": [
      "[]\n",
      "[]\n",
      "[]\n",
      "[]\n",
      "[]\n"
     ]
    },
    {
     "name": "stderr",
     "output_type": "stream",
     "text": [
      "2021-05-16 10:21:52,384 : WARNING : cannot compute similarity with no input ['rvghosttown']\n",
      "2021-05-16 10:21:52,456 : WARNING : cannot compute similarity with no input ['anyone', 'onn']\n"
     ]
    },
    {
     "name": "stdout",
     "output_type": "stream",
     "text": [
      "[]\n",
      "[]\n"
     ]
    },
    {
     "name": "stderr",
     "output_type": "stream",
     "text": [
      "2021-05-16 10:21:52,637 : WARNING : cannot compute similarity with no input ['rottedd']\n",
      "2021-05-16 10:21:52,673 : WARNING : cannot compute similarity with no input ['youtwitfac']\n",
      "2021-05-16 10:21:52,687 : WARNING : cannot compute similarity with no input ['houseguest']\n",
      "2021-05-16 10:21:52,813 : WARNING : cannot compute similarity with no input ['flikrmail']\n"
     ]
    },
    {
     "name": "stdout",
     "output_type": "stream",
     "text": [
      "[]\n",
      "[]\n",
      "[]\n",
      "[]\n"
     ]
    },
    {
     "name": "stderr",
     "output_type": "stream",
     "text": [
      "2021-05-16 10:21:52,859 : WARNING : cannot compute similarity with no input ['lowbatt']\n",
      "2021-05-16 10:21:53,004 : WARNING : cannot compute similarity with no input ['poooooooor', 'sheeeep']\n"
     ]
    },
    {
     "name": "stdout",
     "output_type": "stream",
     "text": [
      "[]\n",
      "[]\n"
     ]
    },
    {
     "name": "stderr",
     "output_type": "stream",
     "text": [
      "2021-05-16 10:21:53,072 : WARNING : cannot compute similarity with no input ['jbg', 'nemam']\n",
      "2021-05-16 10:21:53,088 : WARNING : cannot compute similarity with no input ['pusi']\n",
      "2021-05-16 10:21:53,125 : WARNING : cannot compute similarity with no input ['earthquack']\n",
      "2021-05-16 10:21:53,138 : WARNING : cannot compute similarity with no input ['exaaaaam']\n",
      "2021-05-16 10:21:53,179 : WARNING : cannot compute similarity with no input ['mybe']\n"
     ]
    },
    {
     "name": "stdout",
     "output_type": "stream",
     "text": [
      "[]\n",
      "[]\n",
      "[]\n",
      "[]\n",
      "[]\n"
     ]
    },
    {
     "name": "stderr",
     "output_type": "stream",
     "text": [
      "2021-05-16 10:21:53,408 : WARNING : cannot compute similarity with no input ['neeeeeeeeeeeeeeeeeeeeneeeeeeeeeeeneeeeeeeee']\n",
      "2021-05-16 10:21:53,513 : WARNING : cannot compute similarity with no input ['bogusss']\n",
      "2021-05-16 10:21:53,583 : WARNING : cannot compute similarity with no input ['stressssssssssssssssss']\n",
      "2021-05-16 10:21:53,594 : WARNING : cannot compute similarity with no input ['wuiih', 'lemesh']\n"
     ]
    },
    {
     "name": "stdout",
     "output_type": "stream",
     "text": [
      "[]\n",
      "[]\n",
      "[]\n",
      "[]\n"
     ]
    },
    {
     "name": "stderr",
     "output_type": "stream",
     "text": [
      "2021-05-16 10:21:53,655 : WARNING : cannot compute similarity with no input ['exac']\n",
      "2021-05-16 10:21:53,698 : WARNING : cannot compute similarity with no input ['missssyou', 'stina']\n",
      "2021-05-16 10:21:53,722 : WARNING : cannot compute similarity with no input ['ninc', 'gz', 'anysnl', 'frdnk']\n",
      "2021-05-16 10:21:53,779 : WARNING : cannot compute similarity with no input ['thankiie']\n",
      "2021-05-16 10:21:53,783 : WARNING : cannot compute similarity with no input ['ss501']\n",
      "2021-05-16 10:21:53,811 : WARNING : cannot compute similarity with no input ['workiando']\n",
      "2021-05-16 10:21:53,818 : WARNING : cannot compute similarity with no input ['jup']\n",
      "2021-05-16 10:21:53,831 : WARNING : cannot compute similarity with no input ['wiilllllllllllllllll']\n"
     ]
    },
    {
     "name": "stdout",
     "output_type": "stream",
     "text": [
      "[]\n",
      "[]\n",
      "[]\n",
      "[]\n",
      "[]\n",
      "[]\n",
      "[]\n",
      "[]\n"
     ]
    },
    {
     "name": "stderr",
     "output_type": "stream",
     "text": [
      "2021-05-16 10:21:53,840 : WARNING : cannot compute similarity with no input ['sii']\n",
      "2021-05-16 10:21:53,847 : WARNING : cannot compute similarity with no input ['twelcom']\n",
      "2021-05-16 10:21:53,850 : WARNING : cannot compute similarity with no input ['beachfac']\n",
      "2021-05-16 10:21:53,857 : WARNING : cannot compute similarity with no input ['yesssssssssssssssssssss']\n",
      "2021-05-16 10:21:53,858 : WARNING : cannot compute similarity with no input ['thanxx']\n",
      "2021-05-16 10:21:53,866 : WARNING : cannot compute similarity with no input ['aham']\n",
      "2021-05-16 10:21:53,929 : WARNING : cannot compute similarity with no input ['awsome']\n",
      "2021-05-16 10:21:53,947 : WARNING : cannot compute similarity with no input ['farin', 'urlaub', 'sonn']\n",
      "2021-05-16 10:21:53,983 : WARNING : cannot compute similarity with no input ['eeeeeeeeeeeeeeeeeeeeeeeeeeeeeeee', 'gile']\n",
      "2021-05-16 10:21:54,002 : WARNING : cannot compute similarity with no input ['chilllllllllllll']\n",
      "2021-05-16 10:21:54,007 : WARNING : cannot compute similarity with no input ['cookingg']\n"
     ]
    },
    {
     "name": "stdout",
     "output_type": "stream",
     "text": [
      "[]\n",
      "[]\n",
      "[]\n",
      "[]\n",
      "[]\n",
      "[]\n",
      "[]\n",
      "[]\n",
      "[]\n",
      "[]\n",
      "[]\n"
     ]
    },
    {
     "name": "stderr",
     "output_type": "stream",
     "text": [
      "2021-05-16 10:21:54,057 : WARNING : cannot compute similarity with no input ['bisous', 'loulou']\n",
      "2021-05-16 10:21:54,075 : WARNING : cannot compute similarity with no input ['github']\n",
      "2021-05-16 10:21:54,100 : WARNING : cannot compute similarity with no input ['odeam']\n",
      "2021-05-16 10:21:54,119 : WARNING : cannot compute similarity with no input ['thursdayi']\n",
      "2021-05-16 10:21:54,162 : WARNING : cannot compute similarity with no input ['thankyoou']\n",
      "2021-05-16 10:21:54,220 : WARNING : cannot compute similarity with no input ['muum']\n",
      "2021-05-16 10:21:54,250 : WARNING : cannot compute similarity with no input ['vem', 'pela', 'sombra']\n"
     ]
    },
    {
     "name": "stdout",
     "output_type": "stream",
     "text": [
      "[]\n",
      "[]\n",
      "[]\n",
      "[]\n",
      "[]\n",
      "[]\n",
      "[]\n"
     ]
    },
    {
     "name": "stderr",
     "output_type": "stream",
     "text": [
      "2021-05-16 10:21:54,259 : WARNING : cannot compute similarity with no input ['yeesss']\n",
      "2021-05-16 10:21:54,345 : WARNING : cannot compute similarity with no input ['yummmmmmmmmmm']\n",
      "2021-05-16 10:21:54,369 : WARNING : cannot compute similarity with no input ['ooooooooh']\n",
      "2021-05-16 10:21:54,380 : WARNING : cannot compute similarity with no input ['goooo', 'rhodi', 'uri']\n",
      "2021-05-16 10:21:54,394 : WARNING : cannot compute similarity with no input ['thanxxx']\n"
     ]
    },
    {
     "name": "stdout",
     "output_type": "stream",
     "text": [
      "[]\n",
      "[]\n",
      "[]\n",
      "[]\n",
      "[]\n"
     ]
    },
    {
     "name": "stderr",
     "output_type": "stream",
     "text": [
      "2021-05-16 10:21:54,479 : WARNING : cannot compute similarity with no input ['imtakeya']\n",
      "2021-05-16 10:21:54,485 : WARNING : cannot compute similarity with no input ['heyyhoo', 'heyhey']\n",
      "2021-05-16 10:21:54,501 : WARNING : cannot compute similarity with no input ['hitech']\n",
      "2021-05-16 10:21:54,517 : WARNING : cannot compute similarity with no input ['kahjuk', 'mitt']\n",
      "2021-05-16 10:21:54,525 : WARNING : cannot compute similarity with no input ['te9ba7i', '3la', 'khayer', 'roqayah']\n",
      "2021-05-16 10:21:54,580 : WARNING : cannot compute similarity with no input ['eslytelen']\n",
      "2021-05-16 10:21:54,651 : WARNING : cannot compute similarity with no input ['helou']\n",
      "2021-05-16 10:21:54,664 : WARNING : cannot compute similarity with no input ['iloveyoumore']\n"
     ]
    },
    {
     "name": "stdout",
     "output_type": "stream",
     "text": [
      "[]\n",
      "[]\n",
      "[]\n",
      "[]\n",
      "[]\n",
      "[]\n",
      "[]\n",
      "[]\n"
     ]
    },
    {
     "name": "stderr",
     "output_type": "stream",
     "text": [
      "2021-05-16 10:21:54,674 : WARNING : cannot compute similarity with no input ['schand']\n",
      "2021-05-16 10:21:54,681 : WARNING : cannot compute similarity with no input ['acontec']\n",
      "2021-05-16 10:21:54,789 : WARNING : cannot compute similarity with no input ['fye']\n",
      "2021-05-16 10:21:54,795 : WARNING : cannot compute similarity with no input ['bakgat', 'boerer']\n",
      "2021-05-16 10:21:54,801 : WARNING : cannot compute similarity with no input ['teewar']\n",
      "2021-05-16 10:21:54,818 : WARNING : cannot compute similarity with no input ['soundtrip']\n",
      "2021-05-16 10:21:54,840 : WARNING : cannot compute similarity with no input ['summerrrrr']\n"
     ]
    },
    {
     "name": "stdout",
     "output_type": "stream",
     "text": [
      "[]\n",
      "[]\n",
      "[]\n",
      "[]\n",
      "[]\n",
      "[]\n",
      "[]\n"
     ]
    },
    {
     "name": "stderr",
     "output_type": "stream",
     "text": [
      "2021-05-16 10:21:54,921 : WARNING : cannot compute similarity with no input ['eatinggg']\n",
      "2021-05-16 10:21:54,928 : WARNING : cannot compute similarity with no input ['thku4']\n",
      "2021-05-16 10:21:54,953 : WARNING : cannot compute similarity with no input ['surprise']\n",
      "2021-05-16 10:21:55,014 : WARNING : cannot compute similarity with no input ['hehehe']\n",
      "2021-05-16 10:21:55,015 : WARNING : cannot compute similarity with no input ['yupper']\n",
      "2021-05-16 10:21:55,112 : WARNING : cannot compute similarity with no input ['qui', 'contient']\n"
     ]
    },
    {
     "name": "stdout",
     "output_type": "stream",
     "text": [
      "[]\n",
      "[]\n",
      "[]\n",
      "[]\n",
      "[]\n",
      "[]\n"
     ]
    },
    {
     "name": "stderr",
     "output_type": "stream",
     "text": [
      "2021-05-16 10:21:55,140 : WARNING : cannot compute similarity with no input ['morrrn']\n",
      "2021-05-16 10:21:55,178 : WARNING : cannot compute similarity with no input ['twittucandus']\n",
      "2021-05-16 10:21:55,263 : WARNING : cannot compute similarity with no input ['soundtrip']\n",
      "2021-05-16 10:21:55,280 : WARNING : cannot compute similarity with no input ['cuuze']\n",
      "2021-05-16 10:21:55,286 : WARNING : cannot compute similarity with no input ['hohoho']\n",
      "2021-05-16 10:21:55,289 : WARNING : cannot compute similarity with no input ['3awafi']\n"
     ]
    },
    {
     "name": "stdout",
     "output_type": "stream",
     "text": [
      "[]\n",
      "[]\n",
      "[]\n",
      "[]\n",
      "[]\n",
      "[]\n"
     ]
    },
    {
     "name": "stderr",
     "output_type": "stream",
     "text": [
      "2021-05-16 10:21:55,333 : WARNING : cannot compute similarity with no input ['suert']\n",
      "2021-05-16 10:21:55,350 : WARNING : cannot compute similarity with no input ['hellloo']\n",
      "2021-05-16 10:21:55,369 : WARNING : cannot compute similarity with no input ['fliink']\n",
      "2021-05-16 10:21:55,390 : WARNING : cannot compute similarity with no input ['iloovemynewbackground']\n",
      "2021-05-16 10:21:55,418 : WARNING : cannot compute similarity with no input ['dekh', 'bhai', 'dekh']\n",
      "2021-05-16 10:21:55,445 : WARNING : cannot compute similarity with no input ['buscando', 'ghostsbust']\n",
      "2021-05-16 10:21:55,446 : WARNING : cannot compute similarity with no input ['ruphotographi']\n",
      "2021-05-16 10:21:55,495 : WARNING : cannot compute similarity with no input ['locoo']\n",
      "2021-05-16 10:21:55,515 : WARNING : cannot compute similarity with no input ['ohkayi']\n"
     ]
    },
    {
     "name": "stdout",
     "output_type": "stream",
     "text": [
      "[]\n",
      "[]\n",
      "[]\n",
      "[]\n",
      "[]\n",
      "[]\n",
      "[]\n",
      "[]\n",
      "[]\n"
     ]
    },
    {
     "name": "stderr",
     "output_type": "stream",
     "text": [
      "2021-05-16 10:21:55,604 : WARNING : cannot compute similarity with no input ['rthx']\n",
      "2021-05-16 10:21:55,680 : WARNING : cannot compute similarity with no input ['yesir']\n",
      "2021-05-16 10:21:55,699 : WARNING : cannot compute similarity with no input ['test873645663566625']\n"
     ]
    },
    {
     "name": "stdout",
     "output_type": "stream",
     "text": [
      "[]\n",
      "[]\n",
      "[]\n"
     ]
    },
    {
     "name": "stderr",
     "output_type": "stream",
     "text": [
      "2021-05-16 10:21:55,829 : WARNING : cannot compute similarity with no input ['tinstaafl']\n",
      "2021-05-16 10:21:55,863 : WARNING : cannot compute similarity with no input ['knnyen', 'adod', 'magad']\n",
      "2021-05-16 10:21:55,996 : WARNING : cannot compute similarity with no input ['braggart']\n"
     ]
    },
    {
     "name": "stdout",
     "output_type": "stream",
     "text": [
      "[]\n",
      "[]\n",
      "[]\n"
     ]
    },
    {
     "name": "stderr",
     "output_type": "stream",
     "text": [
      "2021-05-16 10:21:56,047 : WARNING : cannot compute similarity with no input ['fg682', 'ssh']\n",
      "2021-05-16 10:21:56,060 : WARNING : cannot compute similarity with no input ['thanksi']\n",
      "2021-05-16 10:21:56,223 : WARNING : cannot compute similarity with no input ['ooi']\n"
     ]
    },
    {
     "name": "stdout",
     "output_type": "stream",
     "text": [
      "[]\n",
      "[]\n",
      "[]\n"
     ]
    },
    {
     "name": "stderr",
     "output_type": "stream",
     "text": [
      "2021-05-16 10:21:56,247 : WARNING : cannot compute similarity with no input ['byerssss']\n",
      "2021-05-16 10:21:56,272 : WARNING : cannot compute similarity with no input ['supi', 'knuddel']\n",
      "2021-05-16 10:21:56,292 : WARNING : cannot compute similarity with no input ['epiphani']\n",
      "2021-05-16 10:21:56,304 : WARNING : cannot compute similarity with no input ['chiillll']\n",
      "2021-05-16 10:21:56,381 : WARNING : cannot compute similarity with no input ['facepalm']\n"
     ]
    },
    {
     "name": "stdout",
     "output_type": "stream",
     "text": [
      "[]\n",
      "[]\n",
      "[]\n",
      "[]\n",
      "[]\n"
     ]
    },
    {
     "name": "stderr",
     "output_type": "stream",
     "text": [
      "2021-05-16 10:21:56,473 : WARNING : cannot compute similarity with no input ['ducttap']\n",
      "2021-05-16 10:21:56,484 : WARNING : cannot compute similarity with no input ['corinthian']\n",
      "2021-05-16 10:21:56,487 : WARNING : cannot compute similarity with no input ['shonteei', 'herrre']\n",
      "2021-05-16 10:21:56,512 : WARNING : cannot compute similarity with no input ['gotya']\n",
      "2021-05-16 10:21:56,521 : WARNING : cannot compute similarity with no input ['crenshawwwwwwwwww']\n",
      "2021-05-16 10:21:56,525 : WARNING : cannot compute similarity with no input ['peace']\n",
      "2021-05-16 10:21:56,538 : WARNING : cannot compute similarity with no input ['happybirthday']\n",
      "2021-05-16 10:21:56,555 : WARNING : cannot compute similarity with no input ['moviess']\n",
      "2021-05-16 10:21:56,565 : WARNING : cannot compute similarity with no input ['halllloo']\n",
      "2021-05-16 10:21:56,583 : WARNING : cannot compute similarity with no input ['mmhmph']\n",
      "2021-05-16 10:21:56,586 : WARNING : cannot compute similarity with no input ['xicoo']\n",
      "2021-05-16 10:21:56,592 : WARNING : cannot compute similarity with no input ['filmingggg', 'finalllli']\n",
      "2021-05-16 10:21:56,631 : WARNING : cannot compute similarity with no input ['chilllinggggg']\n",
      "2021-05-16 10:21:56,655 : WARNING : cannot compute similarity with no input ['essit']\n"
     ]
    },
    {
     "name": "stdout",
     "output_type": "stream",
     "text": [
      "[]\n",
      "[]\n",
      "[]\n",
      "[]\n",
      "[]\n",
      "[]\n",
      "[]\n",
      "[]\n",
      "[]\n",
      "[]\n",
      "[]\n",
      "[]\n",
      "[]\n",
      "[]\n"
     ]
    },
    {
     "name": "stderr",
     "output_type": "stream",
     "text": [
      "2021-05-16 10:21:56,712 : WARNING : cannot compute similarity with no input ['witter', 'obsesss']\n",
      "2021-05-16 10:21:56,755 : WARNING : cannot compute similarity with no input ['soundslikespreadshirt']\n",
      "2021-05-16 10:21:56,767 : WARNING : cannot compute similarity with no input ['morsch']\n",
      "2021-05-16 10:21:56,772 : WARNING : cannot compute similarity with no input ['shopppingggg']\n",
      "2021-05-16 10:21:56,795 : WARNING : cannot compute similarity with no input ['scanlat']\n",
      "2021-05-16 10:21:56,813 : WARNING : cannot compute similarity with no input ['hurraaaay', 'successsss']\n",
      "2021-05-16 10:21:56,841 : WARNING : cannot compute similarity with no input ['shupppppp']\n",
      "2021-05-16 10:21:56,848 : WARNING : cannot compute similarity with no input ['whatupwhatupwhatup']\n",
      "2021-05-16 10:21:56,850 : WARNING : cannot compute similarity with no input ['buckweet', 'foreal']\n",
      "2021-05-16 10:21:56,877 : WARNING : cannot compute similarity with no input ['sunshine']\n",
      "2021-05-16 10:21:56,898 : WARNING : cannot compute similarity with no input ['shmokey']\n"
     ]
    },
    {
     "name": "stdout",
     "output_type": "stream",
     "text": [
      "[]\n",
      "[]\n",
      "[]\n",
      "[]\n",
      "[]\n",
      "[]\n",
      "[]\n",
      "[]\n",
      "[]\n",
      "[]\n",
      "[]\n"
     ]
    },
    {
     "name": "stderr",
     "output_type": "stream",
     "text": [
      "2021-05-16 10:21:56,908 : WARNING : cannot compute similarity with no input ['dankeschn']\n",
      "2021-05-16 10:21:56,912 : WARNING : cannot compute similarity with no input ['andre']\n",
      "2021-05-16 10:21:56,988 : WARNING : cannot compute similarity with no input ['haaaaaaaaaardbas']\n",
      "2021-05-16 10:21:57,024 : WARNING : cannot compute similarity with no input ['gefeliciteerd']\n",
      "2021-05-16 10:21:57,026 : WARNING : cannot compute similarity with no input ['surrre']\n",
      "2021-05-16 10:21:57,039 : WARNING : cannot compute similarity with no input ['mto', 'bacana', 'ess', 'searchcast']\n",
      "2021-05-16 10:21:57,063 : WARNING : cannot compute similarity with no input ['showwwwweerrr']\n",
      "2021-05-16 10:21:57,068 : WARNING : cannot compute similarity with no input ['jttk', 'angyalfldr']\n"
     ]
    },
    {
     "name": "stdout",
     "output_type": "stream",
     "text": [
      "[]\n",
      "[]\n",
      "[]\n",
      "[]\n",
      "[]\n",
      "[]\n",
      "[]\n",
      "[]\n",
      "[]"
     ]
    },
    {
     "name": "stderr",
     "output_type": "stream",
     "text": [
      "2021-05-16 10:21:57,099 : WARNING : cannot compute similarity with no input ['shnaapp', 'nour', 'zaki']\n",
      "2021-05-16 10:21:57,173 : WARNING : cannot compute similarity with no input ['greeeeeeeeec']\n",
      "2021-05-16 10:21:57,216 : WARNING : cannot compute similarity with no input ['shoop']\n",
      "2021-05-16 10:21:57,242 : WARNING : cannot compute similarity with no input ['oii', 'stefhani']\n",
      "2021-05-16 10:21:57,254 : WARNING : cannot compute similarity with no input ['omgomgomgomgomgomgomg', 'atlatlatlatlatl', 'tomorrrrrrowww']\n",
      "2021-05-16 10:21:57,277 : WARNING : cannot compute similarity with no input ['ruilen']\n"
     ]
    },
    {
     "name": "stdout",
     "output_type": "stream",
     "text": [
      "\n",
      "[]\n",
      "[]\n",
      "[]\n",
      "[]\n",
      "[]\n"
     ]
    },
    {
     "name": "stderr",
     "output_type": "stream",
     "text": [
      "2021-05-16 10:21:57,340 : WARNING : cannot compute similarity with no input ['hmmmmmmm']\n",
      "2021-05-16 10:21:57,370 : WARNING : cannot compute similarity with no input ['mercik']\n",
      "2021-05-16 10:21:57,407 : WARNING : cannot compute similarity with no input ['youtwitfac']\n",
      "2021-05-16 10:21:57,409 : WARNING : cannot compute similarity with no input ['beautii', 'piictur']\n",
      "2021-05-16 10:21:57,422 : WARNING : cannot compute similarity with no input ['hellloo']\n",
      "2021-05-16 10:21:57,497 : WARNING : cannot compute similarity with no input ['hemm', 'cantik']\n",
      "2021-05-16 10:21:57,523 : WARNING : cannot compute similarity with no input ['huggggggggg']\n"
     ]
    },
    {
     "name": "stdout",
     "output_type": "stream",
     "text": [
      "[]\n",
      "[]\n",
      "[]\n",
      "[]\n",
      "[]\n",
      "[]\n",
      "[]\n"
     ]
    },
    {
     "name": "stderr",
     "output_type": "stream",
     "text": [
      "2021-05-16 10:21:57,565 : WARNING : cannot compute similarity with no input ['decimalbroth']\n",
      "2021-05-16 10:21:57,576 : WARNING : cannot compute similarity with no input ['touchdown', 'coron']\n",
      "2021-05-16 10:21:57,635 : WARNING : cannot compute similarity with no input ['moviess']\n",
      "2021-05-16 10:21:57,658 : WARNING : cannot compute similarity with no input ['vborn']\n",
      "2021-05-16 10:21:57,680 : WARNING : cannot compute similarity with no input ['showerd']\n",
      "2021-05-16 10:21:57,695 : WARNING : cannot compute similarity with no input ['viel', 'glck']\n",
      "2021-05-16 10:21:57,727 : WARNING : cannot compute similarity with no input ['definatellllllli']\n",
      "2021-05-16 10:21:57,750 : WARNING : cannot compute similarity with no input ['eventbox']\n"
     ]
    },
    {
     "name": "stdout",
     "output_type": "stream",
     "text": [
      "[]\n",
      "[]\n",
      "[]\n",
      "[]\n",
      "[]\n",
      "[]\n",
      "[]\n",
      "[]\n"
     ]
    },
    {
     "name": "stderr",
     "output_type": "stream",
     "text": [
      "2021-05-16 10:21:57,779 : WARNING : cannot compute similarity with no input ['kobeeeee']\n",
      "2021-05-16 10:21:57,788 : WARNING : cannot compute similarity with no input ['purrfect', 'pinup', 'playmat']\n",
      "2021-05-16 10:21:57,795 : WARNING : cannot compute similarity with no input ['thankoo', 'thankoo']\n",
      "2021-05-16 10:21:57,860 : WARNING : cannot compute similarity with no input [\"s'alright\"]\n",
      "2021-05-16 10:21:57,874 : WARNING : cannot compute similarity with no input ['mashi']\n",
      "2021-05-16 10:21:57,895 : WARNING : cannot compute similarity with no input ['electroshock']\n",
      "2021-05-16 10:21:57,911 : WARNING : cannot compute similarity with no input ['tomyam', 'campur', 'satu']\n"
     ]
    },
    {
     "name": "stdout",
     "output_type": "stream",
     "text": [
      "[]\n",
      "[]\n",
      "[]\n",
      "[]\n",
      "[]\n",
      "[]\n",
      "[]\n"
     ]
    },
    {
     "name": "stderr",
     "output_type": "stream",
     "text": [
      "2021-05-16 10:21:58,083 : WARNING : cannot compute similarity with no input ['chate']\n",
      "2021-05-16 10:21:58,101 : WARNING : cannot compute similarity with no input ['perfectionist']\n",
      "2021-05-16 10:21:58,114 : WARNING : cannot compute similarity with no input ['megadeth']\n",
      "2021-05-16 10:21:58,188 : WARNING : cannot compute similarity with no input ['chinese']\n",
      "2021-05-16 10:21:58,222 : WARNING : cannot compute similarity with no input ['twitterr', 'buddyy']\n",
      "2021-05-16 10:21:58,248 : WARNING : cannot compute similarity with no input ['beaiti']\n",
      "2021-05-16 10:21:58,307 : WARNING : cannot compute similarity with no input ['shehasmovedon']\n"
     ]
    },
    {
     "name": "stdout",
     "output_type": "stream",
     "text": [
      "[]\n",
      "[]\n",
      "[]\n",
      "[]\n",
      "[]\n",
      "[]\n",
      "[]\n"
     ]
    },
    {
     "name": "stderr",
     "output_type": "stream",
     "text": [
      "2021-05-16 10:21:58,311 : WARNING : cannot compute similarity with no input ['homesweethom']\n",
      "2021-05-16 10:21:58,321 : WARNING : cannot compute similarity with no input ['pradedam', 'twittinti']\n",
      "2021-05-16 10:21:58,335 : WARNING : cannot compute similarity with no input ['hitdg']\n",
      "2021-05-16 10:21:58,368 : WARNING : cannot compute similarity with no input ['yuummmm']\n",
      "2021-05-16 10:21:58,376 : WARNING : cannot compute similarity with no input ['annyeong']\n",
      "2021-05-16 10:21:58,381 : WARNING : cannot compute similarity with no input ['sh0wer']\n",
      "2021-05-16 10:21:58,407 : WARNING : cannot compute similarity with no input ['moviesmovi']\n",
      "2021-05-16 10:21:58,473 : WARNING : cannot compute similarity with no input ['buond']\n"
     ]
    },
    {
     "name": "stdout",
     "output_type": "stream",
     "text": [
      "[]\n",
      "[]\n",
      "[]\n",
      "[]\n",
      "[]\n",
      "[]\n",
      "[]\n",
      "[]\n",
      "[]"
     ]
    },
    {
     "name": "stderr",
     "output_type": "stream",
     "text": [
      "2021-05-16 10:21:58,494 : WARNING : cannot compute similarity with no input ['makasih', 'follownya']\n",
      "2021-05-16 10:21:58,530 : WARNING : cannot compute similarity with no input ['goodnighttttt']\n",
      "2021-05-16 10:21:58,559 : WARNING : cannot compute similarity with no input ['jux', 'chilaxin']\n",
      "2021-05-16 10:21:58,594 : WARNING : cannot compute similarity with no input ['beidem', 'lach']\n",
      "2021-05-16 10:21:58,609 : WARNING : cannot compute similarity with no input ['inveja']\n",
      "2021-05-16 10:21:58,679 : WARNING : cannot compute similarity with no input ['retwe']\n"
     ]
    },
    {
     "name": "stdout",
     "output_type": "stream",
     "text": [
      "\n",
      "[]\n",
      "[]\n",
      "[]\n",
      "[]\n",
      "[]\n"
     ]
    },
    {
     "name": "stderr",
     "output_type": "stream",
     "text": [
      "2021-05-16 10:21:58,694 : WARNING : cannot compute similarity with no input ['toooo', 'latee']\n",
      "2021-05-16 10:21:58,738 : WARNING : cannot compute similarity with no input ['goodnigh']\n",
      "2021-05-16 10:21:58,776 : WARNING : cannot compute similarity with no input ['congrashoooolayshonsss']\n",
      "2021-05-16 10:21:58,780 : WARNING : cannot compute similarity with no input ['lucknow']\n",
      "2021-05-16 10:21:58,783 : WARNING : cannot compute similarity with no input ['thnkz']\n",
      "2021-05-16 10:21:58,788 : WARNING : cannot compute similarity with no input ['thankk']\n",
      "2021-05-16 10:21:58,840 : WARNING : cannot compute similarity with no input ['aiyaamekkkkcit']\n",
      "2021-05-16 10:21:58,851 : WARNING : cannot compute similarity with no input ['whoiskwash']\n"
     ]
    },
    {
     "name": "stdout",
     "output_type": "stream",
     "text": [
      "[]\n",
      "[]\n",
      "[]\n",
      "[]\n",
      "[]\n",
      "[]\n",
      "[]\n",
      "[]\n"
     ]
    },
    {
     "name": "stderr",
     "output_type": "stream",
     "text": [
      "2021-05-16 10:21:58,899 : WARNING : cannot compute similarity with no input ['afteroon']\n",
      "2021-05-16 10:21:58,936 : WARNING : cannot compute similarity with no input ['anglophil']\n",
      "2021-05-16 10:21:58,963 : WARNING : cannot compute similarity with no input ['journe', 'repo']\n",
      "2021-05-16 10:21:58,973 : WARNING : cannot compute similarity with no input ['yesssssssssssssssssss']\n",
      "2021-05-16 10:21:59,006 : WARNING : cannot compute similarity with no input ['shibbi']\n",
      "2021-05-16 10:21:59,028 : WARNING : cannot compute similarity with no input ['whhhasssup', 'ssschick']\n",
      "2021-05-16 10:21:59,063 : WARNING : cannot compute similarity with no input ['yuuppppp']\n",
      "2021-05-16 10:21:59,065 : WARNING : cannot compute similarity with no input ['showerrrr']\n"
     ]
    },
    {
     "name": "stdout",
     "output_type": "stream",
     "text": [
      "[]\n",
      "[]\n",
      "[]\n",
      "[]\n",
      "[]\n",
      "[]\n",
      "[]\n",
      "[]\n"
     ]
    },
    {
     "name": "stderr",
     "output_type": "stream",
     "text": [
      "2021-05-16 10:21:59,171 : WARNING : cannot compute similarity with no input ['yeeaah']\n",
      "2021-05-16 10:21:59,186 : WARNING : cannot compute similarity with no input ['spoilsport']\n",
      "2021-05-16 10:21:59,198 : WARNING : cannot compute similarity with no input ['gefeliciteerd']\n",
      "2021-05-16 10:21:59,219 : WARNING : cannot compute similarity with no input ['moshimoshi']\n",
      "2021-05-16 10:21:59,232 : WARNING : cannot compute similarity with no input ['dokus']\n",
      "2021-05-16 10:21:59,261 : WARNING : cannot compute similarity with no input ['greed']\n",
      "2021-05-16 10:21:59,271 : WARNING : cannot compute similarity with no input ['weekendtim']\n",
      "2021-05-16 10:21:59,284 : WARNING : cannot compute similarity with no input ['slipknot']\n",
      "2021-05-16 10:21:59,303 : WARNING : cannot compute similarity with no input ['yaaay']\n"
     ]
    },
    {
     "name": "stdout",
     "output_type": "stream",
     "text": [
      "[]\n",
      "[]\n",
      "[]\n",
      "[]\n",
      "[]\n",
      "[]\n",
      "[]\n",
      "[]\n",
      "[]\n"
     ]
    },
    {
     "name": "stderr",
     "output_type": "stream",
     "text": [
      "2021-05-16 10:21:59,412 : WARNING : cannot compute similarity with no input ['twiiiitter']\n",
      "2021-05-16 10:21:59,421 : WARNING : cannot compute similarity with no input ['mercii']\n",
      "2021-05-16 10:21:59,428 : WARNING : cannot compute similarity with no input ['twitterhol']\n",
      "2021-05-16 10:21:59,433 : WARNING : cannot compute similarity with no input ['ilovecamp']\n",
      "2021-05-16 10:21:59,451 : WARNING : cannot compute similarity with no input ['idgt']\n"
     ]
    },
    {
     "name": "stdout",
     "output_type": "stream",
     "text": [
      "[]\n",
      "[]\n",
      "[]\n",
      "[]\n",
      "[]\n"
     ]
    },
    {
     "name": "stderr",
     "output_type": "stream",
     "text": [
      "2021-05-16 10:21:59,631 : WARNING : cannot compute similarity with no input ['escutem', 'nossa', 'musica']\n",
      "2021-05-16 10:21:59,677 : WARNING : cannot compute similarity with no input ['assi']\n",
      "2021-05-16 10:21:59,700 : WARNING : cannot compute similarity with no input ['sevensword', 'prologu']\n",
      "2021-05-16 10:21:59,714 : WARNING : cannot compute similarity with no input ['notiert']\n",
      "2021-05-16 10:21:59,772 : WARNING : cannot compute similarity with no input ['sudah', 'diretweet']\n",
      "2021-05-16 10:21:59,790 : WARNING : cannot compute similarity with no input ['sound3p']\n",
      "2021-05-16 10:21:59,808 : WARNING : cannot compute similarity with no input ['chiqu']\n"
     ]
    },
    {
     "name": "stdout",
     "output_type": "stream",
     "text": [
      "[]\n",
      "[]\n",
      "[]\n",
      "[]\n",
      "[]\n",
      "[]\n",
      "[]\n"
     ]
    },
    {
     "name": "stderr",
     "output_type": "stream",
     "text": [
      "2021-05-16 10:21:59,850 : WARNING : cannot compute similarity with no input ['bubbletea', 'testen']\n",
      "2021-05-16 10:21:59,853 : WARNING : cannot compute similarity with no input ['wgworldwid']\n",
      "2021-05-16 10:21:59,885 : WARNING : cannot compute similarity with no input ['entendi']\n",
      "2021-05-16 10:21:59,935 : WARNING : cannot compute similarity with no input ['screammm', 'aimmm', 'firreeeeeee']\n",
      "2021-05-16 10:21:59,942 : WARNING : cannot compute similarity with no input ['dugg']\n",
      "2021-05-16 10:21:59,993 : WARNING : cannot compute similarity with no input ['sehr', 'sucht']\n",
      "2021-05-16 10:22:00,002 : WARNING : cannot compute similarity with no input ['shup', 'whatwhatwhat']\n",
      "2021-05-16 10:22:00,015 : WARNING : cannot compute similarity with no input ['redpant']\n",
      "2021-05-16 10:22:00,029 : WARNING : cannot compute similarity with no input ['halll']\n",
      "2021-05-16 10:22:00,060 : WARNING : cannot compute similarity with no input ['gefeliciteerd']\n"
     ]
    },
    {
     "name": "stdout",
     "output_type": "stream",
     "text": [
      "[]\n",
      "[]\n",
      "[]\n",
      "[]\n",
      "[]\n",
      "[]\n",
      "[]\n",
      "[]\n",
      "[]\n",
      "[]\n"
     ]
    }
   ],
   "source": [
    "x_train_snowball = word_averaging_list(w2v_snowball, snowball_stemmed_train)"
   ]
  },
  {
   "cell_type": "code",
   "execution_count": 58,
   "metadata": {},
   "outputs": [
    {
     "name": "stderr",
     "output_type": "stream",
     "text": [
      "2021-05-16 10:22:00,608 : WARNING : cannot compute similarity with no input ['doesntfeelwel']\n",
      "2021-05-16 10:22:00,658 : WARNING : cannot compute similarity with no input ['shittysunday']\n",
      "2021-05-16 10:22:00,708 : WARNING : cannot compute similarity with no input ['insomniugh']\n"
     ]
    },
    {
     "name": "stdout",
     "output_type": "stream",
     "text": [
      "[]\n",
      "[]\n",
      "[]\n"
     ]
    },
    {
     "name": "stderr",
     "output_type": "stream",
     "text": [
      "2021-05-16 10:22:00,870 : WARNING : cannot compute similarity with no input ['thesims3']\n",
      "2021-05-16 10:22:00,888 : WARNING : cannot compute similarity with no input ['speachlesssssss']\n",
      "2021-05-16 10:22:00,896 : WARNING : cannot compute similarity with no input ['mcgrath']\n",
      "2021-05-16 10:22:01,045 : WARNING : cannot compute similarity with no input ['esuk', 'durang', 'belay']\n"
     ]
    },
    {
     "name": "stdout",
     "output_type": "stream",
     "text": [
      "[]\n",
      "[]\n",
      "[]\n",
      "[]\n",
      "[]"
     ]
    },
    {
     "name": "stderr",
     "output_type": "stream",
     "text": [
      "2021-05-16 10:22:01,051 : WARNING : cannot compute similarity with no input ['helpmepleas']\n",
      "2021-05-16 10:22:01,243 : WARNING : cannot compute similarity with no input ['saddddd']\n"
     ]
    },
    {
     "name": "stdout",
     "output_type": "stream",
     "text": [
      "\n",
      "[]\n"
     ]
    },
    {
     "name": "stderr",
     "output_type": "stream",
     "text": [
      "2021-05-16 10:22:01,347 : WARNING : cannot compute similarity with no input ['okok', 'surt']\n",
      "2021-05-16 10:22:01,429 : WARNING : cannot compute similarity with no input ['revisingg']\n",
      "2021-05-16 10:22:01,493 : WARNING : cannot compute similarity with no input ['fds', 'acabou']\n",
      "2021-05-16 10:22:01,537 : WARNING : cannot compute similarity with no input ['tiirree']\n"
     ]
    },
    {
     "name": "stdout",
     "output_type": "stream",
     "text": [
      "[]\n",
      "[]\n",
      "[]\n",
      "[]\n"
     ]
    },
    {
     "name": "stderr",
     "output_type": "stream",
     "text": [
      "2021-05-16 10:22:01,603 : WARNING : cannot compute similarity with no input ['unreach']\n",
      "2021-05-16 10:22:01,660 : WARNING : cannot compute similarity with no input ['riannn', 'imy2']\n"
     ]
    },
    {
     "name": "stdout",
     "output_type": "stream",
     "text": [
      "[]\n",
      "[]\n"
     ]
    },
    {
     "name": "stderr",
     "output_type": "stream",
     "text": [
      "2021-05-16 10:22:01,892 : WARNING : cannot compute similarity with no input ['potong', 'rambut']\n",
      "2021-05-16 10:22:02,074 : WARNING : cannot compute similarity with no input ['nmmm']\n"
     ]
    },
    {
     "name": "stdout",
     "output_type": "stream",
     "text": [
      "[]\n",
      "[]\n"
     ]
    },
    {
     "name": "stderr",
     "output_type": "stream",
     "text": [
      "2021-05-16 10:22:02,144 : WARNING : cannot compute similarity with no input ['noct', 'myclon']\n",
      "2021-05-16 10:22:02,292 : WARNING : cannot compute similarity with no input ['oouch']\n",
      "2021-05-16 10:22:02,327 : WARNING : cannot compute similarity with no input ['unfortunatel']\n",
      "2021-05-16 10:22:02,349 : WARNING : cannot compute similarity with no input ['crampssssss']\n"
     ]
    },
    {
     "name": "stdout",
     "output_type": "stream",
     "text": [
      "[]\n",
      "[]\n",
      "[]\n",
      "[]\n"
     ]
    },
    {
     "name": "stderr",
     "output_type": "stream",
     "text": [
      "2021-05-16 10:22:02,544 : WARNING : cannot compute similarity with no input ['pling', 'pling']\n",
      "2021-05-16 10:22:02,556 : WARNING : cannot compute similarity with no input ['misunderstood']\n",
      "2021-05-16 10:22:02,630 : WARNING : cannot compute similarity with no input ['sleepdisorderssuckassandihaveonewhyaminotusingthespaceb', 'idkwhocaresmyinsomniaisback']\n",
      "2021-05-16 10:22:02,655 : WARNING : cannot compute similarity with no input ['pancreatit']\n"
     ]
    },
    {
     "name": "stdout",
     "output_type": "stream",
     "text": [
      "[]\n",
      "[]\n",
      "[]\n",
      "[]\n"
     ]
    },
    {
     "name": "stderr",
     "output_type": "stream",
     "text": [
      "2021-05-16 10:22:02,906 : WARNING : cannot compute similarity with no input ['imisspeoplethatihaventtalkedtoforarealllylongtim', 'iwonderhowtheyaredo']\n",
      "2021-05-16 10:22:02,919 : WARNING : cannot compute similarity with no input ['prop8', 'overturn']\n",
      "2021-05-16 10:22:03,074 : WARNING : cannot compute similarity with no input ['stressedddddddddddddddd']\n"
     ]
    },
    {
     "name": "stdout",
     "output_type": "stream",
     "text": [
      "[]\n",
      "[]\n",
      "[]\n"
     ]
    },
    {
     "name": "stderr",
     "output_type": "stream",
     "text": [
      "2021-05-16 10:22:03,150 : WARNING : cannot compute similarity with no input ['shutup']\n",
      "2021-05-16 10:22:03,234 : WARNING : cannot compute similarity with no input ['sux2bu']\n",
      "2021-05-16 10:22:03,352 : WARNING : cannot compute similarity with no input ['notankz']\n"
     ]
    },
    {
     "name": "stdout",
     "output_type": "stream",
     "text": [
      "[]\n",
      "[]\n",
      "[]\n"
     ]
    },
    {
     "name": "stderr",
     "output_type": "stream",
     "text": [
      "2021-05-16 10:22:03,525 : WARNING : cannot compute similarity with no input ['heeyyy']\n",
      "2021-05-16 10:22:03,541 : WARNING : cannot compute similarity with no input ['omgnowhy']\n",
      "2021-05-16 10:22:03,599 : WARNING : cannot compute similarity with no input ['gidp']\n",
      "2021-05-16 10:22:03,654 : WARNING : cannot compute similarity with no input ['ihazaheadach']\n",
      "2021-05-16 10:22:03,688 : WARNING : cannot compute similarity with no input ['soww']\n"
     ]
    },
    {
     "name": "stdout",
     "output_type": "stream",
     "text": [
      "[]\n",
      "[]\n",
      "[]\n",
      "[]\n",
      "[]\n"
     ]
    },
    {
     "name": "stderr",
     "output_type": "stream",
     "text": [
      "2021-05-16 10:22:03,756 : WARNING : cannot compute similarity with no input ['missyou']\n",
      "2021-05-16 10:22:03,821 : WARNING : cannot compute similarity with no input ['ayudam']\n",
      "2021-05-16 10:22:03,833 : WARNING : cannot compute similarity with no input ['thankkkk']\n",
      "2021-05-16 10:22:03,853 : WARNING : cannot compute similarity with no input ['daaaaaaaaaaaammmmmnn', 'yooouuuu']\n",
      "2021-05-16 10:22:03,885 : WARNING : cannot compute similarity with no input ['venezuella']\n"
     ]
    },
    {
     "name": "stdout",
     "output_type": "stream",
     "text": [
      "[]\n",
      "[]\n",
      "[]\n",
      "[]\n",
      "[]\n"
     ]
    },
    {
     "name": "stderr",
     "output_type": "stream",
     "text": [
      "2021-05-16 10:22:04,004 : WARNING : cannot compute similarity with no input ['combong']\n",
      "2021-05-16 10:22:04,109 : WARNING : cannot compute similarity with no input ['ckberry']\n",
      "2021-05-16 10:22:04,187 : WARNING : cannot compute similarity with no input ['aweh']\n"
     ]
    },
    {
     "name": "stdout",
     "output_type": "stream",
     "text": [
      "[]\n",
      "[]\n",
      "[]\n"
     ]
    },
    {
     "name": "stderr",
     "output_type": "stream",
     "text": [
      "2021-05-16 10:22:04,290 : WARNING : cannot compute similarity with no input ['dond', 'estha', 'corazon']\n",
      "2021-05-16 10:22:04,348 : WARNING : cannot compute similarity with no input ['tycody']\n",
      "2021-05-16 10:22:04,412 : WARNING : cannot compute similarity with no input ['600words']\n"
     ]
    },
    {
     "name": "stdout",
     "output_type": "stream",
     "text": [
      "[]\n",
      "[]\n",
      "[]\n"
     ]
    },
    {
     "name": "stderr",
     "output_type": "stream",
     "text": [
      "2021-05-16 10:22:04,631 : WARNING : cannot compute similarity with no input ['aawww']\n"
     ]
    },
    {
     "name": "stdout",
     "output_type": "stream",
     "text": [
      "[]\n"
     ]
    },
    {
     "name": "stderr",
     "output_type": "stream",
     "text": [
      "2021-05-16 10:22:04,854 : WARNING : cannot compute similarity with no input ['mykneehurtsofuckingbad']\n",
      "2021-05-16 10:22:04,878 : WARNING : cannot compute similarity with no input ['exausto']\n",
      "2021-05-16 10:22:04,915 : WARNING : cannot compute similarity with no input ['soninho']\n",
      "2021-05-16 10:22:05,047 : WARNING : cannot compute similarity with no input ['ngampussss']\n"
     ]
    },
    {
     "name": "stdout",
     "output_type": "stream",
     "text": [
      "[]\n",
      "[]\n",
      "[]\n",
      "[]\n"
     ]
    },
    {
     "name": "stderr",
     "output_type": "stream",
     "text": [
      "2021-05-16 10:22:05,126 : WARNING : cannot compute similarity with no input ['verseh']\n",
      "2021-05-16 10:22:05,173 : WARNING : cannot compute similarity with no input ['whrrrruu']\n",
      "2021-05-16 10:22:05,266 : WARNING : cannot compute similarity with no input ['pusy']\n"
     ]
    },
    {
     "name": "stdout",
     "output_type": "stream",
     "text": [
      "[]\n",
      "[]\n",
      "[]\n"
     ]
    },
    {
     "name": "stderr",
     "output_type": "stream",
     "text": [
      "2021-05-16 10:22:05,410 : WARNING : cannot compute similarity with no input ['cmo', 'funcion', 'esto']\n",
      "2021-05-16 10:22:05,436 : WARNING : cannot compute similarity with no input ['weatherfail']\n",
      "2021-05-16 10:22:05,477 : WARNING : cannot compute similarity with no input ['worktim']\n",
      "2021-05-16 10:22:05,481 : WARNING : cannot compute similarity with no input ['revisin']\n",
      "2021-05-16 10:22:05,599 : WARNING : cannot compute similarity with no input ['9dayss']\n"
     ]
    },
    {
     "name": "stdout",
     "output_type": "stream",
     "text": [
      "[]\n",
      "[]\n",
      "[]\n",
      "[]\n",
      "[]\n"
     ]
    },
    {
     "name": "stderr",
     "output_type": "stream",
     "text": [
      "2021-05-16 10:22:05,680 : WARNING : cannot compute similarity with no input ['rvghosttown']\n"
     ]
    },
    {
     "name": "stdout",
     "output_type": "stream",
     "text": [
      "[]\n"
     ]
    },
    {
     "name": "stderr",
     "output_type": "stream",
     "text": [
      "2021-05-16 10:22:05,928 : WARNING : cannot compute similarity with no input ['rotted']\n",
      "2021-05-16 10:22:05,964 : WARNING : cannot compute similarity with no input ['youtwitfac']\n",
      "2021-05-16 10:22:05,978 : WARNING : cannot compute similarity with no input ['houseguest']\n",
      "2021-05-16 10:22:06,102 : WARNING : cannot compute similarity with no input ['flikrmail']\n"
     ]
    },
    {
     "name": "stdout",
     "output_type": "stream",
     "text": [
      "[]\n",
      "[]\n",
      "[]\n",
      "[]\n"
     ]
    },
    {
     "name": "stderr",
     "output_type": "stream",
     "text": [
      "2021-05-16 10:22:06,148 : WARNING : cannot compute similarity with no input ['lowbat']\n",
      "2021-05-16 10:22:06,295 : WARNING : cannot compute similarity with no input ['pooooooo', 'sheeeep']\n",
      "2021-05-16 10:22:06,363 : WARNING : cannot compute similarity with no input ['jbg', 'nemam']\n"
     ]
    },
    {
     "name": "stdout",
     "output_type": "stream",
     "text": [
      "[]\n",
      "[]\n",
      "[]\n"
     ]
    },
    {
     "name": "stderr",
     "output_type": "stream",
     "text": [
      "2021-05-16 10:22:06,380 : WARNING : cannot compute similarity with no input ['pusy']\n",
      "2021-05-16 10:22:06,419 : WARNING : cannot compute similarity with no input ['earthquack']\n",
      "2021-05-16 10:22:06,431 : WARNING : cannot compute similarity with no input ['exaaaaam']\n",
      "2021-05-16 10:22:06,473 : WARNING : cannot compute similarity with no input ['myb']\n"
     ]
    },
    {
     "name": "stdout",
     "output_type": "stream",
     "text": [
      "[]\n",
      "[]\n",
      "[]\n",
      "[]\n"
     ]
    },
    {
     "name": "stderr",
     "output_type": "stream",
     "text": [
      "2021-05-16 10:22:06,697 : WARNING : cannot compute similarity with no input ['neeeeeeeeeeeeeeeeeeeeneeeeeeeeeeen']\n",
      "2021-05-16 10:22:06,803 : WARNING : cannot compute similarity with no input ['bogusss']\n",
      "2021-05-16 10:22:06,872 : WARNING : cannot compute similarity with no input ['stressssssssssssssssssed']\n",
      "2021-05-16 10:22:06,884 : WARNING : cannot compute similarity with no input ['wuiih', 'lemesh']\n"
     ]
    },
    {
     "name": "stdout",
     "output_type": "stream",
     "text": [
      "[]\n",
      "[]\n",
      "[]\n",
      "[]\n"
     ]
    },
    {
     "name": "stderr",
     "output_type": "stream",
     "text": [
      "2021-05-16 10:22:06,950 : WARNING : cannot compute similarity with no input ['exac']\n",
      "2021-05-16 10:22:07,019 : WARNING : cannot compute similarity with no input ['nint', 'gz', 'anysnl', 'frdnk']\n",
      "2021-05-16 10:22:07,077 : WARNING : cannot compute similarity with no input ['thankiy']\n",
      "2021-05-16 10:22:07,082 : WARNING : cannot compute similarity with no input ['ss501']\n",
      "2021-05-16 10:22:07,111 : WARNING : cannot compute similarity with no input ['workiando']\n",
      "2021-05-16 10:22:07,116 : WARNING : cannot compute similarity with no input ['jup']\n",
      "2021-05-16 10:22:07,128 : WARNING : cannot compute similarity with no input ['wiillllllllllllllll']\n"
     ]
    },
    {
     "name": "stdout",
     "output_type": "stream",
     "text": [
      "[]\n",
      "[]\n",
      "[]\n",
      "[]\n",
      "[]\n",
      "[]\n",
      "[]\n"
     ]
    },
    {
     "name": "stderr",
     "output_type": "stream",
     "text": [
      "2021-05-16 10:22:07,134 : WARNING : cannot compute similarity with no input ['sii']\n",
      "2021-05-16 10:22:07,139 : WARNING : cannot compute similarity with no input ['twelcom']\n",
      "2021-05-16 10:22:07,141 : WARNING : cannot compute similarity with no input ['beachfac']\n",
      "2021-05-16 10:22:07,149 : WARNING : cannot compute similarity with no input ['yesssssssssssssssssssss']\n",
      "2021-05-16 10:22:07,150 : WARNING : cannot compute similarity with no input ['thanxx']\n",
      "2021-05-16 10:22:07,155 : WARNING : cannot compute similarity with no input ['aham']\n",
      "2021-05-16 10:22:07,288 : WARNING : cannot compute similarity with no input ['chillllllllllll']\n",
      "2021-05-16 10:22:07,293 : WARNING : cannot compute similarity with no input ['cooking']\n"
     ]
    },
    {
     "name": "stdout",
     "output_type": "stream",
     "text": [
      "[]\n",
      "[]\n",
      "[]\n",
      "[]\n",
      "[]\n",
      "[]\n",
      "[]\n",
      "[]\n"
     ]
    },
    {
     "name": "stderr",
     "output_type": "stream",
     "text": [
      "2021-05-16 10:22:07,361 : WARNING : cannot compute similarity with no input ['github']\n",
      "2021-05-16 10:22:07,385 : WARNING : cannot compute similarity with no input ['odeam']\n",
      "2021-05-16 10:22:07,403 : WARNING : cannot compute similarity with no input ['thursdayy']\n",
      "2021-05-16 10:22:07,448 : WARNING : cannot compute similarity with no input ['thankyoou']\n",
      "2021-05-16 10:22:07,507 : WARNING : cannot compute similarity with no input ['muum']\n",
      "2021-05-16 10:22:07,546 : WARNING : cannot compute similarity with no input ['yeesss']\n"
     ]
    },
    {
     "name": "stdout",
     "output_type": "stream",
     "text": [
      "[]\n",
      "[]\n",
      "[]\n",
      "[]\n",
      "[]\n",
      "[]\n"
     ]
    },
    {
     "name": "stderr",
     "output_type": "stream",
     "text": [
      "2021-05-16 10:22:07,629 : WARNING : cannot compute similarity with no input ['yummmmmmmmmm']\n",
      "2021-05-16 10:22:07,653 : WARNING : cannot compute similarity with no input ['ooooooooh']\n",
      "2021-05-16 10:22:07,678 : WARNING : cannot compute similarity with no input ['thanxxx']\n",
      "2021-05-16 10:22:07,763 : WARNING : cannot compute similarity with no input ['imtakey']\n",
      "2021-05-16 10:22:07,769 : WARNING : cannot compute similarity with no input ['heyyhoo', 'heyhey']\n",
      "2021-05-16 10:22:07,784 : WARNING : cannot compute similarity with no input ['hitech']\n",
      "2021-05-16 10:22:07,807 : WARNING : cannot compute similarity with no input ['te9ba7i', '3la', 'khay', 'roqayah']\n"
     ]
    },
    {
     "name": "stdout",
     "output_type": "stream",
     "text": [
      "[]\n",
      "[]\n",
      "[]\n",
      "[]\n",
      "[]\n",
      "[]\n",
      "[]\n"
     ]
    },
    {
     "name": "stderr",
     "output_type": "stream",
     "text": [
      "2021-05-16 10:22:07,861 : WARNING : cannot compute similarity with no input ['eslytel']\n",
      "2021-05-16 10:22:07,930 : WARNING : cannot compute similarity with no input ['helou']\n",
      "2021-05-16 10:22:07,943 : WARNING : cannot compute similarity with no input ['iloveyoum']\n",
      "2021-05-16 10:22:07,952 : WARNING : cannot compute similarity with no input ['schande']\n",
      "2021-05-16 10:22:07,958 : WARNING : cannot compute similarity with no input ['acontec']\n",
      "2021-05-16 10:22:08,066 : WARNING : cannot compute similarity with no input ['fye']\n"
     ]
    },
    {
     "name": "stdout",
     "output_type": "stream",
     "text": [
      "[]\n",
      "[]\n",
      "[]\n",
      "[]\n",
      "[]\n",
      "[]\n"
     ]
    },
    {
     "name": "stderr",
     "output_type": "stream",
     "text": [
      "2021-05-16 10:22:08,071 : WARNING : cannot compute similarity with no input ['bakg', 'boer']\n",
      "2021-05-16 10:22:08,077 : WARNING : cannot compute similarity with no input ['teew']\n",
      "2021-05-16 10:22:08,094 : WARNING : cannot compute similarity with no input ['soundtrip']\n",
      "2021-05-16 10:22:08,118 : WARNING : cannot compute similarity with no input ['summerrrr']\n",
      "2021-05-16 10:22:08,203 : WARNING : cannot compute similarity with no input ['eatingg']\n",
      "2021-05-16 10:22:08,210 : WARNING : cannot compute similarity with no input ['thku4']\n"
     ]
    },
    {
     "name": "stdout",
     "output_type": "stream",
     "text": [
      "[]\n",
      "[]\n",
      "[]\n",
      "[]\n",
      "[]\n",
      "[]\n"
     ]
    },
    {
     "name": "stderr",
     "output_type": "stream",
     "text": [
      "2021-05-16 10:22:08,411 : WARNING : cannot compute similarity with no input ['morrrn']\n",
      "2021-05-16 10:22:08,449 : WARNING : cannot compute similarity with no input ['twittucand']\n",
      "2021-05-16 10:22:08,483 : WARNING : cannot compute similarity with no input ['hiya']\n",
      "2021-05-16 10:22:08,531 : WARNING : cannot compute similarity with no input ['soundtrip']\n",
      "2021-05-16 10:22:08,550 : WARNING : cannot compute similarity with no input ['cuuz']\n",
      "2021-05-16 10:22:08,557 : WARNING : cannot compute similarity with no input ['hohoho']\n",
      "2021-05-16 10:22:08,560 : WARNING : cannot compute similarity with no input ['3awafi']\n"
     ]
    },
    {
     "name": "stdout",
     "output_type": "stream",
     "text": [
      "[]\n",
      "[]\n",
      "[]\n",
      "[]\n",
      "[]\n",
      "[]\n",
      "[]\n",
      "[]"
     ]
    },
    {
     "name": "stderr",
     "output_type": "stream",
     "text": [
      "2021-05-16 10:22:08,609 : WARNING : cannot compute similarity with no input ['suert']\n",
      "2021-05-16 10:22:08,629 : WARNING : cannot compute similarity with no input ['hellloo']\n",
      "2021-05-16 10:22:08,649 : WARNING : cannot compute similarity with no input ['fliink']\n",
      "2021-05-16 10:22:08,673 : WARNING : cannot compute similarity with no input ['iloovemynewbackground']\n",
      "2021-05-16 10:22:08,704 : WARNING : cannot compute similarity with no input ['dekh', 'bha', 'dekh']\n",
      "2021-05-16 10:22:08,732 : WARNING : cannot compute similarity with no input ['buscando', 'ghostsbust']\n",
      "2021-05-16 10:22:08,733 : WARNING : cannot compute similarity with no input ['ruphotograph']\n",
      "2021-05-16 10:22:08,782 : WARNING : cannot compute similarity with no input ['locoo']\n"
     ]
    },
    {
     "name": "stdout",
     "output_type": "stream",
     "text": [
      "\n",
      "[]\n",
      "[]\n",
      "[]\n",
      "[]\n",
      "[]\n",
      "[]\n",
      "[]\n"
     ]
    },
    {
     "name": "stderr",
     "output_type": "stream",
     "text": [
      "2021-05-16 10:22:08,803 : WARNING : cannot compute similarity with no input ['ohkayy']\n",
      "2021-05-16 10:22:08,896 : WARNING : cannot compute similarity with no input ['rthx']\n",
      "2021-05-16 10:22:08,971 : WARNING : cannot compute similarity with no input ['yesir']\n",
      "2021-05-16 10:22:08,990 : WARNING : cannot compute similarity with no input ['test873645663566625']\n"
     ]
    },
    {
     "name": "stdout",
     "output_type": "stream",
     "text": [
      "[]\n",
      "[]\n",
      "[]\n",
      "[]\n"
     ]
    },
    {
     "name": "stderr",
     "output_type": "stream",
     "text": [
      "2021-05-16 10:22:09,122 : WARNING : cannot compute similarity with no input ['tinstaafl']\n",
      "2021-05-16 10:22:09,157 : WARNING : cannot compute similarity with no input ['knnyen', 'adod', 'magad']\n",
      "2021-05-16 10:22:09,286 : WARNING : cannot compute similarity with no input ['braggart']\n"
     ]
    },
    {
     "name": "stdout",
     "output_type": "stream",
     "text": [
      "[]\n",
      "[]\n",
      "[]\n"
     ]
    },
    {
     "name": "stderr",
     "output_type": "stream",
     "text": [
      "2021-05-16 10:22:09,330 : WARNING : cannot compute similarity with no input ['fg682', 'ssh']\n",
      "2021-05-16 10:22:09,342 : WARNING : cannot compute similarity with no input ['thanksy']\n"
     ]
    },
    {
     "name": "stdout",
     "output_type": "stream",
     "text": [
      "[]\n",
      "[]\n"
     ]
    },
    {
     "name": "stderr",
     "output_type": "stream",
     "text": [
      "2021-05-16 10:22:09,521 : WARNING : cannot compute similarity with no input ['byerssss']\n",
      "2021-05-16 10:22:09,565 : WARNING : cannot compute similarity with no input ['epiphany']\n",
      "2021-05-16 10:22:09,575 : WARNING : cannot compute similarity with no input ['chiilll']\n",
      "2021-05-16 10:22:09,652 : WARNING : cannot compute similarity with no input ['facepalm']\n",
      "2021-05-16 10:22:09,742 : WARNING : cannot compute similarity with no input ['ducttap']\n"
     ]
    },
    {
     "name": "stdout",
     "output_type": "stream",
     "text": [
      "[]\n",
      "[]\n",
      "[]\n",
      "[]\n",
      "[]\n"
     ]
    },
    {
     "name": "stderr",
     "output_type": "stream",
     "text": [
      "2021-05-16 10:22:09,754 : WARNING : cannot compute similarity with no input ['corinth']\n",
      "2021-05-16 10:22:09,780 : WARNING : cannot compute similarity with no input ['goty']\n",
      "2021-05-16 10:22:09,789 : WARNING : cannot compute similarity with no input ['crenshawwwwwwwwww']\n",
      "2021-05-16 10:22:09,805 : WARNING : cannot compute similarity with no input ['happybirthday']\n",
      "2021-05-16 10:22:09,822 : WARNING : cannot compute similarity with no input ['moviess']\n",
      "2021-05-16 10:22:09,833 : WARNING : cannot compute similarity with no input ['halllloo']\n",
      "2021-05-16 10:22:09,851 : WARNING : cannot compute similarity with no input ['mmhmph']\n",
      "2021-05-16 10:22:09,854 : WARNING : cannot compute similarity with no input ['xicoo']\n",
      "2021-05-16 10:22:09,860 : WARNING : cannot compute similarity with no input ['filminggg', 'finall']\n",
      "2021-05-16 10:22:09,900 : WARNING : cannot compute similarity with no input ['chilllingggg']\n",
      "2021-05-16 10:22:09,923 : WARNING : cannot compute similarity with no input ['essit']\n"
     ]
    },
    {
     "name": "stdout",
     "output_type": "stream",
     "text": [
      "[]\n",
      "[]\n",
      "[]\n",
      "[]\n",
      "[]\n",
      "[]\n",
      "[]\n",
      "[]\n",
      "[]\n",
      "[]\n",
      "[]\n"
     ]
    },
    {
     "name": "stderr",
     "output_type": "stream",
     "text": [
      "2021-05-16 10:22:10,023 : WARNING : cannot compute similarity with no input ['soundslikespreadshirt']\n",
      "2021-05-16 10:22:10,035 : WARNING : cannot compute similarity with no input ['morsch']\n",
      "2021-05-16 10:22:10,040 : WARNING : cannot compute similarity with no input ['shopppinggg']\n",
      "2021-05-16 10:22:10,066 : WARNING : cannot compute similarity with no input ['scanl']\n",
      "2021-05-16 10:22:10,084 : WARNING : cannot compute similarity with no input ['hurraaaay', 'successsss']\n",
      "2021-05-16 10:22:10,112 : WARNING : cannot compute similarity with no input ['shuppppp']\n",
      "2021-05-16 10:22:10,120 : WARNING : cannot compute similarity with no input ['whatupwhatupwhatup']\n",
      "2021-05-16 10:22:10,168 : WARNING : cannot compute similarity with no input ['shmokey']\n",
      "2021-05-16 10:22:10,178 : WARNING : cannot compute similarity with no input ['dankeschn']\n"
     ]
    },
    {
     "name": "stdout",
     "output_type": "stream",
     "text": [
      "[]\n",
      "[]\n",
      "[]\n",
      "[]\n",
      "[]\n",
      "[]\n",
      "[]\n",
      "[]\n",
      "[]\n"
     ]
    },
    {
     "name": "stderr",
     "output_type": "stream",
     "text": [
      "2021-05-16 10:22:10,265 : WARNING : cannot compute similarity with no input ['haaaaaaaaaardbas']\n",
      "2021-05-16 10:22:10,305 : WARNING : cannot compute similarity with no input ['gefeliciteerd']\n",
      "2021-05-16 10:22:10,307 : WARNING : cannot compute similarity with no input ['surr']\n",
      "2021-05-16 10:22:10,344 : WARNING : cannot compute similarity with no input ['showwwwweerr']\n",
      "2021-05-16 10:22:10,348 : WARNING : cannot compute similarity with no input ['jttk', 'angyalfldr']\n",
      "2021-05-16 10:22:10,382 : WARNING : cannot compute similarity with no input ['shnaapp', 'nour', 'zak']\n",
      "2021-05-16 10:22:10,463 : WARNING : cannot compute similarity with no input ['greeeeeeeeec']\n"
     ]
    },
    {
     "name": "stdout",
     "output_type": "stream",
     "text": [
      "[]\n",
      "[]\n",
      "[]\n",
      "[]\n",
      "[]\n",
      "[]\n",
      "[]\n"
     ]
    },
    {
     "name": "stderr",
     "output_type": "stream",
     "text": [
      "2021-05-16 10:22:10,518 : WARNING : cannot compute similarity with no input ['shoop']\n",
      "2021-05-16 10:22:10,562 : WARNING : cannot compute similarity with no input ['omgomgomgomgomgomgomg', 'atlatlatlatlatl', 'tomorrrrrrowww']\n",
      "2021-05-16 10:22:10,590 : WARNING : cannot compute similarity with no input ['ruil']\n",
      "2021-05-16 10:22:10,668 : WARNING : cannot compute similarity with no input ['hmmmmmmm']\n"
     ]
    },
    {
     "name": "stdout",
     "output_type": "stream",
     "text": [
      "[]\n",
      "[]\n",
      "[]\n",
      "[]\n",
      "[]"
     ]
    },
    {
     "name": "stderr",
     "output_type": "stream",
     "text": [
      "2021-05-16 10:22:10,707 : WARNING : cannot compute similarity with no input ['mercik']\n",
      "2021-05-16 10:22:10,752 : WARNING : cannot compute similarity with no input ['youtwitfac']\n",
      "2021-05-16 10:22:10,753 : WARNING : cannot compute similarity with no input ['beautiy', 'piict']\n",
      "2021-05-16 10:22:10,770 : WARNING : cannot compute similarity with no input ['hellloo']\n",
      "2021-05-16 10:22:10,866 : WARNING : cannot compute similarity with no input ['hem', 'cantik']\n",
      "2021-05-16 10:22:10,894 : WARNING : cannot compute similarity with no input ['hugggggggg']\n"
     ]
    },
    {
     "name": "stdout",
     "output_type": "stream",
     "text": [
      "\n",
      "[]\n",
      "[]\n",
      "[]\n",
      "[]\n",
      "[]\n"
     ]
    },
    {
     "name": "stderr",
     "output_type": "stream",
     "text": [
      "2021-05-16 10:22:10,950 : WARNING : cannot compute similarity with no input ['decimalbroth']\n",
      "2021-05-16 10:22:11,040 : WARNING : cannot compute similarity with no input ['moviess']\n",
      "2021-05-16 10:22:11,067 : WARNING : cannot compute similarity with no input ['vborn']\n",
      "2021-05-16 10:22:11,092 : WARNING : cannot compute similarity with no input ['showerd']\n",
      "2021-05-16 10:22:11,146 : WARNING : cannot compute similarity with no input ['definatelllll']\n"
     ]
    },
    {
     "name": "stdout",
     "output_type": "stream",
     "text": [
      "[]\n",
      "[]\n",
      "[]\n",
      "[]\n",
      "[]\n"
     ]
    },
    {
     "name": "stderr",
     "output_type": "stream",
     "text": [
      "2021-05-16 10:22:11,182 : WARNING : cannot compute similarity with no input ['eventbox']\n",
      "2021-05-16 10:22:11,229 : WARNING : cannot compute similarity with no input ['purrfect', 'pinup', 'playm']\n",
      "2021-05-16 10:22:11,236 : WARNING : cannot compute similarity with no input ['thankoo', 'thankoo']\n",
      "2021-05-16 10:22:11,328 : WARNING : cannot compute similarity with no input [\"s'alright\"]\n",
      "2021-05-16 10:22:11,369 : WARNING : cannot compute similarity with no input ['electroshock']\n"
     ]
    },
    {
     "name": "stdout",
     "output_type": "stream",
     "text": [
      "[]\n",
      "[]\n",
      "[]\n",
      "[]\n",
      "[]\n"
     ]
    },
    {
     "name": "stderr",
     "output_type": "stream",
     "text": [
      "2021-05-16 10:22:11,632 : WARNING : cannot compute similarity with no input ['megade']\n",
      "2021-05-16 10:22:11,802 : WARNING : cannot compute similarity with no input ['beaity']\n"
     ]
    },
    {
     "name": "stdout",
     "output_type": "stream",
     "text": [
      "[]\n",
      "[]\n"
     ]
    },
    {
     "name": "stderr",
     "output_type": "stream",
     "text": [
      "2021-05-16 10:22:11,873 : WARNING : cannot compute similarity with no input ['shehasmovedon']\n",
      "2021-05-16 10:22:11,876 : WARNING : cannot compute similarity with no input ['homesweethom']\n",
      "2021-05-16 10:22:11,887 : WARNING : cannot compute similarity with no input ['pradedam', 'twittint']\n",
      "2021-05-16 10:22:11,905 : WARNING : cannot compute similarity with no input ['hitdg']\n",
      "2021-05-16 10:22:11,942 : WARNING : cannot compute similarity with no input ['yuummm']\n",
      "2021-05-16 10:22:11,950 : WARNING : cannot compute similarity with no input ['annyeong']\n",
      "2021-05-16 10:22:11,956 : WARNING : cannot compute similarity with no input ['sh0wer']\n",
      "2021-05-16 10:22:11,984 : WARNING : cannot compute similarity with no input ['moviesmovy']\n",
      "2021-05-16 10:22:12,055 : WARNING : cannot compute similarity with no input ['buond']\n"
     ]
    },
    {
     "name": "stdout",
     "output_type": "stream",
     "text": [
      "[]\n",
      "[]\n",
      "[]\n",
      "[]\n",
      "[]\n",
      "[]\n",
      "[]\n",
      "[]\n",
      "[]\n"
     ]
    },
    {
     "name": "stderr",
     "output_type": "stream",
     "text": [
      "2021-05-16 10:22:12,076 : WARNING : cannot compute similarity with no input ['makasih', 'followny']\n",
      "2021-05-16 10:22:12,112 : WARNING : cannot compute similarity with no input ['goodnightttt']\n",
      "2021-05-16 10:22:12,134 : WARNING : cannot compute similarity with no input ['jux', 'chilaxin']\n",
      "2021-05-16 10:22:12,170 : WARNING : cannot compute similarity with no input ['beidem', 'lach']\n",
      "2021-05-16 10:22:12,185 : WARNING : cannot compute similarity with no input ['invej']\n",
      "2021-05-16 10:22:12,255 : WARNING : cannot compute similarity with no input ['retw']\n"
     ]
    },
    {
     "name": "stdout",
     "output_type": "stream",
     "text": [
      "[]\n",
      "[]\n",
      "[]\n",
      "[]\n",
      "[]\n",
      "[]\n"
     ]
    },
    {
     "name": "stderr",
     "output_type": "stream",
     "text": [
      "2021-05-16 10:22:12,317 : WARNING : cannot compute similarity with no input ['goodnigh']\n",
      "2021-05-16 10:22:12,356 : WARNING : cannot compute similarity with no input ['congrashoooolayshonsss']\n",
      "2021-05-16 10:22:12,359 : WARNING : cannot compute similarity with no input ['lucknow']\n",
      "2021-05-16 10:22:12,363 : WARNING : cannot compute similarity with no input ['thnkz']\n",
      "2021-05-16 10:22:12,369 : WARNING : cannot compute similarity with no input ['thankk']\n",
      "2021-05-16 10:22:12,430 : WARNING : cannot compute similarity with no input ['aiyaamekkkkcit']\n",
      "2021-05-16 10:22:12,442 : WARNING : cannot compute similarity with no input ['whoiskwash']\n",
      "2021-05-16 10:22:12,494 : WARNING : cannot compute similarity with no input ['afteroon']\n"
     ]
    },
    {
     "name": "stdout",
     "output_type": "stream",
     "text": [
      "[]\n",
      "[]\n",
      "[]\n",
      "[]\n",
      "[]\n",
      "[]\n",
      "[]\n",
      "[]\n"
     ]
    },
    {
     "name": "stderr",
     "output_type": "stream",
     "text": [
      "2021-05-16 10:22:12,537 : WARNING : cannot compute similarity with no input ['anglophil']\n",
      "2021-05-16 10:22:12,574 : WARNING : cannot compute similarity with no input ['yesssssssssssssssssss']\n",
      "2021-05-16 10:22:12,608 : WARNING : cannot compute similarity with no input ['shibby']\n",
      "2021-05-16 10:22:12,629 : WARNING : cannot compute similarity with no input ['whhhasssup', 'ssschick']\n",
      "2021-05-16 10:22:12,666 : WARNING : cannot compute similarity with no input ['yuupppp']\n",
      "2021-05-16 10:22:12,668 : WARNING : cannot compute similarity with no input ['showerrr']\n"
     ]
    },
    {
     "name": "stdout",
     "output_type": "stream",
     "text": [
      "[]\n",
      "[]\n",
      "[]\n",
      "[]\n",
      "[]\n",
      "[]\n"
     ]
    },
    {
     "name": "stderr",
     "output_type": "stream",
     "text": [
      "2021-05-16 10:22:12,778 : WARNING : cannot compute similarity with no input ['yeeaah']\n",
      "2021-05-16 10:22:12,793 : WARNING : cannot compute similarity with no input ['spoilsport']\n",
      "2021-05-16 10:22:12,805 : WARNING : cannot compute similarity with no input ['gefeliciteerd']\n",
      "2021-05-16 10:22:12,828 : WARNING : cannot compute similarity with no input ['moshimosh']\n",
      "2021-05-16 10:22:12,870 : WARNING : cannot compute similarity with no input ['gree']\n",
      "2021-05-16 10:22:12,880 : WARNING : cannot compute similarity with no input ['weekendtim']\n",
      "2021-05-16 10:22:12,893 : WARNING : cannot compute similarity with no input ['slipknot']\n",
      "2021-05-16 10:22:12,912 : WARNING : cannot compute similarity with no input ['yaaay']\n"
     ]
    },
    {
     "name": "stdout",
     "output_type": "stream",
     "text": [
      "[]\n",
      "[]\n",
      "[]\n",
      "[]\n",
      "[]\n",
      "[]\n",
      "[]\n",
      "[]\n"
     ]
    },
    {
     "name": "stderr",
     "output_type": "stream",
     "text": [
      "2021-05-16 10:22:13,023 : WARNING : cannot compute similarity with no input ['twiiiit']\n",
      "2021-05-16 10:22:13,032 : WARNING : cannot compute similarity with no input ['merci']\n",
      "2021-05-16 10:22:13,039 : WARNING : cannot compute similarity with no input ['twitterhol']\n",
      "2021-05-16 10:22:13,044 : WARNING : cannot compute similarity with no input ['ilovecamp']\n",
      "2021-05-16 10:22:13,064 : WARNING : cannot compute similarity with no input ['idgt']\n"
     ]
    },
    {
     "name": "stdout",
     "output_type": "stream",
     "text": [
      "[]\n",
      "[]\n",
      "[]\n",
      "[]\n",
      "[]\n"
     ]
    },
    {
     "name": "stderr",
     "output_type": "stream",
     "text": [
      "2021-05-16 10:22:13,251 : WARNING : cannot compute similarity with no input ['escutem', 'nossa', 'musica']\n",
      "2021-05-16 10:22:13,301 : WARNING : cannot compute similarity with no input [\"'assie\"]\n",
      "2021-05-16 10:22:13,325 : WARNING : cannot compute similarity with no input ['sevensword', 'prolog']\n",
      "2021-05-16 10:22:13,342 : WARNING : cannot compute similarity with no input ['notiert']\n",
      "2021-05-16 10:22:13,404 : WARNING : cannot compute similarity with no input ['sudah', 'diretweet']\n",
      "2021-05-16 10:22:13,423 : WARNING : cannot compute similarity with no input ['sound3p']\n"
     ]
    },
    {
     "name": "stdout",
     "output_type": "stream",
     "text": [
      "[]\n",
      "[]\n",
      "[]\n",
      "[]\n",
      "[]\n",
      "[]\n"
     ]
    },
    {
     "name": "stderr",
     "output_type": "stream",
     "text": [
      "2021-05-16 10:22:13,443 : WARNING : cannot compute similarity with no input ['chiqu']\n",
      "2021-05-16 10:22:13,489 : WARNING : cannot compute similarity with no input ['wgworldwide']\n",
      "2021-05-16 10:22:13,525 : WARNING : cannot compute similarity with no input ['entend']\n",
      "2021-05-16 10:22:13,638 : WARNING : cannot compute similarity with no input ['sehr', 'sucht']\n"
     ]
    },
    {
     "name": "stdout",
     "output_type": "stream",
     "text": [
      "[]\n",
      "[]\n",
      "[]\n",
      "[]\n"
     ]
    },
    {
     "name": "stderr",
     "output_type": "stream",
     "text": [
      "2021-05-16 10:22:13,648 : WARNING : cannot compute similarity with no input ['shup', 'whatwhatwh']\n",
      "2021-05-16 10:22:13,662 : WARNING : cannot compute similarity with no input ['redp']\n",
      "2021-05-16 10:22:13,677 : WARNING : cannot compute similarity with no input ['hall']\n",
      "2021-05-16 10:22:13,709 : WARNING : cannot compute similarity with no input ['gefeliciteerd']\n"
     ]
    },
    {
     "name": "stdout",
     "output_type": "stream",
     "text": [
      "[]\n",
      "[]\n",
      "[]\n",
      "[]\n"
     ]
    }
   ],
   "source": [
    "x_train_lancaster = word_averaging_list(w2v_lancaster, lancaster_stemmed_train)"
   ]
  },
  {
   "cell_type": "code",
   "execution_count": 59,
   "metadata": {},
   "outputs": [
    {
     "name": "stderr",
     "output_type": "stream",
     "text": [
      "2021-05-16 10:22:14,286 : WARNING : cannot compute similarity with no input ['doesntfeelwell']\n",
      "2021-05-16 10:22:14,327 : WARNING : cannot compute similarity with no input ['starbuck']\n",
      "2021-05-16 10:22:14,342 : WARNING : cannot compute similarity with no input ['shittysunday']\n",
      "2021-05-16 10:22:14,400 : WARNING : cannot compute similarity with no input ['insomniugh']\n"
     ]
    },
    {
     "name": "stdout",
     "output_type": "stream",
     "text": [
      "[]\n",
      "[]\n",
      "[]\n",
      "[]\n"
     ]
    },
    {
     "name": "stderr",
     "output_type": "stream",
     "text": [
      "2021-05-16 10:22:14,509 : WARNING : cannot compute similarity with no input ['ouches']\n",
      "2021-05-16 10:22:14,576 : WARNING : cannot compute similarity with no input ['thesims3']\n",
      "2021-05-16 10:22:14,596 : WARNING : cannot compute similarity with no input ['speachlesssssss']\n",
      "2021-05-16 10:22:14,604 : WARNING : cannot compute similarity with no input ['mcgrath']\n",
      "2021-05-16 10:22:14,698 : WARNING : cannot compute similarity with no input ['hallieeeeee']\n"
     ]
    },
    {
     "name": "stdout",
     "output_type": "stream",
     "text": [
      "[]\n",
      "[]\n",
      "[]\n",
      "[]\n",
      "[]\n"
     ]
    },
    {
     "name": "stderr",
     "output_type": "stream",
     "text": [
      "2021-05-16 10:22:14,757 : WARNING : cannot compute similarity with no input ['collegian']\n",
      "2021-05-16 10:22:14,767 : WARNING : cannot compute similarity with no input ['esuk', 'durang', 'belayar']\n",
      "2021-05-16 10:22:14,772 : WARNING : cannot compute similarity with no input ['helpmeplease']\n",
      "2021-05-16 10:22:14,925 : WARNING : cannot compute similarity with no input ['secar', 'louaa']\n"
     ]
    },
    {
     "name": "stdout",
     "output_type": "stream",
     "text": [
      "[]\n",
      "[]\n",
      "[]\n",
      "[]\n"
     ]
    },
    {
     "name": "stderr",
     "output_type": "stream",
     "text": [
      "2021-05-16 10:22:14,979 : WARNING : cannot compute similarity with no input ['sadddddd']\n",
      "2021-05-16 10:22:15,090 : WARNING : cannot compute similarity with no input ['okok', 'surt']\n"
     ]
    },
    {
     "name": "stdout",
     "output_type": "stream",
     "text": [
      "[]\n",
      "[]\n"
     ]
    },
    {
     "name": "stderr",
     "output_type": "stream",
     "text": [
      "2021-05-16 10:22:15,185 : WARNING : cannot compute similarity with no input ['revisinggg']\n",
      "2021-05-16 10:22:15,253 : WARNING : cannot compute similarity with no input ['fds', 'acabou']\n",
      "2021-05-16 10:22:15,302 : WARNING : cannot compute similarity with no input ['tiirreed']\n",
      "2021-05-16 10:22:15,353 : WARNING : cannot compute similarity with no input ['cof', 'cof', 'cof']\n",
      "2021-05-16 10:22:15,374 : WARNING : cannot compute similarity with no input ['noothingg', 'borred']\n"
     ]
    },
    {
     "name": "stdout",
     "output_type": "stream",
     "text": [
      "[]\n",
      "[]\n",
      "[]\n",
      "[]\n",
      "[]\n"
     ]
    },
    {
     "name": "stderr",
     "output_type": "stream",
     "text": [
      "2021-05-16 10:22:15,378 : WARNING : cannot compute similarity with no input ['unreachable']\n",
      "2021-05-16 10:22:15,445 : WARNING : cannot compute similarity with no input ['riannna', 'imy2']\n"
     ]
    },
    {
     "name": "stdout",
     "output_type": "stream",
     "text": [
      "[]\n",
      "[]\n"
     ]
    },
    {
     "name": "stderr",
     "output_type": "stream",
     "text": [
      "2021-05-16 10:22:15,681 : WARNING : cannot compute similarity with no input ['potong', 'rambut']\n",
      "2021-05-16 10:22:15,862 : WARNING : cannot compute similarity with no input ['nmmm']\n"
     ]
    },
    {
     "name": "stdout",
     "output_type": "stream",
     "text": [
      "[]\n",
      "[]\n"
     ]
    },
    {
     "name": "stderr",
     "output_type": "stream",
     "text": [
      "2021-05-16 10:22:15,934 : WARNING : cannot compute similarity with no input ['noctural', 'myclonus']\n",
      "2021-05-16 10:22:16,093 : WARNING : cannot compute similarity with no input ['oouch']\n",
      "2021-05-16 10:22:16,128 : WARNING : cannot compute similarity with no input ['unfortunatelly']\n"
     ]
    },
    {
     "name": "stdout",
     "output_type": "stream",
     "text": [
      "[]\n",
      "[]\n",
      "[]\n"
     ]
    },
    {
     "name": "stderr",
     "output_type": "stream",
     "text": [
      "2021-05-16 10:22:16,332 : WARNING : cannot compute similarity with no input ['pling', 'pling']\n",
      "2021-05-16 10:22:16,344 : WARNING : cannot compute similarity with no input ['misunderstood']\n",
      "2021-05-16 10:22:16,475 : WARNING : cannot compute similarity with no input ['sleepdisorderssuckassandihaveonewhyaminotusingthespacebar', 'idkwhocaresmyinsomniaisback']\n",
      "2021-05-16 10:22:16,512 : WARNING : cannot compute similarity with no input ['pancreatitis']\n"
     ]
    },
    {
     "name": "stdout",
     "output_type": "stream",
     "text": [
      "[]\n",
      "[]\n",
      "[]\n",
      "[]\n"
     ]
    },
    {
     "name": "stderr",
     "output_type": "stream",
     "text": [
      "2021-05-16 10:22:16,570 : WARNING : cannot compute similarity with no input ['offlineeeeeeee']\n",
      "2021-05-16 10:22:16,623 : WARNING : cannot compute similarity with no input ['wompppp', 'wompp']\n",
      "2021-05-16 10:22:16,668 : WARNING : cannot compute similarity with no input ['madnessness']\n"
     ]
    },
    {
     "name": "stdout",
     "output_type": "stream",
     "text": [
      "[]\n",
      "[]\n",
      "[]\n"
     ]
    },
    {
     "name": "stderr",
     "output_type": "stream",
     "text": [
      "2021-05-16 10:22:16,787 : WARNING : cannot compute similarity with no input ['imisspeoplethatihaventtalkedtoforarealllylongtime', 'iwonderhowtheyaredoing']\n",
      "2021-05-16 10:22:16,801 : WARNING : cannot compute similarity with no input ['prop8', 'overturned']\n",
      "2021-05-16 10:22:16,958 : WARNING : cannot compute similarity with no input ['suucks']\n",
      "2021-05-16 10:22:16,961 : WARNING : cannot compute similarity with no input ['stressedddddddddddddddd']\n",
      "2021-05-16 10:22:16,965 : WARNING : cannot compute similarity with no input ['nee']\n"
     ]
    },
    {
     "name": "stdout",
     "output_type": "stream",
     "text": [
      "[]\n",
      "[]\n",
      "[]\n",
      "[]\n",
      "[]\n"
     ]
    },
    {
     "name": "stderr",
     "output_type": "stream",
     "text": [
      "2021-05-16 10:22:17,042 : WARNING : cannot compute similarity with no input ['shutup']\n",
      "2021-05-16 10:22:17,132 : WARNING : cannot compute similarity with no input ['sux2bu']\n",
      "2021-05-16 10:22:17,218 : WARNING : cannot compute similarity with no input ['donnee', 'frieday']\n",
      "2021-05-16 10:22:17,259 : WARNING : cannot compute similarity with no input ['notankz']\n"
     ]
    },
    {
     "name": "stdout",
     "output_type": "stream",
     "text": [
      "[]\n",
      "[]\n",
      "[]\n",
      "[]\n"
     ]
    },
    {
     "name": "stderr",
     "output_type": "stream",
     "text": [
      "2021-05-16 10:22:17,436 : WARNING : cannot compute similarity with no input ['heeyyy']\n",
      "2021-05-16 10:22:17,448 : WARNING : cannot compute similarity with no input ['omgnowhy']\n",
      "2021-05-16 10:22:17,513 : WARNING : cannot compute similarity with no input ['gidp']\n",
      "2021-05-16 10:22:17,568 : WARNING : cannot compute similarity with no input ['ihazaheadache']\n",
      "2021-05-16 10:22:17,602 : WARNING : cannot compute similarity with no input ['sowwi']\n"
     ]
    },
    {
     "name": "stdout",
     "output_type": "stream",
     "text": [
      "[]\n",
      "[]\n",
      "[]\n",
      "[]\n",
      "[]\n"
     ]
    },
    {
     "name": "stderr",
     "output_type": "stream",
     "text": [
      "2021-05-16 10:22:17,670 : WARNING : cannot compute similarity with no input ['missyou']\n",
      "2021-05-16 10:22:17,735 : WARNING : cannot compute similarity with no input ['ayudamee']\n",
      "2021-05-16 10:22:17,747 : WARNING : cannot compute similarity with no input ['thankkkks']\n",
      "2021-05-16 10:22:17,770 : WARNING : cannot compute similarity with no input ['daaaaaaaaaaaammmmmnnn', 'yooouuuu']\n",
      "2021-05-16 10:22:17,801 : WARNING : cannot compute similarity with no input ['venezuellaa']\n"
     ]
    },
    {
     "name": "stdout",
     "output_type": "stream",
     "text": [
      "[]\n",
      "[]\n",
      "[]\n",
      "[]\n",
      "[]\n"
     ]
    },
    {
     "name": "stderr",
     "output_type": "stream",
     "text": [
      "2021-05-16 10:22:17,917 : WARNING : cannot compute similarity with no input ['combong']\n",
      "2021-05-16 10:22:18,020 : WARNING : cannot compute similarity with no input ['ckberry']\n",
      "2021-05-16 10:22:18,102 : WARNING : cannot compute similarity with no input ['aweh']\n"
     ]
    },
    {
     "name": "stdout",
     "output_type": "stream",
     "text": [
      "[]\n",
      "[]\n",
      "[]\n"
     ]
    },
    {
     "name": "stderr",
     "output_type": "stream",
     "text": [
      "2021-05-16 10:22:18,214 : WARNING : cannot compute similarity with no input ['dondee', 'esthas', 'corazon']\n",
      "2021-05-16 10:22:18,275 : WARNING : cannot compute similarity with no input ['tycody']\n",
      "2021-05-16 10:22:18,315 : WARNING : cannot compute similarity with no input ['drogba', 'equalises']\n",
      "2021-05-16 10:22:18,347 : WARNING : cannot compute similarity with no input ['600words']\n",
      "2021-05-16 10:22:18,383 : WARNING : cannot compute similarity with no input ['huggle']\n",
      "2021-05-16 10:22:18,386 : WARNING : cannot compute similarity with no input ['effectivement']\n"
     ]
    },
    {
     "name": "stdout",
     "output_type": "stream",
     "text": [
      "[]\n",
      "[]\n",
      "[]\n",
      "[]\n",
      "[]\n",
      "[]\n"
     ]
    },
    {
     "name": "stderr",
     "output_type": "stream",
     "text": [
      "2021-05-16 10:22:18,587 : WARNING : cannot compute similarity with no input ['aawww']\n",
      "2021-05-16 10:22:18,649 : WARNING : cannot compute similarity with no input ['ahi']\n"
     ]
    },
    {
     "name": "stdout",
     "output_type": "stream",
     "text": [
      "[]\n",
      "[]\n"
     ]
    },
    {
     "name": "stderr",
     "output_type": "stream",
     "text": [
      "2021-05-16 10:22:18,821 : WARNING : cannot compute similarity with no input ['mykneehurtsofuckingbad']\n",
      "2021-05-16 10:22:18,847 : WARNING : cannot compute similarity with no input ['exausto']\n",
      "2021-05-16 10:22:18,884 : WARNING : cannot compute similarity with no input ['soninho']\n",
      "2021-05-16 10:22:19,026 : WARNING : cannot compute similarity with no input ['ngampussss']\n"
     ]
    },
    {
     "name": "stdout",
     "output_type": "stream",
     "text": [
      "[]\n",
      "[]\n",
      "[]\n",
      "[]\n"
     ]
    },
    {
     "name": "stderr",
     "output_type": "stream",
     "text": [
      "2021-05-16 10:22:19,104 : WARNING : cannot compute similarity with no input ['versehen']\n",
      "2021-05-16 10:22:19,154 : WARNING : cannot compute similarity with no input ['whrrrruu']\n",
      "2021-05-16 10:22:19,257 : WARNING : cannot compute similarity with no input ['pusiing']\n"
     ]
    },
    {
     "name": "stdout",
     "output_type": "stream",
     "text": [
      "[]\n",
      "[]\n",
      "[]\n"
     ]
    },
    {
     "name": "stderr",
     "output_type": "stream",
     "text": [
      "2021-05-16 10:22:19,410 : WARNING : cannot compute similarity with no input ['cmo', 'funciona', 'esto']\n",
      "2021-05-16 10:22:19,437 : WARNING : cannot compute similarity with no input ['weatherfail']\n",
      "2021-05-16 10:22:19,480 : WARNING : cannot compute similarity with no input ['worktime']\n",
      "2021-05-16 10:22:19,483 : WARNING : cannot compute similarity with no input ['revisin']\n",
      "2021-05-16 10:22:19,606 : WARNING : cannot compute similarity with no input ['9dayss']\n"
     ]
    },
    {
     "name": "stdout",
     "output_type": "stream",
     "text": [
      "[]\n",
      "[]\n",
      "[]\n",
      "[]\n",
      "[]\n"
     ]
    },
    {
     "name": "stderr",
     "output_type": "stream",
     "text": [
      "2021-05-16 10:22:19,702 : WARNING : cannot compute similarity with no input ['rvghosttown']\n",
      "2021-05-16 10:22:19,784 : WARNING : cannot compute similarity with no input ['anyonee', 'onn']\n"
     ]
    },
    {
     "name": "stdout",
     "output_type": "stream",
     "text": [
      "[]\n",
      "[]\n"
     ]
    },
    {
     "name": "stderr",
     "output_type": "stream",
     "text": [
      "2021-05-16 10:22:19,987 : WARNING : cannot compute similarity with no input ['rottedd']\n",
      "2021-05-16 10:22:20,027 : WARNING : cannot compute similarity with no input ['youtwitface']\n",
      "2021-05-16 10:22:20,042 : WARNING : cannot compute similarity with no input ['houseguest']\n",
      "2021-05-16 10:22:20,178 : WARNING : cannot compute similarity with no input ['flikrmail']\n"
     ]
    },
    {
     "name": "stdout",
     "output_type": "stream",
     "text": [
      "[]\n",
      "[]\n",
      "[]\n",
      "[]\n"
     ]
    },
    {
     "name": "stderr",
     "output_type": "stream",
     "text": [
      "2021-05-16 10:22:20,225 : WARNING : cannot compute similarity with no input ['lowbatt']\n",
      "2021-05-16 10:22:20,375 : WARNING : cannot compute similarity with no input ['poooooooor', 'sheeeep']\n"
     ]
    },
    {
     "name": "stdout",
     "output_type": "stream",
     "text": [
      "[]\n",
      "[]\n"
     ]
    },
    {
     "name": "stderr",
     "output_type": "stream",
     "text": [
      "2021-05-16 10:22:20,445 : WARNING : cannot compute similarity with no input ['jbg', 'nemam']\n",
      "2021-05-16 10:22:20,462 : WARNING : cannot compute similarity with no input ['pusiing']\n",
      "2021-05-16 10:22:20,502 : WARNING : cannot compute similarity with no input ['earthquack']\n",
      "2021-05-16 10:22:20,516 : WARNING : cannot compute similarity with no input ['exaaaaams']\n",
      "2021-05-16 10:22:20,561 : WARNING : cannot compute similarity with no input ['mybe']\n"
     ]
    },
    {
     "name": "stdout",
     "output_type": "stream",
     "text": [
      "[]\n",
      "[]\n",
      "[]\n",
      "[]\n",
      "[]\n"
     ]
    },
    {
     "name": "stderr",
     "output_type": "stream",
     "text": [
      "2021-05-16 10:22:20,789 : WARNING : cannot compute similarity with no input ['neeeeeeeeeeeeeeeeeeeeneeeeeeeeeeeneeeeeeeeee']\n",
      "2021-05-16 10:22:20,800 : WARNING : cannot compute similarity with no input ['capee']\n",
      "2021-05-16 10:22:20,909 : WARNING : cannot compute similarity with no input ['bogusss']\n",
      "2021-05-16 10:22:20,977 : WARNING : cannot compute similarity with no input ['stressssssssssssssssssed']\n"
     ]
    },
    {
     "name": "stdout",
     "output_type": "stream",
     "text": [
      "[]\n",
      "[]\n",
      "[]\n",
      "[]\n"
     ]
    },
    {
     "name": "stderr",
     "output_type": "stream",
     "text": [
      "2021-05-16 10:22:20,990 : WARNING : cannot compute similarity with no input ['wuiih', 'lemesh']\n",
      "2021-05-16 10:22:21,056 : WARNING : cannot compute similarity with no input ['exacly']\n",
      "2021-05-16 10:22:21,104 : WARNING : cannot compute similarity with no input ['missssyou', 'stina']\n",
      "2021-05-16 10:22:21,129 : WARNING : cannot compute similarity with no input ['nincs', 'gz', 'anysnl', 'frdnk']\n",
      "2021-05-16 10:22:21,172 : WARNING : cannot compute similarity with no input ['nopes']\n",
      "2021-05-16 10:22:21,194 : WARNING : cannot compute similarity with no input ['thankiiees']\n"
     ]
    },
    {
     "name": "stdout",
     "output_type": "stream",
     "text": [
      "[]\n",
      "[]\n",
      "[]\n",
      "[]\n",
      "[]\n",
      "[]\n"
     ]
    },
    {
     "name": "stderr",
     "output_type": "stream",
     "text": [
      "2021-05-16 10:22:21,201 : WARNING : cannot compute similarity with no input ['ss501']\n",
      "2021-05-16 10:22:21,228 : WARNING : cannot compute similarity with no input ['workiando']\n",
      "2021-05-16 10:22:21,233 : WARNING : cannot compute similarity with no input ['jup']\n",
      "2021-05-16 10:22:21,245 : WARNING : cannot compute similarity with no input ['wiilllllllllllllllll']\n",
      "2021-05-16 10:22:21,253 : WARNING : cannot compute similarity with no input ['sii']\n",
      "2021-05-16 10:22:21,258 : WARNING : cannot compute similarity with no input ['twelcome']\n",
      "2021-05-16 10:22:21,260 : WARNING : cannot compute similarity with no input ['beachface']\n",
      "2021-05-16 10:22:21,268 : WARNING : cannot compute similarity with no input ['thanxx']\n",
      "2021-05-16 10:22:21,274 : WARNING : cannot compute similarity with no input ['aham']\n",
      "2021-05-16 10:22:21,340 : WARNING : cannot compute similarity with no input ['awsomee']\n",
      "2021-05-16 10:22:21,360 : WARNING : cannot compute similarity with no input ['farin', 'urlaub', 'sonne']\n",
      "2021-05-16 10:22:21,398 : WARNING : cannot compute similarity with no input ['eeeeeeeeeeeeeeeeeeeeeeeeeeeeeeee', 'giles']\n"
     ]
    },
    {
     "name": "stdout",
     "output_type": "stream",
     "text": [
      "[]\n",
      "[]\n",
      "[]\n",
      "[]\n",
      "[]\n",
      "[]\n",
      "[]\n",
      "[]\n",
      "[]\n",
      "[]\n",
      "[]\n",
      "[]\n"
     ]
    },
    {
     "name": "stderr",
     "output_type": "stream",
     "text": [
      "2021-05-16 10:22:21,418 : WARNING : cannot compute similarity with no input ['chillllllllllllling']\n",
      "2021-05-16 10:22:21,424 : WARNING : cannot compute similarity with no input ['cookingg']\n",
      "2021-05-16 10:22:21,476 : WARNING : cannot compute similarity with no input ['bisous', 'loulou']\n",
      "2021-05-16 10:22:21,497 : WARNING : cannot compute similarity with no input ['github']\n",
      "2021-05-16 10:22:21,524 : WARNING : cannot compute similarity with no input ['odeame']\n",
      "2021-05-16 10:22:21,545 : WARNING : cannot compute similarity with no input ['thursdayy']\n",
      "2021-05-16 10:22:21,590 : WARNING : cannot compute similarity with no input ['thankyoou']\n"
     ]
    },
    {
     "name": "stdout",
     "output_type": "stream",
     "text": [
      "[]\n",
      "[]\n",
      "[]\n",
      "[]\n",
      "[]\n",
      "[]\n",
      "[]\n"
     ]
    },
    {
     "name": "stderr",
     "output_type": "stream",
     "text": [
      "2021-05-16 10:22:21,652 : WARNING : cannot compute similarity with no input ['muums']\n",
      "2021-05-16 10:22:21,686 : WARNING : cannot compute similarity with no input ['vem', 'pela', 'sombra']\n",
      "2021-05-16 10:22:21,693 : WARNING : cannot compute similarity with no input ['yeesss']\n",
      "2021-05-16 10:22:21,727 : WARNING : cannot compute similarity with no input ['santaii', 'soree']\n",
      "2021-05-16 10:22:21,782 : WARNING : cannot compute similarity with no input ['yummmmmmmmmmm']\n",
      "2021-05-16 10:22:21,809 : WARNING : cannot compute similarity with no input ['ooooooooh']\n",
      "2021-05-16 10:22:21,821 : WARNING : cannot compute similarity with no input ['goooo', 'rhody', 'uri']\n",
      "2021-05-16 10:22:21,838 : WARNING : cannot compute similarity with no input ['thanxxx']\n"
     ]
    },
    {
     "name": "stdout",
     "output_type": "stream",
     "text": [
      "[]\n",
      "[]\n",
      "[]\n",
      "[]\n",
      "[]\n",
      "[]\n",
      "[]\n",
      "[]\n"
     ]
    },
    {
     "name": "stderr",
     "output_type": "stream",
     "text": [
      "2021-05-16 10:22:21,841 : WARNING : cannot compute similarity with no input ['moin', 'tatjana']\n",
      "2021-05-16 10:22:21,853 : WARNING : cannot compute similarity with no input ['swiitch', 'reloaded']\n",
      "2021-05-16 10:22:21,929 : WARNING : cannot compute similarity with no input ['imtakeya']\n",
      "2021-05-16 10:22:21,935 : WARNING : cannot compute similarity with no input ['heyyhoo', 'heyhey']\n",
      "2021-05-16 10:22:21,952 : WARNING : cannot compute similarity with no input ['hitech']\n",
      "2021-05-16 10:22:21,969 : WARNING : cannot compute similarity with no input ['kahjuks', 'mitte']\n",
      "2021-05-16 10:22:21,978 : WARNING : cannot compute similarity with no input ['te9ba7i', '3la', 'khayer', 'roqayah']\n"
     ]
    },
    {
     "name": "stdout",
     "output_type": "stream",
     "text": [
      "[]\n",
      "[]\n",
      "[]\n",
      "[]\n",
      "[]\n",
      "[]\n",
      "[]\n"
     ]
    },
    {
     "name": "stderr",
     "output_type": "stream",
     "text": [
      "2021-05-16 10:22:22,040 : WARNING : cannot compute similarity with no input ['eslytelen']\n",
      "2021-05-16 10:22:22,115 : WARNING : cannot compute similarity with no input ['helou']\n",
      "2021-05-16 10:22:22,128 : WARNING : cannot compute similarity with no input ['iloveyoumoree']\n",
      "2021-05-16 10:22:22,139 : WARNING : cannot compute similarity with no input ['schande']\n",
      "2021-05-16 10:22:22,145 : WARNING : cannot compute similarity with no input ['acontece']\n"
     ]
    },
    {
     "name": "stdout",
     "output_type": "stream",
     "text": [
      "[]\n",
      "[]\n",
      "[]\n",
      "[]\n",
      "[]\n"
     ]
    },
    {
     "name": "stderr",
     "output_type": "stream",
     "text": [
      "2021-05-16 10:22:22,257 : WARNING : cannot compute similarity with no input ['fye']\n",
      "2021-05-16 10:22:22,262 : WARNING : cannot compute similarity with no input ['bakgat', 'boererate']\n",
      "2021-05-16 10:22:22,268 : WARNING : cannot compute similarity with no input ['teewars']\n",
      "2021-05-16 10:22:22,287 : WARNING : cannot compute similarity with no input ['soundtripping']\n",
      "2021-05-16 10:22:22,309 : WARNING : cannot compute similarity with no input ['summerrrrr']\n",
      "2021-05-16 10:22:22,395 : WARNING : cannot compute similarity with no input ['eatinggg']\n",
      "2021-05-16 10:22:22,402 : WARNING : cannot compute similarity with no input ['thku4']\n",
      "2021-05-16 10:22:22,428 : WARNING : cannot compute similarity with no input ['surprisee']\n"
     ]
    },
    {
     "name": "stdout",
     "output_type": "stream",
     "text": [
      "[]\n",
      "[]\n",
      "[]\n",
      "[]\n",
      "[]\n",
      "[]\n",
      "[]\n",
      "[]\n"
     ]
    },
    {
     "name": "stderr",
     "output_type": "stream",
     "text": [
      "2021-05-16 10:22:22,491 : WARNING : cannot compute similarity with no input ['hehehee']\n",
      "2021-05-16 10:22:22,493 : WARNING : cannot compute similarity with no input ['yuppers']\n",
      "2021-05-16 10:22:22,587 : WARNING : cannot compute similarity with no input ['qui', 'contient']\n",
      "2021-05-16 10:22:22,620 : WARNING : cannot compute similarity with no input ['morrrning']\n",
      "2021-05-16 10:22:22,660 : WARNING : cannot compute similarity with no input ['twittucandus']\n",
      "2021-05-16 10:22:22,697 : WARNING : cannot compute similarity with no input ['hiyas']\n"
     ]
    },
    {
     "name": "stdout",
     "output_type": "stream",
     "text": [
      "[]\n",
      "[]\n",
      "[]\n",
      "[]\n",
      "[]\n",
      "[]\n"
     ]
    },
    {
     "name": "stderr",
     "output_type": "stream",
     "text": [
      "2021-05-16 10:22:22,749 : WARNING : cannot compute similarity with no input ['soundtripping']\n",
      "2021-05-16 10:22:22,769 : WARNING : cannot compute similarity with no input ['cuuzee']\n",
      "2021-05-16 10:22:22,775 : WARNING : cannot compute similarity with no input ['hohoho']\n",
      "2021-05-16 10:22:22,778 : WARNING : cannot compute similarity with no input ['3awafi']\n",
      "2021-05-16 10:22:22,821 : WARNING : cannot compute similarity with no input ['suerte']\n",
      "2021-05-16 10:22:22,839 : WARNING : cannot compute similarity with no input ['hellloo']\n",
      "2021-05-16 10:22:22,859 : WARNING : cannot compute similarity with no input ['fliink']\n",
      "2021-05-16 10:22:22,880 : WARNING : cannot compute similarity with no input ['iloovemynewbackground']\n",
      "2021-05-16 10:22:22,910 : WARNING : cannot compute similarity with no input ['dekh', 'bhai', 'dekh']\n",
      "2021-05-16 10:22:22,939 : WARNING : cannot compute similarity with no input ['buscando', 'ghostsbusters']\n"
     ]
    },
    {
     "name": "stdout",
     "output_type": "stream",
     "text": [
      "[]\n",
      "[]\n",
      "[]\n",
      "[]\n",
      "[]\n",
      "[]\n",
      "[]\n",
      "[]\n",
      "[]\n",
      "[]\n"
     ]
    },
    {
     "name": "stderr",
     "output_type": "stream",
     "text": [
      "2021-05-16 10:22:22,940 : WARNING : cannot compute similarity with no input ['ruphotography']\n",
      "2021-05-16 10:22:22,990 : WARNING : cannot compute similarity with no input ['locoo']\n",
      "2021-05-16 10:22:23,012 : WARNING : cannot compute similarity with no input ['ohkayy']\n",
      "2021-05-16 10:22:23,108 : WARNING : cannot compute similarity with no input ['rthx']\n"
     ]
    },
    {
     "name": "stdout",
     "output_type": "stream",
     "text": [
      "[]\n",
      "[]\n",
      "[]\n",
      "[]\n"
     ]
    },
    {
     "name": "stderr",
     "output_type": "stream",
     "text": [
      "2021-05-16 10:22:23,186 : WARNING : cannot compute similarity with no input ['yesir']\n",
      "2021-05-16 10:22:23,205 : WARNING : cannot compute similarity with no input ['test873645663566625']\n",
      "2021-05-16 10:22:23,343 : WARNING : cannot compute similarity with no input ['tinstaafl']\n",
      "2021-05-16 10:22:23,380 : WARNING : cannot compute similarity with no input ['knnyen', 'adod', 'magad']\n"
     ]
    },
    {
     "name": "stdout",
     "output_type": "stream",
     "text": [
      "[]\n",
      "[]\n",
      "[]\n",
      "[]\n"
     ]
    },
    {
     "name": "stderr",
     "output_type": "stream",
     "text": [
      "2021-05-16 10:22:23,516 : WARNING : cannot compute similarity with no input ['braggart']\n",
      "2021-05-16 10:22:23,541 : WARNING : cannot compute similarity with no input ['thankiness']\n",
      "2021-05-16 10:22:23,562 : WARNING : cannot compute similarity with no input ['fg682', 'ssh']\n",
      "2021-05-16 10:22:23,575 : WARNING : cannot compute similarity with no input ['thanksie']\n"
     ]
    },
    {
     "name": "stdout",
     "output_type": "stream",
     "text": [
      "[]\n",
      "[]\n",
      "[]\n",
      "[]\n"
     ]
    },
    {
     "name": "stderr",
     "output_type": "stream",
     "text": [
      "2021-05-16 10:22:23,734 : WARNING : cannot compute similarity with no input ['ooi']\n",
      "2021-05-16 10:22:23,756 : WARNING : cannot compute similarity with no input ['byerssss']\n",
      "2021-05-16 10:22:23,780 : WARNING : cannot compute similarity with no input ['supi', 'knuddel']\n",
      "2021-05-16 10:22:23,802 : WARNING : cannot compute similarity with no input ['epiphany']\n",
      "2021-05-16 10:22:23,813 : WARNING : cannot compute similarity with no input ['chiilllling']\n",
      "2021-05-16 10:22:23,890 : WARNING : cannot compute similarity with no input ['facepalm']\n"
     ]
    },
    {
     "name": "stdout",
     "output_type": "stream",
     "text": [
      "[]\n",
      "[]\n",
      "[]\n",
      "[]\n",
      "[]\n",
      "[]\n"
     ]
    },
    {
     "name": "stderr",
     "output_type": "stream",
     "text": [
      "2021-05-16 10:22:23,984 : WARNING : cannot compute similarity with no input ['ducttape']\n",
      "2021-05-16 10:22:23,994 : WARNING : cannot compute similarity with no input ['corinthian']\n",
      "2021-05-16 10:22:23,998 : WARNING : cannot compute similarity with no input ['shonteeis', 'herrree']\n",
      "2021-05-16 10:22:24,024 : WARNING : cannot compute similarity with no input ['gotya']\n",
      "2021-05-16 10:22:24,033 : WARNING : cannot compute similarity with no input ['crenshawwwwwwwwww']\n",
      "2021-05-16 10:22:24,038 : WARNING : cannot compute similarity with no input ['peacee']\n",
      "2021-05-16 10:22:24,052 : WARNING : cannot compute similarity with no input ['happybirthday']\n",
      "2021-05-16 10:22:24,079 : WARNING : cannot compute similarity with no input ['halllloo']\n",
      "2021-05-16 10:22:24,100 : WARNING : cannot compute similarity with no input ['mmhmph']\n",
      "2021-05-16 10:22:24,102 : WARNING : cannot compute similarity with no input ['xicoo']\n",
      "2021-05-16 10:22:24,109 : WARNING : cannot compute similarity with no input ['filmingggg', 'finalllly']\n",
      "2021-05-16 10:22:24,150 : WARNING : cannot compute similarity with no input ['chilllinggggg']\n",
      "2021-05-16 10:22:24,174 : WARNING : cannot compute similarity with no input ['essited']\n"
     ]
    },
    {
     "name": "stdout",
     "output_type": "stream",
     "text": [
      "[]\n",
      "[]\n",
      "[]\n",
      "[]\n",
      "[]\n",
      "[]\n",
      "[]\n",
      "[]\n",
      "[]\n",
      "[]\n",
      "[]\n",
      "[]\n",
      "[]\n"
     ]
    },
    {
     "name": "stderr",
     "output_type": "stream",
     "text": [
      "2021-05-16 10:22:24,232 : WARNING : cannot compute similarity with no input ['witter', 'obsesssed']\n",
      "2021-05-16 10:22:24,274 : WARNING : cannot compute similarity with no input ['soundslikespreadshirt']\n",
      "2021-05-16 10:22:24,286 : WARNING : cannot compute similarity with no input ['morsche']\n",
      "2021-05-16 10:22:24,290 : WARNING : cannot compute similarity with no input ['shopppingggg']\n",
      "2021-05-16 10:22:24,315 : WARNING : cannot compute similarity with no input ['scanlations']\n",
      "2021-05-16 10:22:24,359 : WARNING : cannot compute similarity with no input ['shupppppp']\n",
      "2021-05-16 10:22:24,366 : WARNING : cannot compute similarity with no input ['whatupwhatupwhatup']\n",
      "2021-05-16 10:22:24,367 : WARNING : cannot compute similarity with no input ['buckweet', 'foreal']\n",
      "2021-05-16 10:22:24,396 : WARNING : cannot compute similarity with no input ['sunshinee']\n",
      "2021-05-16 10:22:24,415 : WARNING : cannot compute similarity with no input ['shmokey']\n"
     ]
    },
    {
     "name": "stdout",
     "output_type": "stream",
     "text": [
      "[]\n",
      "[]\n",
      "[]\n",
      "[]\n",
      "[]\n",
      "[]\n",
      "[]\n",
      "[]\n",
      "[]\n",
      "[]\n"
     ]
    },
    {
     "name": "stderr",
     "output_type": "stream",
     "text": [
      "2021-05-16 10:22:24,426 : WARNING : cannot compute similarity with no input ['dankeschn']\n",
      "2021-05-16 10:22:24,430 : WARNING : cannot compute similarity with no input ['andree']\n",
      "2021-05-16 10:22:24,507 : WARNING : cannot compute similarity with no input ['haaaaaaaaaardbase']\n",
      "2021-05-16 10:22:24,544 : WARNING : cannot compute similarity with no input ['gefeliciteerd']\n",
      "2021-05-16 10:22:24,547 : WARNING : cannot compute similarity with no input ['surrree']\n",
      "2021-05-16 10:22:24,560 : WARNING : cannot compute similarity with no input ['mto', 'bacana', 'esse', 'searchcast']\n",
      "2021-05-16 10:22:24,589 : WARNING : cannot compute similarity with no input ['showwwwweerrr']\n",
      "2021-05-16 10:22:24,592 : WARNING : cannot compute similarity with no input ['jttk', 'angyalfldre']\n"
     ]
    },
    {
     "name": "stdout",
     "output_type": "stream",
     "text": [
      "[]\n",
      "[]\n",
      "[]\n",
      "[]\n",
      "[]\n",
      "[]\n",
      "[]\n",
      "[]\n"
     ]
    },
    {
     "name": "stderr",
     "output_type": "stream",
     "text": [
      "2021-05-16 10:22:24,624 : WARNING : cannot compute similarity with no input ['shnaapp', 'nour', 'zaki']\n",
      "2021-05-16 10:22:24,700 : WARNING : cannot compute similarity with no input ['greeeeeeeeece']\n",
      "2021-05-16 10:22:24,744 : WARNING : cannot compute similarity with no input ['shoopping']\n",
      "2021-05-16 10:22:24,771 : WARNING : cannot compute similarity with no input ['oii', 'stefhany']\n",
      "2021-05-16 10:22:24,783 : WARNING : cannot compute similarity with no input ['omgomgomgomgomgomgomg', 'atlatlatlatlatl', 'tomorrrrrrowww']\n",
      "2021-05-16 10:22:24,807 : WARNING : cannot compute similarity with no input ['ruilen']\n"
     ]
    },
    {
     "name": "stdout",
     "output_type": "stream",
     "text": [
      "[]\n",
      "[]\n",
      "[]\n",
      "[]\n",
      "[]\n",
      "[]\n"
     ]
    },
    {
     "name": "stderr",
     "output_type": "stream",
     "text": [
      "2021-05-16 10:22:24,872 : WARNING : cannot compute similarity with no input ['hmmmmmmm']\n",
      "2021-05-16 10:22:24,885 : WARNING : cannot compute similarity with no input ['twitterpated']\n",
      "2021-05-16 10:22:24,904 : WARNING : cannot compute similarity with no input ['mercikes']\n",
      "2021-05-16 10:22:24,942 : WARNING : cannot compute similarity with no input ['youtwitface']\n",
      "2021-05-16 10:22:24,943 : WARNING : cannot compute similarity with no input ['beautiiful', 'piicture']\n",
      "2021-05-16 10:22:24,956 : WARNING : cannot compute similarity with no input ['hellloo']\n",
      "2021-05-16 10:22:25,034 : WARNING : cannot compute similarity with no input ['hemm', 'cantik']\n",
      "2021-05-16 10:22:25,059 : WARNING : cannot compute similarity with no input ['huggggggggg']\n"
     ]
    },
    {
     "name": "stdout",
     "output_type": "stream",
     "text": [
      "[]\n",
      "[]\n",
      "[]\n",
      "[]\n",
      "[]\n",
      "[]\n",
      "[]\n",
      "[]\n"
     ]
    },
    {
     "name": "stderr",
     "output_type": "stream",
     "text": [
      "2021-05-16 10:22:25,105 : WARNING : cannot compute similarity with no input ['decimalbrothers']\n",
      "2021-05-16 10:22:25,116 : WARNING : cannot compute similarity with no input ['touchdown', 'coron']\n",
      "2021-05-16 10:22:25,158 : WARNING : cannot compute similarity with no input ['reviewed']\n",
      "2021-05-16 10:22:25,203 : WARNING : cannot compute similarity with no input ['vborn']\n",
      "2021-05-16 10:22:25,228 : WARNING : cannot compute similarity with no input ['showerd']\n",
      "2021-05-16 10:22:25,243 : WARNING : cannot compute similarity with no input ['viel', 'glck']\n",
      "2021-05-16 10:22:25,278 : WARNING : cannot compute similarity with no input ['definatellllllly']\n",
      "2021-05-16 10:22:25,302 : WARNING : cannot compute similarity with no input ['eventbox']\n"
     ]
    },
    {
     "name": "stdout",
     "output_type": "stream",
     "text": [
      "[]\n",
      "[]\n",
      "[]\n",
      "[]\n",
      "[]\n",
      "[]\n",
      "[]\n",
      "[]\n"
     ]
    },
    {
     "name": "stderr",
     "output_type": "stream",
     "text": [
      "2021-05-16 10:22:25,331 : WARNING : cannot compute similarity with no input ['kobeeeeee']\n",
      "2021-05-16 10:22:25,340 : WARNING : cannot compute similarity with no input ['purrfect', 'pinup', 'playmate']\n",
      "2021-05-16 10:22:25,347 : WARNING : cannot compute similarity with no input ['thankoos', 'thankoos']\n",
      "2021-05-16 10:22:25,414 : WARNING : cannot compute similarity with no input [\"s'alright\"]\n",
      "2021-05-16 10:22:25,429 : WARNING : cannot compute similarity with no input ['mashi']\n",
      "2021-05-16 10:22:25,450 : WARNING : cannot compute similarity with no input ['electroshock']\n",
      "2021-05-16 10:22:25,467 : WARNING : cannot compute similarity with no input ['tomyam', 'campur', 'satu']\n",
      "2021-05-16 10:22:25,470 : WARNING : cannot compute similarity with no input ['conversating']\n"
     ]
    },
    {
     "name": "stdout",
     "output_type": "stream",
     "text": [
      "[]\n",
      "[]\n",
      "[]\n",
      "[]\n",
      "[]\n",
      "[]\n",
      "[]\n",
      "[]\n"
     ]
    },
    {
     "name": "stderr",
     "output_type": "stream",
     "text": [
      "2021-05-16 10:22:25,649 : WARNING : cannot compute similarity with no input ['chating']\n",
      "2021-05-16 10:22:25,667 : WARNING : cannot compute similarity with no input ['perfectionist']\n",
      "2021-05-16 10:22:25,680 : WARNING : cannot compute similarity with no input ['megadeth']\n",
      "2021-05-16 10:22:25,752 : WARNING : cannot compute similarity with no input ['chinesee']\n",
      "2021-05-16 10:22:25,788 : WARNING : cannot compute similarity with no input ['twitterr', 'buddyy']\n",
      "2021-05-16 10:22:25,814 : WARNING : cannot compute similarity with no input ['beaitiful']\n"
     ]
    },
    {
     "name": "stdout",
     "output_type": "stream",
     "text": [
      "[]\n",
      "[]\n",
      "[]\n",
      "[]\n",
      "[]\n",
      "[]\n"
     ]
    },
    {
     "name": "stderr",
     "output_type": "stream",
     "text": [
      "2021-05-16 10:22:25,874 : WARNING : cannot compute similarity with no input ['shehasmovedon']\n",
      "2021-05-16 10:22:25,878 : WARNING : cannot compute similarity with no input ['homesweethome']\n",
      "2021-05-16 10:22:25,889 : WARNING : cannot compute similarity with no input ['pradedam', 'twittinti']\n",
      "2021-05-16 10:22:25,892 : WARNING : cannot compute similarity with no input ['chirp']\n",
      "2021-05-16 10:22:25,904 : WARNING : cannot compute similarity with no input ['hitdg']\n",
      "2021-05-16 10:22:25,937 : WARNING : cannot compute similarity with no input ['yuummmm']\n",
      "2021-05-16 10:22:25,945 : WARNING : cannot compute similarity with no input ['annyeong']\n",
      "2021-05-16 10:22:25,951 : WARNING : cannot compute similarity with no input ['sh0wer']\n",
      "2021-05-16 10:22:25,978 : WARNING : cannot compute similarity with no input ['moviesmovies']\n",
      "2021-05-16 10:22:26,055 : WARNING : cannot compute similarity with no input ['buond']\n"
     ]
    },
    {
     "name": "stdout",
     "output_type": "stream",
     "text": [
      "[]\n",
      "[]\n",
      "[]\n",
      "[]\n",
      "[]\n",
      "[]\n",
      "[]\n",
      "[]\n",
      "[]\n",
      "[]\n"
     ]
    },
    {
     "name": "stderr",
     "output_type": "stream",
     "text": [
      "2021-05-16 10:22:26,068 : WARNING : cannot compute similarity with no input ['optimize']\n",
      "2021-05-16 10:22:26,077 : WARNING : cannot compute similarity with no input ['makasih', 'follownya']\n",
      "2021-05-16 10:22:26,113 : WARNING : cannot compute similarity with no input ['goodnighttttt']\n",
      "2021-05-16 10:22:26,135 : WARNING : cannot compute similarity with no input ['jux', 'chilaxin']\n",
      "2021-05-16 10:22:26,173 : WARNING : cannot compute similarity with no input ['beidem', 'lach']\n",
      "2021-05-16 10:22:26,188 : WARNING : cannot compute similarity with no input ['inveja']\n"
     ]
    },
    {
     "name": "stdout",
     "output_type": "stream",
     "text": [
      "[]\n",
      "[]\n",
      "[]\n",
      "[]\n",
      "[]\n",
      "[]\n",
      "[]"
     ]
    },
    {
     "name": "stderr",
     "output_type": "stream",
     "text": [
      "2021-05-16 10:22:26,262 : WARNING : cannot compute similarity with no input ['retwee']\n",
      "2021-05-16 10:22:26,277 : WARNING : cannot compute similarity with no input ['toooo', 'lateee']\n",
      "2021-05-16 10:22:26,321 : WARNING : cannot compute similarity with no input ['goodnigh']\n",
      "2021-05-16 10:22:26,359 : WARNING : cannot compute similarity with no input ['congrashoooolayshonsss']\n",
      "2021-05-16 10:22:26,362 : WARNING : cannot compute similarity with no input ['lucknow']\n",
      "2021-05-16 10:22:26,366 : WARNING : cannot compute similarity with no input ['thnkz']\n",
      "2021-05-16 10:22:26,372 : WARNING : cannot compute similarity with no input ['thankks']\n",
      "2021-05-16 10:22:26,386 : WARNING : cannot compute similarity with no input ['podcasting']\n",
      "2021-05-16 10:22:26,427 : WARNING : cannot compute similarity with no input ['aiyaamekkkkcited']\n",
      "2021-05-16 10:22:26,438 : WARNING : cannot compute similarity with no input ['whoiskwash']\n"
     ]
    },
    {
     "name": "stdout",
     "output_type": "stream",
     "text": [
      "\n",
      "[]\n",
      "[]\n",
      "[]\n",
      "[]\n",
      "[]\n",
      "[]\n",
      "[]\n",
      "[]\n",
      "[]\n"
     ]
    },
    {
     "name": "stderr",
     "output_type": "stream",
     "text": [
      "2021-05-16 10:22:26,487 : WARNING : cannot compute similarity with no input ['afteroon']\n",
      "2021-05-16 10:22:26,528 : WARNING : cannot compute similarity with no input ['anglophil']\n",
      "2021-05-16 10:22:26,555 : WARNING : cannot compute similarity with no input ['journee', 'repos']\n",
      "2021-05-16 10:22:26,597 : WARNING : cannot compute similarity with no input ['shibby']\n",
      "2021-05-16 10:22:26,619 : WARNING : cannot compute similarity with no input ['whhhasssup', 'ssschick']\n",
      "2021-05-16 10:22:26,657 : WARNING : cannot compute similarity with no input ['yuuppppp']\n",
      "2021-05-16 10:22:26,659 : WARNING : cannot compute similarity with no input ['showerrrr']\n"
     ]
    },
    {
     "name": "stdout",
     "output_type": "stream",
     "text": [
      "[]\n",
      "[]\n",
      "[]\n",
      "[]\n",
      "[]\n",
      "[]\n",
      "[]\n"
     ]
    },
    {
     "name": "stderr",
     "output_type": "stream",
     "text": [
      "2021-05-16 10:22:26,771 : WARNING : cannot compute similarity with no input ['yeeaah']\n",
      "2021-05-16 10:22:26,786 : WARNING : cannot compute similarity with no input ['spoilsport']\n",
      "2021-05-16 10:22:26,799 : WARNING : cannot compute similarity with no input ['gefeliciteerd']\n",
      "2021-05-16 10:22:26,822 : WARNING : cannot compute similarity with no input ['moshimoshi']\n",
      "2021-05-16 10:22:26,836 : WARNING : cannot compute similarity with no input ['dokus']\n",
      "2021-05-16 10:22:26,864 : WARNING : cannot compute similarity with no input ['greed']\n",
      "2021-05-16 10:22:26,875 : WARNING : cannot compute similarity with no input ['weekendtime']\n",
      "2021-05-16 10:22:26,888 : WARNING : cannot compute similarity with no input ['slipknot']\n",
      "2021-05-16 10:22:26,907 : WARNING : cannot compute similarity with no input ['yaaay']\n"
     ]
    },
    {
     "name": "stdout",
     "output_type": "stream",
     "text": [
      "[]\n",
      "[]\n",
      "[]\n",
      "[]\n",
      "[]\n",
      "[]\n",
      "[]\n",
      "[]\n",
      "[]\n"
     ]
    },
    {
     "name": "stderr",
     "output_type": "stream",
     "text": [
      "2021-05-16 10:22:27,018 : WARNING : cannot compute similarity with no input ['twiiiitter']\n",
      "2021-05-16 10:22:27,028 : WARNING : cannot compute similarity with no input ['mercii']\n",
      "2021-05-16 10:22:27,034 : WARNING : cannot compute similarity with no input ['twitterholics']\n",
      "2021-05-16 10:22:27,040 : WARNING : cannot compute similarity with no input ['ilovecamping']\n",
      "2021-05-16 10:22:27,060 : WARNING : cannot compute similarity with no input ['idgts']\n",
      "2021-05-16 10:22:27,201 : WARNING : cannot compute similarity with no input ['heys']\n",
      "2021-05-16 10:22:27,245 : WARNING : cannot compute similarity with no input ['escutem', 'nossas', 'musicas']\n"
     ]
    },
    {
     "name": "stdout",
     "output_type": "stream",
     "text": [
      "[]\n",
      "[]\n",
      "[]\n",
      "[]\n",
      "[]\n",
      "[]\n",
      "[]\n"
     ]
    },
    {
     "name": "stderr",
     "output_type": "stream",
     "text": [
      "2021-05-16 10:22:27,297 : WARNING : cannot compute similarity with no input [\"'assie\"]\n",
      "2021-05-16 10:22:27,322 : WARNING : cannot compute similarity with no input ['sevenswords', 'prologue']\n",
      "2021-05-16 10:22:27,337 : WARNING : cannot compute similarity with no input ['notiert']\n",
      "2021-05-16 10:22:27,346 : WARNING : cannot compute similarity with no input ['mdw', 'wildness']\n",
      "2021-05-16 10:22:27,399 : WARNING : cannot compute similarity with no input ['sudah', 'diretweet']\n",
      "2021-05-16 10:22:27,417 : WARNING : cannot compute similarity with no input ['sound3p']\n",
      "2021-05-16 10:22:27,435 : WARNING : cannot compute similarity with no input ['chique']\n",
      "2021-05-16 10:22:27,476 : WARNING : cannot compute similarity with no input ['bubbletea', 'testen']\n"
     ]
    },
    {
     "name": "stdout",
     "output_type": "stream",
     "text": [
      "[]\n",
      "[]\n",
      "[]\n",
      "[]\n",
      "[]\n",
      "[]\n",
      "[]\n",
      "[]\n"
     ]
    },
    {
     "name": "stderr",
     "output_type": "stream",
     "text": [
      "2021-05-16 10:22:27,480 : WARNING : cannot compute similarity with no input ['wgworldwide']\n",
      "2021-05-16 10:22:27,513 : WARNING : cannot compute similarity with no input ['entendi']\n",
      "2021-05-16 10:22:27,562 : WARNING : cannot compute similarity with no input ['screammm', 'aimmm', 'firreeeeeeee']\n",
      "2021-05-16 10:22:27,569 : WARNING : cannot compute similarity with no input ['dugg']\n",
      "2021-05-16 10:22:27,620 : WARNING : cannot compute similarity with no input ['sehr', 'sucht']\n",
      "2021-05-16 10:22:27,629 : WARNING : cannot compute similarity with no input ['shup', 'whatwhatwhat']\n",
      "2021-05-16 10:22:27,641 : WARNING : cannot compute similarity with no input ['redpants']\n",
      "2021-05-16 10:22:27,655 : WARNING : cannot compute similarity with no input ['hallle']\n",
      "2021-05-16 10:22:27,688 : WARNING : cannot compute similarity with no input ['gefeliciteerd']\n"
     ]
    },
    {
     "name": "stdout",
     "output_type": "stream",
     "text": [
      "[]\n",
      "[]\n",
      "[]\n",
      "[]\n",
      "[]\n",
      "[]\n",
      "[]\n",
      "[]\n",
      "[]\n"
     ]
    }
   ],
   "source": [
    "x_train_lemma = word_averaging_list(w2v_lemma, lemma_train)"
   ]
  },
  {
   "cell_type": "code",
   "execution_count": 60,
   "metadata": {},
   "outputs": [
    {
     "name": "stderr",
     "output_type": "stream",
     "text": [
      "2021-05-16 10:22:28,260 : WARNING : cannot compute similarity with no input ['doesntfeelwel']\n",
      "2021-05-16 10:22:28,319 : WARNING : cannot compute similarity with no input ['shittysunda']\n",
      "2021-05-16 10:22:28,371 : WARNING : cannot compute similarity with no input ['insomniugh']\n"
     ]
    },
    {
     "name": "stdout",
     "output_type": "stream",
     "text": [
      "[]\n",
      "[]\n",
      "[]\n"
     ]
    },
    {
     "name": "stderr",
     "output_type": "stream",
     "text": [
      "2021-05-16 10:22:28,535 : WARNING : cannot compute similarity with no input ['thesims3']\n",
      "2021-05-16 10:22:28,555 : WARNING : cannot compute similarity with no input ['speachlessssss']\n",
      "2021-05-16 10:22:28,564 : WARNING : cannot compute similarity with no input ['mcgrath']\n",
      "2021-05-16 10:22:28,663 : WARNING : cannot compute similarity with no input ['hallieeeee']\n",
      "2021-05-16 10:22:28,731 : WARNING : cannot compute similarity with no input ['esuk', 'durang', 'belayar']\n"
     ]
    },
    {
     "name": "stdout",
     "output_type": "stream",
     "text": [
      "[]\n",
      "[]\n",
      "[]\n",
      "[]\n",
      "[]\n"
     ]
    },
    {
     "name": "stderr",
     "output_type": "stream",
     "text": [
      "2021-05-16 10:22:28,737 : WARNING : cannot compute similarity with no input ['helpmepleas']\n",
      "2021-05-16 10:22:28,887 : WARNING : cannot compute similarity with no input ['secar', 'loua']\n",
      "2021-05-16 10:22:28,932 : WARNING : cannot compute similarity with no input ['saddddd']\n"
     ]
    },
    {
     "name": "stdout",
     "output_type": "stream",
     "text": [
      "[]\n",
      "[]\n",
      "[]\n"
     ]
    },
    {
     "name": "stderr",
     "output_type": "stream",
     "text": [
      "2021-05-16 10:22:29,032 : WARNING : cannot compute similarity with no input ['okok', 'surt']\n",
      "2021-05-16 10:22:29,117 : WARNING : cannot compute similarity with no input ['revisingg']\n",
      "2021-05-16 10:22:29,227 : WARNING : cannot compute similarity with no input ['tiirreed']\n"
     ]
    },
    {
     "name": "stdout",
     "output_type": "stream",
     "text": [
      "[]\n",
      "[]\n",
      "[]\n"
     ]
    },
    {
     "name": "stderr",
     "output_type": "stream",
     "text": [
      "2021-05-16 10:22:29,296 : WARNING : cannot compute similarity with no input ['unreach']\n",
      "2021-05-16 10:22:29,355 : WARNING : cannot compute similarity with no input ['riann', 'imy2']\n"
     ]
    },
    {
     "name": "stdout",
     "output_type": "stream",
     "text": [
      "[]\n",
      "[]\n"
     ]
    },
    {
     "name": "stderr",
     "output_type": "stream",
     "text": [
      "2021-05-16 10:22:29,585 : WARNING : cannot compute similarity with no input ['potong', 'rambut']\n",
      "2021-05-16 10:22:29,763 : WARNING : cannot compute similarity with no input ['nmm']\n"
     ]
    },
    {
     "name": "stdout",
     "output_type": "stream",
     "text": [
      "[]\n",
      "[]\n"
     ]
    },
    {
     "name": "stderr",
     "output_type": "stream",
     "text": [
      "2021-05-16 10:22:29,832 : WARNING : cannot compute similarity with no input ['noctur', 'myclonus']\n",
      "2021-05-16 10:22:29,979 : WARNING : cannot compute similarity with no input ['oouch']\n",
      "2021-05-16 10:22:30,015 : WARNING : cannot compute similarity with no input ['unfortunatel']\n"
     ]
    },
    {
     "name": "stdout",
     "output_type": "stream",
     "text": [
      "[]\n",
      "[]\n",
      "[]\n"
     ]
    },
    {
     "name": "stderr",
     "output_type": "stream",
     "text": [
      "2021-05-16 10:22:30,039 : WARNING : cannot compute similarity with no input ['crampsssss']\n",
      "2021-05-16 10:22:30,223 : WARNING : cannot compute similarity with no input ['pling', 'pling']\n"
     ]
    },
    {
     "name": "stdout",
     "output_type": "stream",
     "text": [
      "[]\n",
      "[]\n"
     ]
    },
    {
     "name": "stderr",
     "output_type": "stream",
     "text": [
      "2021-05-16 10:22:30,235 : WARNING : cannot compute similarity with no input ['misunderstood']\n",
      "2021-05-16 10:22:30,311 : WARNING : cannot compute similarity with no input ['sleepdisorderssuckassandihaveonewhyaminotusingthespacebar', 'idkwhocaresmyinsomniaisback']\n",
      "2021-05-16 10:22:30,338 : WARNING : cannot compute similarity with no input ['pancreatit']\n",
      "2021-05-16 10:22:30,385 : WARNING : cannot compute similarity with no input ['offlineeeeeee']\n"
     ]
    },
    {
     "name": "stdout",
     "output_type": "stream",
     "text": [
      "[]\n",
      "[]\n",
      "[]\n",
      "[]\n"
     ]
    },
    {
     "name": "stderr",
     "output_type": "stream",
     "text": [
      "2021-05-16 10:22:30,477 : WARNING : cannot compute similarity with no input ['madnes']\n",
      "2021-05-16 10:22:30,593 : WARNING : cannot compute similarity with no input ['imisspeoplethatihaventtalkedtoforarealllylongtim', 'iwonderhowtheyaredo']\n",
      "2021-05-16 10:22:30,607 : WARNING : cannot compute similarity with no input ['prop8', 'overturn']\n"
     ]
    },
    {
     "name": "stdout",
     "output_type": "stream",
     "text": [
      "[]\n",
      "[]\n",
      "[]\n"
     ]
    },
    {
     "name": "stderr",
     "output_type": "stream",
     "text": [
      "2021-05-16 10:22:30,768 : WARNING : cannot compute similarity with no input ['stresseddddddddddddddd']\n",
      "2021-05-16 10:22:30,846 : WARNING : cannot compute similarity with no input ['shutup']\n",
      "2021-05-16 10:22:30,931 : WARNING : cannot compute similarity with no input ['sux2bu']\n"
     ]
    },
    {
     "name": "stdout",
     "output_type": "stream",
     "text": [
      "[]\n",
      "[]\n",
      "[]\n"
     ]
    },
    {
     "name": "stderr",
     "output_type": "stream",
     "text": [
      "2021-05-16 10:22:31,014 : WARNING : cannot compute similarity with no input ['donne', 'frieda']\n",
      "2021-05-16 10:22:31,054 : WARNING : cannot compute similarity with no input ['notankz']\n"
     ]
    },
    {
     "name": "stdout",
     "output_type": "stream",
     "text": [
      "[]\n",
      "[]\n"
     ]
    },
    {
     "name": "stderr",
     "output_type": "stream",
     "text": [
      "2021-05-16 10:22:31,231 : WARNING : cannot compute similarity with no input ['heeyy']\n",
      "2021-05-16 10:22:31,243 : WARNING : cannot compute similarity with no input ['omgnowh']\n",
      "2021-05-16 10:22:31,301 : WARNING : cannot compute similarity with no input ['gidp']\n",
      "2021-05-16 10:22:31,359 : WARNING : cannot compute similarity with no input ['ihazaheadach']\n"
     ]
    },
    {
     "name": "stdout",
     "output_type": "stream",
     "text": [
      "[]\n",
      "[]\n",
      "[]\n",
      "[]\n"
     ]
    },
    {
     "name": "stderr",
     "output_type": "stream",
     "text": [
      "2021-05-16 10:22:31,461 : WARNING : cannot compute similarity with no input ['missyou']\n",
      "2021-05-16 10:22:31,524 : WARNING : cannot compute similarity with no input ['ayudame']\n",
      "2021-05-16 10:22:31,537 : WARNING : cannot compute similarity with no input ['thankkkk']\n",
      "2021-05-16 10:22:31,558 : WARNING : cannot compute similarity with no input ['daaaaaaaaaaaammmmmnn', 'yooouuuu']\n",
      "2021-05-16 10:22:31,590 : WARNING : cannot compute similarity with no input ['venezuella']\n"
     ]
    },
    {
     "name": "stdout",
     "output_type": "stream",
     "text": [
      "[]\n",
      "[]\n",
      "[]\n",
      "[]\n",
      "[]\n"
     ]
    },
    {
     "name": "stderr",
     "output_type": "stream",
     "text": [
      "2021-05-16 10:22:31,711 : WARNING : cannot compute similarity with no input ['combong']\n",
      "2021-05-16 10:22:31,810 : WARNING : cannot compute similarity with no input ['ckber']\n",
      "2021-05-16 10:22:31,887 : WARNING : cannot compute similarity with no input ['aweh']\n"
     ]
    },
    {
     "name": "stdout",
     "output_type": "stream",
     "text": [
      "[]\n",
      "[]\n",
      "[]\n"
     ]
    },
    {
     "name": "stderr",
     "output_type": "stream",
     "text": [
      "2021-05-16 10:22:31,992 : WARNING : cannot compute similarity with no input ['donde', 'esth', 'corazon']\n",
      "2021-05-16 10:22:32,050 : WARNING : cannot compute similarity with no input ['tycod']\n",
      "2021-05-16 10:22:32,087 : WARNING : cannot compute similarity with no input ['drogb', 'equalis']\n",
      "2021-05-16 10:22:32,117 : WARNING : cannot compute similarity with no input ['600word']\n",
      "2021-05-16 10:22:32,156 : WARNING : cannot compute similarity with no input ['effectiv']\n"
     ]
    },
    {
     "name": "stdout",
     "output_type": "stream",
     "text": [
      "[]\n",
      "[]\n",
      "[]\n",
      "[]\n",
      "[]\n"
     ]
    },
    {
     "name": "stderr",
     "output_type": "stream",
     "text": [
      "2021-05-16 10:22:32,346 : WARNING : cannot compute similarity with no input ['aawww']\n"
     ]
    },
    {
     "name": "stdout",
     "output_type": "stream",
     "text": [
      "[]\n"
     ]
    },
    {
     "name": "stderr",
     "output_type": "stream",
     "text": [
      "2021-05-16 10:22:32,568 : WARNING : cannot compute similarity with no input ['mykneehurtsofuckingbad']\n",
      "2021-05-16 10:22:32,628 : WARNING : cannot compute similarity with no input ['soninh']\n",
      "2021-05-16 10:22:32,768 : WARNING : cannot compute similarity with no input ['ngampusss']\n"
     ]
    },
    {
     "name": "stdout",
     "output_type": "stream",
     "text": [
      "[]\n",
      "[]\n",
      "[]\n"
     ]
    },
    {
     "name": "stderr",
     "output_type": "stream",
     "text": [
      "2021-05-16 10:22:32,845 : WARNING : cannot compute similarity with no input ['verseh']\n",
      "2021-05-16 10:22:32,891 : WARNING : cannot compute similarity with no input ['whrrrruu']\n",
      "2021-05-16 10:22:32,985 : WARNING : cannot compute similarity with no input ['pusi']\n"
     ]
    },
    {
     "name": "stdout",
     "output_type": "stream",
     "text": [
      "[]\n",
      "[]\n",
      "[]\n"
     ]
    },
    {
     "name": "stderr",
     "output_type": "stream",
     "text": [
      "2021-05-16 10:22:33,161 : WARNING : cannot compute similarity with no input ['weatherfail']\n",
      "2021-05-16 10:22:33,203 : WARNING : cannot compute similarity with no input ['worktim']\n",
      "2021-05-16 10:22:33,206 : WARNING : cannot compute similarity with no input ['revisin']\n",
      "2021-05-16 10:22:33,316 : WARNING : cannot compute similarity with no input ['9days']\n"
     ]
    },
    {
     "name": "stdout",
     "output_type": "stream",
     "text": [
      "[]\n",
      "[]\n",
      "[]\n",
      "[]\n"
     ]
    },
    {
     "name": "stderr",
     "output_type": "stream",
     "text": [
      "2021-05-16 10:22:33,401 : WARNING : cannot compute similarity with no input ['rvghosttown']\n"
     ]
    },
    {
     "name": "stdout",
     "output_type": "stream",
     "text": [
      "[]\n"
     ]
    },
    {
     "name": "stderr",
     "output_type": "stream",
     "text": [
      "2021-05-16 10:22:33,655 : WARNING : cannot compute similarity with no input ['rotted']\n",
      "2021-05-16 10:22:33,692 : WARNING : cannot compute similarity with no input ['youtwitfac']\n",
      "2021-05-16 10:22:33,706 : WARNING : cannot compute similarity with no input ['houseguest']\n",
      "2021-05-16 10:22:33,831 : WARNING : cannot compute similarity with no input ['flikrmail']\n"
     ]
    },
    {
     "name": "stdout",
     "output_type": "stream",
     "text": [
      "[]\n",
      "[]\n",
      "[]\n",
      "[]\n"
     ]
    },
    {
     "name": "stderr",
     "output_type": "stream",
     "text": [
      "2021-05-16 10:22:33,879 : WARNING : cannot compute similarity with no input ['lowbat']\n",
      "2021-05-16 10:22:34,024 : WARNING : cannot compute similarity with no input ['poooooooor', 'sheeeep']\n",
      "2021-05-16 10:22:34,091 : WARNING : cannot compute similarity with no input ['jbg', 'nemam']\n"
     ]
    },
    {
     "name": "stdout",
     "output_type": "stream",
     "text": [
      "[]\n",
      "[]\n",
      "[]\n"
     ]
    },
    {
     "name": "stderr",
     "output_type": "stream",
     "text": [
      "2021-05-16 10:22:34,109 : WARNING : cannot compute similarity with no input ['pusi']\n",
      "2021-05-16 10:22:34,150 : WARNING : cannot compute similarity with no input ['earthquack']\n",
      "2021-05-16 10:22:34,163 : WARNING : cannot compute similarity with no input ['exaaaaam']\n",
      "2021-05-16 10:22:34,204 : WARNING : cannot compute similarity with no input ['myb']\n"
     ]
    },
    {
     "name": "stdout",
     "output_type": "stream",
     "text": [
      "[]\n",
      "[]\n",
      "[]\n",
      "[]\n"
     ]
    },
    {
     "name": "stderr",
     "output_type": "stream",
     "text": [
      "2021-05-16 10:22:34,429 : WARNING : cannot compute similarity with no input ['neeeeeeeeeeeeeeeeeeeeneeeeeeeeeeeneeeeeeeee']\n",
      "2021-05-16 10:22:34,440 : WARNING : cannot compute similarity with no input ['cape']\n",
      "2021-05-16 10:22:34,536 : WARNING : cannot compute similarity with no input ['boguss']\n",
      "2021-05-16 10:22:34,605 : WARNING : cannot compute similarity with no input ['stresssssssssssssssss']\n",
      "2021-05-16 10:22:34,617 : WARNING : cannot compute similarity with no input ['wuiih', 'lemesh']\n"
     ]
    },
    {
     "name": "stdout",
     "output_type": "stream",
     "text": [
      "[]\n",
      "[]\n",
      "[]\n",
      "[]\n",
      "[]\n"
     ]
    },
    {
     "name": "stderr",
     "output_type": "stream",
     "text": [
      "2021-05-16 10:22:34,679 : WARNING : cannot compute similarity with no input ['exac']\n",
      "2021-05-16 10:22:34,727 : WARNING : cannot compute similarity with no input ['missssyou', 'stin']\n",
      "2021-05-16 10:22:34,752 : WARNING : cannot compute similarity with no input ['ninc', 'gz', 'anysnl', 'frdnk']\n",
      "2021-05-16 10:22:34,811 : WARNING : cannot compute similarity with no input ['thankiiee']\n",
      "2021-05-16 10:22:34,815 : WARNING : cannot compute similarity with no input ['ss501']\n",
      "2021-05-16 10:22:34,843 : WARNING : cannot compute similarity with no input ['workiand']\n",
      "2021-05-16 10:22:34,849 : WARNING : cannot compute similarity with no input ['jup']\n",
      "2021-05-16 10:22:34,861 : WARNING : cannot compute similarity with no input ['wiillllllllllllllll']\n"
     ]
    },
    {
     "name": "stdout",
     "output_type": "stream",
     "text": [
      "[]\n",
      "[]\n",
      "[]\n",
      "[]\n",
      "[]\n",
      "[]\n",
      "[]\n",
      "[]\n"
     ]
    },
    {
     "name": "stderr",
     "output_type": "stream",
     "text": [
      "2021-05-16 10:22:34,872 : WARNING : cannot compute similarity with no input ['twelcom']\n",
      "2021-05-16 10:22:34,874 : WARNING : cannot compute similarity with no input ['beachfac']\n",
      "2021-05-16 10:22:34,881 : WARNING : cannot compute similarity with no input ['yessssssssssssssssssss']\n",
      "2021-05-16 10:22:34,882 : WARNING : cannot compute similarity with no input ['thanxx']\n",
      "2021-05-16 10:22:34,888 : WARNING : cannot compute similarity with no input ['aham']\n",
      "2021-05-16 10:22:34,952 : WARNING : cannot compute similarity with no input ['awsome']\n",
      "2021-05-16 10:22:35,024 : WARNING : cannot compute similarity with no input ['chillllllllllll']\n",
      "2021-05-16 10:22:35,029 : WARNING : cannot compute similarity with no input ['cooking']\n"
     ]
    },
    {
     "name": "stdout",
     "output_type": "stream",
     "text": [
      "[]\n",
      "[]\n",
      "[]\n",
      "[]\n",
      "[]\n",
      "[]\n",
      "[]\n",
      "[]\n"
     ]
    },
    {
     "name": "stderr",
     "output_type": "stream",
     "text": [
      "2021-05-16 10:22:35,101 : WARNING : cannot compute similarity with no input ['github']\n",
      "2021-05-16 10:22:35,127 : WARNING : cannot compute similarity with no input ['odeam']\n",
      "2021-05-16 10:22:35,187 : WARNING : cannot compute similarity with no input ['thankyoou']\n",
      "2021-05-16 10:22:35,250 : WARNING : cannot compute similarity with no input ['muum']\n",
      "2021-05-16 10:22:35,294 : WARNING : cannot compute similarity with no input ['yeess']\n"
     ]
    },
    {
     "name": "stdout",
     "output_type": "stream",
     "text": [
      "[]\n",
      "[]\n",
      "[]\n",
      "[]\n",
      "[]\n"
     ]
    },
    {
     "name": "stderr",
     "output_type": "stream",
     "text": [
      "2021-05-16 10:22:35,327 : WARNING : cannot compute similarity with no input ['santai', 'sore']\n",
      "2021-05-16 10:22:35,381 : WARNING : cannot compute similarity with no input ['yummmmmmmmmm']\n",
      "2021-05-16 10:22:35,405 : WARNING : cannot compute similarity with no input ['ooooooooh']\n",
      "2021-05-16 10:22:35,431 : WARNING : cannot compute similarity with no input ['thanxxx']\n",
      "2021-05-16 10:22:35,434 : WARNING : cannot compute similarity with no input ['moin', 'tatjan']\n"
     ]
    },
    {
     "name": "stdout",
     "output_type": "stream",
     "text": [
      "[]\n",
      "[]\n",
      "[]\n",
      "[]\n",
      "[]\n"
     ]
    },
    {
     "name": "stderr",
     "output_type": "stream",
     "text": [
      "2021-05-16 10:22:35,528 : WARNING : cannot compute similarity with no input ['imtakey']\n",
      "2021-05-16 10:22:35,535 : WARNING : cannot compute similarity with no input ['heyyho', 'heyhe']\n",
      "2021-05-16 10:22:35,553 : WARNING : cannot compute similarity with no input ['hitech']\n",
      "2021-05-16 10:22:35,576 : WARNING : cannot compute similarity with no input ['te9ba7', '3l', 'khayer', 'roqayah']\n",
      "2021-05-16 10:22:35,633 : WARNING : cannot compute similarity with no input ['eslytel']\n",
      "2021-05-16 10:22:35,704 : WARNING : cannot compute similarity with no input ['helou']\n",
      "2021-05-16 10:22:35,721 : WARNING : cannot compute similarity with no input ['iloveyoumore']\n"
     ]
    },
    {
     "name": "stdout",
     "output_type": "stream",
     "text": [
      "[]\n",
      "[]\n",
      "[]\n",
      "[]\n",
      "[]\n",
      "[]\n",
      "[]\n"
     ]
    },
    {
     "name": "stderr",
     "output_type": "stream",
     "text": [
      "2021-05-16 10:22:35,734 : WARNING : cannot compute similarity with no input ['schand']\n",
      "2021-05-16 10:22:35,740 : WARNING : cannot compute similarity with no input ['acontec']\n",
      "2021-05-16 10:22:35,858 : WARNING : cannot compute similarity with no input ['bakgat', 'boerer']\n",
      "2021-05-16 10:22:35,864 : WARNING : cannot compute similarity with no input ['teewar']\n",
      "2021-05-16 10:22:35,884 : WARNING : cannot compute similarity with no input ['soundtrip']\n",
      "2021-05-16 10:22:35,907 : WARNING : cannot compute similarity with no input ['summerrrr']\n"
     ]
    },
    {
     "name": "stdout",
     "output_type": "stream",
     "text": [
      "[]\n",
      "[]\n",
      "[]\n",
      "[]\n",
      "[]\n",
      "[]\n"
     ]
    },
    {
     "name": "stderr",
     "output_type": "stream",
     "text": [
      "2021-05-16 10:22:35,993 : WARNING : cannot compute similarity with no input ['eatingg']\n",
      "2021-05-16 10:22:36,001 : WARNING : cannot compute similarity with no input ['thku4']\n",
      "2021-05-16 10:22:36,030 : WARNING : cannot compute similarity with no input ['surprise']\n",
      "2021-05-16 10:22:36,092 : WARNING : cannot compute similarity with no input ['hehehe']\n",
      "2021-05-16 10:22:36,094 : WARNING : cannot compute similarity with no input ['yupper']\n"
     ]
    },
    {
     "name": "stdout",
     "output_type": "stream",
     "text": [
      "[]\n",
      "[]\n",
      "[]\n",
      "[]\n",
      "[]\n"
     ]
    },
    {
     "name": "stderr",
     "output_type": "stream",
     "text": [
      "2021-05-16 10:22:36,215 : WARNING : cannot compute similarity with no input ['morrrn']\n",
      "2021-05-16 10:22:36,254 : WARNING : cannot compute similarity with no input ['twittucandus']\n",
      "2021-05-16 10:22:36,334 : WARNING : cannot compute similarity with no input ['soundtrip']\n",
      "2021-05-16 10:22:36,352 : WARNING : cannot compute similarity with no input ['cuuze']\n",
      "2021-05-16 10:22:36,359 : WARNING : cannot compute similarity with no input ['hohoh']\n",
      "2021-05-16 10:22:36,362 : WARNING : cannot compute similarity with no input ['3awaf']\n",
      "2021-05-16 10:22:36,406 : WARNING : cannot compute similarity with no input ['suers']\n"
     ]
    },
    {
     "name": "stdout",
     "output_type": "stream",
     "text": [
      "[]\n",
      "[]\n",
      "[]\n",
      "[]\n",
      "[]\n",
      "[]\n",
      "[]\n"
     ]
    },
    {
     "name": "stderr",
     "output_type": "stream",
     "text": [
      "2021-05-16 10:22:36,423 : WARNING : cannot compute similarity with no input ['helllo']\n",
      "2021-05-16 10:22:36,444 : WARNING : cannot compute similarity with no input ['fliink']\n",
      "2021-05-16 10:22:36,466 : WARNING : cannot compute similarity with no input ['iloovemynewbackground']\n",
      "2021-05-16 10:22:36,497 : WARNING : cannot compute similarity with no input ['dekh', 'bha', 'dekh']\n",
      "2021-05-16 10:22:36,525 : WARNING : cannot compute similarity with no input ['buscand', 'ghostsbuster']\n",
      "2021-05-16 10:22:36,526 : WARNING : cannot compute similarity with no input ['ruphotograph']\n",
      "2021-05-16 10:22:36,575 : WARNING : cannot compute similarity with no input ['loco']\n",
      "2021-05-16 10:22:36,596 : WARNING : cannot compute similarity with no input ['ohkay']\n"
     ]
    },
    {
     "name": "stdout",
     "output_type": "stream",
     "text": [
      "[]\n",
      "[]\n",
      "[]\n",
      "[]\n",
      "[]\n",
      "[]\n",
      "[]\n",
      "[]\n"
     ]
    },
    {
     "name": "stderr",
     "output_type": "stream",
     "text": [
      "2021-05-16 10:22:36,688 : WARNING : cannot compute similarity with no input ['rthx']\n",
      "2021-05-16 10:22:36,767 : WARNING : cannot compute similarity with no input ['yesir']\n",
      "2021-05-16 10:22:36,787 : WARNING : cannot compute similarity with no input ['test873645663566625']\n"
     ]
    },
    {
     "name": "stdout",
     "output_type": "stream",
     "text": [
      "[]\n",
      "[]\n",
      "[]\n"
     ]
    },
    {
     "name": "stderr",
     "output_type": "stream",
     "text": [
      "2021-05-16 10:22:36,920 : WARNING : cannot compute similarity with no input ['tinstaafl']\n",
      "2021-05-16 10:22:36,955 : WARNING : cannot compute similarity with no input ['knny', 'adod', 'magad']\n",
      "2021-05-16 10:22:37,088 : WARNING : cannot compute similarity with no input ['braggart']\n"
     ]
    },
    {
     "name": "stdout",
     "output_type": "stream",
     "text": [
      "[]\n",
      "[]\n",
      "[]\n"
     ]
    },
    {
     "name": "stderr",
     "output_type": "stream",
     "text": [
      "2021-05-16 10:22:37,143 : WARNING : cannot compute similarity with no input ['thanksi']\n",
      "2021-05-16 10:22:37,321 : WARNING : cannot compute similarity with no input ['byersss']\n"
     ]
    },
    {
     "name": "stdout",
     "output_type": "stream",
     "text": [
      "[]\n",
      "[]\n"
     ]
    },
    {
     "name": "stderr",
     "output_type": "stream",
     "text": [
      "2021-05-16 10:22:37,366 : WARNING : cannot compute similarity with no input ['epiphan']\n",
      "2021-05-16 10:22:37,378 : WARNING : cannot compute similarity with no input ['chiilll']\n",
      "2021-05-16 10:22:37,458 : WARNING : cannot compute similarity with no input ['facepalm']\n",
      "2021-05-16 10:22:37,549 : WARNING : cannot compute similarity with no input ['ducttap']\n"
     ]
    },
    {
     "name": "stdout",
     "output_type": "stream",
     "text": [
      "[]\n",
      "[]\n",
      "[]\n",
      "[]\n"
     ]
    },
    {
     "name": "stderr",
     "output_type": "stream",
     "text": [
      "2021-05-16 10:22:37,560 : WARNING : cannot compute similarity with no input ['corinth']\n",
      "2021-05-16 10:22:37,563 : WARNING : cannot compute similarity with no input ['shontee', 'herrre']\n",
      "2021-05-16 10:22:37,595 : WARNING : cannot compute similarity with no input ['goty']\n",
      "2021-05-16 10:22:37,603 : WARNING : cannot compute similarity with no input ['crenshawwwwwwwwww']\n",
      "2021-05-16 10:22:37,607 : WARNING : cannot compute similarity with no input ['peace']\n",
      "2021-05-16 10:22:37,621 : WARNING : cannot compute similarity with no input ['happybirthda']\n",
      "2021-05-16 10:22:37,639 : WARNING : cannot compute similarity with no input ['movies']\n",
      "2021-05-16 10:22:37,650 : WARNING : cannot compute similarity with no input ['hallllo']\n",
      "2021-05-16 10:22:37,669 : WARNING : cannot compute similarity with no input ['mmhmph']\n",
      "2021-05-16 10:22:37,672 : WARNING : cannot compute similarity with no input ['xico']\n",
      "2021-05-16 10:22:37,679 : WARNING : cannot compute similarity with no input ['filminggg', 'finall']\n",
      "2021-05-16 10:22:37,719 : WARNING : cannot compute similarity with no input ['chilllingggg']\n",
      "2021-05-16 10:22:37,743 : WARNING : cannot compute similarity with no input ['essit']\n"
     ]
    },
    {
     "name": "stdout",
     "output_type": "stream",
     "text": [
      "[]\n",
      "[]\n",
      "[]\n",
      "[]\n",
      "[]\n",
      "[]\n",
      "[]\n",
      "[]\n",
      "[]\n",
      "[]\n",
      "[]\n",
      "[]\n",
      "[]\n"
     ]
    },
    {
     "name": "stderr",
     "output_type": "stream",
     "text": [
      "2021-05-16 10:22:37,803 : WARNING : cannot compute similarity with no input ['witter', 'obsess']\n",
      "2021-05-16 10:22:37,846 : WARNING : cannot compute similarity with no input ['soundslikespreadshirt']\n",
      "2021-05-16 10:22:37,858 : WARNING : cannot compute similarity with no input ['morsch']\n",
      "2021-05-16 10:22:37,862 : WARNING : cannot compute similarity with no input ['shopppinggg']\n",
      "2021-05-16 10:22:37,888 : WARNING : cannot compute similarity with no input ['scanl']\n",
      "2021-05-16 10:22:37,906 : WARNING : cannot compute similarity with no input ['hurraaaa', 'successss']\n",
      "2021-05-16 10:22:37,934 : WARNING : cannot compute similarity with no input ['shuppppp']\n",
      "2021-05-16 10:22:37,942 : WARNING : cannot compute similarity with no input ['whatupwhatupwhatup']\n",
      "2021-05-16 10:22:37,944 : WARNING : cannot compute similarity with no input ['buckwees', 'fore']\n"
     ]
    },
    {
     "name": "stdout",
     "output_type": "stream",
     "text": [
      "[]\n",
      "[]\n",
      "[]\n",
      "[]\n",
      "[]\n",
      "[]\n",
      "[]\n",
      "[]\n",
      "[]\n",
      "[]"
     ]
    },
    {
     "name": "stderr",
     "output_type": "stream",
     "text": [
      "2021-05-16 10:22:37,991 : WARNING : cannot compute similarity with no input ['shmoke']\n",
      "2021-05-16 10:22:38,001 : WARNING : cannot compute similarity with no input ['dankeschn']\n",
      "2021-05-16 10:22:38,082 : WARNING : cannot compute similarity with no input ['haaaaaaaaaardbas']\n",
      "2021-05-16 10:22:38,119 : WARNING : cannot compute similarity with no input ['gefeliciteerd']\n",
      "2021-05-16 10:22:38,121 : WARNING : cannot compute similarity with no input ['surrre']\n",
      "2021-05-16 10:22:38,157 : WARNING : cannot compute similarity with no input ['showwwwweerr']\n",
      "2021-05-16 10:22:38,160 : WARNING : cannot compute similarity with no input ['jttk', 'angyalfldr']\n",
      "2021-05-16 10:22:38,191 : WARNING : cannot compute similarity with no input ['shnaap', 'nour', 'zak']\n"
     ]
    },
    {
     "name": "stdout",
     "output_type": "stream",
     "text": [
      "\n",
      "[]\n",
      "[]\n",
      "[]\n",
      "[]\n",
      "[]\n",
      "[]\n",
      "[]\n"
     ]
    },
    {
     "name": "stderr",
     "output_type": "stream",
     "text": [
      "2021-05-16 10:22:38,272 : WARNING : cannot compute similarity with no input ['greeeeeeeeec']\n",
      "2021-05-16 10:22:38,318 : WARNING : cannot compute similarity with no input ['shoop']\n",
      "2021-05-16 10:22:38,356 : WARNING : cannot compute similarity with no input ['omgomgomgomgomgomgomg', 'atlatlatlatlatl', 'tomorrrrrrowww']\n",
      "2021-05-16 10:22:38,380 : WARNING : cannot compute similarity with no input ['ruil']\n",
      "2021-05-16 10:22:38,443 : WARNING : cannot compute similarity with no input ['hmmmmmm']\n",
      "2021-05-16 10:22:38,474 : WARNING : cannot compute similarity with no input ['mercik']\n"
     ]
    },
    {
     "name": "stdout",
     "output_type": "stream",
     "text": [
      "[]\n",
      "[]\n",
      "[]\n",
      "[]\n",
      "[]\n",
      "[]\n"
     ]
    },
    {
     "name": "stderr",
     "output_type": "stream",
     "text": [
      "2021-05-16 10:22:38,512 : WARNING : cannot compute similarity with no input ['youtwitfac']\n",
      "2021-05-16 10:22:38,514 : WARNING : cannot compute similarity with no input ['beauti', 'piictur']\n",
      "2021-05-16 10:22:38,527 : WARNING : cannot compute similarity with no input ['helllo']\n",
      "2021-05-16 10:22:38,604 : WARNING : cannot compute similarity with no input ['hem', 'cantik']\n",
      "2021-05-16 10:22:38,629 : WARNING : cannot compute similarity with no input ['hugggggggg']\n",
      "2021-05-16 10:22:38,673 : WARNING : cannot compute similarity with no input ['decimalbrother']\n"
     ]
    },
    {
     "name": "stdout",
     "output_type": "stream",
     "text": [
      "[]\n",
      "[]\n",
      "[]\n",
      "[]\n",
      "[]\n",
      "[]\n"
     ]
    },
    {
     "name": "stderr",
     "output_type": "stream",
     "text": [
      "2021-05-16 10:22:38,746 : WARNING : cannot compute similarity with no input ['movies']\n",
      "2021-05-16 10:22:38,771 : WARNING : cannot compute similarity with no input ['vborn']\n",
      "2021-05-16 10:22:38,793 : WARNING : cannot compute similarity with no input ['showerd']\n",
      "2021-05-16 10:22:38,844 : WARNING : cannot compute similarity with no input ['definatelllll']\n",
      "2021-05-16 10:22:38,869 : WARNING : cannot compute similarity with no input ['eventbox']\n",
      "2021-05-16 10:22:38,897 : WARNING : cannot compute similarity with no input ['kobeeeee']\n",
      "2021-05-16 10:22:38,907 : WARNING : cannot compute similarity with no input ['purrfect', 'pinup', 'playm']\n",
      "2021-05-16 10:22:38,913 : WARNING : cannot compute similarity with no input ['thankoo', 'thankoo']\n"
     ]
    },
    {
     "name": "stdout",
     "output_type": "stream",
     "text": [
      "[]\n",
      "[]\n",
      "[]\n",
      "[]\n",
      "[]\n",
      "[]\n",
      "[]\n",
      "[]\n"
     ]
    },
    {
     "name": "stderr",
     "output_type": "stream",
     "text": [
      "2021-05-16 10:22:38,981 : WARNING : cannot compute similarity with no input [\"s'alright\"]\n",
      "2021-05-16 10:22:39,015 : WARNING : cannot compute similarity with no input ['electroshock']\n",
      "2021-05-16 10:22:39,032 : WARNING : cannot compute similarity with no input ['tomyam', 'campur', 'satu']\n"
     ]
    },
    {
     "name": "stdout",
     "output_type": "stream",
     "text": [
      "[]\n",
      "[]\n",
      "[]\n"
     ]
    },
    {
     "name": "stderr",
     "output_type": "stream",
     "text": [
      "2021-05-16 10:22:39,232 : WARNING : cannot compute similarity with no input ['megadeth']\n",
      "2021-05-16 10:22:39,306 : WARNING : cannot compute similarity with no input ['chinese']\n",
      "2021-05-16 10:22:39,365 : WARNING : cannot compute similarity with no input ['beait']\n",
      "2021-05-16 10:22:39,424 : WARNING : cannot compute similarity with no input ['shehasmovedon']\n"
     ]
    },
    {
     "name": "stdout",
     "output_type": "stream",
     "text": [
      "[]\n",
      "[]\n",
      "[]\n",
      "[]\n"
     ]
    },
    {
     "name": "stderr",
     "output_type": "stream",
     "text": [
      "2021-05-16 10:22:39,428 : WARNING : cannot compute similarity with no input ['homesweethom']\n",
      "2021-05-16 10:22:39,438 : WARNING : cannot compute similarity with no input ['pradedam', 'twittint']\n",
      "2021-05-16 10:22:39,452 : WARNING : cannot compute similarity with no input ['hitdg']\n",
      "2021-05-16 10:22:39,486 : WARNING : cannot compute similarity with no input ['yuummm']\n",
      "2021-05-16 10:22:39,495 : WARNING : cannot compute similarity with no input ['annyeong']\n",
      "2021-05-16 10:22:39,499 : WARNING : cannot compute similarity with no input ['sh0wer']\n",
      "2021-05-16 10:22:39,525 : WARNING : cannot compute similarity with no input ['moviesmov']\n",
      "2021-05-16 10:22:39,592 : WARNING : cannot compute similarity with no input ['buons']\n",
      "2021-05-16 10:22:39,612 : WARNING : cannot compute similarity with no input ['makasih', 'followny']\n"
     ]
    },
    {
     "name": "stdout",
     "output_type": "stream",
     "text": [
      "[]\n",
      "[]\n",
      "[]\n",
      "[]\n",
      "[]\n",
      "[]\n",
      "[]\n",
      "[]\n",
      "[]\n"
     ]
    },
    {
     "name": "stderr",
     "output_type": "stream",
     "text": [
      "2021-05-16 10:22:39,650 : WARNING : cannot compute similarity with no input ['goodnightttt']\n",
      "2021-05-16 10:22:39,671 : WARNING : cannot compute similarity with no input ['jux', 'chilaxin']\n",
      "2021-05-16 10:22:39,706 : WARNING : cannot compute similarity with no input ['beidem', 'lach']\n",
      "2021-05-16 10:22:39,720 : WARNING : cannot compute similarity with no input ['invej']\n",
      "2021-05-16 10:22:39,790 : WARNING : cannot compute similarity with no input ['retwe']\n",
      "2021-05-16 10:22:39,804 : WARNING : cannot compute similarity with no input ['tooo', 'latee']\n",
      "2021-05-16 10:22:39,850 : WARNING : cannot compute similarity with no input ['goodnigh']\n"
     ]
    },
    {
     "name": "stdout",
     "output_type": "stream",
     "text": [
      "[]\n",
      "[]\n",
      "[]\n",
      "[]\n",
      "[]\n",
      "[]\n",
      "[]\n"
     ]
    },
    {
     "name": "stderr",
     "output_type": "stream",
     "text": [
      "2021-05-16 10:22:39,888 : WARNING : cannot compute similarity with no input ['congrashoooolayshonss']\n",
      "2021-05-16 10:22:39,892 : WARNING : cannot compute similarity with no input ['lucknow']\n",
      "2021-05-16 10:22:39,895 : WARNING : cannot compute similarity with no input ['thnkz']\n",
      "2021-05-16 10:22:39,902 : WARNING : cannot compute similarity with no input ['thankk']\n",
      "2021-05-16 10:22:39,956 : WARNING : cannot compute similarity with no input ['aiyaamekkkkcit']\n",
      "2021-05-16 10:22:39,966 : WARNING : cannot compute similarity with no input ['whoiskwash']\n",
      "2021-05-16 10:22:40,014 : WARNING : cannot compute similarity with no input ['afteroon']\n",
      "2021-05-16 10:22:40,053 : WARNING : cannot compute similarity with no input ['anglophil']\n",
      "2021-05-16 10:22:40,088 : WARNING : cannot compute similarity with no input ['yessssssssssssssssss']\n"
     ]
    },
    {
     "name": "stdout",
     "output_type": "stream",
     "text": [
      "[]\n",
      "[]\n",
      "[]\n",
      "[]\n",
      "[]\n",
      "[]\n",
      "[]\n",
      "[]\n",
      "[]\n"
     ]
    },
    {
     "name": "stderr",
     "output_type": "stream",
     "text": [
      "2021-05-16 10:22:40,122 : WARNING : cannot compute similarity with no input ['shibb']\n",
      "2021-05-16 10:22:40,145 : WARNING : cannot compute similarity with no input ['whhhasssup', 'ssschick']\n",
      "2021-05-16 10:22:40,181 : WARNING : cannot compute similarity with no input ['yuupppp']\n",
      "2021-05-16 10:22:40,183 : WARNING : cannot compute similarity with no input ['showerrr']\n",
      "2021-05-16 10:22:40,289 : WARNING : cannot compute similarity with no input ['yeeaah']\n",
      "2021-05-16 10:22:40,305 : WARNING : cannot compute similarity with no input ['spoilsport']\n"
     ]
    },
    {
     "name": "stdout",
     "output_type": "stream",
     "text": [
      "[]\n",
      "[]\n",
      "[]\n",
      "[]\n",
      "[]\n",
      "[]\n"
     ]
    },
    {
     "name": "stderr",
     "output_type": "stream",
     "text": [
      "2021-05-16 10:22:40,318 : WARNING : cannot compute similarity with no input ['gefeliciteerd']\n",
      "2021-05-16 10:22:40,340 : WARNING : cannot compute similarity with no input ['moshimosh']\n",
      "2021-05-16 10:22:40,355 : WARNING : cannot compute similarity with no input ['dokus']\n",
      "2021-05-16 10:22:40,394 : WARNING : cannot compute similarity with no input ['weekendtim']\n",
      "2021-05-16 10:22:40,406 : WARNING : cannot compute similarity with no input ['slipknot']\n",
      "2021-05-16 10:22:40,426 : WARNING : cannot compute similarity with no input ['yaaa']\n"
     ]
    },
    {
     "name": "stdout",
     "output_type": "stream",
     "text": [
      "[]\n",
      "[]\n",
      "[]\n",
      "[]\n",
      "[]\n",
      "[]\n"
     ]
    },
    {
     "name": "stderr",
     "output_type": "stream",
     "text": [
      "2021-05-16 10:22:40,538 : WARNING : cannot compute similarity with no input ['twiiiitter']\n",
      "2021-05-16 10:22:40,552 : WARNING : cannot compute similarity with no input ['twitterhol']\n",
      "2021-05-16 10:22:40,558 : WARNING : cannot compute similarity with no input ['ilovecamp']\n",
      "2021-05-16 10:22:40,577 : WARNING : cannot compute similarity with no input ['idgt']\n"
     ]
    },
    {
     "name": "stdout",
     "output_type": "stream",
     "text": [
      "[]\n",
      "[]\n",
      "[]\n",
      "[]\n"
     ]
    },
    {
     "name": "stderr",
     "output_type": "stream",
     "text": [
      "2021-05-16 10:22:40,823 : WARNING : cannot compute similarity with no input [\"'assi\"]\n",
      "2021-05-16 10:22:40,847 : WARNING : cannot compute similarity with no input ['sevensword', 'prologu']\n",
      "2021-05-16 10:22:40,863 : WARNING : cannot compute similarity with no input ['notiers']\n",
      "2021-05-16 10:22:40,922 : WARNING : cannot compute similarity with no input ['sudah', 'diretwees']\n",
      "2021-05-16 10:22:40,939 : WARNING : cannot compute similarity with no input ['sound3p']\n",
      "2021-05-16 10:22:40,958 : WARNING : cannot compute similarity with no input ['chiqu']\n",
      "2021-05-16 10:22:41,002 : WARNING : cannot compute similarity with no input ['wgworldw']\n"
     ]
    },
    {
     "name": "stdout",
     "output_type": "stream",
     "text": [
      "[]\n",
      "[]\n",
      "[]\n",
      "[]\n",
      "[]\n",
      "[]\n",
      "[]\n"
     ]
    },
    {
     "name": "stderr",
     "output_type": "stream",
     "text": [
      "2021-05-16 10:22:41,037 : WARNING : cannot compute similarity with no input ['entens']\n",
      "2021-05-16 10:22:41,086 : WARNING : cannot compute similarity with no input ['screamm', 'aimm', 'firreeeeeee']\n",
      "2021-05-16 10:22:41,143 : WARNING : cannot compute similarity with no input ['sehr', 'sucht']\n",
      "2021-05-16 10:22:41,152 : WARNING : cannot compute similarity with no input ['shup', 'whatwhatwhat']\n",
      "2021-05-16 10:22:41,165 : WARNING : cannot compute similarity with no input ['redp']\n",
      "2021-05-16 10:22:41,179 : WARNING : cannot compute similarity with no input ['hall']\n",
      "2021-05-16 10:22:41,211 : WARNING : cannot compute similarity with no input ['gefeliciteerd']\n"
     ]
    },
    {
     "name": "stdout",
     "output_type": "stream",
     "text": [
      "[]\n",
      "[]\n",
      "[]\n",
      "[]\n",
      "[]\n",
      "[]\n",
      "[]\n"
     ]
    }
   ],
   "source": [
    "x_train_lovins = word_averaging_list(w2v_lovins, lovins_stemmed_train)"
   ]
  },
  {
   "cell_type": "code",
   "execution_count": 61,
   "metadata": {},
   "outputs": [
    {
     "name": "stdout",
     "output_type": "stream",
     "text": [
      "199504\n",
      "199504\n",
      "199504\n",
      "199504\n",
      "199504\n",
      "199504\n",
      "199504\n",
      "(199504, 100)\n"
     ]
    }
   ],
   "source": [
    "print(len(y_train))\n",
    "print(len(x_train_baseline))\n",
    "print(len(x_train_porter))\n",
    "print(len(x_train_snowball))\n",
    "print(len(x_train_lancaster))\n",
    "print(len(x_train_lemma))\n",
    "print(len(x_train_lovins))\n",
    "print(x_train_baseline.shape)"
   ]
  },
  {
   "cell_type": "markdown",
   "metadata": {},
   "source": [
    "# Part V: Grid search\n",
    "It could be possible that each method has its preferred parameter settings. Lets try this out via grid search"
   ]
  },
  {
   "cell_type": "code",
   "execution_count": 62,
   "metadata": {},
   "outputs": [],
   "source": [
    "from sklearn import svm\n",
    "from sklearn.model_selection import GridSearchCV\n",
    "from sklearn.model_selection import train_test_split\n",
    "\n",
    "def grid_search(X_train, Y_train):\n",
    "    # set svm\n",
    "    clf = svm.SVC(kernel=\"linear\")\n",
    "    \n",
    "    # set all hyperparameters for tuning\n",
    "    # for a linear kernel we only need top optimize the c parameter\n",
    "    param_grid = {'C': [0.1, 1, 5, 10]}\n",
    "    \n",
    "    # split data\n",
    "    x_train, x_test, y_train, y_test = train_test_split(X_train, Y_train, test_size = 0.20, random_state = 666)\n",
    "    \n",
    "    \n",
    "    # perform grid search on a subset of the data\n",
    "    grid = GridSearchCV(estimator=clf, param_grid=param_grid, cv=5, refit=True, verbose=1)\n",
    "    grid.fit(x_train[0:25000], y_train[0:25000])\n",
    "    \n",
    "    return grid.best_params_['C']"
   ]
  },
  {
   "cell_type": "code",
   "execution_count": 63,
   "metadata": {},
   "outputs": [
    {
     "name": "stdout",
     "output_type": "stream",
     "text": [
      "Fitting 5 folds for each of 4 candidates, totalling 20 fits\n"
     ]
    },
    {
     "name": "stderr",
     "output_type": "stream",
     "text": [
      "[Parallel(n_jobs=1)]: Using backend SequentialBackend with 1 concurrent workers.\n",
      "[Parallel(n_jobs=1)]: Done  20 out of  20 | elapsed: 14.1min finished\n"
     ]
    }
   ],
   "source": [
    "param_c_baseline = grid_search(x_train_baseline, y_train)"
   ]
  },
  {
   "cell_type": "code",
   "execution_count": 64,
   "metadata": {},
   "outputs": [
    {
     "name": "stdout",
     "output_type": "stream",
     "text": [
      "Fitting 5 folds for each of 4 candidates, totalling 20 fits\n"
     ]
    },
    {
     "name": "stderr",
     "output_type": "stream",
     "text": [
      "[Parallel(n_jobs=1)]: Using backend SequentialBackend with 1 concurrent workers.\n",
      "[Parallel(n_jobs=1)]: Done  20 out of  20 | elapsed: 14.1min finished\n"
     ]
    }
   ],
   "source": [
    "param_c_porter = grid_search(x_train_porter, y_train)"
   ]
  },
  {
   "cell_type": "code",
   "execution_count": 65,
   "metadata": {},
   "outputs": [
    {
     "name": "stdout",
     "output_type": "stream",
     "text": [
      "Fitting 5 folds for each of 4 candidates, totalling 20 fits\n"
     ]
    },
    {
     "name": "stderr",
     "output_type": "stream",
     "text": [
      "[Parallel(n_jobs=1)]: Using backend SequentialBackend with 1 concurrent workers.\n",
      "[Parallel(n_jobs=1)]: Done  20 out of  20 | elapsed: 14.0min finished\n"
     ]
    }
   ],
   "source": [
    "param_c_snowball = grid_search(x_train_snowball, y_train)"
   ]
  },
  {
   "cell_type": "code",
   "execution_count": 66,
   "metadata": {},
   "outputs": [
    {
     "name": "stdout",
     "output_type": "stream",
     "text": [
      "Fitting 5 folds for each of 4 candidates, totalling 20 fits\n"
     ]
    },
    {
     "name": "stderr",
     "output_type": "stream",
     "text": [
      "[Parallel(n_jobs=1)]: Using backend SequentialBackend with 1 concurrent workers.\n",
      "[Parallel(n_jobs=1)]: Done  20 out of  20 | elapsed: 14.2min finished\n"
     ]
    }
   ],
   "source": [
    "param_c_lancaster = grid_search(x_train_lancaster, y_train)"
   ]
  },
  {
   "cell_type": "code",
   "execution_count": 67,
   "metadata": {},
   "outputs": [
    {
     "name": "stdout",
     "output_type": "stream",
     "text": [
      "Fitting 5 folds for each of 4 candidates, totalling 20 fits\n"
     ]
    },
    {
     "name": "stderr",
     "output_type": "stream",
     "text": [
      "[Parallel(n_jobs=1)]: Using backend SequentialBackend with 1 concurrent workers.\n",
      "[Parallel(n_jobs=1)]: Done  20 out of  20 | elapsed: 14.3min finished\n"
     ]
    }
   ],
   "source": [
    "param_c_lemma = grid_search(x_train_lemma, y_train)"
   ]
  },
  {
   "cell_type": "code",
   "execution_count": 68,
   "metadata": {},
   "outputs": [
    {
     "name": "stdout",
     "output_type": "stream",
     "text": [
      "Fitting 5 folds for each of 4 candidates, totalling 20 fits\n"
     ]
    },
    {
     "name": "stderr",
     "output_type": "stream",
     "text": [
      "[Parallel(n_jobs=1)]: Using backend SequentialBackend with 1 concurrent workers.\n",
      "[Parallel(n_jobs=1)]: Done  20 out of  20 | elapsed: 14.6min finished\n"
     ]
    }
   ],
   "source": [
    "param_c_lovins = grid_search(x_train_lovins, y_train)"
   ]
  },
  {
   "cell_type": "code",
   "execution_count": 69,
   "metadata": {},
   "outputs": [
    {
     "name": "stdout",
     "output_type": "stream",
     "text": [
      "baseline:  5\n",
      "porter:  1\n",
      "snowball:  5\n",
      "lancaster:  10\n",
      "lemma:  1\n",
      "lovins:  10\n"
     ]
    }
   ],
   "source": [
    "print(\"baseline: \", param_c_baseline)\n",
    "print(\"porter: \", param_c_porter)\n",
    "print(\"snowball: \", param_c_snowball)\n",
    "print(\"lancaster: \", param_c_lancaster)\n",
    "print(\"lemma: \", param_c_lemma)\n",
    "print(\"lovins: \", param_c_lovins)"
   ]
  },
  {
   "cell_type": "markdown",
   "metadata": {},
   "source": [
    "# Part VI: Training the Machine Learning Classifier\n",
    "The machine learning classifier used in this research is the Support Vector Machines (SVM). The SVM will be trained on the baseline + five filters"
   ]
  },
  {
   "cell_type": "code",
   "execution_count": 70,
   "metadata": {},
   "outputs": [],
   "source": [
    "from sklearn import svm\n",
    "\n",
    "def train_SVM(X_train, Y_train, param_c):\n",
    "    clf = svm.SVC(kernel='linear', C=param_c)\n",
    "    model_SVM = clf.fit(X_train, Y_train)\n",
    "    return model_SVM"
   ]
  },
  {
   "cell_type": "code",
   "execution_count": 71,
   "metadata": {},
   "outputs": [],
   "source": [
    "SVM_baseline = train_SVM(x_train_baseline, y_train, param_c_baseline)"
   ]
  },
  {
   "cell_type": "code",
   "execution_count": 72,
   "metadata": {},
   "outputs": [],
   "source": [
    "SVM_porter = train_SVM(x_train_porter, y_train, param_c_porter)"
   ]
  },
  {
   "cell_type": "code",
   "execution_count": 73,
   "metadata": {},
   "outputs": [],
   "source": [
    "SVM_snowball = train_SVM(x_train_snowball, y_train, param_c_snowball)"
   ]
  },
  {
   "cell_type": "code",
   "execution_count": 74,
   "metadata": {},
   "outputs": [],
   "source": [
    "SVM_lancaster = train_SVM(x_train_lancaster, y_train, param_c_lancaster)"
   ]
  },
  {
   "cell_type": "code",
   "execution_count": 75,
   "metadata": {},
   "outputs": [],
   "source": [
    "SVM_lemma = train_SVM(x_train_lemma, y_train, param_c_lemma)"
   ]
  },
  {
   "cell_type": "code",
   "execution_count": 76,
   "metadata": {},
   "outputs": [],
   "source": [
    "SVM_lovins = train_SVM(x_train_lovins, y_train, param_c_lovins)"
   ]
  },
  {
   "cell_type": "code",
   "execution_count": 77,
   "metadata": {},
   "outputs": [
    {
     "name": "stdout",
     "output_type": "stream",
     "text": [
      "SVC(C=5, kernel='linear')\n",
      "SVC(C=1, kernel='linear')\n",
      "SVC(C=5, kernel='linear')\n",
      "SVC(C=10, kernel='linear')\n",
      "SVC(C=1, kernel='linear')\n",
      "SVC(C=10, kernel='linear')\n"
     ]
    }
   ],
   "source": [
    "print(SVM_baseline)\n",
    "print(SVM_porter)\n",
    "print(SVM_snowball)\n",
    "print(SVM_lancaster)\n",
    "print(SVM_lemma)\n",
    "print(SVM_lovins)"
   ]
  },
  {
   "cell_type": "code",
   "execution_count": 78,
   "metadata": {},
   "outputs": [
    {
     "data": {
      "text/plain": [
       "['model_SVM_lovins.pkl']"
      ]
     },
     "execution_count": 78,
     "metadata": {},
     "output_type": "execute_result"
    }
   ],
   "source": [
    "import joblib as joblib\n",
    "joblib.dump(SVM_baseline, 'model_SVM_baseline.pkl')\n",
    "joblib.dump(SVM_porter, 'model_SVM_porter.pkl')\n",
    "joblib.dump(SVM_snowball, 'model_SVM_snowball.pkl')\n",
    "joblib.dump(SVM_lancaster, 'model_SVM_lancaster.pkl')\n",
    "joblib.dump(SVM_lemma, 'model_SVM_lemma.pkl')\n",
    "joblib.dump(SVM_lovins, 'model_SVM_lovins.pkl')"
   ]
  },
  {
   "cell_type": "markdown",
   "metadata": {},
   "source": [
    "# Part VII: Testing and evaluation\n",
    "All versions will be tested on the testset. We're looking for the accuracy scores of each version. Then, we plot them in a table in order to compare. Which one will get the highest score?"
   ]
  },
  {
   "cell_type": "code",
   "execution_count": 79,
   "metadata": {},
   "outputs": [
    {
     "data": {
      "text/html": [
       "<div>\n",
       "<style scoped>\n",
       "    .dataframe tbody tr th:only-of-type {\n",
       "        vertical-align: middle;\n",
       "    }\n",
       "\n",
       "    .dataframe tbody tr th {\n",
       "        vertical-align: top;\n",
       "    }\n",
       "\n",
       "    .dataframe thead th {\n",
       "        text-align: right;\n",
       "    }\n",
       "</style>\n",
       "<table border=\"1\" class=\"dataframe\">\n",
       "  <thead>\n",
       "    <tr style=\"text-align: right;\">\n",
       "      <th></th>\n",
       "      <th>label</th>\n",
       "      <th>id</th>\n",
       "      <th>date</th>\n",
       "      <th>flag</th>\n",
       "      <th>username</th>\n",
       "      <th>content</th>\n",
       "    </tr>\n",
       "  </thead>\n",
       "  <tbody>\n",
       "    <tr>\n",
       "      <th>0</th>\n",
       "      <td>4</td>\n",
       "      <td>3</td>\n",
       "      <td>Mon May 11 03:17:40 UTC 2009</td>\n",
       "      <td>kindle2</td>\n",
       "      <td>tpryan</td>\n",
       "      <td>@stellargirl I loooooooovvvvvveee my Kindle2. ...</td>\n",
       "    </tr>\n",
       "    <tr>\n",
       "      <th>1</th>\n",
       "      <td>4</td>\n",
       "      <td>4</td>\n",
       "      <td>Mon May 11 03:18:03 UTC 2009</td>\n",
       "      <td>kindle2</td>\n",
       "      <td>vcu451</td>\n",
       "      <td>Reading my kindle2...  Love it... Lee childs i...</td>\n",
       "    </tr>\n",
       "    <tr>\n",
       "      <th>2</th>\n",
       "      <td>4</td>\n",
       "      <td>5</td>\n",
       "      <td>Mon May 11 03:18:54 UTC 2009</td>\n",
       "      <td>kindle2</td>\n",
       "      <td>chadfu</td>\n",
       "      <td>Ok, first assesment of the #kindle2 ...it fuck...</td>\n",
       "    </tr>\n",
       "    <tr>\n",
       "      <th>3</th>\n",
       "      <td>4</td>\n",
       "      <td>6</td>\n",
       "      <td>Mon May 11 03:19:04 UTC 2009</td>\n",
       "      <td>kindle2</td>\n",
       "      <td>SIX15</td>\n",
       "      <td>@kenburbary You'll love your Kindle2. I've had...</td>\n",
       "    </tr>\n",
       "    <tr>\n",
       "      <th>4</th>\n",
       "      <td>4</td>\n",
       "      <td>7</td>\n",
       "      <td>Mon May 11 03:21:41 UTC 2009</td>\n",
       "      <td>kindle2</td>\n",
       "      <td>yamarama</td>\n",
       "      <td>@mikefish  Fair enough. But i have the Kindle2...</td>\n",
       "    </tr>\n",
       "    <tr>\n",
       "      <th>...</th>\n",
       "      <td>...</td>\n",
       "      <td>...</td>\n",
       "      <td>...</td>\n",
       "      <td>...</td>\n",
       "      <td>...</td>\n",
       "      <td>...</td>\n",
       "    </tr>\n",
       "    <tr>\n",
       "      <th>493</th>\n",
       "      <td>2</td>\n",
       "      <td>14072</td>\n",
       "      <td>Sun Jun 14 04:31:43 UTC 2009</td>\n",
       "      <td>latex</td>\n",
       "      <td>proggit</td>\n",
       "      <td>Ask Programming: LaTeX or InDesign?: submitted...</td>\n",
       "    </tr>\n",
       "    <tr>\n",
       "      <th>494</th>\n",
       "      <td>0</td>\n",
       "      <td>14073</td>\n",
       "      <td>Sun Jun 14 04:32:17 UTC 2009</td>\n",
       "      <td>latex</td>\n",
       "      <td>sam33r</td>\n",
       "      <td>On that note, I hate Word. I hate Pages. I hat...</td>\n",
       "    </tr>\n",
       "    <tr>\n",
       "      <th>495</th>\n",
       "      <td>4</td>\n",
       "      <td>14074</td>\n",
       "      <td>Sun Jun 14 04:36:34 UTC 2009</td>\n",
       "      <td>latex</td>\n",
       "      <td>iamtheonlyjosie</td>\n",
       "      <td>Ahhh... back in a *real* text editing environm...</td>\n",
       "    </tr>\n",
       "    <tr>\n",
       "      <th>496</th>\n",
       "      <td>0</td>\n",
       "      <td>14075</td>\n",
       "      <td>Sun Jun 14 21:36:07 UTC 2009</td>\n",
       "      <td>iran</td>\n",
       "      <td>plutopup7</td>\n",
       "      <td>Trouble in Iran, I see. Hmm. Iran. Iran so far...</td>\n",
       "    </tr>\n",
       "    <tr>\n",
       "      <th>497</th>\n",
       "      <td>0</td>\n",
       "      <td>14076</td>\n",
       "      <td>Sun Jun 14 21:36:17 UTC 2009</td>\n",
       "      <td>iran</td>\n",
       "      <td>captain_pete</td>\n",
       "      <td>Reading the tweets coming out of Iran... The w...</td>\n",
       "    </tr>\n",
       "  </tbody>\n",
       "</table>\n",
       "<p>498 rows × 6 columns</p>\n",
       "</div>"
      ],
      "text/plain": [
       "     label     id                          date     flag         username  \\\n",
       "0        4      3  Mon May 11 03:17:40 UTC 2009  kindle2           tpryan   \n",
       "1        4      4  Mon May 11 03:18:03 UTC 2009  kindle2           vcu451   \n",
       "2        4      5  Mon May 11 03:18:54 UTC 2009  kindle2           chadfu   \n",
       "3        4      6  Mon May 11 03:19:04 UTC 2009  kindle2            SIX15   \n",
       "4        4      7  Mon May 11 03:21:41 UTC 2009  kindle2         yamarama   \n",
       "..     ...    ...                           ...      ...              ...   \n",
       "493      2  14072  Sun Jun 14 04:31:43 UTC 2009    latex          proggit   \n",
       "494      0  14073  Sun Jun 14 04:32:17 UTC 2009    latex           sam33r   \n",
       "495      4  14074  Sun Jun 14 04:36:34 UTC 2009    latex  iamtheonlyjosie   \n",
       "496      0  14075  Sun Jun 14 21:36:07 UTC 2009     iran        plutopup7   \n",
       "497      0  14076  Sun Jun 14 21:36:17 UTC 2009     iran     captain_pete   \n",
       "\n",
       "                                               content  \n",
       "0    @stellargirl I loooooooovvvvvveee my Kindle2. ...  \n",
       "1    Reading my kindle2...  Love it... Lee childs i...  \n",
       "2    Ok, first assesment of the #kindle2 ...it fuck...  \n",
       "3    @kenburbary You'll love your Kindle2. I've had...  \n",
       "4    @mikefish  Fair enough. But i have the Kindle2...  \n",
       "..                                                 ...  \n",
       "493  Ask Programming: LaTeX or InDesign?: submitted...  \n",
       "494  On that note, I hate Word. I hate Pages. I hat...  \n",
       "495  Ahhh... back in a *real* text editing environm...  \n",
       "496  Trouble in Iran, I see. Hmm. Iran. Iran so far...  \n",
       "497  Reading the tweets coming out of Iran... The w...  \n",
       "\n",
       "[498 rows x 6 columns]"
      ]
     },
     "execution_count": 79,
     "metadata": {},
     "output_type": "execute_result"
    }
   ],
   "source": [
    "df_test = pd.read_csv(\"testdata.manual.2009.06.14.csv\", encoding='latin-1', names=header_list)\n",
    "df_test"
   ]
  },
  {
   "cell_type": "code",
   "execution_count": 80,
   "metadata": {},
   "outputs": [],
   "source": [
    "# drop neutral tweets\n",
    "def drop_neutral(labels):\n",
    "    count = 0\n",
    "    list_neutral = []\n",
    "    for label in labels:\n",
    "        if label == 2:\n",
    "            list_neutral.append(count)\n",
    "        count += 1\n",
    "    return list_neutral\n",
    "\n",
    "neutral_index = drop_neutral(df_test['label'])"
   ]
  },
  {
   "cell_type": "code",
   "execution_count": 81,
   "metadata": {},
   "outputs": [
    {
     "data": {
      "text/html": [
       "<div>\n",
       "<style scoped>\n",
       "    .dataframe tbody tr th:only-of-type {\n",
       "        vertical-align: middle;\n",
       "    }\n",
       "\n",
       "    .dataframe tbody tr th {\n",
       "        vertical-align: top;\n",
       "    }\n",
       "\n",
       "    .dataframe thead th {\n",
       "        text-align: right;\n",
       "    }\n",
       "</style>\n",
       "<table border=\"1\" class=\"dataframe\">\n",
       "  <thead>\n",
       "    <tr style=\"text-align: right;\">\n",
       "      <th></th>\n",
       "      <th>label</th>\n",
       "      <th>id</th>\n",
       "      <th>date</th>\n",
       "      <th>flag</th>\n",
       "      <th>username</th>\n",
       "      <th>content</th>\n",
       "    </tr>\n",
       "  </thead>\n",
       "  <tbody>\n",
       "    <tr>\n",
       "      <th>0</th>\n",
       "      <td>4</td>\n",
       "      <td>3</td>\n",
       "      <td>Mon May 11 03:17:40 UTC 2009</td>\n",
       "      <td>kindle2</td>\n",
       "      <td>tpryan</td>\n",
       "      <td>@stellargirl I loooooooovvvvvveee my Kindle2. ...</td>\n",
       "    </tr>\n",
       "    <tr>\n",
       "      <th>1</th>\n",
       "      <td>4</td>\n",
       "      <td>4</td>\n",
       "      <td>Mon May 11 03:18:03 UTC 2009</td>\n",
       "      <td>kindle2</td>\n",
       "      <td>vcu451</td>\n",
       "      <td>Reading my kindle2...  Love it... Lee childs i...</td>\n",
       "    </tr>\n",
       "    <tr>\n",
       "      <th>2</th>\n",
       "      <td>4</td>\n",
       "      <td>5</td>\n",
       "      <td>Mon May 11 03:18:54 UTC 2009</td>\n",
       "      <td>kindle2</td>\n",
       "      <td>chadfu</td>\n",
       "      <td>Ok, first assesment of the #kindle2 ...it fuck...</td>\n",
       "    </tr>\n",
       "    <tr>\n",
       "      <th>3</th>\n",
       "      <td>4</td>\n",
       "      <td>6</td>\n",
       "      <td>Mon May 11 03:19:04 UTC 2009</td>\n",
       "      <td>kindle2</td>\n",
       "      <td>SIX15</td>\n",
       "      <td>@kenburbary You'll love your Kindle2. I've had...</td>\n",
       "    </tr>\n",
       "    <tr>\n",
       "      <th>4</th>\n",
       "      <td>4</td>\n",
       "      <td>7</td>\n",
       "      <td>Mon May 11 03:21:41 UTC 2009</td>\n",
       "      <td>kindle2</td>\n",
       "      <td>yamarama</td>\n",
       "      <td>@mikefish  Fair enough. But i have the Kindle2...</td>\n",
       "    </tr>\n",
       "    <tr>\n",
       "      <th>...</th>\n",
       "      <td>...</td>\n",
       "      <td>...</td>\n",
       "      <td>...</td>\n",
       "      <td>...</td>\n",
       "      <td>...</td>\n",
       "      <td>...</td>\n",
       "    </tr>\n",
       "    <tr>\n",
       "      <th>492</th>\n",
       "      <td>4</td>\n",
       "      <td>14071</td>\n",
       "      <td>Sun Jun 14 04:31:28 UTC 2009</td>\n",
       "      <td>latex</td>\n",
       "      <td>yomcat</td>\n",
       "      <td>After using LaTeX a lot, any other typeset mat...</td>\n",
       "    </tr>\n",
       "    <tr>\n",
       "      <th>494</th>\n",
       "      <td>0</td>\n",
       "      <td>14073</td>\n",
       "      <td>Sun Jun 14 04:32:17 UTC 2009</td>\n",
       "      <td>latex</td>\n",
       "      <td>sam33r</td>\n",
       "      <td>On that note, I hate Word. I hate Pages. I hat...</td>\n",
       "    </tr>\n",
       "    <tr>\n",
       "      <th>495</th>\n",
       "      <td>4</td>\n",
       "      <td>14074</td>\n",
       "      <td>Sun Jun 14 04:36:34 UTC 2009</td>\n",
       "      <td>latex</td>\n",
       "      <td>iamtheonlyjosie</td>\n",
       "      <td>Ahhh... back in a *real* text editing environm...</td>\n",
       "    </tr>\n",
       "    <tr>\n",
       "      <th>496</th>\n",
       "      <td>0</td>\n",
       "      <td>14075</td>\n",
       "      <td>Sun Jun 14 21:36:07 UTC 2009</td>\n",
       "      <td>iran</td>\n",
       "      <td>plutopup7</td>\n",
       "      <td>Trouble in Iran, I see. Hmm. Iran. Iran so far...</td>\n",
       "    </tr>\n",
       "    <tr>\n",
       "      <th>497</th>\n",
       "      <td>0</td>\n",
       "      <td>14076</td>\n",
       "      <td>Sun Jun 14 21:36:17 UTC 2009</td>\n",
       "      <td>iran</td>\n",
       "      <td>captain_pete</td>\n",
       "      <td>Reading the tweets coming out of Iran... The w...</td>\n",
       "    </tr>\n",
       "  </tbody>\n",
       "</table>\n",
       "<p>359 rows × 6 columns</p>\n",
       "</div>"
      ],
      "text/plain": [
       "     label     id                          date     flag         username  \\\n",
       "0        4      3  Mon May 11 03:17:40 UTC 2009  kindle2           tpryan   \n",
       "1        4      4  Mon May 11 03:18:03 UTC 2009  kindle2           vcu451   \n",
       "2        4      5  Mon May 11 03:18:54 UTC 2009  kindle2           chadfu   \n",
       "3        4      6  Mon May 11 03:19:04 UTC 2009  kindle2            SIX15   \n",
       "4        4      7  Mon May 11 03:21:41 UTC 2009  kindle2         yamarama   \n",
       "..     ...    ...                           ...      ...              ...   \n",
       "492      4  14071  Sun Jun 14 04:31:28 UTC 2009    latex           yomcat   \n",
       "494      0  14073  Sun Jun 14 04:32:17 UTC 2009    latex           sam33r   \n",
       "495      4  14074  Sun Jun 14 04:36:34 UTC 2009    latex  iamtheonlyjosie   \n",
       "496      0  14075  Sun Jun 14 21:36:07 UTC 2009     iran        plutopup7   \n",
       "497      0  14076  Sun Jun 14 21:36:17 UTC 2009     iran     captain_pete   \n",
       "\n",
       "                                               content  \n",
       "0    @stellargirl I loooooooovvvvvveee my Kindle2. ...  \n",
       "1    Reading my kindle2...  Love it... Lee childs i...  \n",
       "2    Ok, first assesment of the #kindle2 ...it fuck...  \n",
       "3    @kenburbary You'll love your Kindle2. I've had...  \n",
       "4    @mikefish  Fair enough. But i have the Kindle2...  \n",
       "..                                                 ...  \n",
       "492  After using LaTeX a lot, any other typeset mat...  \n",
       "494  On that note, I hate Word. I hate Pages. I hat...  \n",
       "495  Ahhh... back in a *real* text editing environm...  \n",
       "496  Trouble in Iran, I see. Hmm. Iran. Iran so far...  \n",
       "497  Reading the tweets coming out of Iran... The w...  \n",
       "\n",
       "[359 rows x 6 columns]"
      ]
     },
     "execution_count": 81,
     "metadata": {},
     "output_type": "execute_result"
    }
   ],
   "source": [
    "df_test = df_test.drop(neutral_index)\n",
    "df_test"
   ]
  },
  {
   "cell_type": "code",
   "execution_count": 82,
   "metadata": {},
   "outputs": [
    {
     "data": {
      "text/html": [
       "<div>\n",
       "<style scoped>\n",
       "    .dataframe tbody tr th:only-of-type {\n",
       "        vertical-align: middle;\n",
       "    }\n",
       "\n",
       "    .dataframe tbody tr th {\n",
       "        vertical-align: top;\n",
       "    }\n",
       "\n",
       "    .dataframe thead th {\n",
       "        text-align: right;\n",
       "    }\n",
       "</style>\n",
       "<table border=\"1\" class=\"dataframe\">\n",
       "  <thead>\n",
       "    <tr style=\"text-align: right;\">\n",
       "      <th></th>\n",
       "      <th>label</th>\n",
       "      <th>content</th>\n",
       "    </tr>\n",
       "  </thead>\n",
       "  <tbody>\n",
       "    <tr>\n",
       "      <th>0</th>\n",
       "      <td>1</td>\n",
       "      <td>@stellargirl I loooooooovvvvvveee my Kindle2. ...</td>\n",
       "    </tr>\n",
       "    <tr>\n",
       "      <th>1</th>\n",
       "      <td>1</td>\n",
       "      <td>Reading my kindle2...  Love it... Lee childs i...</td>\n",
       "    </tr>\n",
       "    <tr>\n",
       "      <th>2</th>\n",
       "      <td>1</td>\n",
       "      <td>Ok, first assesment of the #kindle2 ...it fuck...</td>\n",
       "    </tr>\n",
       "    <tr>\n",
       "      <th>3</th>\n",
       "      <td>1</td>\n",
       "      <td>@kenburbary You'll love your Kindle2. I've had...</td>\n",
       "    </tr>\n",
       "    <tr>\n",
       "      <th>4</th>\n",
       "      <td>1</td>\n",
       "      <td>@mikefish  Fair enough. But i have the Kindle2...</td>\n",
       "    </tr>\n",
       "    <tr>\n",
       "      <th>...</th>\n",
       "      <td>...</td>\n",
       "      <td>...</td>\n",
       "    </tr>\n",
       "    <tr>\n",
       "      <th>492</th>\n",
       "      <td>1</td>\n",
       "      <td>After using LaTeX a lot, any other typeset mat...</td>\n",
       "    </tr>\n",
       "    <tr>\n",
       "      <th>494</th>\n",
       "      <td>0</td>\n",
       "      <td>On that note, I hate Word. I hate Pages. I hat...</td>\n",
       "    </tr>\n",
       "    <tr>\n",
       "      <th>495</th>\n",
       "      <td>1</td>\n",
       "      <td>Ahhh... back in a *real* text editing environm...</td>\n",
       "    </tr>\n",
       "    <tr>\n",
       "      <th>496</th>\n",
       "      <td>0</td>\n",
       "      <td>Trouble in Iran, I see. Hmm. Iran. Iran so far...</td>\n",
       "    </tr>\n",
       "    <tr>\n",
       "      <th>497</th>\n",
       "      <td>0</td>\n",
       "      <td>Reading the tweets coming out of Iran... The w...</td>\n",
       "    </tr>\n",
       "  </tbody>\n",
       "</table>\n",
       "<p>359 rows × 2 columns</p>\n",
       "</div>"
      ],
      "text/plain": [
       "     label                                            content\n",
       "0        1  @stellargirl I loooooooovvvvvveee my Kindle2. ...\n",
       "1        1  Reading my kindle2...  Love it... Lee childs i...\n",
       "2        1  Ok, first assesment of the #kindle2 ...it fuck...\n",
       "3        1  @kenburbary You'll love your Kindle2. I've had...\n",
       "4        1  @mikefish  Fair enough. But i have the Kindle2...\n",
       "..     ...                                                ...\n",
       "492      1  After using LaTeX a lot, any other typeset mat...\n",
       "494      0  On that note, I hate Word. I hate Pages. I hat...\n",
       "495      1  Ahhh... back in a *real* text editing environm...\n",
       "496      0  Trouble in Iran, I see. Hmm. Iran. Iran so far...\n",
       "497      0  Reading the tweets coming out of Iran... The w...\n",
       "\n",
       "[359 rows x 2 columns]"
      ]
     },
     "execution_count": 82,
     "metadata": {},
     "output_type": "execute_result"
    }
   ],
   "source": [
    "# transform labels to 0 and 1\n",
    "# 0 = negative tweet\n",
    "# 1 = positive tweet\n",
    "df_test.label = df_test.label.replace({4: 1})\n",
    "df_test.drop([\"id\", \"date\", \"flag\", \"username\"], axis=1, inplace=True)\n",
    "df_test"
   ]
  },
  {
   "cell_type": "code",
   "execution_count": 83,
   "metadata": {},
   "outputs": [
    {
     "data": {
      "text/plain": [
       "1    182\n",
       "0    177\n",
       "Name: label, dtype: int64"
      ]
     },
     "execution_count": 83,
     "metadata": {},
     "output_type": "execute_result"
    }
   ],
   "source": [
    "df_test['label'].value_counts()"
   ]
  },
  {
   "cell_type": "code",
   "execution_count": 84,
   "metadata": {},
   "outputs": [],
   "source": [
    "tweets_test = df_test['content']\n",
    "y_test = df_test['label'].values"
   ]
  },
  {
   "cell_type": "code",
   "execution_count": 85,
   "metadata": {},
   "outputs": [],
   "source": [
    "#clean test tweets\n",
    "cleaned_test = cleaned_tweets(tweets_test)"
   ]
  },
  {
   "cell_type": "code",
   "execution_count": 86,
   "metadata": {},
   "outputs": [],
   "source": [
    "#tokenize test tweets\n",
    "tokenized_test = tokenization(cleaned_test)"
   ]
  },
  {
   "cell_type": "code",
   "execution_count": 87,
   "metadata": {},
   "outputs": [],
   "source": [
    "#stem/lemmatize test tweets\n",
    "porter_stemmed_test = porter_stemmer(tokenized_test)\n",
    "snowball_stemmed_test = snowball_stemmer(tokenized_test)\n",
    "lancaster_stemmed_test = lancaster_stemmer(tokenized_test)\n",
    "lemma_test = lemmatization(tokenized_test)\n",
    "lovins_stemmed_test = lovins_stemmer(tokenized_test)"
   ]
  },
  {
   "cell_type": "code",
   "execution_count": 88,
   "metadata": {},
   "outputs": [],
   "source": [
    "# create x_test \n",
    "x_test_baseline = word_averaging_list(w2v_baseline, tokenized_test)\n",
    "x_test_porter = word_averaging_list(w2v_porter, porter_stemmed_test)\n",
    "x_test_snowball = word_averaging_list(w2v_snowball, snowball_stemmed_test)\n",
    "x_test_lancaster = word_averaging_list(w2v_lancaster, lancaster_stemmed_test)\n",
    "x_test_lemma = word_averaging_list(w2v_lemma, lemma_test)\n",
    "x_test_lovins = word_averaging_list(w2v_lovins, lovins_stemmed_test)"
   ]
  },
  {
   "cell_type": "code",
   "execution_count": 91,
   "metadata": {},
   "outputs": [],
   "source": [
    "from sklearn.metrics import accuracy_score\n",
    "\n",
    "def calculate_accuracy(SVM_model, X_test, y_test):\n",
    "    y_pred = SVM_model.predict(X_test)\n",
    "    acc = accuracy_score(y_test, y_pred)\n",
    "    score = print(\"Accuracy: {:.3}\".format(acc))\n",
    "    \n",
    "    return score"
   ]
  },
  {
   "cell_type": "code",
   "execution_count": 92,
   "metadata": {},
   "outputs": [
    {
     "name": "stdout",
     "output_type": "stream",
     "text": [
      "Accuracy: 0.777\n"
     ]
    }
   ],
   "source": [
    "acc_baseline = calculate_accuracy(SVM_baseline, x_test_baseline, y_test)"
   ]
  },
  {
   "cell_type": "code",
   "execution_count": 93,
   "metadata": {},
   "outputs": [
    {
     "name": "stdout",
     "output_type": "stream",
     "text": [
      "Accuracy: 0.799\n"
     ]
    }
   ],
   "source": [
    "acc_porter = calculate_accuracy(SVM_porter, x_test_porter, y_test)"
   ]
  },
  {
   "cell_type": "code",
   "execution_count": 94,
   "metadata": {},
   "outputs": [
    {
     "name": "stdout",
     "output_type": "stream",
     "text": [
      "Accuracy: 0.783\n"
     ]
    }
   ],
   "source": [
    "acc_snowball = calculate_accuracy(SVM_snowball, x_test_snowball, y_test)"
   ]
  },
  {
   "cell_type": "code",
   "execution_count": 95,
   "metadata": {},
   "outputs": [
    {
     "name": "stdout",
     "output_type": "stream",
     "text": [
      "Accuracy: 0.813\n"
     ]
    }
   ],
   "source": [
    "acc_lancaster = calculate_accuracy(SVM_lancaster, x_test_lancaster, y_test)"
   ]
  },
  {
   "cell_type": "code",
   "execution_count": 96,
   "metadata": {},
   "outputs": [
    {
     "name": "stdout",
     "output_type": "stream",
     "text": [
      "Accuracy: 0.78\n"
     ]
    }
   ],
   "source": [
    "acc_lemma = calculate_accuracy(SVM_lemma, x_test_lemma, y_test)"
   ]
  },
  {
   "cell_type": "code",
   "execution_count": 97,
   "metadata": {},
   "outputs": [
    {
     "name": "stdout",
     "output_type": "stream",
     "text": [
      "Accuracy: 0.749\n"
     ]
    }
   ],
   "source": [
    "acc_lovins = calculate_accuracy(SVM_lovins, x_test_lovins, y_test)"
   ]
  }
 ],
 "metadata": {
  "kernelspec": {
   "display_name": "Python 3",
   "language": "python",
   "name": "python3"
  },
  "language_info": {
   "codemirror_mode": {
    "name": "ipython",
    "version": 3
   },
   "file_extension": ".py",
   "mimetype": "text/x-python",
   "name": "python",
   "nbconvert_exporter": "python",
   "pygments_lexer": "ipython3",
   "version": "3.8.3"
  }
 },
 "nbformat": 4,
 "nbformat_minor": 4
}
